{
 "cells": [
  {
   "cell_type": "code",
   "execution_count": 1,
   "metadata": {},
   "outputs": [],
   "source": [
    "x=5"
   ]
  },
  {
   "cell_type": "code",
   "execution_count": 2,
   "metadata": {
    "scrolled": false
   },
   "outputs": [
    {
     "data": {
      "text/plain": [
       "True"
      ]
     },
     "execution_count": 2,
     "metadata": {},
     "output_type": "execute_result"
    }
   ],
   "source": [
    "isinstance (x,int)"
   ]
  },
  {
   "cell_type": "code",
   "execution_count": 3,
   "metadata": {},
   "outputs": [],
   "source": [
    "a=\"lesson\""
   ]
  },
  {
   "cell_type": "code",
   "execution_count": 4,
   "metadata": {},
   "outputs": [
    {
     "data": {
      "text/plain": [
       "False"
      ]
     },
     "execution_count": 4,
     "metadata": {},
     "output_type": "execute_result"
    }
   ],
   "source": [
    "isinstance (a,int)"
   ]
  },
  {
   "cell_type": "code",
   "execution_count": 5,
   "metadata": {},
   "outputs": [
    {
     "data": {
      "text/plain": [
       "'Lesson'"
      ]
     },
     "execution_count": 5,
     "metadata": {},
     "output_type": "execute_result"
    }
   ],
   "source": [
    "a.capitalize()"
   ]
  },
  {
   "cell_type": "code",
   "execution_count": 6,
   "metadata": {},
   "outputs": [
    {
     "data": {
      "text/plain": [
       "'LESSON'"
      ]
     },
     "execution_count": 6,
     "metadata": {},
     "output_type": "execute_result"
    }
   ],
   "source": [
    "a.upper()"
   ]
  },
  {
   "cell_type": "code",
   "execution_count": 7,
   "metadata": {
    "scrolled": true
   },
   "outputs": [
    {
     "data": {
      "text/plain": [
       "True"
      ]
     },
     "execution_count": 7,
     "metadata": {},
     "output_type": "execute_result"
    }
   ],
   "source": [
    "isinstance(x,(int,float))"
   ]
  },
  {
   "cell_type": "code",
   "execution_count": 8,
   "metadata": {},
   "outputs": [
    {
     "data": {
      "text/plain": [
       "str"
      ]
     },
     "execution_count": 8,
     "metadata": {},
     "output_type": "execute_result"
    }
   ],
   "source": [
    "type(a)"
   ]
  },
  {
   "cell_type": "code",
   "execution_count": 9,
   "metadata": {},
   "outputs": [
    {
     "name": "stdout",
     "output_type": "stream",
     "text": [
      "a is <class 'str'> and x is <class 'int'>\n"
     ]
    }
   ],
   "source": [
    "print('a is',type(a),'and x is',type(x))"
   ]
  },
  {
   "cell_type": "code",
   "execution_count": 10,
   "metadata": {},
   "outputs": [],
   "source": [
    "lista=[]"
   ]
  },
  {
   "cell_type": "code",
   "execution_count": 11,
   "metadata": {
    "scrolled": false
   },
   "outputs": [
    {
     "name": "stdout",
     "output_type": "stream",
     "text": [
      "[]\n"
     ]
    }
   ],
   "source": [
    "print(lista)"
   ]
  },
  {
   "cell_type": "code",
   "execution_count": 12,
   "metadata": {},
   "outputs": [],
   "source": [
    "lista=[4,5,6]"
   ]
  },
  {
   "cell_type": "markdown",
   "metadata": {},
   "source": [
    "# EMPEZAMOS"
   ]
  },
  {
   "cell_type": "code",
   "execution_count": 13,
   "metadata": {},
   "outputs": [],
   "source": [
    "a=6\n",
    "b=a"
   ]
  },
  {
   "cell_type": "code",
   "execution_count": 14,
   "metadata": {},
   "outputs": [
    {
     "data": {
      "text/plain": [
       "(94298657444896, 94298657444896)"
      ]
     },
     "execution_count": 14,
     "metadata": {},
     "output_type": "execute_result"
    }
   ],
   "source": [
    "id(a), id(b)"
   ]
  },
  {
   "cell_type": "code",
   "execution_count": 15,
   "metadata": {},
   "outputs": [],
   "source": [
    "a=7"
   ]
  },
  {
   "cell_type": "code",
   "execution_count": 16,
   "metadata": {},
   "outputs": [
    {
     "data": {
      "text/plain": [
       "(94298657444928, 94298657444896)"
      ]
     },
     "execution_count": 16,
     "metadata": {},
     "output_type": "execute_result"
    }
   ],
   "source": [
    "id(a), id(b)"
   ]
  },
  {
   "cell_type": "code",
   "execution_count": 17,
   "metadata": {},
   "outputs": [
    {
     "name": "stdout",
     "output_type": "stream",
     "text": [
      "6\n"
     ]
    }
   ],
   "source": [
    "print(b)"
   ]
  },
  {
   "cell_type": "code",
   "execution_count": 18,
   "metadata": {
    "scrolled": true
   },
   "outputs": [
    {
     "name": "stdout",
     "output_type": "stream",
     "text": [
      "140475402374344 140475629717960\n"
     ]
    }
   ],
   "source": [
    "a=[1,2,3]\n",
    "b=a.copy()\n",
    "print(id(a),id(b))"
   ]
  },
  {
   "cell_type": "code",
   "execution_count": 19,
   "metadata": {},
   "outputs": [],
   "source": [
    "sequence=[1, 2, None, 4, None, 5]"
   ]
  },
  {
   "cell_type": "code",
   "execution_count": 20,
   "metadata": {
    "scrolled": true
   },
   "outputs": [
    {
     "name": "stdout",
     "output_type": "stream",
     "text": [
      "1\n",
      "2\n",
      "None\n",
      "4\n",
      "None\n",
      "5\n"
     ]
    }
   ],
   "source": [
    "for value in sequence:\n",
    "    print(value)"
   ]
  },
  {
   "cell_type": "code",
   "execution_count": 21,
   "metadata": {},
   "outputs": [],
   "source": [
    "def function_to_implement():\n",
    "    pass"
   ]
  },
  {
   "cell_type": "code",
   "execution_count": 22,
   "metadata": {},
   "outputs": [],
   "source": [
    "import random"
   ]
  },
  {
   "cell_type": "code",
   "execution_count": 23,
   "metadata": {},
   "outputs": [
    {
     "data": {
      "text/plain": [
       "['BPF',\n",
       " 'LOG4',\n",
       " 'NV_MAGICCONST',\n",
       " 'RECIP_BPF',\n",
       " 'Random',\n",
       " 'SG_MAGICCONST',\n",
       " 'SystemRandom',\n",
       " 'TWOPI',\n",
       " '_BuiltinMethodType',\n",
       " '_MethodType',\n",
       " '_Sequence',\n",
       " '_Set',\n",
       " '__all__',\n",
       " '__builtins__',\n",
       " '__cached__',\n",
       " '__doc__',\n",
       " '__file__',\n",
       " '__loader__',\n",
       " '__name__',\n",
       " '__package__',\n",
       " '__spec__',\n",
       " '_acos',\n",
       " '_bisect',\n",
       " '_ceil',\n",
       " '_cos',\n",
       " '_e',\n",
       " '_exp',\n",
       " '_inst',\n",
       " '_itertools',\n",
       " '_log',\n",
       " '_os',\n",
       " '_pi',\n",
       " '_random',\n",
       " '_sha512',\n",
       " '_sin',\n",
       " '_sqrt',\n",
       " '_test',\n",
       " '_test_generator',\n",
       " '_urandom',\n",
       " '_warn',\n",
       " 'betavariate',\n",
       " 'choice',\n",
       " 'choices',\n",
       " 'expovariate',\n",
       " 'gammavariate',\n",
       " 'gauss',\n",
       " 'getrandbits',\n",
       " 'getstate',\n",
       " 'lognormvariate',\n",
       " 'normalvariate',\n",
       " 'paretovariate',\n",
       " 'randint',\n",
       " 'random',\n",
       " 'randrange',\n",
       " 'sample',\n",
       " 'seed',\n",
       " 'setstate',\n",
       " 'shuffle',\n",
       " 'triangular',\n",
       " 'uniform',\n",
       " 'vonmisesvariate',\n",
       " 'weibullvariate']"
      ]
     },
     "execution_count": 23,
     "metadata": {},
     "output_type": "execute_result"
    }
   ],
   "source": [
    "dir(random)"
   ]
  },
  {
   "cell_type": "code",
   "execution_count": 24,
   "metadata": {},
   "outputs": [],
   "source": [
    "import hello"
   ]
  },
  {
   "cell_type": "code",
   "execution_count": 25,
   "metadata": {},
   "outputs": [
    {
     "data": {
      "application/json": {
       "cell": {
        "!": "OSMagics",
        "HTML": "Other",
        "SVG": "Other",
        "bash": "Other",
        "capture": "ExecutionMagics",
        "debug": "ExecutionMagics",
        "file": "Other",
        "html": "DisplayMagics",
        "javascript": "DisplayMagics",
        "js": "DisplayMagics",
        "latex": "DisplayMagics",
        "markdown": "DisplayMagics",
        "perl": "Other",
        "prun": "ExecutionMagics",
        "pypy": "Other",
        "python": "Other",
        "python2": "Other",
        "python3": "Other",
        "ruby": "Other",
        "script": "ScriptMagics",
        "sh": "Other",
        "svg": "DisplayMagics",
        "sx": "OSMagics",
        "system": "OSMagics",
        "time": "ExecutionMagics",
        "timeit": "ExecutionMagics",
        "writefile": "OSMagics"
       },
       "line": {
        "alias": "OSMagics",
        "alias_magic": "BasicMagics",
        "autoawait": "AsyncMagics",
        "autocall": "AutoMagics",
        "automagic": "AutoMagics",
        "autosave": "KernelMagics",
        "bookmark": "OSMagics",
        "cat": "Other",
        "cd": "OSMagics",
        "clear": "KernelMagics",
        "colors": "BasicMagics",
        "config": "ConfigMagics",
        "connect_info": "KernelMagics",
        "cp": "Other",
        "debug": "ExecutionMagics",
        "dhist": "OSMagics",
        "dirs": "OSMagics",
        "doctest_mode": "BasicMagics",
        "ed": "Other",
        "edit": "KernelMagics",
        "env": "OSMagics",
        "gui": "BasicMagics",
        "hist": "Other",
        "history": "HistoryMagics",
        "killbgscripts": "ScriptMagics",
        "ldir": "Other",
        "less": "KernelMagics",
        "lf": "Other",
        "lk": "Other",
        "ll": "Other",
        "load": "CodeMagics",
        "load_ext": "ExtensionMagics",
        "loadpy": "CodeMagics",
        "logoff": "LoggingMagics",
        "logon": "LoggingMagics",
        "logstart": "LoggingMagics",
        "logstate": "LoggingMagics",
        "logstop": "LoggingMagics",
        "ls": "Other",
        "lsmagic": "BasicMagics",
        "lx": "Other",
        "macro": "ExecutionMagics",
        "magic": "BasicMagics",
        "man": "KernelMagics",
        "matplotlib": "PylabMagics",
        "mkdir": "Other",
        "more": "KernelMagics",
        "mv": "Other",
        "notebook": "BasicMagics",
        "page": "BasicMagics",
        "pastebin": "CodeMagics",
        "pdb": "ExecutionMagics",
        "pdef": "NamespaceMagics",
        "pdoc": "NamespaceMagics",
        "pfile": "NamespaceMagics",
        "pinfo": "NamespaceMagics",
        "pinfo2": "NamespaceMagics",
        "pip": "BasicMagics",
        "popd": "OSMagics",
        "pprint": "BasicMagics",
        "precision": "BasicMagics",
        "prun": "ExecutionMagics",
        "psearch": "NamespaceMagics",
        "psource": "NamespaceMagics",
        "pushd": "OSMagics",
        "pwd": "OSMagics",
        "pycat": "OSMagics",
        "pylab": "PylabMagics",
        "qtconsole": "KernelMagics",
        "quickref": "BasicMagics",
        "recall": "HistoryMagics",
        "rehashx": "OSMagics",
        "reload_ext": "ExtensionMagics",
        "rep": "Other",
        "rerun": "HistoryMagics",
        "reset": "NamespaceMagics",
        "reset_selective": "NamespaceMagics",
        "rm": "Other",
        "rmdir": "Other",
        "run": "ExecutionMagics",
        "save": "CodeMagics",
        "sc": "OSMagics",
        "set_env": "OSMagics",
        "store": "StoreMagics",
        "sx": "OSMagics",
        "system": "OSMagics",
        "tb": "ExecutionMagics",
        "time": "ExecutionMagics",
        "timeit": "ExecutionMagics",
        "unalias": "OSMagics",
        "unload_ext": "ExtensionMagics",
        "who": "NamespaceMagics",
        "who_ls": "NamespaceMagics",
        "whos": "NamespaceMagics",
        "xdel": "NamespaceMagics",
        "xmode": "BasicMagics"
       }
      },
      "text/plain": [
       "Available line magics:\n",
       "%alias  %alias_magic  %autoawait  %autocall  %automagic  %autosave  %bookmark  %cat  %cd  %clear  %colors  %config  %connect_info  %cp  %debug  %dhist  %dirs  %doctest_mode  %ed  %edit  %env  %gui  %hist  %history  %killbgscripts  %ldir  %less  %lf  %lk  %ll  %load  %load_ext  %loadpy  %logoff  %logon  %logstart  %logstate  %logstop  %ls  %lsmagic  %lx  %macro  %magic  %man  %matplotlib  %mkdir  %more  %mv  %notebook  %page  %pastebin  %pdb  %pdef  %pdoc  %pfile  %pinfo  %pinfo2  %popd  %pprint  %precision  %prun  %psearch  %psource  %pushd  %pwd  %pycat  %pylab  %qtconsole  %quickref  %recall  %rehashx  %reload_ext  %rep  %rerun  %reset  %reset_selective  %rm  %rmdir  %run  %save  %sc  %set_env  %store  %sx  %system  %tb  %time  %timeit  %unalias  %unload_ext  %who  %who_ls  %whos  %xdel  %xmode\n",
       "\n",
       "Available cell magics:\n",
       "%%!  %%HTML  %%SVG  %%bash  %%capture  %%debug  %%file  %%html  %%javascript  %%js  %%latex  %%markdown  %%perl  %%prun  %%pypy  %%python  %%python2  %%python3  %%ruby  %%script  %%sh  %%svg  %%sx  %%system  %%time  %%timeit  %%writefile\n",
       "\n",
       "Automagic is ON, % prefix IS NOT needed for line magics."
      ]
     },
     "execution_count": 25,
     "metadata": {},
     "output_type": "execute_result"
    }
   ],
   "source": [
    "%lsmagic"
   ]
  },
  {
   "cell_type": "code",
   "execution_count": 26,
   "metadata": {},
   "outputs": [
    {
     "data": {
      "text/plain": [
       "'%.20f'"
      ]
     },
     "execution_count": 26,
     "metadata": {},
     "output_type": "execute_result"
    }
   ],
   "source": [
    "%precision 20"
   ]
  },
  {
   "cell_type": "code",
   "execution_count": 27,
   "metadata": {},
   "outputs": [],
   "source": [
    "a= ! ls -l"
   ]
  },
  {
   "cell_type": "code",
   "execution_count": 28,
   "metadata": {},
   "outputs": [
    {
     "data": {
      "text/plain": [
       "['total 288',\n",
       " '-rw-rw-r-- 1 dsc dsc 183676 may  4 08:21 04_Master_04_v15_class.ipynb',\n",
       " '-rw-rw-r-- 1 dsc dsc  77181 may  5 20:15 04_Master_lesson_bdc.ipynb',\n",
       " '-rw-rw-r-- 1 dsc dsc   2019 may  5 08:48 centenario_func.ipynb',\n",
       " '-rwxrwxrwx 1 dsc dsc     89 may  4 10:56 hello.py',\n",
       " '-rw-rw-r-- 1 dsc dsc     33 abr 26 07:33 hello_world.py',\n",
       " '-rw-rw-r-- 1 dsc dsc    630 may  5 20:03 history_test.txt',\n",
       " 'drwxrwxr-x 2 dsc dsc   4096 may  4 08:03 images',\n",
       " 'drwxrwxr-x 2 dsc dsc   4096 may  4 11:02 __pycache__',\n",
       " '-rw-rw-r-- 1 dsc dsc   3477 may  5 11:54 Quick exercises 2_count.ipynb',\n",
       " '-rw-rw-r-- 1 dsc dsc    555 may  4 12:23 Untitled.ipynb']"
      ]
     },
     "execution_count": 28,
     "metadata": {},
     "output_type": "execute_result"
    }
   ],
   "source": [
    "a"
   ]
  },
  {
   "cell_type": "code",
   "execution_count": 29,
   "metadata": {},
   "outputs": [
    {
     "data": {
      "text/plain": [
       "'total 288'"
      ]
     },
     "execution_count": 29,
     "metadata": {},
     "output_type": "execute_result"
    }
   ],
   "source": [
    "a[0]"
   ]
  },
  {
   "cell_type": "code",
   "execution_count": 30,
   "metadata": {},
   "outputs": [
    {
     "name": "stdout",
     "output_type": "stream",
     "text": [
      "{book}\r\n"
     ]
    }
   ],
   "source": [
    "! echo {book}"
   ]
  },
  {
   "cell_type": "code",
   "execution_count": 31,
   "metadata": {},
   "outputs": [],
   "source": [
    "import os\n",
    "home_dir=os.getenv('HOME')"
   ]
  },
  {
   "cell_type": "code",
   "execution_count": 32,
   "metadata": {},
   "outputs": [
    {
     "data": {
      "text/plain": [
       "'/home/dsc'"
      ]
     },
     "execution_count": 32,
     "metadata": {},
     "output_type": "execute_result"
    }
   ],
   "source": [
    "home_dir"
   ]
  },
  {
   "cell_type": "code",
   "execution_count": 33,
   "metadata": {},
   "outputs": [
    {
     "data": {
      "text/plain": [
       "IPython.utils.text.SList"
      ]
     },
     "execution_count": 33,
     "metadata": {},
     "output_type": "execute_result"
    }
   ],
   "source": [
    "type(a)"
   ]
  },
  {
   "cell_type": "code",
   "execution_count": 34,
   "metadata": {},
   "outputs": [],
   "source": [
    "a=5"
   ]
  },
  {
   "cell_type": "code",
   "execution_count": 35,
   "metadata": {},
   "outputs": [
    {
     "data": {
      "text/plain": [
       "int"
      ]
     },
     "execution_count": 35,
     "metadata": {},
     "output_type": "execute_result"
    }
   ],
   "source": [
    "type(a)"
   ]
  },
  {
   "cell_type": "code",
   "execution_count": 36,
   "metadata": {},
   "outputs": [
    {
     "data": {
      "text/plain": [
       "True"
      ]
     },
     "execution_count": 36,
     "metadata": {},
     "output_type": "execute_result"
    }
   ],
   "source": [
    "isinstance(a,int)"
   ]
  },
  {
   "cell_type": "code",
   "execution_count": 37,
   "metadata": {},
   "outputs": [
    {
     "data": {
      "text/plain": [
       "True"
      ]
     },
     "execution_count": 37,
     "metadata": {},
     "output_type": "execute_result"
    }
   ],
   "source": [
    "isinstance(a,(int,float))"
   ]
  },
  {
   "cell_type": "code",
   "execution_count": 38,
   "metadata": {
    "scrolled": true
   },
   "outputs": [
    {
     "name": "stdout",
     "output_type": "stream",
     "text": [
      "Hello World\n"
     ]
    }
   ],
   "source": [
    "print('Hello World')"
   ]
  },
  {
   "cell_type": "code",
   "execution_count": 39,
   "metadata": {},
   "outputs": [
    {
     "data": {
      "application/json": {
       "cell": {
        "!": "OSMagics",
        "HTML": "Other",
        "SVG": "Other",
        "bash": "Other",
        "capture": "ExecutionMagics",
        "debug": "ExecutionMagics",
        "file": "Other",
        "html": "DisplayMagics",
        "javascript": "DisplayMagics",
        "js": "DisplayMagics",
        "latex": "DisplayMagics",
        "markdown": "DisplayMagics",
        "perl": "Other",
        "prun": "ExecutionMagics",
        "pypy": "Other",
        "python": "Other",
        "python2": "Other",
        "python3": "Other",
        "ruby": "Other",
        "script": "ScriptMagics",
        "sh": "Other",
        "svg": "DisplayMagics",
        "sx": "OSMagics",
        "system": "OSMagics",
        "time": "ExecutionMagics",
        "timeit": "ExecutionMagics",
        "writefile": "OSMagics"
       },
       "line": {
        "alias": "OSMagics",
        "alias_magic": "BasicMagics",
        "autoawait": "AsyncMagics",
        "autocall": "AutoMagics",
        "automagic": "AutoMagics",
        "autosave": "KernelMagics",
        "bookmark": "OSMagics",
        "cat": "Other",
        "cd": "OSMagics",
        "clear": "KernelMagics",
        "colors": "BasicMagics",
        "config": "ConfigMagics",
        "connect_info": "KernelMagics",
        "cp": "Other",
        "debug": "ExecutionMagics",
        "dhist": "OSMagics",
        "dirs": "OSMagics",
        "doctest_mode": "BasicMagics",
        "ed": "Other",
        "edit": "KernelMagics",
        "env": "OSMagics",
        "gui": "BasicMagics",
        "hist": "Other",
        "history": "HistoryMagics",
        "killbgscripts": "ScriptMagics",
        "ldir": "Other",
        "less": "KernelMagics",
        "lf": "Other",
        "lk": "Other",
        "ll": "Other",
        "load": "CodeMagics",
        "load_ext": "ExtensionMagics",
        "loadpy": "CodeMagics",
        "logoff": "LoggingMagics",
        "logon": "LoggingMagics",
        "logstart": "LoggingMagics",
        "logstate": "LoggingMagics",
        "logstop": "LoggingMagics",
        "ls": "Other",
        "lsmagic": "BasicMagics",
        "lx": "Other",
        "macro": "ExecutionMagics",
        "magic": "BasicMagics",
        "man": "KernelMagics",
        "matplotlib": "PylabMagics",
        "mkdir": "Other",
        "more": "KernelMagics",
        "mv": "Other",
        "notebook": "BasicMagics",
        "page": "BasicMagics",
        "pastebin": "CodeMagics",
        "pdb": "ExecutionMagics",
        "pdef": "NamespaceMagics",
        "pdoc": "NamespaceMagics",
        "pfile": "NamespaceMagics",
        "pinfo": "NamespaceMagics",
        "pinfo2": "NamespaceMagics",
        "pip": "BasicMagics",
        "popd": "OSMagics",
        "pprint": "BasicMagics",
        "precision": "BasicMagics",
        "prun": "ExecutionMagics",
        "psearch": "NamespaceMagics",
        "psource": "NamespaceMagics",
        "pushd": "OSMagics",
        "pwd": "OSMagics",
        "pycat": "OSMagics",
        "pylab": "PylabMagics",
        "qtconsole": "KernelMagics",
        "quickref": "BasicMagics",
        "recall": "HistoryMagics",
        "rehashx": "OSMagics",
        "reload_ext": "ExtensionMagics",
        "rep": "Other",
        "rerun": "HistoryMagics",
        "reset": "NamespaceMagics",
        "reset_selective": "NamespaceMagics",
        "rm": "Other",
        "rmdir": "Other",
        "run": "ExecutionMagics",
        "save": "CodeMagics",
        "sc": "OSMagics",
        "set_env": "OSMagics",
        "store": "StoreMagics",
        "sx": "OSMagics",
        "system": "OSMagics",
        "tb": "ExecutionMagics",
        "time": "ExecutionMagics",
        "timeit": "ExecutionMagics",
        "unalias": "OSMagics",
        "unload_ext": "ExtensionMagics",
        "who": "NamespaceMagics",
        "who_ls": "NamespaceMagics",
        "whos": "NamespaceMagics",
        "xdel": "NamespaceMagics",
        "xmode": "BasicMagics"
       }
      },
      "text/plain": [
       "Available line magics:\n",
       "%alias  %alias_magic  %autoawait  %autocall  %automagic  %autosave  %bookmark  %cat  %cd  %clear  %colors  %config  %connect_info  %cp  %debug  %dhist  %dirs  %doctest_mode  %ed  %edit  %env  %gui  %hist  %history  %killbgscripts  %ldir  %less  %lf  %lk  %ll  %load  %load_ext  %loadpy  %logoff  %logon  %logstart  %logstate  %logstop  %ls  %lsmagic  %lx  %macro  %magic  %man  %matplotlib  %mkdir  %more  %mv  %notebook  %page  %pastebin  %pdb  %pdef  %pdoc  %pfile  %pinfo  %pinfo2  %popd  %pprint  %precision  %prun  %psearch  %psource  %pushd  %pwd  %pycat  %pylab  %qtconsole  %quickref  %recall  %rehashx  %reload_ext  %rep  %rerun  %reset  %reset_selective  %rm  %rmdir  %run  %save  %sc  %set_env  %store  %sx  %system  %tb  %time  %timeit  %unalias  %unload_ext  %who  %who_ls  %whos  %xdel  %xmode\n",
       "\n",
       "Available cell magics:\n",
       "%%!  %%HTML  %%SVG  %%bash  %%capture  %%debug  %%file  %%html  %%javascript  %%js  %%latex  %%markdown  %%perl  %%prun  %%pypy  %%python  %%python2  %%python3  %%ruby  %%script  %%sh  %%svg  %%sx  %%system  %%time  %%timeit  %%writefile\n",
       "\n",
       "Automagic is ON, % prefix IS NOT needed for line magics."
      ]
     },
     "execution_count": 39,
     "metadata": {},
     "output_type": "execute_result"
    }
   ],
   "source": [
    "%lsmagic"
   ]
  },
  {
   "cell_type": "code",
   "execution_count": 40,
   "metadata": {},
   "outputs": [],
   "source": [
    "%matplotlib inline"
   ]
  },
  {
   "cell_type": "code",
   "execution_count": 41,
   "metadata": {},
   "outputs": [
    {
     "data": {
      "image/png": "[encoded data removed]",
      "text/plain": [
       "<Figure size 432x288 with 1 Axes>"
      ]
     },
     "metadata": {
      "needs_background": "light"
     },
     "output_type": "display_data"
    }
   ],
   "source": [
    "#Simple demo of a scatter plot.\n",
    "\n",
    "import numpy as np\n",
    "import matplotlib.pyplot as plt\n",
    "\n",
    "N = 50\n",
    "x = np.random.rand(N)\n",
    "y = np.random.rand(N)\n",
    "colors= np.random.rand(N)\n",
    "area = np.pi * (15 * np.random.rand(N))**2 # 0 to 15 point radiuses\n",
    "\n",
    "plt.scatter(x,y,s=area,c=colors,alpha=0.5)\n",
    "plt.show()"
   ]
  },
  {
   "cell_type": "code",
   "execution_count": 42,
   "metadata": {},
   "outputs": [
    {
     "data": {
      "text/plain": [
       "'/home/dsc/Python_notebooks'"
      ]
     },
     "execution_count": 42,
     "metadata": {},
     "output_type": "execute_result"
    }
   ],
   "source": [
    "%pwd"
   ]
  },
  {
   "cell_type": "code",
   "execution_count": 43,
   "metadata": {},
   "outputs": [
    {
     "data": {
      "text/plain": [
       "<IPython.core.display.HTML object>"
      ]
     },
     "metadata": {},
     "output_type": "display_data"
    }
   ],
   "source": [
    "%%HTML\n",
    "https://www.computerhope.com/cdn/computer-hope.jpg"
   ]
  },
  {
   "cell_type": "code",
   "execution_count": 44,
   "metadata": {},
   "outputs": [
    {
     "data": {
      "text/html": [
       "data:image/png;base64,iVBORw0KGgoAAAANSUhEUgAAACsAAAAWBAMAAACrl3iAAAAABlBMVEUAAAD+AciWmZzWAAAAAnRSTlMAApidrBQAAAB/SURBVBjTbVEBEoAwCMIf+P/XdgI6V1nN7URkBPxHKLhZJySrub5ag7A4mWtVMrNQtZnT1PlutLnTXeL27OG3ko5Gjm4Mnjhhi1FZDRzBWk9n44KzwZnyYUOEtRpcSnRFjRrdB3Y5aDd81cvBaP7bQT94o/FxMPv3iHsrie5+AIYIBggJ+5FMAAAAAElFTkSuQmCC\n"
      ],
      "text/plain": [
       "<IPython.core.display.HTML object>"
      ]
     },
     "metadata": {},
     "output_type": "display_data"
    }
   ],
   "source": [
    "%%HTML\n",
    "data:image/png;base64,iVBORw0KGgoAAAANSUhEUgAAACsAAAAWBAMAAACrl3iAAAAABlBMVEUAAAD+AciWmZzWAAAAAnRSTlMAApidrBQAAAB/SURBVBjTbVEBEoAwCMIf+P/XdgI6V1nN7URkBPxHKLhZJySrub5ag7A4mWtVMrNQtZnT1PlutLnTXeL27OG3ko5Gjm4Mnjhhi1FZDRzBWk9n44KzwZnyYUOEtRpcSnRFjRrdB3Y5aDd81cvBaP7bQT94o/FxMPv3iHsrie5+AIYIBggJ+5FMAAAAAElFTkSuQmCC"
   ]
  },
  {
   "cell_type": "code",
   "execution_count": 45,
   "metadata": {},
   "outputs": [
    {
     "data": {
      "text/html": [
       "<h2><a href=\"https://www.computerhope.com/tips/tip160.htm\">Top 10 Internet tips and tricks</a></h2>\n"
      ],
      "text/plain": [
       "<IPython.core.display.HTML object>"
      ]
     },
     "metadata": {},
     "output_type": "display_data"
    }
   ],
   "source": [
    "%%HTML\n",
    "<h2><a href=\"https://www.computerhope.com/tips/tip160.htm\">Top 10 Internet tips and tricks</a></h2>"
   ]
  },
  {
   "cell_type": "code",
   "execution_count": 46,
   "metadata": {},
   "outputs": [
    {
     "data": {
      "text/plain": [
       "'/home/dsc/Python_notebooks'"
      ]
     },
     "execution_count": 46,
     "metadata": {},
     "output_type": "execute_result"
    }
   ],
   "source": [
    "pwd"
   ]
  },
  {
   "cell_type": "code",
   "execution_count": 47,
   "metadata": {},
   "outputs": [
    {
     "name": "stdout",
     "output_type": "stream",
     "text": [
      "4\n",
      "504\n"
     ]
    }
   ],
   "source": [
    "x=256\n",
    "total=0\n",
    "while x > 0:\n",
    "    if total > 500:\n",
    "        break\n",
    "    total += x\n",
    "    x= x//2\n",
    "print(x)\n",
    "print(total)"
   ]
  },
  {
   "cell_type": "code",
   "execution_count": 48,
   "metadata": {
    "scrolled": true
   },
   "outputs": [],
   "source": [
    "def my_function(x, y , z=1.5):\n",
    "    if z> 1:\n",
    "        return z*(x+y)\n",
    "    else:\n",
    "        return z/(x+y)"
   ]
  },
  {
   "cell_type": "code",
   "execution_count": 49,
   "metadata": {
    "scrolled": true
   },
   "outputs": [
    {
     "data": {
      "text/plain": [
       "0.04166666666666666435"
      ]
     },
     "execution_count": 49,
     "metadata": {},
     "output_type": "execute_result"
    }
   ],
   "source": [
    "my_function(5,7,0.5)"
   ]
  },
  {
   "cell_type": "code",
   "execution_count": 50,
   "metadata": {},
   "outputs": [],
   "source": [
    "def f():\n",
    "    a=5\n",
    "    b=6\n",
    "    c=7\n",
    "    return a, b, c\n",
    "\n",
    "d, e, g = f()\n",
    "return_value=f()"
   ]
  },
  {
   "cell_type": "code",
   "execution_count": 51,
   "metadata": {},
   "outputs": [
    {
     "name": "stdout",
     "output_type": "stream",
     "text": [
      "(5, 6, 7)\n"
     ]
    }
   ],
   "source": [
    "print(return_value)"
   ]
  },
  {
   "cell_type": "code",
   "execution_count": 52,
   "metadata": {
    "scrolled": true
   },
   "outputs": [],
   "source": [
    "def func():\n",
    "    b=[]\n",
    "    for i in range(5):\n",
    "        b.append(i)\n",
    "    print(b)"
   ]
  },
  {
   "cell_type": "code",
   "execution_count": 53,
   "metadata": {
    "scrolled": false
   },
   "outputs": [],
   "source": [
    "a=[]\n",
    "def func():\n",
    "    for i in range(5):\n",
    "        a.append(i)\n",
    "    print(a)"
   ]
  },
  {
   "cell_type": "code",
   "execution_count": 54,
   "metadata": {
    "scrolled": true
   },
   "outputs": [
    {
     "name": "stdout",
     "output_type": "stream",
     "text": [
      "[0, 1, 2, 3, 4]\n"
     ]
    }
   ],
   "source": [
    "func()"
   ]
  },
  {
   "cell_type": "code",
   "execution_count": 55,
   "metadata": {
    "scrolled": true
   },
   "outputs": [
    {
     "name": "stdout",
     "output_type": "stream",
     "text": [
      "[0, 1, 2, 3, 4, 0, 1, 2, 3, 4]\n",
      "[1, 2, 3]\n"
     ]
    }
   ],
   "source": [
    "func()\n",
    "print(b)"
   ]
  },
  {
   "cell_type": "code",
   "execution_count": 56,
   "metadata": {},
   "outputs": [
    {
     "name": "stdout",
     "output_type": "stream",
     "text": [
      "[0, 1, 2, 3, 4, 0, 1, 2, 3, 4]\n"
     ]
    }
   ],
   "source": [
    "print(a)"
   ]
  },
  {
   "cell_type": "code",
   "execution_count": 57,
   "metadata": {},
   "outputs": [
    {
     "name": "stdout",
     "output_type": "stream",
     "text": [
      "[0, 1, 2, 3, 4, 0, 1, 2, 3, 4]\n"
     ]
    }
   ],
   "source": [
    "print(a)"
   ]
  },
  {
   "cell_type": "code",
   "execution_count": 58,
   "metadata": {
    "scrolled": false
   },
   "outputs": [
    {
     "name": "stdout",
     "output_type": "stream",
     "text": [
      "[0, 1, 2, 3, 4, 0, 1, 2, 3, 4, 0, 1, 2, 3, 4]\n",
      "[0, 1, 2, 3, 4, 0, 1, 2, 3, 4, 0, 1, 2, 3, 4]\n"
     ]
    }
   ],
   "source": [
    "func()\n",
    "print(a)"
   ]
  },
  {
   "cell_type": "code",
   "execution_count": 59,
   "metadata": {},
   "outputs": [],
   "source": [
    "def outer_function(x,y,z):\n",
    "    def inner_function(a,b,c):\n",
    "        pass\n",
    "    pass\n"
   ]
  },
  {
   "cell_type": "code",
   "execution_count": 60,
   "metadata": {},
   "outputs": [],
   "source": [
    "outer_function(1,2,3)"
   ]
  },
  {
   "cell_type": "code",
   "execution_count": 61,
   "metadata": {},
   "outputs": [
    {
     "ename": "NameError",
     "evalue": "name 'inner_function' is not defined",
     "output_type": "error",
     "traceback": [
      "\u001b[0;31m---------------------------------------------------------------------------\u001b[0m",
      "\u001b[0;31mNameError\u001b[0m                                 Traceback (most recent call last)",
      "\u001b[0;32m<ipython-input-61-948ce4cc635a>\u001b[0m in \u001b[0;36m<module>\u001b[0;34m\u001b[0m\n\u001b[0;32m----> 1\u001b[0;31m \u001b[0minner_function\u001b[0m\u001b[0;34m(\u001b[0m\u001b[0;36m1\u001b[0m\u001b[0;34m,\u001b[0m\u001b[0;36m2\u001b[0m\u001b[0;34m,\u001b[0m\u001b[0;36m3\u001b[0m\u001b[0;34m)\u001b[0m\u001b[0;34m\u001b[0m\u001b[0;34m\u001b[0m\u001b[0m\n\u001b[0m",
      "\u001b[0;31mNameError\u001b[0m: name 'inner_function' is not defined"
     ]
    }
   ],
   "source": [
    "inner_function(1,2,3)"
   ]
  },
  {
   "cell_type": "code",
   "execution_count": null,
   "metadata": {},
   "outputs": [],
   "source": [
    "def add_and_maybe_multiply(a,b,c=None):\n",
    "    'returns sum or product depending on c value'\n",
    "    result=a+b\n",
    "    if c is not None:\n",
    "        result=result*c\n",
    "    return result\n",
    "\n",
    "print(add_and_maybe_multiply(3,4))\n",
    "print(add_and_maybe_multiply(3,4,2))"
   ]
  },
  {
   "cell_type": "code",
   "execution_count": null,
   "metadata": {
    "scrolled": false
   },
   "outputs": [],
   "source": [
    "help(add_and_maybe_multiply)"
   ]
  },
  {
   "cell_type": "code",
   "execution_count": null,
   "metadata": {},
   "outputs": [],
   "source": [
    "import hello"
   ]
  },
  {
   "cell_type": "code",
   "execution_count": null,
   "metadata": {},
   "outputs": [],
   "source": [
    "result=hello.f(5)"
   ]
  },
  {
   "cell_type": "code",
   "execution_count": null,
   "metadata": {
    "scrolled": true
   },
   "outputs": [],
   "source": [
    "pi=hello.PI"
   ]
  },
  {
   "cell_type": "code",
   "execution_count": null,
   "metadata": {
    "scrolled": true
   },
   "outputs": [],
   "source": [
    "print(result,pi)"
   ]
  },
  {
   "cell_type": "code",
   "execution_count": null,
   "metadata": {},
   "outputs": [],
   "source": [
    "help(hello)"
   ]
  },
  {
   "cell_type": "code",
   "execution_count": null,
   "metadata": {},
   "outputs": [],
   "source": [
    "dir(hello)"
   ]
  },
  {
   "cell_type": "markdown",
   "metadata": {},
   "source": [
    "## Quick Exercises 1\n",
    "1.a Implement a function that takes as input three variables, and returns the largest of the three. Version without any local variable"
   ]
  },
  {
   "cell_type": "code",
   "execution_count": null,
   "metadata": {},
   "outputs": [],
   "source": [
    "def func_max(a,b,c):\n",
    "    if a > b and a > c:\n",
    "        return a\n",
    "    elif b > a and b > c:\n",
    "        return b\n",
    "    else: \n",
    "        return c"
   ]
  },
  {
   "cell_type": "markdown",
   "metadata": {},
   "source": [
    "## Quick Exercises 1\n",
    "1.b. Implement a function that takes as input three variables, and returns the largest of the three. Version with local variables"
   ]
  },
  {
   "cell_type": "code",
   "execution_count": null,
   "metadata": {},
   "outputs": [],
   "source": [
    "def func_max(a,b,c):\n",
    "    max_var=a\n",
    "    if max_var > b and max_var > c:\n",
    "        return max_var\n",
    "    else: \n",
    "        max_var=b\n",
    "        if max_var > a and max_var > c:\n",
    "            return max_var\n",
    "        else: \n",
    "            max_var=c\n",
    "            return c"
   ]
  },
  {
   "cell_type": "code",
   "execution_count": null,
   "metadata": {
    "scrolled": false
   },
   "outputs": [],
   "source": [
    "func_max(2,3,1)"
   ]
  },
  {
   "cell_type": "code",
   "execution_count": null,
   "metadata": {
    "scrolled": false
   },
   "outputs": [],
   "source": [
    "func_max(5,2,1)"
   ]
  },
  {
   "cell_type": "code",
   "execution_count": null,
   "metadata": {
    "scrolled": false
   },
   "outputs": [],
   "source": [
    "func_max(1,5,7)"
   ]
  },
  {
   "cell_type": "markdown",
   "metadata": {},
   "source": [
    "## Quick Exercises 1\n",
    "2. Write a function “centenario” that will take Name, and year of birth  as inputs, check if year of birth is int and cast it to int if not, and print name together with the text explaining when the person is to have 100 years (hint: use isinstance)\n",
    "\n",
    "call to function: centenario(Antonio, 1967)\n",
    "\n",
    "output: Antonio will reach 100 years in 206"
   ]
  },
  {
   "cell_type": "code",
   "execution_count": null,
   "metadata": {},
   "outputs": [],
   "source": [
    "def centenario(nombre, year):\n",
    "    if not isinstance(year,int):\n",
    "        year=int(year)\n",
    "    print(nombre,\"will reach 100 years in\",year+100)\n",
    "    "
   ]
  },
  {
   "cell_type": "code",
   "execution_count": null,
   "metadata": {
    "scrolled": true
   },
   "outputs": [],
   "source": [
    "centenario(\"Beatriz\",1974)"
   ]
  },
  {
   "cell_type": "code",
   "execution_count": null,
   "metadata": {},
   "outputs": [],
   "source": [
    "def centenario(nombre, year):\n",
    "    if not isinstance(year,int):\n",
    "        year=int(year)\n",
    "    print(\"%s will reach 100 years in %d\" % (nombre, year+100))\n",
    "    "
   ]
  },
  {
   "cell_type": "markdown",
   "metadata": {},
   "source": [
    "# Magic commands"
   ]
  },
  {
   "cell_type": "code",
   "execution_count": null,
   "metadata": {
    "scrolled": true
   },
   "outputs": [],
   "source": [
    "%lsmagic"
   ]
  },
  {
   "cell_type": "code",
   "execution_count": null,
   "metadata": {},
   "outputs": [],
   "source": [
    "%%time"
   ]
  },
  {
   "cell_type": "code",
   "execution_count": null,
   "metadata": {},
   "outputs": [],
   "source": [
    "def centenario(\"Name\",a):\n",
    "    if isinstance(a,int)==TRUE:\n",
    "        time_100=year()-a\n",
    "        print(\"Name\" \"will reach 100\")\n"
   ]
  },
  {
   "cell_type": "markdown",
   "metadata": {},
   "source": [
    "# Module to get the datetime"
   ]
  },
  {
   "cell_type": "code",
   "execution_count": null,
   "metadata": {},
   "outputs": [],
   "source": [
    "import datetime"
   ]
  },
  {
   "cell_type": "code",
   "execution_count": null,
   "metadata": {},
   "outputs": [],
   "source": [
    "dir(datetime)"
   ]
  },
  {
   "cell_type": "code",
   "execution_count": null,
   "metadata": {
    "scrolled": true
   },
   "outputs": [],
   "source": [
    "now=datetime.datetime.now()\n",
    "print(now.year)"
   ]
  },
  {
   "cell_type": "code",
   "execution_count": null,
   "metadata": {},
   "outputs": [],
   "source": [
    "k = 1423432\n",
    "k, type(k)\n",
    "\n",
    "k = 142343265748920480680209596027461**123\n",
    "k, type(k)\n"
   ]
  },
  {
   "cell_type": "code",
   "execution_count": null,
   "metadata": {},
   "outputs": [],
   "source": [
    "k.bit_length()"
   ]
  },
  {
   "cell_type": "code",
   "execution_count": null,
   "metadata": {},
   "outputs": [],
   "source": [
    "cval = 1 + 2j"
   ]
  },
  {
   "cell_type": "code",
   "execution_count": null,
   "metadata": {},
   "outputs": [],
   "source": [
    "(cval * (1-2j))*10"
   ]
  },
  {
   "cell_type": "code",
   "execution_count": null,
   "metadata": {},
   "outputs": [],
   "source": [
    "type(cval)"
   ]
  },
  {
   "cell_type": "code",
   "execution_count": null,
   "metadata": {
    "scrolled": true
   },
   "outputs": [],
   "source": [
    "cval.real"
   ]
  },
  {
   "cell_type": "code",
   "execution_count": null,
   "metadata": {},
   "outputs": [],
   "source": [
    "a='just another string'\n",
    "b=a.replace('another','change this')\n",
    "a, b"
   ]
  },
  {
   "cell_type": "code",
   "execution_count": null,
   "metadata": {
    "scrolled": true
   },
   "outputs": [],
   "source": [
    "a='just another string'\n",
    "a[5]=f"
   ]
  },
  {
   "cell_type": "code",
   "execution_count": null,
   "metadata": {
    "scrolled": true
   },
   "outputs": [],
   "source": [
    "a.casefold()"
   ]
  },
  {
   "cell_type": "code",
   "execution_count": null,
   "metadata": {},
   "outputs": [],
   "source": [
    "a='just another string'"
   ]
  },
  {
   "cell_type": "code",
   "execution_count": null,
   "metadata": {},
   "outputs": [],
   "source": [
    "a.title()"
   ]
  },
  {
   "cell_type": "code",
   "execution_count": null,
   "metadata": {},
   "outputs": [],
   "source": [
    "a.capitalize()\n"
   ]
  },
  {
   "cell_type": "code",
   "execution_count": null,
   "metadata": {},
   "outputs": [],
   "source": [
    "a.isdigit()"
   ]
  },
  {
   "cell_type": "code",
   "execution_count": null,
   "metadata": {},
   "outputs": [],
   "source": [
    "'23.5'.isdigit()"
   ]
  },
  {
   "cell_type": "code",
   "execution_count": null,
   "metadata": {
    "scrolled": true
   },
   "outputs": [],
   "source": [
    "a.split(\"t\")"
   ]
  },
  {
   "cell_type": "code",
   "execution_count": null,
   "metadata": {},
   "outputs": [],
   "source": [
    "z=\"first line \\n continues to second\\n which might not be seen\\n\""
   ]
  },
  {
   "cell_type": "code",
   "execution_count": null,
   "metadata": {
    "scrolled": true
   },
   "outputs": [],
   "source": [
    "z.splitlines()"
   ]
  },
  {
   "cell_type": "code",
   "execution_count": null,
   "metadata": {},
   "outputs": [],
   "source": [
    "\"^\".join(a)"
   ]
  },
  {
   "cell_type": "code",
   "execution_count": null,
   "metadata": {},
   "outputs": [],
   "source": [
    "a=\"this is the first half\"\n",
    "b=\"this is the sencond half\"\n",
    "a+b"
   ]
  },
  {
   "cell_type": "code",
   "execution_count": null,
   "metadata": {},
   "outputs": [],
   "source": [
    "template = '%.2f %s are worth $%d'\n",
    "template % (7.356000, 'Croatia Kunas', 1)"
   ]
  },
  {
   "cell_type": "code",
   "execution_count": null,
   "metadata": {},
   "outputs": [],
   "source": [
    "print(template %(7.356000, 'Croatia Kunas', 1))"
   ]
  },
  {
   "cell_type": "code",
   "execution_count": null,
   "metadata": {},
   "outputs": [],
   "source": [
    "print('a is %s' %(type(a)))"
   ]
  },
  {
   "cell_type": "code",
   "execution_count": null,
   "metadata": {},
   "outputs": [],
   "source": [
    "s=\"Python is WOW\"\n",
    "list(s)"
   ]
  },
  {
   "cell_type": "code",
   "execution_count": null,
   "metadata": {},
   "outputs": [],
   "source": [
    "a=\"this is a string\""
   ]
  },
  {
   "cell_type": "code",
   "execution_count": null,
   "metadata": {},
   "outputs": [],
   "source": [
    "a[0]"
   ]
  },
  {
   "cell_type": "code",
   "execution_count": null,
   "metadata": {},
   "outputs": [],
   "source": [
    "a[0:3]"
   ]
  },
  {
   "cell_type": "code",
   "execution_count": null,
   "metadata": {},
   "outputs": [],
   "source": [
    "len(a)"
   ]
  },
  {
   "cell_type": "code",
   "execution_count": null,
   "metadata": {},
   "outputs": [],
   "source": [
    "a[0:]"
   ]
  },
  {
   "cell_type": "code",
   "execution_count": null,
   "metadata": {
    "scrolled": true
   },
   "outputs": [],
   "source": [
    "a[:7]"
   ]
  },
  {
   "cell_type": "markdown",
   "metadata": {},
   "source": [
    "From position 1 to 16, adding characters 2 by 2"
   ]
  },
  {
   "cell_type": "code",
   "execution_count": null,
   "metadata": {
    "scrolled": true
   },
   "outputs": [],
   "source": [
    "a[1:16:2]"
   ]
  },
  {
   "cell_type": "markdown",
   "metadata": {},
   "source": [
    "Reverse"
   ]
  },
  {
   "cell_type": "code",
   "execution_count": null,
   "metadata": {
    "scrolled": true
   },
   "outputs": [],
   "source": [
    "a[::-1]"
   ]
  },
  {
   "cell_type": "markdown",
   "metadata": {},
   "source": [
    "Reverse from 0 to 5 character"
   ]
  },
  {
   "cell_type": "code",
   "execution_count": null,
   "metadata": {},
   "outputs": [],
   "source": [
    "a[5::-1]"
   ]
  },
  {
   "cell_type": "code",
   "execution_count": null,
   "metadata": {},
   "outputs": [],
   "source": [
    "! pwd"
   ]
  },
  {
   "cell_type": "code",
   "execution_count": null,
   "metadata": {},
   "outputs": [],
   "source": [
    "! grep -i \"hello\" hello_world.py"
   ]
  },
  {
   "cell_type": "code",
   "execution_count": null,
   "metadata": {},
   "outputs": [],
   "source": [
    "! psql -d optd"
   ]
  },
  {
   "cell_type": "code",
   "execution_count": null,
   "metadata": {},
   "outputs": [],
   "source": [
    "!psql "
   ]
  },
  {
   "cell_type": "code",
   "execution_count": null,
   "metadata": {
    "scrolled": true
   },
   "outputs": [],
   "source": [
    "! cd ~/share/bash-completion/completions/\n",
    "! psql -d optd"
   ]
  },
  {
   "cell_type": "code",
   "execution_count": null,
   "metadata": {
    "scrolled": true
   },
   "outputs": [],
   "source": [
    "%dhist"
   ]
  },
  {
   "cell_type": "code",
   "execution_count": null,
   "metadata": {},
   "outputs": [],
   "source": [
    "%lsmagic"
   ]
  },
  {
   "cell_type": "code",
   "execution_count": null,
   "metadata": {},
   "outputs": [],
   "source": [
    "%cd ~/share/bash-completion/completions/"
   ]
  },
  {
   "cell_type": "code",
   "execution_count": null,
   "metadata": {},
   "outputs": [],
   "source": [
    "%%bash\n",
    "ls -l\n",
    "grep -i \"hello\" *.py"
   ]
  },
  {
   "cell_type": "code",
   "execution_count": null,
   "metadata": {},
   "outputs": [],
   "source": [
    "cat hello.py"
   ]
  },
  {
   "cell_type": "code",
   "execution_count": null,
   "metadata": {
    "scrolled": true
   },
   "outputs": [],
   "source": [
    "quickref"
   ]
  },
  {
   "cell_type": "code",
   "execution_count": null,
   "metadata": {},
   "outputs": [],
   "source": [
    "%lsmagic"
   ]
  },
  {
   "cell_type": "code",
   "execution_count": null,
   "metadata": {},
   "outputs": [],
   "source": [
    "%%!\n",
    "cd ..\n",
    "pwd\n",
    "cd Python_notebooks\n",
    "pwd"
   ]
  },
  {
   "cell_type": "code",
   "execution_count": null,
   "metadata": {},
   "outputs": [],
   "source": [
    " !python hello_world.py"
   ]
  },
  {
   "cell_type": "code",
   "execution_count": null,
   "metadata": {},
   "outputs": [],
   "source": [
    "!run hello_world.py"
   ]
  },
  {
   "cell_type": "code",
   "execution_count": null,
   "metadata": {},
   "outputs": [],
   "source": [
    "%run hello_world.py"
   ]
  },
  {
   "cell_type": "code",
   "execution_count": null,
   "metadata": {},
   "outputs": [],
   "source": [
    "alias show echo"
   ]
  },
  {
   "cell_type": "code",
   "execution_count": null,
   "metadata": {},
   "outputs": [],
   "source": [
    "PATH=\"A Python string\""
   ]
  },
  {
   "cell_type": "code",
   "execution_count": null,
   "metadata": {},
   "outputs": [],
   "source": [
    "show $PATH"
   ]
  },
  {
   "cell_type": "code",
   "execution_count": null,
   "metadata": {},
   "outputs": [],
   "source": [
    "show $$PATH"
   ]
  },
  {
   "cell_type": "code",
   "execution_count": null,
   "metadata": {},
   "outputs": [],
   "source": [
    "$show $$PATH"
   ]
  },
  {
   "cell_type": "code",
   "execution_count": null,
   "metadata": {},
   "outputs": [],
   "source": [
    "alias"
   ]
  },
  {
   "cell_type": "code",
   "execution_count": null,
   "metadata": {},
   "outputs": [],
   "source": [
    "/str 43"
   ]
  },
  {
   "cell_type": "code",
   "execution_count": null,
   "metadata": {
    "scrolled": true
   },
   "outputs": [],
   "source": [
    "callable('hello')"
   ]
  },
  {
   "cell_type": "code",
   "execution_count": null,
   "metadata": {},
   "outputs": [],
   "source": [
    "%autocall"
   ]
  },
  {
   "cell_type": "code",
   "execution_count": null,
   "metadata": {},
   "outputs": [],
   "source": [
    "float()"
   ]
  },
  {
   "cell_type": "code",
   "execution_count": null,
   "metadata": {},
   "outputs": [],
   "source": [
    "float"
   ]
  },
  {
   "cell_type": "code",
   "execution_count": null,
   "metadata": {},
   "outputs": [],
   "source": [
    "%colors?"
   ]
  },
  {
   "cell_type": "code",
   "execution_count": null,
   "metadata": {},
   "outputs": [],
   "source": [
    "%conda?"
   ]
  },
  {
   "cell_type": "code",
   "execution_count": null,
   "metadata": {},
   "outputs": [],
   "source": [
    "%config"
   ]
  },
  {
   "cell_type": "code",
   "execution_count": null,
   "metadata": {},
   "outputs": [],
   "source": [
    "%config AliasManager"
   ]
  },
  {
   "cell_type": "code",
   "execution_count": null,
   "metadata": {},
   "outputs": [],
   "source": [
    "%ll"
   ]
  },
  {
   "cell_type": "code",
   "execution_count": null,
   "metadata": {},
   "outputs": [],
   "source": [
    "%edit +N hello_world.py"
   ]
  },
  {
   "cell_type": "code",
   "execution_count": null,
   "metadata": {},
   "outputs": [],
   "source": [
    "%edit"
   ]
  },
  {
   "cell_type": "code",
   "execution_count": null,
   "metadata": {},
   "outputs": [],
   "source": [
    "edit"
   ]
  },
  {
   "cell_type": "code",
   "execution_count": null,
   "metadata": {},
   "outputs": [],
   "source": [
    "'def foo():\\n print \"foo() was defined in session\"\\n'"
   ]
  },
  {
   "cell_type": "code",
   "execution_count": null,
   "metadata": {},
   "outputs": [],
   "source": [
    "foo()"
   ]
  },
  {
   "cell_type": "code",
   "execution_count": null,
   "metadata": {},
   "outputs": [],
   "source": [
    "%quickref"
   ]
  },
  {
   "cell_type": "code",
   "execution_count": null,
   "metadata": {},
   "outputs": [],
   "source": [
    "config"
   ]
  },
  {
   "cell_type": "code",
   "execution_count": null,
   "metadata": {},
   "outputs": [],
   "source": [
    "%config ZMQInteractiveShell"
   ]
  },
  {
   "cell_type": "code",
   "execution_count": null,
   "metadata": {},
   "outputs": [],
   "source": [
    "precision 4"
   ]
  },
  {
   "cell_type": "code",
   "execution_count": null,
   "metadata": {
    "scrolled": true
   },
   "outputs": [],
   "source": [
    "10/3"
   ]
  },
  {
   "cell_type": "code",
   "execution_count": null,
   "metadata": {},
   "outputs": [],
   "source": [
    "history"
   ]
  },
  {
   "cell_type": "code",
   "execution_count": null,
   "metadata": {},
   "outputs": [],
   "source": [
    "history -f history_test.txt"
   ]
  },
  {
   "cell_type": "code",
   "execution_count": null,
   "metadata": {},
   "outputs": [],
   "source": [
    "ll\n"
   ]
  },
  {
   "cell_type": "code",
   "execution_count": null,
   "metadata": {},
   "outputs": [],
   "source": [
    "%edit -f history_test.txt"
   ]
  },
  {
   "cell_type": "code",
   "execution_count": null,
   "metadata": {},
   "outputs": [],
   "source": [
    "4"
   ]
  },
  {
   "cell_type": "code",
   "execution_count": null,
   "metadata": {},
   "outputs": [],
   "source": [
    "history -n 4"
   ]
  },
  {
   "cell_type": "code",
   "execution_count": null,
   "metadata": {},
   "outputs": [],
   "source": [
    "history -n 4-6"
   ]
  },
  {
   "cell_type": "code",
   "execution_count": null,
   "metadata": {
    "scrolled": true
   },
   "outputs": [],
   "source": [
    "history -no 23/1-5"
   ]
  },
  {
   "cell_type": "code",
   "execution_count": null,
   "metadata": {
    "scrolled": true
   },
   "outputs": [],
   "source": [
    "history -no ~2/7 -o"
   ]
  },
  {
   "cell_type": "code",
   "execution_count": 64,
   "metadata": {
    "scrolled": false
   },
   "outputs": [
    {
     "name": "stdout",
     "output_type": "stream",
     "text": [
      "File 'history_test.txt' exists. Overwrite? y\n",
      "Overwriting file.\n"
     ]
    }
   ],
   "source": [
    "history -n ~8/1-~6/5 -f history_test.txt"
   ]
  },
  {
   "cell_type": "code",
   "execution_count": 65,
   "metadata": {
    "scrolled": true
   },
   "outputs": [
    {
     "name": "stdout",
     "output_type": "stream",
     "text": [
      "23/1: a='just another string'\r\n",
      "23/2: a.title\r\n",
      "23/3: a.title()\r\n",
      "23/4: a.capitalize()\r\n",
      "23/5: a.isdigit()\r\n",
      "23/6: '23.5'.isdigit()\r\n",
      "23/7: a.split()\r\n",
      "23/8: a.split(\"t\")\r\n",
      "23/9: z=\"first line \\n continues to second\\n which might not be seen\\n\"\r\n",
      "23/10: z.splitline()\r\n",
      "23/11: z.splitlines()\r\n",
      "23/12: \"^\".join(a)\r\n",
      "23/13:\r\n",
      "a=\"this is the first half\"\r\n",
      "b=\"this is the sencond half\"\r\n",
      "a+b\r\n",
      "23/14:\r\n",
      "template = '%.2f %s are worth $%d'\r\n",
      "template % (7.356000, 'Croatia Kunas', 1)\r\n",
      "23/15: print(template %(7.356000, 'Croatia Kunas', 1))\r\n",
      "23/16: print('a is %s' %(type(a)))\r\n",
      "23/17: type(%s)\r\n",
      "23/18:\r\n",
      "template = '%.2f %s are worth $%03d'\r\n",
      "template % (7.356000, 'Croatia Kunas', 1)\r\n",
      "23/19:\r\n",
      "template = '%.2f %s are worth $%d'\r\n",
      "template % (7.356000, 'Croatia Kunas', 1)\r\n",
      "23/20:\r\n",
      "def centenario(nombre, year):\r\n",
      "    if not isinstance(year,int):\r\n",
      "        year=int(year)\r\n",
      "    print(\"%s will reach 100 years in %d, %(\"Beatriz\", year+100))\r\n",
      "23/21:\r\n",
      "def centenario(nombre, year):\r\n",
      "    if not isinstance(year,int):\r\n",
      "        year=int(year)\r\n",
      "    print(\"%s will reach 100 years in %d, %(Beatriz, year+100))\r\n",
      "23/22:\r\n",
      "def centenario(nombre, year):\r\n",
      "    if not isinstance(year,int):\r\n",
      "        year=int(year)\r\n",
      "    print(\"%s will reach 100 years in %d\", %(Beatriz, year+100))\r\n",
      "23/23:\r\n",
      "def centenario(nombre, year):\r\n",
      "    if not isinstance(year,int):\r\n",
      "        year=int(year)\r\n",
      "    print(\"%s will reach 100 years in %d\", % (Beatriz, year+100))\r\n",
      "23/24:\r\n",
      "def centenario(nombre, year):\r\n",
      "    if not isinstance(year,int):\r\n",
      "        year=int(year)\r\n",
      "    print(\"%s will reach 100 years in %d\" % (Beatriz, year+100))\r\n",
      "23/25: centenario('Beatriz',1974)\r\n",
      "23/26: centenario(Beatriz,1974)\r\n",
      "23/27:\r\n",
      "def centenario(nombre, year):\r\n",
      "    if not isinstance(year,int):\r\n",
      "        year=int(year)\r\n",
      "    print(nombre,\"will reach 100 years in\",year+100)\r\n",
      "23/28: centenario(Beatriz,1974)\r\n",
      "23/29: centenario(\"Beatriz\",1974)\r\n",
      "23/30:\r\n",
      "def centenario(nombre, year):\r\n",
      "    if not isinstance(year,int):\r\n",
      "        year=int(year)\r\n",
      "    print(\"%s will reach 100 years in %d\" % (nombre, year+100))\r\n",
      "23/31: centenario(\"Beatriz\",1974)\r\n",
      "23/32:\r\n",
      "s=\"Python is WOW\"\r\n",
      "list(s)\r\n",
      "23/33: a=\"this is a string\"\r\n",
      "23/34: a[0]\r\n",
      "23/35: a[0:3]\r\n",
      "23/36: length(a)\r\n",
      "23/37: len(a)\r\n",
      "23/38: a[:15]\r\n",
      "23/39: a[:16]\r\n",
      "23/40: a[0:]\r\n",
      "23/41: a[:7]\r\n",
      "23/42: a[1:10:2]\r\n",
      "23/43: a[:-1]\r\n",
      "23/44: a[::-1]\r\n",
      "23/45: a[0:-1]\r\n",
      "23/46: a[::-1]\r\n",
      "23/47: a[5::-1]\r\n",
      "23/48: a[5:1:-1]\r\n",
      "23/49: a[5:10:-1]\r\n",
      "23/50: a[1:1:2]\r\n",
      "23/51: a[1:2:2]\r\n",
      "23/52: a[1:3:2]\r\n",
      "23/53: a[1:4:2]\r\n",
      "23/54: a[1:16:2]\r\n",
      "23/55: a[5::-1]\r\n",
      "23/56: a[5:0:-1]\r\n",
      "23/57: a[5:1:-1]\r\n",
      "23/58: a[5::-1]\r\n",
      "23/59: ! pwd\r\n",
      "23/60: ! grep -i \"hello\" hello_world.py\r\n",
      "23/61: ! psql -d optd\r\n",
      "23/62: !psql\r\n",
      "23/63:\r\n",
      "! /usr/share/bash-completion/completions/\r\n",
      "psql\r\n",
      "23/64:\r\n",
      "! cd ~/share/bash-completion/completions/\r\n",
      "! psql -d optd\r\n",
      "23/65: %dhist\r\n",
      "23/66: %lsmagic\r\n",
      "23/67: %cd ~/share/bash-completion/completions/\r\n",
      "23/68: %dhist, _dh\r\n",
      "23/69: %dhist,_dh\r\n",
      "23/70: %dhist\r\n",
      "23/71:\r\n",
      "%%bash\r\n",
      "ls -l\r\n",
      "grep -i \"hello\" *.py\r\n",
      "23/72: cat hello.py\r\n",
      "23/73: qickref\r\n",
      "23/74: quickref\r\n",
      "25/1:\r\n",
      "def centenario(nombre, year):\r\n",
      "    if not isinstance(year,int):\r\n",
      "        year=int(year)\r\n",
      "    print(nombre,\"will reach 100 years in\",year+100)\r\n",
      "25/2:\r\n",
      "def centenario(nombre, year):\r\n",
      "    if not isinstance(year,int):\r\n",
      "        year=int(year)\r\n",
      "    print(nombre,\"will reach 100 years in\",year+100)\r\n",
      "25/3:\r\n",
      "def centenario(nombre, year):\r\n",
      "    if not isinstance(year,int):\r\n",
      "        year=int(year)\r\n",
      "    print(\"%s will reach 100 years in %d\" % (nombre, year+100))\r\n",
      "25/4: centenario(\"Beatriz\",1974)\r\n",
      "25/5:\r\n",
      "def centenario(nombre, year):\r\n",
      "    if not isinstance(year,int):\r\n",
      "        year=int(year)\r\n",
      "    print(nombre,\"will reach 100 years in\",year+100)\r\n"
     ]
    }
   ],
   "source": [
    "!cat history_test.txt"
   ]
  },
  {
   "cell_type": "code",
   "execution_count": 62,
   "metadata": {},
   "outputs": [
    {
     "data": {
      "application/json": {
       "cell": {
        "!": "OSMagics",
        "HTML": "Other",
        "SVG": "Other",
        "bash": "Other",
        "capture": "ExecutionMagics",
        "debug": "ExecutionMagics",
        "file": "Other",
        "html": "DisplayMagics",
        "javascript": "DisplayMagics",
        "js": "DisplayMagics",
        "latex": "DisplayMagics",
        "markdown": "DisplayMagics",
        "perl": "Other",
        "prun": "ExecutionMagics",
        "pypy": "Other",
        "python": "Other",
        "python2": "Other",
        "python3": "Other",
        "ruby": "Other",
        "script": "ScriptMagics",
        "sh": "Other",
        "svg": "DisplayMagics",
        "sx": "OSMagics",
        "system": "OSMagics",
        "time": "ExecutionMagics",
        "timeit": "ExecutionMagics",
        "writefile": "OSMagics"
       },
       "line": {
        "alias": "OSMagics",
        "alias_magic": "BasicMagics",
        "autoawait": "AsyncMagics",
        "autocall": "AutoMagics",
        "automagic": "AutoMagics",
        "autosave": "KernelMagics",
        "bookmark": "OSMagics",
        "cat": "Other",
        "cd": "OSMagics",
        "clear": "KernelMagics",
        "colors": "BasicMagics",
        "config": "ConfigMagics",
        "connect_info": "KernelMagics",
        "cp": "Other",
        "debug": "ExecutionMagics",
        "dhist": "OSMagics",
        "dirs": "OSMagics",
        "doctest_mode": "BasicMagics",
        "ed": "Other",
        "edit": "KernelMagics",
        "env": "OSMagics",
        "gui": "BasicMagics",
        "hist": "Other",
        "history": "HistoryMagics",
        "killbgscripts": "ScriptMagics",
        "ldir": "Other",
        "less": "KernelMagics",
        "lf": "Other",
        "lk": "Other",
        "ll": "Other",
        "load": "CodeMagics",
        "load_ext": "ExtensionMagics",
        "loadpy": "CodeMagics",
        "logoff": "LoggingMagics",
        "logon": "LoggingMagics",
        "logstart": "LoggingMagics",
        "logstate": "LoggingMagics",
        "logstop": "LoggingMagics",
        "ls": "Other",
        "lsmagic": "BasicMagics",
        "lx": "Other",
        "macro": "ExecutionMagics",
        "magic": "BasicMagics",
        "man": "KernelMagics",
        "matplotlib": "PylabMagics",
        "mkdir": "Other",
        "more": "KernelMagics",
        "mv": "Other",
        "notebook": "BasicMagics",
        "page": "BasicMagics",
        "pastebin": "CodeMagics",
        "pdb": "ExecutionMagics",
        "pdef": "NamespaceMagics",
        "pdoc": "NamespaceMagics",
        "pfile": "NamespaceMagics",
        "pinfo": "NamespaceMagics",
        "pinfo2": "NamespaceMagics",
        "pip": "BasicMagics",
        "popd": "OSMagics",
        "pprint": "BasicMagics",
        "precision": "BasicMagics",
        "prun": "ExecutionMagics",
        "psearch": "NamespaceMagics",
        "psource": "NamespaceMagics",
        "pushd": "OSMagics",
        "pwd": "OSMagics",
        "pycat": "OSMagics",
        "pylab": "PylabMagics",
        "qtconsole": "KernelMagics",
        "quickref": "BasicMagics",
        "recall": "HistoryMagics",
        "rehashx": "OSMagics",
        "reload_ext": "ExtensionMagics",
        "rep": "Other",
        "rerun": "HistoryMagics",
        "reset": "NamespaceMagics",
        "reset_selective": "NamespaceMagics",
        "rm": "Other",
        "rmdir": "Other",
        "run": "ExecutionMagics",
        "save": "CodeMagics",
        "sc": "OSMagics",
        "set_env": "OSMagics",
        "store": "StoreMagics",
        "sx": "OSMagics",
        "system": "OSMagics",
        "tb": "ExecutionMagics",
        "time": "ExecutionMagics",
        "timeit": "ExecutionMagics",
        "unalias": "OSMagics",
        "unload_ext": "ExtensionMagics",
        "who": "NamespaceMagics",
        "who_ls": "NamespaceMagics",
        "whos": "NamespaceMagics",
        "xdel": "NamespaceMagics",
        "xmode": "BasicMagics"
       }
      },
      "text/plain": [
       "Available line magics:\n",
       "%alias  %alias_magic  %autoawait  %autocall  %automagic  %autosave  %bookmark  %cat  %cd  %clear  %colors  %config  %connect_info  %cp  %debug  %dhist  %dirs  %doctest_mode  %ed  %edit  %env  %gui  %hist  %history  %killbgscripts  %ldir  %less  %lf  %lk  %ll  %load  %load_ext  %loadpy  %logoff  %logon  %logstart  %logstate  %logstop  %ls  %lsmagic  %lx  %macro  %magic  %man  %matplotlib  %mkdir  %more  %mv  %notebook  %page  %pastebin  %pdb  %pdef  %pdoc  %pfile  %pinfo  %pinfo2  %popd  %pprint  %precision  %prun  %psearch  %psource  %pushd  %pwd  %pycat  %pylab  %qtconsole  %quickref  %recall  %rehashx  %reload_ext  %rep  %rerun  %reset  %reset_selective  %rm  %rmdir  %run  %save  %sc  %set_env  %store  %sx  %system  %tb  %time  %timeit  %unalias  %unload_ext  %who  %who_ls  %whos  %xdel  %xmode\n",
       "\n",
       "Available cell magics:\n",
       "%%!  %%HTML  %%SVG  %%bash  %%capture  %%debug  %%file  %%html  %%javascript  %%js  %%latex  %%markdown  %%perl  %%prun  %%pypy  %%python  %%python2  %%python3  %%ruby  %%script  %%sh  %%svg  %%sx  %%system  %%time  %%timeit  %%writefile\n",
       "\n",
       "Automagic is ON, % prefix IS NOT needed for line magics."
      ]
     },
     "execution_count": 62,
     "metadata": {},
     "output_type": "execute_result"
    }
   ],
   "source": [
    "%lsmagic"
   ]
  },
  {
   "cell_type": "code",
   "execution_count": 67,
   "metadata": {
    "scrolled": true
   },
   "outputs": [
    {
     "name": "stdout",
     "output_type": "stream",
     "text": [
      "8\n"
     ]
    }
   ],
   "source": [
    "x=3; y=5\n",
    "print(x+y)"
   ]
  },
  {
   "cell_type": "code",
   "execution_count": 70,
   "metadata": {
    "scrolled": false
   },
   "outputs": [
    {
     "name": "stdout",
     "output_type": "stream",
     "text": [
      "IPython will make a temporary file named: /tmp/ipython_edit_05b5rj2a/ipython_edit_qdl0u1eh.py\n"
     ]
    }
   ],
   "source": [
    "%edit 67"
   ]
  },
  {
   "cell_type": "code",
   "execution_count": 72,
   "metadata": {},
   "outputs": [],
   "source": [
    "edit /tmp/ipython_edit_05b5rj2a/ipython_edit_qdl0u1eh.py"
   ]
  },
  {
   "cell_type": "code",
   "execution_count": 73,
   "metadata": {},
   "outputs": [],
   "source": [
    "def my_func():\n",
    "    pass"
   ]
  },
  {
   "cell_type": "code",
   "execution_count": 74,
   "metadata": {
    "scrolled": true
   },
   "outputs": [
    {
     "ename": "InteractivelyDefined",
     "evalue": "73",
     "output_type": "error",
     "traceback": [
      "\u001b[0;31m---------------------------------------------------------------------------\u001b[0m",
      "\u001b[0;31mDataIsObject\u001b[0m                              Traceback (most recent call last)",
      "\u001b[0;32m~/anaconda3/lib/python3.7/site-packages/IPython/core/magics/code.py\u001b[0m in \u001b[0;36m_find_edit_target\u001b[0;34m(shell, args, opts, last_call)\u001b[0m\n\u001b[1;32m    433\u001b[0m                     \u001b[0;32mif\u001b[0m \u001b[0;32mnot\u001b[0m \u001b[0misinstance\u001b[0m\u001b[0;34m(\u001b[0m\u001b[0mdata\u001b[0m\u001b[0;34m,\u001b[0m \u001b[0mstr\u001b[0m\u001b[0;34m)\u001b[0m\u001b[0;34m:\u001b[0m\u001b[0;34m\u001b[0m\u001b[0;34m\u001b[0m\u001b[0m\n\u001b[0;32m--> 434\u001b[0;31m                         \u001b[0;32mraise\u001b[0m \u001b[0mDataIsObject\u001b[0m\u001b[0;34m\u001b[0m\u001b[0;34m\u001b[0m\u001b[0m\n\u001b[0m\u001b[1;32m    435\u001b[0m \u001b[0;34m\u001b[0m\u001b[0m\n",
      "\u001b[0;31mDataIsObject\u001b[0m: ",
      "\nDuring handling of the above exception, another exception occurred:\n",
      "\u001b[0;31mInteractivelyDefined\u001b[0m                      Traceback (most recent call last)",
      "\u001b[0;32m<ipython-input-74-f7f97fd42bbb>\u001b[0m in \u001b[0;36m<module>\u001b[0;34m\u001b[0m\n\u001b[0;32m----> 1\u001b[0;31m \u001b[0mget_ipython\u001b[0m\u001b[0;34m(\u001b[0m\u001b[0;34m)\u001b[0m\u001b[0;34m.\u001b[0m\u001b[0mrun_line_magic\u001b[0m\u001b[0;34m(\u001b[0m\u001b[0;34m'edit'\u001b[0m\u001b[0;34m,\u001b[0m \u001b[0;34m'my_func'\u001b[0m\u001b[0;34m)\u001b[0m\u001b[0;34m\u001b[0m\u001b[0;34m\u001b[0m\u001b[0m\n\u001b[0m",
      "\u001b[0;32m~/anaconda3/lib/python3.7/site-packages/IPython/core/interactiveshell.py\u001b[0m in \u001b[0;36mrun_line_magic\u001b[0;34m(self, magic_name, line, _stack_depth)\u001b[0m\n\u001b[1;32m   2285\u001b[0m                 \u001b[0mkwargs\u001b[0m\u001b[0;34m[\u001b[0m\u001b[0;34m'local_ns'\u001b[0m\u001b[0;34m]\u001b[0m \u001b[0;34m=\u001b[0m \u001b[0msys\u001b[0m\u001b[0;34m.\u001b[0m\u001b[0m_getframe\u001b[0m\u001b[0;34m(\u001b[0m\u001b[0mstack_depth\u001b[0m\u001b[0;34m)\u001b[0m\u001b[0;34m.\u001b[0m\u001b[0mf_locals\u001b[0m\u001b[0;34m\u001b[0m\u001b[0;34m\u001b[0m\u001b[0m\n\u001b[1;32m   2286\u001b[0m             \u001b[0;32mwith\u001b[0m \u001b[0mself\u001b[0m\u001b[0;34m.\u001b[0m\u001b[0mbuiltin_trap\u001b[0m\u001b[0;34m:\u001b[0m\u001b[0;34m\u001b[0m\u001b[0;34m\u001b[0m\u001b[0m\n\u001b[0;32m-> 2287\u001b[0;31m                 \u001b[0mresult\u001b[0m \u001b[0;34m=\u001b[0m \u001b[0mfn\u001b[0m\u001b[0;34m(\u001b[0m\u001b[0;34m*\u001b[0m\u001b[0margs\u001b[0m\u001b[0;34m,\u001b[0m\u001b[0;34m**\u001b[0m\u001b[0mkwargs\u001b[0m\u001b[0;34m)\u001b[0m\u001b[0;34m\u001b[0m\u001b[0;34m\u001b[0m\u001b[0m\n\u001b[0m\u001b[1;32m   2288\u001b[0m             \u001b[0;32mreturn\u001b[0m \u001b[0mresult\u001b[0m\u001b[0;34m\u001b[0m\u001b[0;34m\u001b[0m\u001b[0m\n\u001b[1;32m   2289\u001b[0m \u001b[0;34m\u001b[0m\u001b[0m\n",
      "\u001b[0;32m<decorator-gen-115>\u001b[0m in \u001b[0;36medit\u001b[0;34m(self, parameter_s, last_call)\u001b[0m\n",
      "\u001b[0;32m~/anaconda3/lib/python3.7/site-packages/IPython/core/magic.py\u001b[0m in \u001b[0;36m<lambda>\u001b[0;34m(f, *a, **k)\u001b[0m\n\u001b[1;32m    185\u001b[0m     \u001b[0;31m# but it's overkill for just that one bit of state.\u001b[0m\u001b[0;34m\u001b[0m\u001b[0;34m\u001b[0m\u001b[0;34m\u001b[0m\u001b[0m\n\u001b[1;32m    186\u001b[0m     \u001b[0;32mdef\u001b[0m \u001b[0mmagic_deco\u001b[0m\u001b[0;34m(\u001b[0m\u001b[0marg\u001b[0m\u001b[0;34m)\u001b[0m\u001b[0;34m:\u001b[0m\u001b[0;34m\u001b[0m\u001b[0;34m\u001b[0m\u001b[0m\n\u001b[0;32m--> 187\u001b[0;31m         \u001b[0mcall\u001b[0m \u001b[0;34m=\u001b[0m \u001b[0;32mlambda\u001b[0m \u001b[0mf\u001b[0m\u001b[0;34m,\u001b[0m \u001b[0;34m*\u001b[0m\u001b[0ma\u001b[0m\u001b[0;34m,\u001b[0m \u001b[0;34m**\u001b[0m\u001b[0mk\u001b[0m\u001b[0;34m:\u001b[0m \u001b[0mf\u001b[0m\u001b[0;34m(\u001b[0m\u001b[0;34m*\u001b[0m\u001b[0ma\u001b[0m\u001b[0;34m,\u001b[0m \u001b[0;34m**\u001b[0m\u001b[0mk\u001b[0m\u001b[0;34m)\u001b[0m\u001b[0;34m\u001b[0m\u001b[0;34m\u001b[0m\u001b[0m\n\u001b[0m\u001b[1;32m    188\u001b[0m \u001b[0;34m\u001b[0m\u001b[0m\n\u001b[1;32m    189\u001b[0m         \u001b[0;32mif\u001b[0m \u001b[0mcallable\u001b[0m\u001b[0;34m(\u001b[0m\u001b[0marg\u001b[0m\u001b[0;34m)\u001b[0m\u001b[0;34m:\u001b[0m\u001b[0;34m\u001b[0m\u001b[0;34m\u001b[0m\u001b[0m\n",
      "\u001b[0;32m~/anaconda3/lib/python3.7/site-packages/ipykernel/zmqshell.py\u001b[0m in \u001b[0;36medit\u001b[0;34m(self, parameter_s, last_call)\u001b[0m\n\u001b[1;32m    295\u001b[0m \u001b[0;34m\u001b[0m\u001b[0m\n\u001b[1;32m    296\u001b[0m         \u001b[0;32mtry\u001b[0m\u001b[0;34m:\u001b[0m\u001b[0;34m\u001b[0m\u001b[0;34m\u001b[0m\u001b[0m\n\u001b[0;32m--> 297\u001b[0;31m             \u001b[0mfilename\u001b[0m\u001b[0;34m,\u001b[0m \u001b[0mlineno\u001b[0m\u001b[0;34m,\u001b[0m \u001b[0m_\u001b[0m \u001b[0;34m=\u001b[0m \u001b[0mCodeMagics\u001b[0m\u001b[0;34m.\u001b[0m\u001b[0m_find_edit_target\u001b[0m\u001b[0;34m(\u001b[0m\u001b[0mself\u001b[0m\u001b[0;34m.\u001b[0m\u001b[0mshell\u001b[0m\u001b[0;34m,\u001b[0m \u001b[0margs\u001b[0m\u001b[0;34m,\u001b[0m \u001b[0mopts\u001b[0m\u001b[0;34m,\u001b[0m \u001b[0mlast_call\u001b[0m\u001b[0;34m)\u001b[0m\u001b[0;34m\u001b[0m\u001b[0;34m\u001b[0m\u001b[0m\n\u001b[0m\u001b[1;32m    298\u001b[0m         \u001b[0;32mexcept\u001b[0m \u001b[0mMacroToEdit\u001b[0m\u001b[0;34m:\u001b[0m\u001b[0;34m\u001b[0m\u001b[0;34m\u001b[0m\u001b[0m\n\u001b[1;32m    299\u001b[0m             \u001b[0;31m# TODO: Implement macro editing over 2 processes.\u001b[0m\u001b[0;34m\u001b[0m\u001b[0;34m\u001b[0m\u001b[0;34m\u001b[0m\u001b[0m\n",
      "\u001b[0;32m~/anaconda3/lib/python3.7/site-packages/IPython/core/magics/code.py\u001b[0m in \u001b[0;36m_find_edit_target\u001b[0;34m(shell, args, opts, last_call)\u001b[0m\n\u001b[1;32m    470\u001b[0m                         \u001b[0mm\u001b[0m \u001b[0;34m=\u001b[0m \u001b[0mipython_input_pat\u001b[0m\u001b[0;34m.\u001b[0m\u001b[0mmatch\u001b[0m\u001b[0;34m(\u001b[0m\u001b[0mos\u001b[0m\u001b[0;34m.\u001b[0m\u001b[0mpath\u001b[0m\u001b[0;34m.\u001b[0m\u001b[0mbasename\u001b[0m\u001b[0;34m(\u001b[0m\u001b[0mfilename\u001b[0m\u001b[0;34m)\u001b[0m\u001b[0;34m)\u001b[0m\u001b[0;34m\u001b[0m\u001b[0;34m\u001b[0m\u001b[0m\n\u001b[1;32m    471\u001b[0m                         \u001b[0;32mif\u001b[0m \u001b[0mm\u001b[0m\u001b[0;34m:\u001b[0m\u001b[0;34m\u001b[0m\u001b[0;34m\u001b[0m\u001b[0m\n\u001b[0;32m--> 472\u001b[0;31m                             \u001b[0;32mraise\u001b[0m \u001b[0mInteractivelyDefined\u001b[0m\u001b[0;34m(\u001b[0m\u001b[0mint\u001b[0m\u001b[0;34m(\u001b[0m\u001b[0mm\u001b[0m\u001b[0;34m.\u001b[0m\u001b[0mgroups\u001b[0m\u001b[0;34m(\u001b[0m\u001b[0;34m)\u001b[0m\u001b[0;34m[\u001b[0m\u001b[0;36m0\u001b[0m\u001b[0;34m]\u001b[0m\u001b[0;34m)\u001b[0m\u001b[0;34m)\u001b[0m\u001b[0;34m\u001b[0m\u001b[0;34m\u001b[0m\u001b[0m\n\u001b[0m\u001b[1;32m    473\u001b[0m \u001b[0;34m\u001b[0m\u001b[0m\n\u001b[1;32m    474\u001b[0m                         \u001b[0mdatafile\u001b[0m \u001b[0;34m=\u001b[0m \u001b[0;36m1\u001b[0m\u001b[0;34m\u001b[0m\u001b[0;34m\u001b[0m\u001b[0m\n",
      "\u001b[0;31mInteractivelyDefined\u001b[0m: 73"
     ]
    }
   ],
   "source": [
    "edit my_func"
   ]
  },
  {
   "cell_type": "code",
   "execution_count": 75,
   "metadata": {},
   "outputs": [
    {
     "name": "stdout",
     "output_type": "stream",
     "text": [
      "=== Executing: ===\n",
      "%edit 67\n",
      "edit /tmp/ipython_edit_0a_nn7ty/ipython_edit_iq44bmgh.py\n",
      "edit /tmp/ipython_edit_05b5rj2a/ipython_edit_qdl0u1eh.py\n",
      "def my_func():\n",
      "    pass\n",
      "edit my_func\n",
      "=== Output: ===\n"
     ]
    },
    {
     "ename": "SyntaxError",
     "evalue": "invalid syntax (<ipython-input-75-26f4f6a7a79f>, line 6)",
     "output_type": "error",
     "traceback": [
      "\u001b[0;36m  File \u001b[0;32m\"<ipython-input-75-26f4f6a7a79f>\"\u001b[0;36m, line \u001b[0;32m6\u001b[0m\n\u001b[0;31m    edit my_func\u001b[0m\n\u001b[0m               ^\u001b[0m\n\u001b[0;31mSyntaxError\u001b[0m\u001b[0;31m:\u001b[0m invalid syntax\n"
     ]
    }
   ],
   "source": [
    "rerun -l 5"
   ]
  },
  {
   "cell_type": "code",
   "execution_count": 76,
   "metadata": {},
   "outputs": [],
   "source": [
    "save?"
   ]
  },
  {
   "cell_type": "code",
   "execution_count": 77,
   "metadata": {},
   "outputs": [
    {
     "name": "stdout",
     "output_type": "stream",
     "text": [
      "The following commands were written to file `history_test.txt.py`:\n",
      "get_ipython().run_line_magic('rerun', '-l 5')\n"
     ]
    }
   ],
   "source": [
    "save -a history_test.txt 75 "
   ]
  },
  {
   "cell_type": "code",
   "execution_count": 78,
   "metadata": {},
   "outputs": [
    {
     "name": "stdout",
     "output_type": "stream",
     "text": [
      "# coding: utf-8\r\n",
      "get_ipython().run_line_magic('rerun', '-l 5')\r\n"
     ]
    }
   ],
   "source": [
    "cat history_test.txt.py\n"
   ]
  },
  {
   "cell_type": "code",
   "execution_count": 79,
   "metadata": {},
   "outputs": [
    {
     "name": "stdout",
     "output_type": "stream",
     "text": [
      "=== Executing: ===\n",
      "edit my_func\n",
      "rerun -l 5\n",
      "save?\n",
      "save -a history_test.txt 75 \n",
      "cat history_test.txt.py\n",
      "=== Output: ===\n"
     ]
    },
    {
     "ename": "SyntaxError",
     "evalue": "invalid syntax (<ipython-input-79-0848164b9f10>, line 1)",
     "output_type": "error",
     "traceback": [
      "\u001b[0;36m  File \u001b[0;32m\"<ipython-input-79-0848164b9f10>\"\u001b[0;36m, line \u001b[0;32m1\u001b[0m\n\u001b[0;31m    edit my_func\u001b[0m\n\u001b[0m               ^\u001b[0m\n\u001b[0;31mSyntaxError\u001b[0m\u001b[0;31m:\u001b[0m invalid syntax\n"
     ]
    },
    {
     "data": {
      "text/plain": [
       "<Figure size 432x288 with 0 Axes>"
      ]
     },
     "metadata": {},
     "output_type": "display_data"
    }
   ],
   "source": [
    "run history_test.txt.py"
   ]
  },
  {
   "cell_type": "code",
   "execution_count": 80,
   "metadata": {},
   "outputs": [
    {
     "name": "stdout",
     "output_type": "stream",
     "text": [
      "3\n"
     ]
    }
   ],
   "source": [
    "x=1\n",
    "y=2\n",
    "print(x+y)"
   ]
  },
  {
   "cell_type": "code",
   "execution_count": 81,
   "metadata": {},
   "outputs": [
    {
     "name": "stdout",
     "output_type": "stream",
     "text": [
      "Macro `my_first_macro` created. To execute, type its name (without quotes).\n",
      "=== Macro contents: ===\n",
      "x=1\n",
      "y=2\n",
      "print(x+y)\n",
      " "
     ]
    }
   ],
   "source": [
    "macro my_first_macro 80"
   ]
  },
  {
   "cell_type": "code",
   "execution_count": 82,
   "metadata": {},
   "outputs": [
    {
     "name": "stdout",
     "output_type": "stream",
     "text": [
      "3\n"
     ]
    }
   ],
   "source": [
    "my_first_macro"
   ]
  },
  {
   "cell_type": "code",
   "execution_count": 83,
   "metadata": {},
   "outputs": [
    {
     "name": "stdout",
     "output_type": "stream",
     "text": [
      "total 320\r\n",
      "-rw-rw-r-- 1 dsc 183676 may  4 08:21  04_Master_04_v15_class.ipynb\r\n",
      "-rw-rw-r-- 1 dsc 105315 may  5 20:33  04_Master_lesson_bdc.ipynb\r\n",
      "-rw-rw-r-- 1 dsc   2019 may  5 08:48  centenario_func.ipynb\r\n",
      "-rwxrwxrwx 1 dsc     89 may  4 10:56  \u001b[0m\u001b[01;32mhello.py\u001b[0m*\r\n",
      "-rw-rw-r-- 1 dsc     33 abr 26 07:33  hello_world.py\r\n",
      "-rw-rw-r-- 1 dsc   3475 may  5 20:16  history_test.txt\r\n",
      "-rw-rw-r-- 1 dsc     62 may  5 20:27  history_test.txt.py\r\n",
      "drwxrwxr-x 2 dsc   4096 may  4 08:03  \u001b[01;34mimages\u001b[0m/\r\n",
      "drwxrwxr-x 2 dsc   4096 may  4 11:02  \u001b[01;34m__pycache__\u001b[0m/\r\n",
      "-rw-rw-r-- 1 dsc   3477 may  5 11:54 'Quick exercises 2_count.ipynb'\r\n",
      "-rw-rw-r-- 1 dsc    555 may  4 12:23  Untitled.ipynb\r\n"
     ]
    }
   ],
   "source": [
    "ll"
   ]
  },
  {
   "cell_type": "code",
   "execution_count": 84,
   "metadata": {},
   "outputs": [],
   "source": [
    "macro?"
   ]
  },
  {
   "cell_type": "code",
   "execution_count": 86,
   "metadata": {
    "scrolled": true
   },
   "outputs": [
    {
     "name": "stdout",
     "output_type": "stream",
     "text": [
      "x=1\n",
      "y=2\n",
      "print(x+y)\n",
      "\n"
     ]
    }
   ],
   "source": [
    "print(my_first_macro)"
   ]
  },
  {
   "cell_type": "markdown",
   "metadata": {},
   "source": [
    "# To store variables/macros\n",
    "To recover when you open the session again: %store -r"
   ]
  },
  {
   "cell_type": "code",
   "execution_count": 87,
   "metadata": {},
   "outputs": [],
   "source": [
    "store?"
   ]
  },
  {
   "cell_type": "code",
   "execution_count": 88,
   "metadata": {},
   "outputs": [
    {
     "name": "stdout",
     "output_type": "stream",
     "text": [
      "N\t a\t area\t b\t colors\t d\t e\t f\t func\t \n",
      "function_to_implement\t g\t hello\t home_dir\t lista\t my_first_macro\t my_func\t my_function\t np\t \n",
      "os\t outer_function\t plt\t random\t return_value\t sequence\t total\t value\t x\t \n",
      "y\t \n"
     ]
    }
   ],
   "source": [
    "%who"
   ]
  },
  {
   "cell_type": "code",
   "execution_count": 89,
   "metadata": {},
   "outputs": [
    {
     "data": {
      "text/plain": [
       "['N',\n",
       " 'a',\n",
       " 'area',\n",
       " 'b',\n",
       " 'colors',\n",
       " 'd',\n",
       " 'e',\n",
       " 'f',\n",
       " 'func',\n",
       " 'function_to_implement',\n",
       " 'g',\n",
       " 'hello',\n",
       " 'home_dir',\n",
       " 'lista',\n",
       " 'my_first_macro',\n",
       " 'my_func',\n",
       " 'my_function',\n",
       " 'np',\n",
       " 'os',\n",
       " 'outer_function',\n",
       " 'plt',\n",
       " 'random',\n",
       " 'return_value',\n",
       " 'sequence',\n",
       " 'total',\n",
       " 'value',\n",
       " 'x',\n",
       " 'y']"
      ]
     },
     "execution_count": 89,
     "metadata": {},
     "output_type": "execute_result"
    }
   ],
   "source": [
    "who_ls"
   ]
  },
  {
   "cell_type": "code",
   "execution_count": 90,
   "metadata": {},
   "outputs": [
    {
     "name": "stdout",
     "output_type": "stream",
     "text": [
      "Variable                Type        Data/Info\n",
      "---------------------------------------------\n",
      "N                       int         50\n",
      "a                       list        n=15\n",
      "area                    ndarray     50: 50 elems, type `float64`, 400 bytes\n",
      "b                       list        n=3\n",
      "colors                  ndarray     50: 50 elems, type `float64`, 400 bytes\n",
      "d                       int         5\n",
      "e                       int         6\n",
      "f                       function    <function f at 0x7fc2dfc8a0d0>\n",
      "func                    function    <function func at 0x7fc2dfc8ab70>\n",
      "function_to_implement   function    <function function_to_imp<...>lement at 0x7fc2f9f0a378>\n",
      "g                       int         7\n",
      "hello                   module      <module 'hello' from '/ho<...>thon_notebooks/hello.py'>\n",
      "home_dir                str         /home/dsc\n",
      "lista                   list        n=3\n",
      "my_first_macro          Macro       x=1\\ny=2\\nprint(x+y)\\n\n",
      "my_func                 function    <function my_func at 0x7fc2df5c5e18>\n",
      "my_function             function    <function my_function at 0x7fc2dfc81b70>\n",
      "np                      module      <module 'numpy' from '/ho<...>kages/numpy/__init__.py'>\n",
      "os                      module      <module 'os' from '/home/<...>da3/lib/python3.7/os.py'>\n",
      "outer_function          function    <function outer_function at 0x7fc2f9f27ea0>\n",
      "plt                     module      <module 'matplotlib.pyplo<...>es/matplotlib/pyplot.py'>\n",
      "random                  module      <module 'random' from '/h<...>lib/python3.7/random.py'>\n",
      "return_value            tuple       n=3\n",
      "sequence                list        n=6\n",
      "total                   int         504\n",
      "value                   int         5\n",
      "x                       int         1\n",
      "y                       int         2\n"
     ]
    }
   ],
   "source": [
    "whos"
   ]
  },
  {
   "cell_type": "code",
   "execution_count": 91,
   "metadata": {},
   "outputs": [],
   "source": [
    "xdel a"
   ]
  },
  {
   "cell_type": "code",
   "execution_count": 92,
   "metadata": {},
   "outputs": [
    {
     "name": "stdout",
     "output_type": "stream",
     "text": [
      "Variable                Type        Data/Info\n",
      "---------------------------------------------\n",
      "N                       int         50\n",
      "area                    ndarray     50: 50 elems, type `float64`, 400 bytes\n",
      "b                       list        n=3\n",
      "colors                  ndarray     50: 50 elems, type `float64`, 400 bytes\n",
      "d                       int         5\n",
      "e                       int         6\n",
      "f                       function    <function f at 0x7fc2dfc8a0d0>\n",
      "func                    function    <function func at 0x7fc2dfc8ab70>\n",
      "function_to_implement   function    <function function_to_imp<...>lement at 0x7fc2f9f0a378>\n",
      "g                       int         7\n",
      "hello                   module      <module 'hello' from '/ho<...>thon_notebooks/hello.py'>\n",
      "home_dir                str         /home/dsc\n",
      "lista                   list        n=3\n",
      "my_first_macro          Macro       x=1\\ny=2\\nprint(x+y)\\n\n",
      "my_func                 function    <function my_func at 0x7fc2df5c5e18>\n",
      "my_function             function    <function my_function at 0x7fc2dfc81b70>\n",
      "np                      module      <module 'numpy' from '/ho<...>kages/numpy/__init__.py'>\n",
      "os                      module      <module 'os' from '/home/<...>da3/lib/python3.7/os.py'>\n",
      "outer_function          function    <function outer_function at 0x7fc2f9f27ea0>\n",
      "plt                     module      <module 'matplotlib.pyplo<...>es/matplotlib/pyplot.py'>\n",
      "random                  module      <module 'random' from '/h<...>lib/python3.7/random.py'>\n",
      "return_value            tuple       n=3\n",
      "sequence                list        n=6\n",
      "total                   int         504\n",
      "value                   int         5\n",
      "x                       int         1\n",
      "y                       int         2\n"
     ]
    }
   ],
   "source": [
    "whos"
   ]
  },
  {
   "cell_type": "code",
   "execution_count": 93,
   "metadata": {},
   "outputs": [],
   "source": [
    "a=! ls *py"
   ]
  },
  {
   "cell_type": "code",
   "execution_count": 94,
   "metadata": {},
   "outputs": [
    {
     "data": {
      "text/plain": [
       "['hello.py', 'hello_world.py', 'history_test.txt.py']"
      ]
     },
     "execution_count": 94,
     "metadata": {},
     "output_type": "execute_result"
    }
   ],
   "source": [
    "a"
   ]
  },
  {
   "cell_type": "code",
   "execution_count": 95,
   "metadata": {},
   "outputs": [
    {
     "data": {
      "text/plain": [
       "IPython.utils.text.SList"
      ]
     },
     "execution_count": 95,
     "metadata": {},
     "output_type": "execute_result"
    }
   ],
   "source": [
    "type(a)"
   ]
  },
  {
   "cell_type": "code",
   "execution_count": 103,
   "metadata": {
    "scrolled": true
   },
   "outputs": [],
   "source": [
    "a.grep?"
   ]
  },
  {
   "cell_type": "code",
   "execution_count": 109,
   "metadata": {
    "scrolled": false
   },
   "outputs": [
    {
     "data": {
      "text/plain": [
       "['hello.py', 'hello_world.py', 'history_test.txt.py']"
      ]
     },
     "execution_count": 109,
     "metadata": {},
     "output_type": "execute_result"
    }
   ],
   "source": [
    "a.grep( lambda x: x.startswith('H'), prune=1)"
   ]
  },
  {
   "cell_type": "code",
   "execution_count": 108,
   "metadata": {},
   "outputs": [
    {
     "data": {
      "text/plain": [
       "['hello.py', 'hello_world.py']"
      ]
     },
     "execution_count": 108,
     "metadata": {},
     "output_type": "execute_result"
    }
   ],
   "source": [
    "a.grep('he.*')"
   ]
  },
  {
   "cell_type": "code",
   "execution_count": 110,
   "metadata": {},
   "outputs": [
    {
     "data": {
      "text/plain": [
       "'hello.py hello_world.py history_test.txt.py'"
      ]
     },
     "execution_count": 110,
     "metadata": {},
     "output_type": "execute_result"
    }
   ],
   "source": [
    "a.s"
   ]
  },
  {
   "cell_type": "code",
   "execution_count": 111,
   "metadata": {},
   "outputs": [
    {
     "data": {
      "text/plain": [
       "'hello.py\\nhello_world.py\\nhistory_test.txt.py'"
      ]
     },
     "execution_count": 111,
     "metadata": {},
     "output_type": "execute_result"
    }
   ],
   "source": [
    "a.n"
   ]
  },
  {
   "cell_type": "code",
   "execution_count": 112,
   "metadata": {},
   "outputs": [
    {
     "name": "stdout",
     "output_type": "stream",
     "text": [
      "  8 hello.py\r\n",
      "  1 hello_world.py\r\n",
      "  2 history_test.txt.py\r\n",
      " 11 total\r\n"
     ]
    }
   ],
   "source": [
    "!wc -l $a.s"
   ]
  },
  {
   "cell_type": "code",
   "execution_count": 113,
   "metadata": {},
   "outputs": [
    {
     "name": "stdout",
     "output_type": "stream",
     "text": [
      "{book}\r\n"
     ]
    }
   ],
   "source": [
    "! echo {book}"
   ]
  },
  {
   "cell_type": "code",
   "execution_count": 114,
   "metadata": {},
   "outputs": [],
   "source": [
    "book='Scary book'"
   ]
  },
  {
   "cell_type": "code",
   "execution_count": 115,
   "metadata": {},
   "outputs": [
    {
     "name": "stdout",
     "output_type": "stream",
     "text": [
      "Scary book\r\n"
     ]
    }
   ],
   "source": [
    "!echo {book}"
   ]
  },
  {
   "cell_type": "code",
   "execution_count": 116,
   "metadata": {},
   "outputs": [
    {
     "name": "stdout",
     "output_type": "stream",
     "text": [
      "Variable                Type        Data/Info\n",
      "---------------------------------------------\n",
      "N                       int         50\n",
      "a                       SList       ['hello.py', 'hello_world<...>', 'history_test.txt.py']\n",
      "area                    ndarray     50: 50 elems, type `float64`, 400 bytes\n",
      "b                       list        n=3\n",
      "book                    str         Scary book\n",
      "colors                  ndarray     50: 50 elems, type `float64`, 400 bytes\n",
      "d                       int         5\n",
      "e                       int         6\n",
      "f                       function    <function f at 0x7fc2dfc8a0d0>\n",
      "func                    function    <function func at 0x7fc2dfc8ab70>\n",
      "function_to_implement   function    <function function_to_imp<...>lement at 0x7fc2f9f0a378>\n",
      "g                       int         7\n",
      "hello                   module      <module 'hello' from '/ho<...>thon_notebooks/hello.py'>\n",
      "home_dir                str         /home/dsc\n",
      "lista                   list        n=3\n",
      "my_first_macro          Macro       x=1\\ny=2\\nprint(x+y)\\n\n",
      "my_func                 function    <function my_func at 0x7fc2df5c5e18>\n",
      "my_function             function    <function my_function at 0x7fc2dfc81b70>\n",
      "np                      module      <module 'numpy' from '/ho<...>kages/numpy/__init__.py'>\n",
      "os                      module      <module 'os' from '/home/<...>da3/lib/python3.7/os.py'>\n",
      "outer_function          function    <function outer_function at 0x7fc2f9f27ea0>\n",
      "plt                     module      <module 'matplotlib.pyplo<...>es/matplotlib/pyplot.py'>\n",
      "random                  module      <module 'random' from '/h<...>lib/python3.7/random.py'>\n",
      "return_value            tuple       n=3\n",
      "sequence                list        n=6\n",
      "total                   int         504\n",
      "value                   int         5\n",
      "x                       int         1\n",
      "y                       int         2\n"
     ]
    }
   ],
   "source": [
    "whos"
   ]
  },
  {
   "cell_type": "code",
   "execution_count": 117,
   "metadata": {},
   "outputs": [
    {
     "name": "stdout",
     "output_type": "stream",
     "text": [
      "total 344\r\n",
      "drwxrwxr-x  5 dsc   4096 may  5 20:59  \u001b[0m\u001b[01;34m.\u001b[0m/\r\n",
      "drwxr-xr-x 32 dsc   4096 may  5 20:12  \u001b[01;34m..\u001b[0m/\r\n",
      "-rw-rw-r--  1 dsc 183676 may  4 08:21  04_Master_04_v15_class.ipynb\r\n",
      "-rw-rw-r--  1 dsc 116467 may  5 20:59  04_Master_lesson_bdc.ipynb\r\n",
      "-rw-rw-r--  1 dsc   2019 may  5 08:48  centenario_func.ipynb\r\n",
      "-rwxrwxrwx  1 dsc     89 may  4 10:56  \u001b[01;32mhello.py\u001b[0m*\r\n",
      "-rw-rw-r--  1 dsc     33 abr 26 07:33  hello_world.py\r\n",
      "-rw-rw-r--  1 dsc   3475 may  5 20:16  history_test.txt\r\n",
      "-rw-rw-r--  1 dsc     62 may  5 20:27  history_test.txt.py\r\n",
      "drwxrwxr-x  2 dsc   4096 may  4 08:03  \u001b[01;34mimages\u001b[0m/\r\n",
      "drwxrwxr-x  2 dsc   4096 may  5 09:20  \u001b[01;34m.ipynb_checkpoints\u001b[0m/\r\n",
      "drwxrwxr-x  2 dsc   4096 may  4 11:02  \u001b[01;34m__pycache__\u001b[0m/\r\n",
      "-rw-rw-r--  1 dsc   3477 may  5 11:54 'Quick exercises 2_count.ipynb'\r\n",
      "-rw-rw-r--  1 dsc    555 may  4 12:23  Untitled.ipynb\r\n"
     ]
    }
   ],
   "source": [
    "ll -a"
   ]
  },
  {
   "cell_type": "code",
   "execution_count": 118,
   "metadata": {},
   "outputs": [
    {
     "name": "stdout",
     "output_type": "stream",
     "text": [
      "/home/dsc\n"
     ]
    }
   ],
   "source": [
    "cd .."
   ]
  },
  {
   "cell_type": "code",
   "execution_count": 119,
   "metadata": {},
   "outputs": [
    {
     "name": "stdout",
     "output_type": "stream",
     "text": [
      "/home/dsc/Data/shell\n"
     ]
    }
   ],
   "source": [
    "cd Data/shell/"
   ]
  },
  {
   "cell_type": "code",
   "execution_count": 120,
   "metadata": {},
   "outputs": [
    {
     "name": "stdout",
     "output_type": "stream",
     "text": [
      "total 648\r\n",
      "-rw-rw-r-- 1 dsc     12 abr  6 12:36 file_hello.txt\r\n",
      "-rw-rw-r-- 1 dsc 627563 abr  2  2018 Finn.txt\r\n",
      "-rw-rw-r-- 1 dsc     21 abr 12 18:15 numbers\r\n",
      "-rw-rw-r-- 1 dsc     15 abr 12 20:17 sunday.txt\r\n",
      "drwxrwxr-x 2 dsc   4096 may  1 08:49 \u001b[0m\u001b[01;34mtarr\u001b[0m/\r\n",
      "-rw-rw-r-- 1 dsc    240 abr 12 20:25 Text_example2.txt\r\n",
      "-rw-rw-r-- 1 dsc    240 may  1 08:48 Text_example.txt\r\n",
      "-rw-rw-r-- 1 dsc     31 abr 12 17:09 uniq_example.txt\r\n",
      "drwxrwxr-x 2 dsc   4096 abr 12 20:36 \u001b[01;34mzipped\u001b[0m/\r\n"
     ]
    }
   ],
   "source": [
    "ll"
   ]
  },
  {
   "cell_type": "code",
   "execution_count": 121,
   "metadata": {},
   "outputs": [],
   "source": [
    "path='Finn.txt'"
   ]
  },
  {
   "cell_type": "code",
   "execution_count": 122,
   "metadata": {},
   "outputs": [],
   "source": [
    "f=open(path)"
   ]
  },
  {
   "cell_type": "code",
   "execution_count": 124,
   "metadata": {},
   "outputs": [
    {
     "data": {
      "text/plain": [
       "'\\ufeff\\n\\nThe Project Gutenberg EBook of Adventures of Huckleberry Finn, Complete\\nby Mark Twain (Samuel Clemens)\\n\\nThis eBook is for the use of anyone anywhere at no cost and with almost\\nno restrictions whatsoever. You may copy it, give it away or re-use\\nit under the terms of the Project Gutenberg License included with this\\neBook or online at www.gutenberg.net\\n\\nTitle: Adventures of Huckleberry Finn, Complete\\n\\nAuthor: Mark Twain (Samuel Clemens)\\n\\nRelease Date: August 20, 2006 [EBook #76]\\n\\nLast Updated: August 17, 2016]\\n\\nLanguage: English\\n\\nCharacter set encoding: UTF-8\\n\\n*** START OF THIS PROJECT GUTENBERG EBOOK HUCKLEBERRY FINN ***\\n\\nProduced by David Widger\\n\\n\\n\\n\\n\\nADVENTURES\\n\\nOF\\n\\nHUCKLEBERRY FINN\\n\\n(Tom Sawyer’s Comrade)\\n\\nBy Mark Twain\\n\\nComplete\\n\\n\\n\\n\\nCONTENTS.\\n\\nCHAPTER I. Civilizing Huck.--Miss Watson.--Tom Sawyer Waits.\\n\\nCHAPTER II. The Boys Escape Jim.--Torn Sawyer’s Gang.--Deep-laid Plans.\\n\\nCHAPTER III. A Good Going-over.--Grace Triumphant.--“One of Tom Sawyers’s\\nLies”.\\n\\nCHAPTER IV. Huck and the Judge.--Superstition.\\n\\nCHAPTER V. Huck’s Father.--The Fond Parent.--Reform.\\n\\nCHAPTER VI. He Went for Judge Thatcher.--Huck Decided to Leave.--Political\\nEconomy.--Thrashing Around.\\n\\nCHAPTER VII. Laying for Him.--Locked in the Cabin.--Sinking the\\nBody.--Resting.\\n\\nCHAPTER VIII. Sleeping in the Woods.--Raising the Dead.--Exploring the\\nIsland.--Finding Jim.--Jim’s Escape.--Signs.--Balum.\\n\\nCHAPTER IX. The Cave.--The Floating House.\\n\\nCHAPTER X. The Find.--Old Hank Bunker.--In Disguise.\\n\\nCHAPTER XI. Huck and the Woman.--The Search.--Prevarication.--Going to\\nGoshen.\\n\\nCHAPTER XII. Slow Navigation.--Borrowing Things.--Boarding the Wreck.--The\\nPlotters.--Hunting for the Boat.\\n\\nCHAPTER XIII. Escaping from the Wreck.--The Watchman.--Sinking.\\n\\nCHAPTER XIV. A General Good Time.--The Harem.--French.\\n\\nCHAPTER XV. Huck Loses the Raft.--In the Fog.--Huck Finds the Raft.--Trash.\\n\\nCHAPTER XVI. Expectation.--A White Lie.--Floating Currency.--Running by\\nCairo.--Swimming Ashore.\\n\\nCHAPTER XVII. An Evening Call.--The Farm in Arkansaw.--Interior\\nDecorations.--Stephen Dowling Bots.--Poetical Effusions.\\n\\nCHAPTER XVIII. Col. Grangerford.--Aristocracy.--Feuds.--The\\nTestament.--Recovering the Raft.--The Wood--pile.--Pork and Cabbage.\\n\\nCHAPTER XIX. Tying Up Day--times.--An Astronomical Theory.--Running a\\nTemperance Revival.--The Duke of Bridgewater.--The Troubles of Royalty.\\n\\nCHAPTER XX. Huck Explains.--Laying Out a Campaign.--Working the\\nCamp--meeting.--A Pirate at the Camp--meeting.--The Duke as a Printer.\\n\\nCHAPTER XXI. Sword Exercise.--Hamlet’s Soliloquy.--They Loafed Around\\nTown.--A Lazy Town.--Old Boggs.--Dead.\\n\\nCHAPTER XXII. Sherburn.--Attending the Circus.--Intoxication in the\\nRing.--The Thrilling Tragedy.\\n\\nCHAPTER XXIII. Sold.--Royal Comparisons.--Jim Gets Home-sick.\\n\\nCHAPTER XXIV. Jim in Royal Robes.--They Take a Passenger.--Getting\\nInformation.--Family Grief.\\n\\nCHAPTER XXV. Is It Them?--Singing the “Doxologer.”--Awful Square--Funeral\\nOrgies.--A Bad Investment .\\n\\nCHAPTER XXVI. A Pious King.--The King’s Clergy.--She Asked His\\nPardon.--Hiding in the Room.--Huck Takes the Money.\\n\\nCHAPTER XXVII. The Funeral.--Satisfying Curiosity.--Suspicious of\\nHuck,--Quick Sales and Small.\\n\\nCHAPTER XXVIII. The Trip to England.--“The Brute!”--Mary Jane Decides to\\nLeave.--Huck Parting with Mary Jane.--Mumps.--The Opposition Line.\\n\\nCHAPTER XXIX. Contested Relationship.--The King Explains the Loss.--A\\nQuestion of Handwriting.--Digging up the Corpse.--Huck Escapes.\\n\\nCHAPTER XXX. The King Went for Him.--A Royal Row.--Powerful Mellow.\\n\\nCHAPTER XXXI. Ominous Plans.--News from Jim.--Old Recollections.--A Sheep\\nStory.--Valuable Information.\\n\\nCHAPTER XXXII. Still and Sunday--like.--Mistaken Identity.--Up a Stump.--In\\na Dilemma.\\n\\nCHAPTER XXXIII. A Nigger Stealer.--Southern Hospitality.--A Pretty Long\\nBlessing.--Tar and Feathers.\\n\\nCHAPTER XXXIV. The Hut by the Ash Hopper.--Outrageous.--Climbing the\\nLightning Rod.--Troubled with Witches.\\n\\nCHAPTER XXXV. Escaping Properly.--Dark Schemes.--Discrimination in\\nStealing.--A Deep Hole.\\n\\nCHAPTER XXXVI. The Lightning Rod.--His Level Best.--A Bequest to\\nPosterity.--A High Figure.\\n\\nCHAPTER XXXVII. The Last Shirt.--Mooning Around.--Sailing Orders.--The\\nWitch Pie.\\n\\nCHAPTER XXXVIII. The Coat of Arms.--A Skilled Superintendent.--Unpleasant\\nGlory.--A Tearful Subject.\\n\\nCHAPTER XXXIX. Rats.--Lively Bed--fellows.--The Straw Dummy.\\n\\nCHAPTER XL. Fishing.--The Vigilance Committee.--A Lively Run.--Jim Advises\\na Doctor.\\n\\nCHAPTER XLI. The Doctor.--Uncle Silas.--Sister Hotchkiss.--Aunt Sally in\\nTrouble.\\n\\nCHAPTER XLII. Tom Sawyer Wounded.--The Doctor’s Story.--Tom\\nConfesses.--Aunt Polly Arrives.--Hand Out Them Letters \\xa0\\xa0\\xa0.\\n\\nCHAPTER THE LAST. Out of Bondage.--Paying the Captive.--Yours Truly, Huck\\nFinn.\\n\\n\\n\\n\\nILLUSTRATIONS.\\n\\nThe Widows\\n\\nMoses and the “Bulrushers”\\n\\nMiss Watson\\n\\nHuck Stealing Away\\n\\nThey Tip-toed Along\\n\\nJim\\n\\nTom Sawyer’s Band of Robbers\\xa0\\xa0\\n\\nHuck Creeps into his Window\\n\\nMiss Watson’s Lecture\\n\\nThe Robbers Dispersed\\n\\nRubbing the Lamp\\n\\n! ! ! !\\n\\nJudge Thatcher surprised\\n\\nJim Listening\\n\\n“Pap”\\n\\nHuck and his Father\\n\\nReforming the Drunkard\\n\\nFalling from Grace\\n\\nThe Widows\\n\\nMoses and the “Bulrushers”\\n\\nMiss Watson\\n\\nHuck Stealing Away\\n\\nThey Tip-toed Along\\n\\nJim\\n\\nTom Sawyer’s Band of Robbers\\xa0\\xa0\\n\\nHuck Creeps into his Window\\n\\nMiss Watson’s Lecture\\n\\nThe Robbers Dispersed\\n\\nRubbing the Lamp\\n\\n! ! ! !\\n\\nJudge Thatcher surprised\\n\\nJim Listening\\n\\n“Pap”\\n\\nHuck and his Father\\n\\nReforming the Drunkard\\n\\nFalling from Grace\\n\\nGetting out of the Way\\n\\nSolid Comfort\\n\\nThinking it Over\\n\\nRaising a Howl\\n\\n“Git Up”\\n\\nThe Shanty\\n\\nShooting the Pig\\n\\nTaking a Rest\\n\\nIn the Woods\\n\\nWatching the Boat\\n\\nDiscovering the Camp Fire\\n\\nJim and the Ghost\\n\\nMisto Bradish’s Nigger\\n\\nExploring the Cave\\n\\nIn the Cave\\n\\nJim sees a Dead Man\\n\\nThey Found Eight Dollars\\n\\nJim and the Snake\\n\\nOld Hank Bunker\\n\\n“A Fair Fit”\\n\\n“Come In”\\n\\n“Him and another Man”\\n\\nShe puts up a Snack\\n\\n“Hump Yourself”\\n\\nOn the Raft\\n\\nHe sometimes Lifted a Chicken\\n\\n“Please don’t, Bill”\\n\\n“It ain’t Good Morals”\\n\\n“Oh! Lordy, Lordy!”\\n\\nIn a Fix\\n\\n“Hello, What’s Up?”\\n\\nThe Wreck\\n\\nWe turned in and Slept\\n\\nTurning over the Truck\\n\\nSolomon and his Million Wives\\n\\nThe story of “Sollermun”\\n\\n“We Would Sell the Raft”\\n\\nAmong the Snags\\n\\nAsleep on the Raft\\n\\n“Something being Raftsman”\\n\\n“Boy, that’s a Lie”\\n\\n“Here I is, Huck”\\n\\nClimbing up the Bank\\n\\n“Who’s There?”\\n\\n“Buck”\\n\\n“It made Her look Spidery”\\n\\n“They got him out and emptied Him” \\xa0\\n\\nThe House\\n\\nCol. Grangerford\\n\\nYoung Harney Shepherdson\\n\\nMiss Charlotte\\n\\n“And asked me if I Liked Her”\\n\\n“Behind the Wood-pile”\\n\\nHiding Day-times\\n\\n“And Dogs a-Coming”\\n\\n“By rights I am a Duke!”\\n\\n“I am the Late Dauphin”\\n\\nTail Piece\\n\\nOn the Raft\\n\\nThe King as Juliet\\n\\n“Courting on the Sly”\\n\\n“A Pirate for Thirty Years”\\n\\nAnother little Job\\n\\nPractizing\\n\\nHamlet’s Soliloquy\\n\\n“Gimme a Chaw”\\n\\nA Little Monthly Drunk\\n\\nThe Death of Boggs\\n\\nSherburn steps out\\n\\nA Dead Head\\n\\nHe shed Seventeen Suits\\n\\nTragedy\\n\\nTheir Pockets Bulged\\n\\nHenry the Eighth in Boston Harbor\\n\\nHarmless\\n\\nAdolphus\\n\\nHe fairly emptied that Young Fellow\\n\\n“Alas, our Poor Brother”\\n\\n“You Bet it is”\\n\\nLeaking\\n\\nMaking up the “Deffisit”\\n\\nGoing for him\\n\\nThe Doctor\\n\\nThe Bag of Money\\n\\nThe Cubby\\n\\nSupper with the Hare-Lip\\n\\nHonest Injun\\n\\nThe Duke looks under the Bed\\n\\nHuck takes the Money\\n\\nA Crack in the Dining-room Door\\n\\nThe Undertaker\\n\\n“He had a Rat!”\\n\\n“Was you in my Room?”\\n\\nJawing\\n\\nIn Trouble\\n\\nIndignation\\n\\nHow to Find Them\\n\\nHe Wrote\\n\\nHannah with the Mumps\\n\\nThe Auction\\n\\nThe True Brothers\\n\\nThe Doctor leads Huck\\n\\nThe Duke Wrote\\n\\n“Gentlemen, Gentlemen!”\\n\\n“Jim Lit Out”\\n\\nThe King shakes Huck\\n\\nThe Duke went for Him\\n\\nSpanish Moss\\n\\n“Who Nailed Him?”\\n\\nThinking\\n\\nHe gave him Ten Cents\\n\\nStriking for the Back Country\\n\\nStill and Sunday-like\\n\\nShe hugged him tight\\n\\n“Who do you reckon it is?”\\n\\n“It was Tom Sawyer”\\n\\n“Mr. Archibald Nichols, I presume?”\\n\\nA pretty long Blessing\\n\\nTraveling By Rail\\n\\nVittles\\n\\nA Simple Job\\n\\nWitches\\n\\nGetting Wood\\n\\nOne of the Best Authorities\\n\\nThe Breakfast-Horn\\n\\nSmouching the Knives\\n\\nGoing down the Lightning-Rod\\n\\nStealing spoons\\n\\nTom advises a Witch Pie\\n\\nThe Rubbage-Pile\\n\\n“Missus, dey’s a Sheet Gone”\\n\\nIn a Tearing Way\\n\\nOne of his Ancestors\\n\\nJim’s Coat of Arms\\n\\nA Tough Job\\n\\nButtons on their Tails\\n\\nIrrigation\\n\\nKeeping off Dull Times\\n\\nSawdust Diet\\n\\nTrouble is Brewing\\n\\nFishing\\n\\nEvery one had a Gun\\n\\nTom caught on a Splinter\\n\\nJim advises a Doctor\\n\\nThe Doctor\\n\\nUncle Silas in Danger\\n\\nOld Mrs. Hotchkiss\\n\\nAunt Sally talks to Huck\\n\\nTom Sawyer wounded\\n\\nThe Doctor speaks for Jim\\n\\nTom rose square up in Bed\\n\\n“Hand out them Letters”\\n\\nOut of Bondage\\n\\nTom’s Liberality\\n\\nYours Truly\\n\\n\\n\\n\\nEXPLANATORY\\n\\nIN this book a number of dialects are used, to wit: \\xa0the Missouri negro\\ndialect; the extremest form of the backwoods Southwestern dialect; the\\nordinary “Pike County” dialect; and four modified varieties of this\\nlast. The shadings have not been done in a haphazard fashion, or by\\nguesswork; but painstakingly, and with the trustworthy guidance and\\nsupport of personal familiarity with these several forms of speech.\\n\\nI make this explanation for the reason that without it many readers\\nwould suppose that all these characters were trying to talk alike and\\nnot succeeding.\\n\\nTHE AUTHOR.\\n\\n\\n\\n\\nHUCKLEBERRY FINN\\n\\nScene: \\xa0The Mississippi Valley Time: \\xa0Forty to fifty years ago\\n\\n\\n\\n\\nCHAPTER I.\\n\\nYOU don’t know about me without you have read a book by the name of The\\nAdventures of Tom Sawyer; but that ain’t no matter. \\xa0That book was made\\nby Mr. Mark Twain, and he told the truth, mainly. \\xa0There was things\\nwhich he stretched, but mainly he told the truth. \\xa0That is nothing. \\xa0I\\nnever seen anybody but lied one time or another, without it was Aunt\\nPolly, or the widow, or maybe Mary. \\xa0Aunt Polly--Tom’s Aunt Polly, she\\nis--and Mary, and the Widow Douglas is all told about in that book, which\\nis mostly a true book, with some stretchers, as I said before.\\n\\nNow the way that the book winds up is this: \\xa0Tom and me found the money\\nthat the robbers hid in the cave, and it made us rich. \\xa0We got six\\nthousand dollars apiece--all gold. \\xa0It was an awful sight of money when\\nit was piled up. \\xa0Well, Judge Thatcher he took it and put it out\\nat interest, and it fetched us a dollar a day apiece all the year\\nround--more than a body could tell what to do with. \\xa0The Widow Douglas\\nshe took me for her son, and allowed she would sivilize me; but it was\\nrough living in the house all the time, considering how dismal regular\\nand decent the widow was in all her ways; and so when I couldn’t stand\\nit no longer I lit out. \\xa0I got into my old rags and my sugar-hogshead\\nagain, and was free and satisfied. \\xa0But Tom Sawyer he hunted me up and\\nsaid he was going to start a band of robbers, and I might join if I\\nwould go back to the widow and be respectable. \\xa0So I went back.\\n\\nThe widow she cried over me, and called me a poor lost lamb, and she\\ncalled me a lot of other names, too, but she never meant no harm by\\nit. She put me in them new clothes again, and I couldn’t do nothing but\\nsweat and sweat, and feel all cramped up. \\xa0Well, then, the old thing\\ncommenced again. \\xa0The widow rung a bell for supper, and you had to come\\nto time. When you got to the table you couldn’t go right to eating, but\\nyou had to wait for the widow to tuck down her head and grumble a little\\nover the victuals, though there warn’t really anything the matter with\\nthem,--that is, nothing only everything was cooked by itself. \\xa0In a\\nbarrel of odds and ends it is different; things get mixed up, and the\\njuice kind of swaps around, and the things go better.\\n\\nAfter supper she got out her book and learned me about Moses and the\\nBulrushers, and I was in a sweat to find out all about him; but by and\\nby she let it out that Moses had been dead a considerable long time; so\\nthen I didn’t care no more about him, because I don’t take no stock in\\ndead people.\\n\\nPretty soon I wanted to smoke, and asked the widow to let me. \\xa0But she\\nwouldn’t. \\xa0She said it was a mean practice and wasn’t clean, and I must\\ntry to not do it any more. \\xa0That is just the way with some people. \\xa0They\\nget down on a thing when they don’t know nothing about it. \\xa0Here she was\\na-bothering about Moses, which was no kin to her, and no use to anybody,\\nbeing gone, you see, yet finding a power of fault with me for doing a\\nthing that had some good in it. \\xa0And she took snuff, too; of course that\\nwas all right, because she done it herself.\\n\\nHer sister, Miss Watson, a tolerable slim old maid, with goggles on,\\nhad just come to live with her, and took a set at me now with a\\nspelling-book. She worked me middling hard for about an hour, and then\\nthe widow made her ease up. \\xa0I couldn’t stood it much longer. \\xa0Then for\\nan hour it was deadly dull, and I was fidgety. \\xa0Miss Watson would say,\\n“Don’t put your feet up there, Huckleberry;” and “Don’t scrunch up\\nlike that, Huckleberry--set up straight;” and pretty soon she would\\nsay, “Don’t gap and stretch like that, Huckleberry--why don’t you try to\\nbehave?” \\xa0Then she told me all about the bad place, and I said I wished\\nI was there. She got mad then, but I didn’t mean no harm. \\xa0All I wanted\\nwas to go somewheres; all I wanted was a change, I warn’t particular.\\n\\xa0She said it was wicked to say what I said; said she wouldn’t say it for\\nthe whole world; she was going to live so as to go to the good place.\\n\\xa0Well, I couldn’t see no advantage in going where she was going, so I\\nmade up my mind I wouldn’t try for it. \\xa0But I never said so, because it\\nwould only make trouble, and wouldn’t do no good.\\n\\nNow she had got a start, and she went on and told me all about the good\\nplace. \\xa0She said all a body would have to do there was to go around all\\nday long with a harp and sing, forever and ever. \\xa0So I didn’t think\\nmuch of it. But I never said so. \\xa0I asked her if she reckoned Tom Sawyer\\nwould go there, and she said not by a considerable sight. \\xa0I was glad\\nabout that, because I wanted him and me to be together.\\n\\nMiss Watson she kept pecking at me, and it got tiresome and lonesome.\\n\\xa0By and by they fetched the niggers in and had prayers, and then\\neverybody was off to bed. \\xa0I went up to my room with a piece of candle,\\nand put it on the table. \\xa0Then I set down in a chair by the window and\\ntried to think of something cheerful, but it warn’t no use. \\xa0I felt\\nso lonesome I most wished I was dead. \\xa0The stars were shining, and the\\nleaves rustled in the woods ever so mournful; and I heard an owl, away\\noff, who-whooing about somebody that was dead, and a whippowill and a\\ndog crying about somebody that was going to die; and the wind was trying\\nto whisper something to me, and I couldn’t make out what it was, and so\\nit made the cold shivers run over me. Then away out in the woods I heard\\nthat kind of a sound that a ghost makes when it wants to tell about\\nsomething that’s on its mind and can’t make itself understood, and so\\ncan’t rest easy in its grave, and has to go about that way every night\\ngrieving. \\xa0I got so down-hearted and scared I did wish I had some\\ncompany. \\xa0Pretty soon a spider went crawling up my shoulder, and I\\nflipped it off and it lit in the candle; and before I could budge it\\nwas all shriveled up. \\xa0I didn’t need anybody to tell me that that was\\nan awful bad sign and would fetch me some bad luck, so I was scared\\nand most shook the clothes off of me. I got up and turned around in my\\ntracks three times and crossed my breast every time; and then I tied\\nup a little lock of my hair with a thread to keep witches away. \\xa0But\\nI hadn’t no confidence. \\xa0You do that when you’ve lost a horseshoe that\\nyou’ve found, instead of nailing it up over the door, but I hadn’t ever\\nheard anybody say it was any way to keep off bad luck when you’d killed\\na spider.\\n\\nI set down again, a-shaking all over, and got out my pipe for a smoke;\\nfor the house was all as still as death now, and so the widow wouldn’t\\nknow. Well, after a long time I heard the clock away off in the town\\ngo boom--boom--boom--twelve licks; and all still again--stiller than\\never. Pretty soon I heard a twig snap down in the dark amongst the\\ntrees--something was a stirring. \\xa0I set still and listened. \\xa0Directly I\\ncould just barely hear a “me-yow! me-yow!” down there. \\xa0That was good!\\n\\xa0Says I, “me-yow! me-yow!” as soft as I could, and then I put out the\\nlight and scrambled out of the window on to the shed. \\xa0Then I slipped\\ndown to the ground and crawled in among the trees, and, sure enough,\\nthere was Tom Sawyer waiting for me.\\n\\n\\n\\n\\nCHAPTER II.\\n\\nWE went tiptoeing along a path amongst the trees back towards the end of\\nthe widow’s garden, stooping down so as the branches wouldn’t scrape our\\nheads. When we was passing by the kitchen I fell over a root and made\\na noise. \\xa0We scrouched down and laid still. \\xa0Miss Watson’s big nigger,\\nnamed Jim, was setting in the kitchen door; we could see him pretty\\nclear, because there was a light behind him. \\xa0He got up and stretched\\nhis neck out about a minute, listening. \\xa0Then he says:\\n\\n“Who dah?”\\n\\nHe listened some more; then he come tiptoeing down and stood right\\nbetween us; we could a touched him, nearly. \\xa0Well, likely it was\\nminutes and minutes that there warn’t a sound, and we all there so close\\ntogether. \\xa0There was a place on my ankle that got to itching, but I\\ndasn’t scratch it; and then my ear begun to itch; and next my back,\\nright between my shoulders. \\xa0Seemed like I’d die if I couldn’t scratch.\\n\\xa0Well, I’ve noticed that thing plenty times since. \\xa0If you are with\\nthe quality, or at a funeral, or trying to go to sleep when you ain’t\\nsleepy--if you are anywheres where it won’t do for you to scratch, why\\nyou will itch all over in upwards of a thousand places. Pretty soon Jim\\nsays:\\n\\n“Say, who is you? \\xa0Whar is you? \\xa0Dog my cats ef I didn’ hear sumf’n.\\nWell, I know what I’s gwyne to do: \\xa0I’s gwyne to set down here and\\nlisten tell I hears it agin.”\\n\\nSo he set down on the ground betwixt me and Tom. \\xa0He leaned his back up\\nagainst a tree, and stretched his legs out till one of them most touched\\none of mine. \\xa0My nose begun to itch. \\xa0It itched till the tears come into\\nmy eyes. \\xa0But I dasn’t scratch. \\xa0Then it begun to itch on the inside.\\nNext I got to itching underneath. \\xa0I didn’t know how I was going to set\\nstill. This miserableness went on as much as six or seven minutes; but\\nit seemed a sight longer than that. \\xa0I was itching in eleven different\\nplaces now. \\xa0I reckoned I couldn’t stand it more’n a minute longer,\\nbut I set my teeth hard and got ready to try. \\xa0Just then Jim begun\\nto breathe heavy; next he begun to snore--and then I was pretty soon\\ncomfortable again.\\n\\nTom he made a sign to me--kind of a little noise with his mouth--and we\\nwent creeping away on our hands and knees. \\xa0When we was ten foot off Tom\\nwhispered to me, and wanted to tie Jim to the tree for fun. \\xa0But I said\\nno; he might wake and make a disturbance, and then they’d find out I\\nwarn’t in. Then Tom said he hadn’t got candles enough, and he would slip\\nin the kitchen and get some more. \\xa0I didn’t want him to try. \\xa0I said Jim\\nmight wake up and come. \\xa0But Tom wanted to resk it; so we slid in there\\nand got three candles, and Tom laid five cents on the table for pay.\\nThen we got out, and I was in a sweat to get away; but nothing would do\\nTom but he must crawl to where Jim was, on his hands and knees, and play\\nsomething on him. \\xa0I waited, and it seemed a good while, everything was\\nso still and lonesome.\\n\\nAs soon as Tom was back we cut along the path, around the garden fence,\\nand by and by fetched up on the steep top of the hill the other side of\\nthe house. \\xa0Tom said he slipped Jim’s hat off of his head and hung it\\non a limb right over him, and Jim stirred a little, but he didn’t wake.\\nAfterwards Jim said the witches be witched him and put him in a trance,\\nand rode him all over the State, and then set him under the trees again,\\nand hung his hat on a limb to show who done it. \\xa0And next time Jim told\\nit he said they rode him down to New Orleans; and, after that, every\\ntime he told it he spread it more and more, till by and by he said they\\nrode him all over the world, and tired him most to death, and his back\\nwas all over saddle-boils. \\xa0Jim was monstrous proud about it, and he\\ngot so he wouldn’t hardly notice the other niggers. \\xa0Niggers would come\\nmiles to hear Jim tell about it, and he was more looked up to than any\\nnigger in that country. \\xa0Strange niggers would stand with their mouths\\nopen and look him all over, same as if he was a wonder. \\xa0Niggers is\\nalways talking about witches in the dark by the kitchen fire; but\\nwhenever one was talking and letting on to know all about such things,\\nJim would happen in and say, “Hm! \\xa0What you know ‘bout witches?” and\\nthat nigger was corked up and had to take a back seat. \\xa0Jim always kept\\nthat five-center piece round his neck with a string, and said it was a\\ncharm the devil give to him with his own hands, and told him he could\\ncure anybody with it and fetch witches whenever he wanted to just by\\nsaying something to it; but he never told what it was he said to it.\\n\\xa0Niggers would come from all around there and give Jim anything they\\nhad, just for a sight of that five-center piece; but they wouldn’t touch\\nit, because the devil had had his hands on it. \\xa0Jim was most ruined for\\na servant, because he got stuck up on account of having seen the devil\\nand been rode by witches.\\n\\nWell, when Tom and me got to the edge of the hilltop we looked away down\\ninto the village and could see three or four lights twinkling, where\\nthere was sick folks, maybe; and the stars over us was sparkling ever\\nso fine; and down by the village was the river, a whole mile broad, and\\nawful still and grand. \\xa0We went down the hill and found Jo Harper and\\nBen Rogers, and two or three more of the boys, hid in the old tanyard.\\n\\xa0So we unhitched a skiff and pulled down the river two mile and a half,\\nto the big scar on the hillside, and went ashore.\\n\\nWe went to a clump of bushes, and Tom made everybody swear to keep the\\nsecret, and then showed them a hole in the hill, right in the thickest\\npart of the bushes. \\xa0Then we lit the candles, and crawled in on our\\nhands and knees. \\xa0We went about two hundred yards, and then the cave\\nopened up. Tom poked about amongst the passages, and pretty soon ducked\\nunder a wall where you wouldn’t a noticed that there was a hole. \\xa0We\\nwent along a narrow place and got into a kind of room, all damp and\\nsweaty and cold, and there we stopped. \\xa0Tom says:\\n\\n“Now, we’ll start this band of robbers and call it Tom Sawyer’s Gang.\\nEverybody that wants to join has got to take an oath, and write his name\\nin blood.”\\n\\nEverybody was willing. \\xa0So Tom got out a sheet of paper that he had\\nwrote the oath on, and read it. \\xa0It swore every boy to stick to the\\nband, and never tell any of the secrets; and if anybody done anything to\\nany boy in the band, whichever boy was ordered to kill that person and\\nhis family must do it, and he mustn’t eat and he mustn’t sleep till he\\nhad killed them and hacked a cross in their breasts, which was the sign\\nof the band. And nobody that didn’t belong to the band could use that\\nmark, and if he did he must be sued; and if he done it again he must be\\nkilled. \\xa0And if anybody that belonged to the band told the secrets, he\\nmust have his throat cut, and then have his carcass burnt up and the\\nashes scattered all around, and his name blotted off of the list with\\nblood and never mentioned again by the gang, but have a curse put on it\\nand be forgot forever.\\n\\nEverybody said it was a real beautiful oath, and asked Tom if he got\\nit out of his own head. \\xa0He said, some of it, but the rest was out of\\npirate-books and robber-books, and every gang that was high-toned had\\nit.\\n\\nSome thought it would be good to kill the _families_ of boys that told\\nthe secrets. \\xa0Tom said it was a good idea, so he took a pencil and wrote\\nit in. Then Ben Rogers says:\\n\\n“Here’s Huck Finn, he hain’t got no family; what you going to do ‘bout\\nhim?”\\n\\n“Well, hain’t he got a father?” says Tom Sawyer.\\n\\n“Yes, he’s got a father, but you can’t never find him these days. \\xa0He\\nused to lay drunk with the hogs in the tanyard, but he hain’t been seen\\nin these parts for a year or more.”\\n\\nThey talked it over, and they was going to rule me out, because they\\nsaid every boy must have a family or somebody to kill, or else it\\nwouldn’t be fair and square for the others. \\xa0Well, nobody could think of\\nanything to do--everybody was stumped, and set still. \\xa0I was most ready\\nto cry; but all at once I thought of a way, and so I offered them Miss\\nWatson--they could kill her. \\xa0Everybody said:\\n\\n“Oh, she’ll do. \\xa0That’s all right. \\xa0Huck can come in.”\\n\\nThen they all stuck a pin in their fingers to get blood to sign with,\\nand I made my mark on the paper.\\n\\n“Now,” says Ben Rogers, “what’s the line of business of this Gang?”\\n\\n“Nothing only robbery and murder,” Tom said.\\n\\n“But who are we going to rob?--houses, or cattle, or--”\\n\\n“Stuff! stealing cattle and such things ain’t robbery; it’s burglary,”\\n says Tom Sawyer.  “We ain’t burglars. \\xa0That ain’t no sort of style. \\xa0We\\nare highwaymen. \\xa0We stop stages and carriages on the road, with masks\\non, and kill the people and take their watches and money.”\\n\\n“Must we always kill the people?”\\n\\n“Oh, certainly. \\xa0It’s best. \\xa0Some authorities think different, but\\nmostly it’s considered best to kill them--except some that you bring to\\nthe cave here, and keep them till they’re ransomed.”\\n\\n“Ransomed? \\xa0What’s that?”\\n\\n“I don’t know. \\xa0But that’s what they do. \\xa0I’ve seen it in books; and so\\nof course that’s what we’ve got to do.”\\n\\n“But how can we do it if we don’t know what it is?”\\n\\n“Why, blame it all, we’ve _got_ to do it. \\xa0Don’t I tell you it’s in the\\nbooks? \\xa0Do you want to go to doing different from what’s in the books,\\nand get things all muddled up?”\\n\\n“Oh, that’s all very fine to _say_, Tom Sawyer, but how in the nation\\nare these fellows going to be ransomed if we don’t know how to do it\\nto them?--that’s the thing I want to get at. \\xa0Now, what do you reckon it\\nis?”\\n\\n“Well, I don’t know. \\xa0But per’aps if we keep them till they’re ransomed,\\nit means that we keep them till they’re dead.”\\n\\n“Now, that’s something _like_. \\xa0That’ll answer. \\xa0Why couldn’t you said\\nthat before? \\xa0We’ll keep them till they’re ransomed to death; and a\\nbothersome lot they’ll be, too--eating up everything, and always trying\\nto get loose.”\\n\\n“How you talk, Ben Rogers. \\xa0How can they get loose when there’s a guard\\nover them, ready to shoot them down if they move a peg?”\\n\\n“A guard! \\xa0Well, that _is_ good. \\xa0So somebody’s got to set up all night\\nand never get any sleep, just so as to watch them. \\xa0I think that’s\\nfoolishness. Why can’t a body take a club and ransom them as soon as\\nthey get here?”\\n\\n“Because it ain’t in the books so--that’s why. \\xa0Now, Ben Rogers, do you\\nwant to do things regular, or don’t you?--that’s the idea. \\xa0Don’t you\\nreckon that the people that made the books knows what’s the correct\\nthing to do? \\xa0Do you reckon _you_ can learn ‘em anything? \\xa0Not by a good\\ndeal. No, sir, we’ll just go on and ransom them in the regular way.”\\n\\n“All right. \\xa0I don’t mind; but I say it’s a fool way, anyhow. \\xa0Say, do\\nwe kill the women, too?”\\n\\n“Well, Ben Rogers, if I was as ignorant as you I wouldn’t let on. \\xa0Kill\\nthe women? \\xa0No; nobody ever saw anything in the books like that. \\xa0You\\nfetch them to the cave, and you’re always as polite as pie to them;\\nand by and by they fall in love with you, and never want to go home any\\nmore.”\\n\\n“Well, if that’s the way I’m agreed, but I don’t take no stock in it.\\nMighty soon we’ll have the cave so cluttered up with women, and fellows\\nwaiting to be ransomed, that there won’t be no place for the robbers.\\nBut go ahead, I ain’t got nothing to say.”\\n\\nLittle Tommy Barnes was asleep now, and when they waked him up he was\\nscared, and cried, and said he wanted to go home to his ma, and didn’t\\nwant to be a robber any more.\\n\\nSo they all made fun of him, and called him cry-baby, and that made him\\nmad, and he said he would go straight and tell all the secrets. \\xa0But\\nTom give him five cents to keep quiet, and said we would all go home and\\nmeet next week, and rob somebody and kill some people.\\n\\nBen Rogers said he couldn’t get out much, only Sundays, and so he wanted\\nto begin next Sunday; but all the boys said it would be wicked to do it\\non Sunday, and that settled the thing. \\xa0They agreed to get together and\\nfix a day as soon as they could, and then we elected Tom Sawyer first\\ncaptain and Jo Harper second captain of the Gang, and so started home.\\n\\nI clumb up the shed and crept into my window just before day was\\nbreaking. My new clothes was all greased up and clayey, and I was\\ndog-tired.\\n\\n\\n\\n\\nCHAPTER III.\\n\\nWELL, I got a good going-over in the morning from old Miss Watson on\\naccount of my clothes; but the widow she didn’t scold, but only cleaned\\noff the grease and clay, and looked so sorry that I thought I would\\nbehave awhile if I could. \\xa0Then Miss Watson she took me in the closet\\nand prayed, but nothing come of it. \\xa0She told me to pray every day, and\\nwhatever I asked for I would get it. \\xa0But it warn’t so. \\xa0I tried it.\\nOnce I got a fish-line, but no hooks. \\xa0It warn’t any good to me without\\nhooks. \\xa0I tried for the hooks three or four times, but somehow I\\ncouldn’t make it work. \\xa0By and by, one day, I asked Miss Watson to\\ntry for me, but she said I was a fool. \\xa0She never told me why, and I\\ncouldn’t make it out no way.\\n\\nI set down one time back in the woods, and had a long think about it.\\n\\xa0I says to myself, if a body can get anything they pray for, why don’t\\nDeacon Winn get back the money he lost on pork? \\xa0Why can’t the widow get\\nback her silver snuffbox that was stole? \\xa0Why can’t Miss Watson fat up?\\nNo, says I to my self, there ain’t nothing in it. \\xa0I went and told the\\nwidow about it, and she said the thing a body could get by praying for\\nit was “spiritual gifts.” \\xa0This was too many for me, but she told me\\nwhat she meant--I must help other people, and do everything I could for\\nother people, and look out for them all the time, and never think about\\nmyself. This was including Miss Watson, as I took it. \\xa0I went out in the\\nwoods and turned it over in my mind a long time, but I couldn’t see no\\nadvantage about it--except for the other people; so at last I reckoned\\nI wouldn’t worry about it any more, but just let it go. \\xa0Sometimes the\\nwidow would take me one side and talk about Providence in a way to make\\na body’s mouth water; but maybe next day Miss Watson would take hold\\nand knock it all down again. \\xa0I judged I could see that there was two\\nProvidences, and a poor chap would stand considerable show with the\\nwidow’s Providence, but if Miss Watson’s got him there warn’t no help\\nfor him any more. \\xa0I thought it all out, and reckoned I would belong\\nto the widow’s if he wanted me, though I couldn’t make out how he was\\na-going to be any better off then than what he was before, seeing I was\\nso ignorant, and so kind of low-down and ornery.\\n\\nPap he hadn’t been seen for more than a year, and that was comfortable\\nfor me; I didn’t want to see him no more. \\xa0He used to always whale me\\nwhen he was sober and could get his hands on me; though I used to take\\nto the woods most of the time when he was around. \\xa0Well, about this time\\nhe was found in the river drownded, about twelve mile above town, so\\npeople said. \\xa0They judged it was him, anyway; said this drownded man was\\njust his size, and was ragged, and had uncommon long hair, which was all\\nlike pap; but they couldn’t make nothing out of the face, because it had\\nbeen in the water so long it warn’t much like a face at all. \\xa0They said\\nhe was floating on his back in the water. \\xa0They took him and buried him\\non the bank. \\xa0But I warn’t comfortable long, because I happened to think\\nof something. \\xa0I knowed mighty well that a drownded man don’t float on\\nhis back, but on his face. \\xa0So I knowed, then, that this warn’t pap, but\\na woman dressed up in a man’s clothes. \\xa0So I was uncomfortable again.\\n\\xa0I judged the old man would turn up again by and by, though I wished he\\nwouldn’t.\\n\\nWe played robber now and then about a month, and then I resigned. \\xa0All\\nthe boys did. \\xa0We hadn’t robbed nobody, hadn’t killed any people, but\\nonly just pretended. \\xa0We used to hop out of the woods and go charging\\ndown on hog-drivers and women in carts taking garden stuff to market,\\nbut we never hived any of them. \\xa0Tom Sawyer called the hogs “ingots,”\\n and he called the turnips and stuff “julery,” and we would go to the\\ncave and powwow over what we had done, and how many people we had killed\\nand marked. \\xa0But I couldn’t see no profit in it. \\xa0One time Tom sent a\\nboy to run about town with a blazing stick, which he called a slogan\\n(which was the sign for the Gang to get together), and then he said he\\nhad got secret news by his spies that next day a whole parcel of Spanish\\nmerchants and rich A-rabs was going to camp in Cave Hollow with two\\nhundred elephants, and six hundred camels, and over a thousand “sumter”\\n mules, all loaded down with di’monds, and they didn’t have only a guard\\nof four hundred soldiers, and so we would lay in ambuscade, as he called\\nit, and kill the lot and scoop the things. \\xa0He said we must slick up\\nour swords and guns, and get ready. \\xa0He never could go after even a\\nturnip-cart but he must have the swords and guns all scoured up for it,\\nthough they was only lath and broomsticks, and you might scour at them\\ntill you rotted, and then they warn’t worth a mouthful of ashes more\\nthan what they was before. \\xa0I didn’t believe we could lick such a crowd\\nof Spaniards and A-rabs, but I wanted to see the camels and elephants,\\nso I was on hand next day, Saturday, in the ambuscade; and when we got\\nthe word we rushed out of the woods and down the hill. \\xa0But there warn’t\\nno Spaniards and A-rabs, and there warn’t no camels nor no elephants.\\n\\xa0It warn’t anything but a Sunday-school picnic, and only a primer-class\\nat that. \\xa0We busted it up, and chased the children up the hollow; but we\\nnever got anything but some doughnuts and jam, though Ben Rogers got\\na rag doll, and Jo Harper got a hymn-book and a tract; and then the\\nteacher charged in, and made us drop everything and cut.\\n\\n\\xa0I didn’t see no di’monds, and I told Tom Sawyer so. \\xa0He said there was\\nloads of them there, anyway; and he said there was A-rabs there, too,\\nand elephants and things. \\xa0I said, why couldn’t we see them, then? \\xa0He\\nsaid if I warn’t so ignorant, but had read a book called Don Quixote, I\\nwould know without asking. \\xa0He said it was all done by enchantment. \\xa0He\\nsaid there was hundreds of soldiers there, and elephants and treasure,\\nand so on, but we had enemies which he called magicians; and they had\\nturned the whole thing into an infant Sunday-school, just out of spite.\\n\\xa0I said, all right; then the thing for us to do was to go for the\\nmagicians. \\xa0Tom Sawyer said I was a numskull.\\n\\n“Why,” said he, “a magician could call up a lot of genies, and they\\nwould hash you up like nothing before you could say Jack Robinson. \\xa0They\\nare as tall as a tree and as big around as a church.”\\n\\n“Well,” I says, “s’pose we got some genies to help _us_--can’t we lick\\nthe other crowd then?”\\n\\n“How you going to get them?”\\n\\n“I don’t know. \\xa0How do _they_ get them?”\\n\\n“Why, they rub an old tin lamp or an iron ring, and then the genies\\ncome tearing in, with the thunder and lightning a-ripping around and the\\nsmoke a-rolling, and everything they’re told to do they up and do it.\\n\\xa0They don’t think nothing of pulling a shot-tower up by the roots, and\\nbelting a Sunday-school superintendent over the head with it--or any\\nother man.”\\n\\n“Who makes them tear around so?”\\n\\n“Why, whoever rubs the lamp or the ring. \\xa0They belong to whoever rubs\\nthe lamp or the ring, and they’ve got to do whatever he says. \\xa0If he\\ntells them to build a palace forty miles long out of di’monds, and fill\\nit full of chewing-gum, or whatever you want, and fetch an emperor’s\\ndaughter from China for you to marry, they’ve got to do it--and they’ve\\ngot to do it before sun-up next morning, too. \\xa0And more: \\xa0they’ve got\\nto waltz that palace around over the country wherever you want it, you\\nunderstand.”\\n\\n“Well,” says I, “I think they are a pack of flat-heads for not keeping\\nthe palace themselves ‘stead of fooling them away like that. \\xa0And what’s\\nmore--if I was one of them I would see a man in Jericho before I would\\ndrop my business and come to him for the rubbing of an old tin lamp.”\\n\\n“How you talk, Huck Finn. \\xa0Why, you’d _have_ to come when he rubbed it,\\nwhether you wanted to or not.”\\n\\n“What! and I as high as a tree and as big as a church? \\xa0All right, then;\\nI _would_ come; but I lay I’d make that man climb the highest tree there\\nwas in the country.”\\n\\n“Shucks, it ain’t no use to talk to you, Huck Finn. \\xa0You don’t seem to\\nknow anything, somehow--perfect saphead.”\\n\\nI thought all this over for two or three days, and then I reckoned I\\nwould see if there was anything in it. \\xa0I got an old tin lamp and an\\niron ring, and went out in the woods and rubbed and rubbed till I sweat\\nlike an Injun, calculating to build a palace and sell it; but it warn’t\\nno use, none of the genies come. \\xa0So then I judged that all that stuff\\nwas only just one of Tom Sawyer’s lies. \\xa0I reckoned he believed in the\\nA-rabs and the elephants, but as for me I think different. \\xa0It had all\\nthe marks of a Sunday-school.\\n\\n\\n\\n\\nCHAPTER IV.\\n\\nWELL, three or four months run along, and it was well into the winter\\nnow. I had been to school most all the time and could spell and read and\\nwrite just a little, and could say the multiplication table up to six\\ntimes seven is thirty-five, and I don’t reckon I could ever get any\\nfurther than that if I was to live forever. \\xa0I don’t take no stock in\\nmathematics, anyway.\\n\\nAt first I hated the school, but by and by I got so I could stand it.\\nWhenever I got uncommon tired I played hookey, and the hiding I got next\\nday done me good and cheered me up. \\xa0So the longer I went to school the\\neasier it got to be. \\xa0I was getting sort of used to the widow’s ways,\\ntoo, and they warn’t so raspy on me. \\xa0Living in a house and sleeping in\\na bed pulled on me pretty tight mostly, but before the cold weather I\\nused to slide out and sleep in the woods sometimes, and so that was a\\nrest to me. \\xa0I liked the old ways best, but I was getting so I liked the\\nnew ones, too, a little bit. The widow said I was coming along slow but\\nsure, and doing very satisfactory. \\xa0She said she warn’t ashamed of me.\\n\\nOne morning I happened to turn over the salt-cellar at breakfast.\\n\\xa0I reached for some of it as quick as I could to throw over my left\\nshoulder and keep off the bad luck, but Miss Watson was in ahead of me,\\nand crossed me off. She says, “Take your hands away, Huckleberry; what\\na mess you are always making!” \\xa0The widow put in a good word for me, but\\nthat warn’t going to keep off the bad luck, I knowed that well enough.\\n\\xa0I started out, after breakfast, feeling worried and shaky, and\\nwondering where it was going to fall on me, and what it was going to be.\\n\\xa0There is ways to keep off some kinds of bad luck, but this wasn’t one\\nof them kind; so I never tried to do anything, but just poked along\\nlow-spirited and on the watch-out.\\n\\nI went down to the front garden and clumb over the stile where you go\\nthrough the high board fence. \\xa0There was an inch of new snow on the\\nground, and I seen somebody’s tracks. \\xa0They had come up from the quarry\\nand stood around the stile a while, and then went on around the garden\\nfence. \\xa0It was funny they hadn’t come in, after standing around so. \\xa0I\\ncouldn’t make it out. \\xa0It was very curious, somehow. \\xa0I was going to\\nfollow around, but I stooped down to look at the tracks first. \\xa0I didn’t\\nnotice anything at first, but next I did. \\xa0There was a cross in the left\\nboot-heel made with big nails, to keep off the devil.\\n\\nI was up in a second and shinning down the hill. \\xa0I looked over my\\nshoulder every now and then, but I didn’t see nobody. \\xa0I was at Judge\\nThatcher’s as quick as I could get there. \\xa0He said:\\n\\n“Why, my boy, you are all out of breath. \\xa0Did you come for your\\ninterest?”\\n\\n“No, sir,” I says; “is there some for me?”\\n\\n“Oh, yes, a half-yearly is in last night--over a hundred and fifty\\ndollars. \\xa0Quite a fortune for you. \\xa0You had better let me invest it\\nalong with your six thousand, because if you take it you’ll spend it.”\\n\\n“No, sir,” I says, “I don’t want to spend it. \\xa0I don’t want it at\\nall--nor the six thousand, nuther. \\xa0I want you to take it; I want to give\\nit to you--the six thousand and all.”\\n\\nHe looked surprised. \\xa0He couldn’t seem to make it out. \\xa0He says:\\n\\n“Why, what can you mean, my boy?”\\n\\nI says, “Don’t you ask me no questions about it, please. \\xa0You’ll take\\nit--won’t you?”\\n\\nHe says:\\n\\n“Well, I’m puzzled. \\xa0Is something the matter?”\\n\\n“Please take it,” says I, “and don’t ask me nothing--then I won’t have to\\ntell no lies.”\\n\\nHe studied a while, and then he says:\\n\\n“Oho-o! \\xa0I think I see. \\xa0You want to _sell_ all your property to me--not\\ngive it. \\xa0That’s the correct idea.”\\n\\nThen he wrote something on a paper and read it over, and says:\\n\\n“There; you see it says ‘for a consideration.’ \\xa0That means I have bought\\nit of you and paid you for it. \\xa0Here’s a dollar for you. \\xa0Now you sign\\nit.”\\n\\nSo I signed it, and left.\\n\\nMiss Watson’s nigger, Jim, had a hair-ball as big as your fist, which\\nhad been took out of the fourth stomach of an ox, and he used to do\\nmagic with it. \\xa0He said there was a spirit inside of it, and it knowed\\neverything. \\xa0So I went to him that night and told him pap was here\\nagain, for I found his tracks in the snow. \\xa0What I wanted to know was,\\nwhat he was going to do, and was he going to stay? \\xa0Jim got out his\\nhair-ball and said something over it, and then he held it up and dropped\\nit on the floor. \\xa0It fell pretty solid, and only rolled about an inch.\\n\\xa0Jim tried it again, and then another time, and it acted just the same.\\n\\xa0Jim got down on his knees, and put his ear against it and listened.\\n\\xa0But it warn’t no use; he said it wouldn’t talk. He said sometimes it\\nwouldn’t talk without money. \\xa0I told him I had an old slick counterfeit\\nquarter that warn’t no good because the brass showed through the silver\\na little, and it wouldn’t pass nohow, even if the brass didn’t show,\\nbecause it was so slick it felt greasy, and so that would tell on it\\nevery time. \\xa0(I reckoned I wouldn’t say nothing about the dollar I got\\nfrom the judge.) I said it was pretty bad money, but maybe the hair-ball\\nwould take it, because maybe it wouldn’t know the difference. \\xa0Jim smelt\\nit and bit it and rubbed it, and said he would manage so the hair-ball\\nwould think it was good. \\xa0He said he would split open a raw Irish potato\\nand stick the quarter in between and keep it there all night, and next\\nmorning you couldn’t see no brass, and it wouldn’t feel greasy no more,\\nand so anybody in town would take it in a minute, let alone a hair-ball.\\n\\xa0Well, I knowed a potato would do that before, but I had forgot it.\\n\\nJim put the quarter under the hair-ball, and got down and listened\\nagain. This time he said the hair-ball was all right. \\xa0He said it\\nwould tell my whole fortune if I wanted it to. \\xa0I says, go on. \\xa0So the\\nhair-ball talked to Jim, and Jim told it to me. \\xa0He says:\\n\\n“Yo’ ole father doan’ know yit what he’s a-gwyne to do. \\xa0Sometimes he\\nspec he’ll go ‘way, en den agin he spec he’ll stay. \\xa0De bes’ way is to\\nres’ easy en let de ole man take his own way. \\xa0Dey’s two angels hoverin’\\nroun’ ‘bout him. \\xa0One uv ‘em is white en shiny, en t’other one is black.\\nDe white one gits him to go right a little while, den de black one sail\\nin en bust it all up. \\xa0A body can’t tell yit which one gwyne to fetch\\nhim at de las’. \\xa0But you is all right. \\xa0You gwyne to have considable\\ntrouble in yo’ life, en considable joy. \\xa0Sometimes you gwyne to git\\nhurt, en sometimes you gwyne to git sick; but every time you’s gwyne\\nto git well agin. \\xa0Dey’s two gals flyin’ ‘bout you in yo’ life. \\xa0One\\nuv ‘em’s light en t’other one is dark. One is rich en t’other is po’.\\n\\xa0You’s gwyne to marry de po’ one fust en de rich one by en by. \\xa0You\\nwants to keep ‘way fum de water as much as you kin, en don’t run no\\nresk, ‘kase it’s down in de bills dat you’s gwyne to git hung.”\\n\\nWhen I lit my candle and went up to my room that night there sat pap his\\nown self!\\n\\n\\n\\n\\nCHAPTER V.\\n\\nI had shut the door to. \\xa0Then I turned around and there he was. \\xa0I used\\nto be scared of him all the time, he tanned me so much. \\xa0I reckoned I\\nwas scared now, too; but in a minute I see I was mistaken--that is, after\\nthe first jolt, as you may say, when my breath sort of hitched, he being\\nso unexpected; but right away after I see I warn’t scared of him worth\\nbothring about.\\n\\nHe was most fifty, and he looked it. \\xa0His hair was long and tangled and\\ngreasy, and hung down, and you could see his eyes shining through\\nlike he was behind vines. \\xa0It was all black, no gray; so was his long,\\nmixed-up whiskers. \\xa0There warn’t no color in his face, where his face\\nshowed; it was white; not like another man’s white, but a white to make\\na body sick, a white to make a body’s flesh crawl--a tree-toad white, a\\nfish-belly white. \\xa0As for his clothes--just rags, that was all. \\xa0He had\\none ankle resting on t’other knee; the boot on that foot was busted, and\\ntwo of his toes stuck through, and he worked them now and then. \\xa0His hat\\nwas laying on the floor--an old black slouch with the top caved in, like\\na lid.\\n\\nI stood a-looking at him; he set there a-looking at me, with his chair\\ntilted back a little. \\xa0I set the candle down. \\xa0I noticed the window was\\nup; so he had clumb in by the shed. \\xa0He kept a-looking me all over. \\xa0By\\nand by he says:\\n\\n“Starchy clothes--very. \\xa0You think you’re a good deal of a big-bug,\\n_don’t_ you?”\\n\\n“Maybe I am, maybe I ain’t,” I says.\\n\\n“Don’t you give me none o’ your lip,” says he.  “You’ve put on\\nconsiderable many frills since I been away. \\xa0I’ll take you down a peg\\nbefore I get done with you. \\xa0You’re educated, too, they say--can read and\\nwrite. \\xa0You think you’re better’n your father, now, don’t you, because\\nhe can’t? \\xa0_I’ll_ take it out of you. \\xa0Who told you you might meddle\\nwith such hifalut’n foolishness, hey?--who told you you could?”\\n\\n“The widow. \\xa0She told me.”\\n\\n“The widow, hey?--and who told the widow she could put in her shovel\\nabout a thing that ain’t none of her business?”\\n\\n“Nobody never told her.”\\n\\n“Well, I’ll learn her how to meddle. \\xa0And looky here--you drop that\\nschool, you hear? \\xa0I’ll learn people to bring up a boy to put on airs\\nover his own father and let on to be better’n what _he_ is. \\xa0You lemme\\ncatch you fooling around that school again, you hear? \\xa0Your mother\\ncouldn’t read, and she couldn’t write, nuther, before she died. \\xa0None\\nof the family couldn’t before _they_ died. \\xa0I can’t; and here you’re\\na-swelling yourself up like this. \\xa0I ain’t the man to stand it--you hear?\\nSay, lemme hear you read.”\\n\\nI took up a book and begun something about General Washington and the\\nwars. When I’d read about a half a minute, he fetched the book a whack\\nwith his hand and knocked it across the house. \\xa0He says:\\n\\n“It’s so. \\xa0You can do it. \\xa0I had my doubts when you told me. \\xa0Now looky\\nhere; you stop that putting on frills. \\xa0I won’t have it. \\xa0I’ll lay for\\nyou, my smarty; and if I catch you about that school I’ll tan you good.\\nFirst you know you’ll get religion, too. \\xa0I never see such a son.”\\n\\nHe took up a little blue and yaller picture of some cows and a boy, and\\nsays:\\n\\n“What’s this?”\\n\\n“It’s something they give me for learning my lessons good.”\\n\\nHe tore it up, and says:\\n\\n“I’ll give you something better--I’ll give you a cowhide.”\\n\\nHe set there a-mumbling and a-growling a minute, and then he says:\\n\\n“_Ain’t_ you a sweet-scented dandy, though? \\xa0A bed; and bedclothes; and\\na look’n’-glass; and a piece of carpet on the floor--and your own father\\ngot to sleep with the hogs in the tanyard. \\xa0I never see such a son. \\xa0I\\nbet I’ll take some o’ these frills out o’ you before I’m done with you.\\nWhy, there ain’t no end to your airs--they say you’re rich. \\xa0Hey?--how’s\\nthat?”\\n\\n“They lie--that’s how.”\\n\\n“Looky here--mind how you talk to me; I’m a-standing about all I can\\nstand now--so don’t gimme no sass. \\xa0I’ve been in town two days, and I\\nhain’t heard nothing but about you bein’ rich. \\xa0I heard about it\\naway down the river, too. \\xa0That’s why I come. \\xa0You git me that money\\nto-morrow--I want it.”\\n\\n“I hain’t got no money.”\\n\\n“It’s a lie. \\xa0Judge Thatcher’s got it. \\xa0You git it. \\xa0I want it.”\\n\\n“I hain’t got no money, I tell you. \\xa0You ask Judge Thatcher; he’ll tell\\nyou the same.”\\n\\n“All right. \\xa0I’ll ask him; and I’ll make him pungle, too, or I’ll know\\nthe reason why. \\xa0Say, how much you got in your pocket? \\xa0I want it.”\\n\\n“I hain’t got only a dollar, and I want that to--”\\n\\n“It don’t make no difference what you want it for--you just shell it\\nout.”\\n\\nHe took it and bit it to see if it was good, and then he said he was\\ngoing down town to get some whisky; said he hadn’t had a drink all day.\\nWhen he had got out on the shed he put his head in again, and cussed\\nme for putting on frills and trying to be better than him; and when I\\nreckoned he was gone he come back and put his head in again, and told me\\nto mind about that school, because he was going to lay for me and lick\\nme if I didn’t drop that.\\n\\nNext day he was drunk, and he went to Judge Thatcher’s and bullyragged\\nhim, and tried to make him give up the money; but he couldn’t, and then\\nhe swore he’d make the law force him.\\n\\nThe judge and the widow went to law to get the court to take me away\\nfrom him and let one of them be my guardian; but it was a new judge that\\nhad just come, and he didn’t know the old man; so he said courts mustn’t\\ninterfere and separate families if they could help it; said he’d druther\\nnot take a child away from its father. \\xa0So Judge Thatcher and the widow\\nhad to quit on the business.\\n\\nThat pleased the old man till he couldn’t rest. \\xa0He said he’d cowhide\\nme till I was black and blue if I didn’t raise some money for him. \\xa0I\\nborrowed three dollars from Judge Thatcher, and pap took it and got\\ndrunk, and went a-blowing around and cussing and whooping and carrying\\non; and he kept it up all over town, with a tin pan, till most midnight;\\nthen they jailed him, and next day they had him before court, and jailed\\nhim again for a week. \\xa0But he said _he_ was satisfied; said he was boss\\nof his son, and he’d make it warm for _him_.\\n\\nWhen he got out the new judge said he was a-going to make a man of him.\\nSo he took him to his own house, and dressed him up clean and nice, and\\nhad him to breakfast and dinner and supper with the family, and was just\\nold pie to him, so to speak. \\xa0And after supper he talked to him about\\ntemperance and such things till the old man cried, and said he’d been\\na fool, and fooled away his life; but now he was a-going to turn over\\na new leaf and be a man nobody wouldn’t be ashamed of, and he hoped the\\njudge would help him and not look down on him. \\xa0The judge said he could\\nhug him for them words; so he cried, and his wife she cried again; pap\\nsaid he’d been a man that had always been misunderstood before, and the\\njudge said he believed it. \\xa0The old man said that what a man wanted\\nthat was down was sympathy, and the judge said it was so; so they cried\\nagain. \\xa0And when it was bedtime the old man rose up and held out his\\nhand, and says:\\n\\n“Look at it, gentlemen and ladies all; take a-hold of it; shake it.\\nThere’s a hand that was the hand of a hog; but it ain’t so no more; it’s\\nthe hand of a man that’s started in on a new life, and’ll die before\\nhe’ll go back. \\xa0You mark them words--don’t forget I said them. \\xa0It’s a\\nclean hand now; shake it--don’t be afeard.”\\n\\nSo they shook it, one after the other, all around, and cried. \\xa0The\\njudge’s wife she kissed it. \\xa0Then the old man he signed a pledge--made\\nhis mark. The judge said it was the holiest time on record, or something\\nlike that. Then they tucked the old man into a beautiful room, which was\\nthe spare room, and in the night some time he got powerful thirsty and\\nclumb out on to the porch-roof and slid down a stanchion and traded his\\nnew coat for a jug of forty-rod, and clumb back again and had a good old\\ntime; and towards daylight he crawled out again, drunk as a fiddler, and\\nrolled off the porch and broke his left arm in two places, and was most\\nfroze to death when somebody found him after sun-up. \\xa0And when they come\\nto look at that spare room they had to take soundings before they could\\nnavigate it.\\n\\nThe judge he felt kind of sore. \\xa0He said he reckoned a body could reform\\nthe old man with a shotgun, maybe, but he didn’t know no other way.\\n\\n\\n\\n\\nCHAPTER VI.\\n\\nWELL, pretty soon the old man was up and around again, and then he went\\nfor Judge Thatcher in the courts to make him give up that money, and he\\nwent for me, too, for not stopping school. \\xa0He catched me a couple of\\ntimes and thrashed me, but I went to school just the same, and dodged\\nhim or outrun him most of the time. \\xa0I didn’t want to go to school much\\nbefore, but I reckoned I’d go now to spite pap. \\xa0That law trial was a\\nslow business--appeared like they warn’t ever going to get started on it;\\nso every now and then I’d borrow two or three dollars off of the judge\\nfor him, to keep from getting a cowhiding. \\xa0Every time he got money he\\ngot drunk; and every time he got drunk he raised Cain around town; and\\nevery time he raised Cain he got jailed. \\xa0He was just suited--this kind\\nof thing was right in his line.\\n\\nHe got to hanging around the widow’s too much and so she told him at\\nlast that if he didn’t quit using around there she would make trouble\\nfor him. Well, _wasn’t_ he mad? \\xa0He said he would show who was Huck\\nFinn’s boss. \\xa0So he watched out for me one day in the spring, and\\ncatched me, and took me up the river about three mile in a skiff, and\\ncrossed over to the Illinois shore where it was woody and there warn’t\\nno houses but an old log hut in a place where the timber was so thick\\nyou couldn’t find it if you didn’t know where it was.\\n\\nHe kept me with him all the time, and I never got a chance to run off.\\nWe lived in that old cabin, and he always locked the door and put the\\nkey under his head nights. \\xa0He had a gun which he had stole, I reckon,\\nand we fished and hunted, and that was what we lived on. \\xa0Every little\\nwhile he locked me in and went down to the store, three miles, to the\\nferry, and traded fish and game for whisky, and fetched it home and got\\ndrunk and had a good time, and licked me. \\xa0The widow she found out where\\nI was by and by, and she sent a man over to try to get hold of me; but\\npap drove him off with the gun, and it warn’t long after that till I was\\nused to being where I was, and liked it--all but the cowhide part.\\n\\nIt was kind of lazy and jolly, laying off comfortable all day, smoking\\nand fishing, and no books nor study. \\xa0Two months or more run along, and\\nmy clothes got to be all rags and dirt, and I didn’t see how I’d ever\\ngot to like it so well at the widow’s, where you had to wash, and eat on\\na plate, and comb up, and go to bed and get up regular, and be forever\\nbothering over a book, and have old Miss Watson pecking at you all the\\ntime. \\xa0I didn’t want to go back no more. \\xa0I had stopped cussing, because\\nthe widow didn’t like it; but now I took to it again because pap hadn’t\\nno objections. \\xa0It was pretty good times up in the woods there, take it\\nall around.\\n\\nBut by and by pap got too handy with his hick’ry, and I couldn’t stand\\nit. I was all over welts. \\xa0He got to going away so much, too, and\\nlocking me in. \\xa0Once he locked me in and was gone three days. \\xa0It was\\ndreadful lonesome. \\xa0I judged he had got drownded, and I wasn’t ever\\ngoing to get out any more. \\xa0I was scared. \\xa0I made up my mind I would fix\\nup some way to leave there. \\xa0I had tried to get out of that cabin many\\na time, but I couldn’t find no way. \\xa0There warn’t a window to it big\\nenough for a dog to get through. \\xa0I couldn’t get up the chimbly; it\\nwas too narrow. \\xa0The door was thick, solid oak slabs. \\xa0Pap was pretty\\ncareful not to leave a knife or anything in the cabin when he was away;\\nI reckon I had hunted the place over as much as a hundred times; well, I\\nwas most all the time at it, because it was about the only way to put in\\nthe time. \\xa0But this time I found something at last; I found an old rusty\\nwood-saw without any handle; it was laid in between a rafter and the\\nclapboards of the roof. I greased it up and went to work. \\xa0There was an\\nold horse-blanket nailed against the logs at the far end of the cabin\\nbehind the table, to keep the wind from blowing through the chinks and\\nputting the candle out. \\xa0I got under the table and raised the blanket,\\nand went to work to saw a section of the big bottom log out--big enough\\nto let me through. \\xa0Well, it was a good long job, but I was getting\\ntowards the end of it when I heard pap’s gun in the woods. \\xa0I got rid of\\nthe signs of my work, and dropped the blanket and hid my saw, and pretty\\nsoon pap come in.\\n\\nPap warn’t in a good humor--so he was his natural self. \\xa0He said he was\\ndown town, and everything was going wrong. \\xa0His lawyer said he reckoned\\nhe would win his lawsuit and get the money if they ever got started on\\nthe trial; but then there was ways to put it off a long time, and Judge\\nThatcher knowed how to do it. And he said people allowed there’d be\\nanother trial to get me away from him and give me to the widow for my\\nguardian, and they guessed it would win this time. \\xa0This shook me up\\nconsiderable, because I didn’t want to go back to the widow’s any more\\nand be so cramped up and sivilized, as they called it. \\xa0Then the old man\\ngot to cussing, and cussed everything and everybody he could think of,\\nand then cussed them all over again to make sure he hadn’t skipped any,\\nand after that he polished off with a kind of a general cuss all round,\\nincluding a considerable parcel of people which he didn’t know the names\\nof, and so called them what’s-his-name when he got to them, and went\\nright along with his cussing.\\n\\nHe said he would like to see the widow get me. \\xa0He said he would watch\\nout, and if they tried to come any such game on him he knowed of a place\\nsix or seven mile off to stow me in, where they might hunt till they\\ndropped and they couldn’t find me. \\xa0That made me pretty uneasy again,\\nbut only for a minute; I reckoned I wouldn’t stay on hand till he got\\nthat chance.\\n\\nThe old man made me go to the skiff and fetch the things he had\\ngot. There was a fifty-pound sack of corn meal, and a side of bacon,\\nammunition, and a four-gallon jug of whisky, and an old book and two\\nnewspapers for wadding, besides some tow. \\xa0I toted up a load, and went\\nback and set down on the bow of the skiff to rest. \\xa0I thought it all\\nover, and I reckoned I would walk off with the gun and some lines, and\\ntake to the woods when I run away. \\xa0I guessed I wouldn’t stay in one\\nplace, but just tramp right across the country, mostly night times, and\\nhunt and fish to keep alive, and so get so far away that the old man nor\\nthe widow couldn’t ever find me any more. \\xa0I judged I would saw out and\\nleave that night if pap got drunk enough, and I reckoned he would. \\xa0I\\ngot so full of it I didn’t notice how long I was staying till the old\\nman hollered and asked me whether I was asleep or drownded.\\n\\nI got the things all up to the cabin, and then it was about dark. \\xa0While\\nI was cooking supper the old man took a swig or two and got sort of\\nwarmed up, and went to ripping again. \\xa0He had been drunk over in town,\\nand laid in the gutter all night, and he was a sight to look at. \\xa0A body\\nwould a thought he was Adam--he was just all mud. \\xa0Whenever his liquor\\nbegun to work he most always went for the govment, this time he says:\\n\\n“Call this a govment! why, just look at it and see what it’s like.\\nHere’s the law a-standing ready to take a man’s son away from him--a\\nman’s own son, which he has had all the trouble and all the anxiety\\nand all the expense of raising. \\xa0Yes, just as that man has got that\\nson raised at last, and ready to go to work and begin to do suthin’ for\\n_him_ and give him a rest, the law up and goes for him. \\xa0And they call\\n_that_ govment! \\xa0That ain’t all, nuther. \\xa0The law backs that old Judge\\nThatcher up and helps him to keep me out o’ my property. \\xa0Here’s what\\nthe law does: \\xa0The law takes a man worth six thousand dollars and\\nup’ards, and jams him into an old trap of a cabin like this, and lets\\nhim go round in clothes that ain’t fitten for a hog. They call that\\ngovment! \\xa0A man can’t get his rights in a govment like this. Sometimes\\nI’ve a mighty notion to just leave the country for good and all. Yes,\\nand I _told_ ‘em so; I told old Thatcher so to his face. \\xa0Lots of ‘em\\nheard me, and can tell what I said. \\xa0Says I, for two cents I’d leave the\\nblamed country and never come a-near it agin. \\xa0Them’s the very words. \\xa0I\\nsays look at my hat--if you call it a hat--but the lid raises up and the\\nrest of it goes down till it’s below my chin, and then it ain’t rightly\\na hat at all, but more like my head was shoved up through a jint o’\\nstove-pipe. \\xa0Look at it, says I--such a hat for me to wear--one of the\\nwealthiest men in this town if I could git my rights.\\n\\n“Oh, yes, this is a wonderful govment, wonderful. \\xa0Why, looky here.\\nThere was a free nigger there from Ohio--a mulatter, most as white as\\na white man. \\xa0He had the whitest shirt on you ever see, too, and the\\nshiniest hat; and there ain’t a man in that town that’s got as fine\\nclothes as what he had; and he had a gold watch and chain, and a\\nsilver-headed cane--the awfulest old gray-headed nabob in the State. \\xa0And\\nwhat do you think? \\xa0They said he was a p’fessor in a college, and could\\ntalk all kinds of languages, and knowed everything. \\xa0And that ain’t the\\nwust. They said he could _vote_ when he was at home. \\xa0Well, that let me\\nout. Thinks I, what is the country a-coming to? \\xa0It was ‘lection day,\\nand I was just about to go and vote myself if I warn’t too drunk to get\\nthere; but when they told me there was a State in this country where\\nthey’d let that nigger vote, I drawed out. \\xa0I says I’ll never vote agin.\\n\\xa0Them’s the very words I said; they all heard me; and the country may\\nrot for all me--I’ll never vote agin as long as I live. \\xa0And to see the\\ncool way of that nigger--why, he wouldn’t a give me the road if I hadn’t\\nshoved him out o’ the way. \\xa0I says to the people, why ain’t this nigger\\nput up at auction and sold?--that’s what I want to know. \\xa0And what do you\\nreckon they said? Why, they said he couldn’t be sold till he’d been in\\nthe State six months, and he hadn’t been there that long yet. \\xa0There,\\nnow--that’s a specimen. \\xa0They call that a govment that can’t sell a free\\nnigger till he’s been in the State six months. \\xa0Here’s a govment that\\ncalls itself a govment, and lets on to be a govment, and thinks it is a\\ngovment, and yet’s got to set stock-still for six whole months before\\nit can take a hold of a prowling, thieving, infernal, white-shirted free\\nnigger, and--”\\n\\nPap was agoing on so he never noticed where his old limber legs was\\ntaking him to, so he went head over heels over the tub of salt pork and\\nbarked both shins, and the rest of his speech was all the hottest kind\\nof language--mostly hove at the nigger and the govment, though he give\\nthe tub some, too, all along, here and there. \\xa0He hopped around the\\ncabin considerable, first on one leg and then on the other, holding\\nfirst one shin and then the other one, and at last he let out with his\\nleft foot all of a sudden and fetched the tub a rattling kick. \\xa0But it\\nwarn’t good judgment, because that was the boot that had a couple of his\\ntoes leaking out of the front end of it; so now he raised a howl that\\nfairly made a body’s hair raise, and down he went in the dirt, and\\nrolled there, and held his toes; and the cussing he done then laid over\\nanything he had ever done previous. \\xa0He said so his own self afterwards.\\n\\xa0He had heard old Sowberry Hagan in his best days, and he said it laid\\nover him, too; but I reckon that was sort of piling it on, maybe.\\n\\nAfter supper pap took the jug, and said he had enough whisky there\\nfor two drunks and one delirium tremens. \\xa0That was always his word. \\xa0I\\njudged he would be blind drunk in about an hour, and then I would steal\\nthe key, or saw myself out, one or t’other. \\xa0He drank and drank, and\\ntumbled down on his blankets by and by; but luck didn’t run my way.\\n\\xa0He didn’t go sound asleep, but was uneasy. \\xa0He groaned and moaned and\\nthrashed around this way and that for a long time. \\xa0At last I got so\\nsleepy I couldn’t keep my eyes open all I could do, and so before I\\nknowed what I was about I was sound asleep, and the candle burning.\\n\\nI don’t know how long I was asleep, but all of a sudden there was an\\nawful scream and I was up. \\xa0There was pap looking wild, and skipping\\naround every which way and yelling about snakes. \\xa0He said they was\\ncrawling up his legs; and then he would give a jump and scream, and say\\none had bit him on the cheek--but I couldn’t see no snakes. \\xa0He started\\nand run round and round the cabin, hollering “Take him off! take him\\noff! he’s biting me on the neck!” \\xa0I never see a man look so wild in the\\neyes. Pretty soon he was all fagged out, and fell down panting; then he\\nrolled over and over wonderful fast, kicking things every which way,\\nand striking and grabbing at the air with his hands, and screaming and\\nsaying there was devils a-hold of him. \\xa0He wore out by and by, and laid\\nstill a while, moaning. \\xa0Then he laid stiller, and didn’t make a sound.\\n\\xa0I could hear the owls and the wolves away off in the woods, and it\\nseemed terrible still. \\xa0He was laying over by the corner. By and by he\\nraised up part way and listened, with his head to one side. \\xa0He says,\\nvery low:\\n\\n“Tramp--tramp--tramp; that’s the dead; tramp--tramp--tramp; they’re coming\\nafter me; but I won’t go. \\xa0Oh, they’re here! don’t touch me--don’t! hands\\noff--they’re cold; let go. \\xa0Oh, let a poor devil alone!”\\n\\nThen he went down on all fours and crawled off, begging them to let him\\nalone, and he rolled himself up in his blanket and wallowed in under the\\nold pine table, still a-begging; and then he went to crying. \\xa0I could\\nhear him through the blanket.\\n\\nBy and by he rolled out and jumped up on his feet looking wild, and he\\nsee me and went for me. \\xa0He chased me round and round the place with a\\nclasp-knife, calling me the Angel of Death, and saying he would kill me,\\nand then I couldn’t come for him no more. \\xa0I begged, and told him I\\nwas only Huck; but he laughed _such_ a screechy laugh, and roared and\\ncussed, and kept on chasing me up. \\xa0Once when I turned short and\\ndodged under his arm he made a grab and got me by the jacket between my\\nshoulders, and I thought I was gone; but I slid out of the jacket quick\\nas lightning, and saved myself. Pretty soon he was all tired out, and\\ndropped down with his back against the door, and said he would rest a\\nminute and then kill me. He put his knife under him, and said he would\\nsleep and get strong, and then he would see who was who.\\n\\nSo he dozed off pretty soon. \\xa0By and by I got the old split-bottom chair\\nand clumb up as easy as I could, not to make any noise, and got down the\\ngun. \\xa0I slipped the ramrod down it to make sure it was loaded, then I\\nlaid it across the turnip barrel, pointing towards pap, and set down\\nbehind it to wait for him to stir. \\xa0And how slow and still the time did\\ndrag along.\\n\\n\\n\\n\\nCHAPTER VII.\\n\\n“GIT up! \\xa0What you ‘bout?”\\n\\nI opened my eyes and looked around, trying to make out where I was. \\xa0It\\nwas after sun-up, and I had been sound asleep. \\xa0Pap was standing over me\\nlooking sour and sick, too. \\xa0He says:\\n\\n“What you doin’ with this gun?”\\n\\nI judged he didn’t know nothing about what he had been doing, so I says:\\n\\n“Somebody tried to get in, so I was laying for him.”\\n\\n“Why didn’t you roust me out?”\\n\\n“Well, I tried to, but I couldn’t; I couldn’t budge you.”\\n\\n“Well, all right. \\xa0Don’t stand there palavering all day, but out with\\nyou and see if there’s a fish on the lines for breakfast. \\xa0I’ll be along\\nin a minute.”\\n\\nHe unlocked the door, and I cleared out up the river-bank. \\xa0I noticed\\nsome pieces of limbs and such things floating down, and a sprinkling of\\nbark; so I knowed the river had begun to rise. \\xa0I reckoned I would have\\ngreat times now if I was over at the town. \\xa0The June rise used to be\\nalways luck for me; because as soon as that rise begins here comes\\ncordwood floating down, and pieces of log rafts--sometimes a dozen logs\\ntogether; so all you have to do is to catch them and sell them to the\\nwood-yards and the sawmill.\\n\\nI went along up the bank with one eye out for pap and t’other one out\\nfor what the rise might fetch along. \\xa0Well, all at once here comes a\\ncanoe; just a beauty, too, about thirteen or fourteen foot long, riding\\nhigh like a duck. \\xa0I shot head-first off of the bank like a frog,\\nclothes and all on, and struck out for the canoe. \\xa0I just expected\\nthere’d be somebody laying down in it, because people often done that\\nto fool folks, and when a chap had pulled a skiff out most to it they’d\\nraise up and laugh at him. \\xa0But it warn’t so this time. \\xa0It was a\\ndrift-canoe sure enough, and I clumb in and paddled her ashore. \\xa0Thinks\\nI, the old man will be glad when he sees this--she’s worth ten dollars.\\n\\xa0But when I got to shore pap wasn’t in sight yet, and as I was running\\nher into a little creek like a gully, all hung over with vines and\\nwillows, I struck another idea: \\xa0I judged I’d hide her good, and then,\\n‘stead of taking to the woods when I run off, I’d go down the river\\nabout fifty mile and camp in one place for good, and not have such a\\nrough time tramping on foot.\\n\\nIt was pretty close to the shanty, and I thought I heard the old man\\ncoming all the time; but I got her hid; and then I out and looked around\\na bunch of willows, and there was the old man down the path a piece just\\ndrawing a bead on a bird with his gun. \\xa0So he hadn’t seen anything.\\n\\nWhen he got along I was hard at it taking up a “trot” line. \\xa0He abused\\nme a little for being so slow; but I told him I fell in the river, and\\nthat was what made me so long. \\xa0I knowed he would see I was wet, and\\nthen he would be asking questions. \\xa0We got five catfish off the lines\\nand went home.\\n\\nWhile we laid off after breakfast to sleep up, both of us being about\\nwore out, I got to thinking that if I could fix up some way to keep pap\\nand the widow from trying to follow me, it would be a certainer thing\\nthan trusting to luck to get far enough off before they missed me; you\\nsee, all kinds of things might happen. \\xa0Well, I didn’t see no way for a\\nwhile, but by and by pap raised up a minute to drink another barrel of\\nwater, and he says:\\n\\n“Another time a man comes a-prowling round here you roust me out, you\\nhear? That man warn’t here for no good. \\xa0I’d a shot him. \\xa0Next time you\\nroust me out, you hear?”\\n\\nThen he dropped down and went to sleep again; but what he had been\\nsaying give me the very idea I wanted. \\xa0I says to myself, I can fix it\\nnow so nobody won’t think of following me.\\n\\nAbout twelve o’clock we turned out and went along up the bank. \\xa0The\\nriver was coming up pretty fast, and lots of driftwood going by on the\\nrise. By and by along comes part of a log raft--nine logs fast together.\\n\\xa0We went out with the skiff and towed it ashore. \\xa0Then we had dinner.\\nAnybody but pap would a waited and seen the day through, so as to catch\\nmore stuff; but that warn’t pap’s style. \\xa0Nine logs was enough for one\\ntime; he must shove right over to town and sell. \\xa0So he locked me in and\\ntook the skiff, and started off towing the raft about half-past three.\\n\\xa0I judged he wouldn’t come back that night. \\xa0I waited till I reckoned he\\nhad got a good start; then I out with my saw, and went to work on that\\nlog again. \\xa0Before he was t’other side of the river I was out of the\\nhole; him and his raft was just a speck on the water away off yonder.\\n\\nI took the sack of corn meal and took it to where the canoe was hid, and\\nshoved the vines and branches apart and put it in; then I done the same\\nwith the side of bacon; then the whisky-jug. \\xa0I took all the coffee and\\nsugar there was, and all the ammunition; I took the wadding; I took the\\nbucket and gourd; I took a dipper and a tin cup, and my old saw and two\\nblankets, and the skillet and the coffee-pot. \\xa0I took fish-lines and\\nmatches and other things--everything that was worth a cent. \\xa0I cleaned\\nout the place. \\xa0I wanted an axe, but there wasn’t any, only the one out\\nat the woodpile, and I knowed why I was going to leave that. \\xa0I fetched\\nout the gun, and now I was done.\\n\\nI had wore the ground a good deal crawling out of the hole and dragging\\nout so many things. \\xa0So I fixed that as good as I could from the outside\\nby scattering dust on the place, which covered up the smoothness and the\\nsawdust. \\xa0Then I fixed the piece of log back into its place, and put two\\nrocks under it and one against it to hold it there, for it was bent up\\nat that place and didn’t quite touch ground. \\xa0If you stood four or five\\nfoot away and didn’t know it was sawed, you wouldn’t never notice\\nit; and besides, this was the back of the cabin, and it warn’t likely\\nanybody would go fooling around there.\\n\\nIt was all grass clear to the canoe, so I hadn’t left a track. \\xa0I\\nfollowed around to see. \\xa0I stood on the bank and looked out over the\\nriver. \\xa0All safe. \\xa0So I took the gun and went up a piece into the woods,\\nand was hunting around for some birds when I see a wild pig; hogs soon\\nwent wild in them bottoms after they had got away from the prairie\\nfarms. I shot this fellow and took him into camp.\\n\\nI took the axe and smashed in the door. \\xa0I beat it and hacked it\\nconsiderable a-doing it. \\xa0I fetched the pig in, and took him back nearly\\nto the table and hacked into his throat with the axe, and laid him down\\non the ground to bleed; I say ground because it was ground--hard packed,\\nand no boards. \\xa0Well, next I took an old sack and put a lot of big rocks\\nin it--all I could drag--and I started it from the pig, and dragged it to\\nthe door and through the woods down to the river and dumped it in, and\\ndown it sunk, out of sight. \\xa0You could easy see that something had been\\ndragged over the ground. \\xa0I did wish Tom Sawyer was there; I knowed he\\nwould take an interest in this kind of business, and throw in the fancy\\ntouches. \\xa0Nobody could spread himself like Tom Sawyer in such a thing as\\nthat.\\n\\nWell, last I pulled out some of my hair, and blooded the axe good, and\\nstuck it on the back side, and slung the axe in the corner. \\xa0Then I\\ntook up the pig and held him to my breast with my jacket (so he couldn’t\\ndrip) till I got a good piece below the house and then dumped him into\\nthe river. \\xa0Now I thought of something else. \\xa0So I went and got the bag\\nof meal and my old saw out of the canoe, and fetched them to the house.\\n\\xa0I took the bag to where it used to stand, and ripped a hole in the\\nbottom of it with the saw, for there warn’t no knives and forks on the\\nplace--pap done everything with his clasp-knife about the cooking. \\xa0Then\\nI carried the sack about a hundred yards across the grass and through\\nthe willows east of the house, to a shallow lake that was five mile wide\\nand full of rushes--and ducks too, you might say, in the season. \\xa0There\\nwas a slough or a creek leading out of it on the other side that went\\nmiles away, I don’t know where, but it didn’t go to the river. \\xa0The meal\\nsifted out and made a little track all the way to the lake. \\xa0I dropped\\npap’s whetstone there too, so as to look like it had been done by\\naccident. Then I tied up the rip in the meal sack with a string, so it\\nwouldn’t leak no more, and took it and my saw to the canoe again.\\n\\nIt was about dark now; so I dropped the canoe down the river under some\\nwillows that hung over the bank, and waited for the moon to rise. \\xa0I\\nmade fast to a willow; then I took a bite to eat, and by and by laid\\ndown in the canoe to smoke a pipe and lay out a plan. \\xa0I says to myself,\\nthey’ll follow the track of that sackful of rocks to the shore and then\\ndrag the river for me. \\xa0And they’ll follow that meal track to the lake\\nand go browsing down the creek that leads out of it to find the robbers\\nthat killed me and took the things. \\xa0They won’t ever hunt the river for\\nanything but my dead carcass. They’ll soon get tired of that, and won’t\\nbother no more about me. \\xa0All right; I can stop anywhere I want to.\\nJackson’s Island is good enough for me; I know that island pretty well,\\nand nobody ever comes there. \\xa0And then I can paddle over to town nights,\\nand slink around and pick up things I want. Jackson’s Island’s the\\nplace.\\n\\nI was pretty tired, and the first thing I knowed I was asleep. \\xa0When\\nI woke up I didn’t know where I was for a minute. \\xa0I set up and looked\\naround, a little scared. \\xa0Then I remembered. \\xa0The river looked miles and\\nmiles across. \\xa0The moon was so bright I could a counted the drift logs\\nthat went a-slipping along, black and still, hundreds of yards out from\\nshore. Everything was dead quiet, and it looked late, and _smelt_ late.\\nYou know what I mean--I don’t know the words to put it in.\\n\\nI took a good gap and a stretch, and was just going to unhitch and start\\nwhen I heard a sound away over the water. \\xa0I listened. \\xa0Pretty soon I\\nmade it out. \\xa0It was that dull kind of a regular sound that comes from\\noars working in rowlocks when it’s a still night. \\xa0I peeped out through\\nthe willow branches, and there it was--a skiff, away across the water.\\n\\xa0I couldn’t tell how many was in it. \\xa0It kept a-coming, and when it was\\nabreast of me I see there warn’t but one man in it. \\xa0Think’s I, maybe\\nit’s pap, though I warn’t expecting him. \\xa0He dropped below me with the\\ncurrent, and by and by he came a-swinging up shore in the easy water,\\nand he went by so close I could a reached out the gun and touched him.\\n\\xa0Well, it _was_ pap, sure enough--and sober, too, by the way he laid his\\noars.\\n\\nI didn’t lose no time. \\xa0The next minute I was a-spinning down stream\\nsoft but quick in the shade of the bank. \\xa0I made two mile and a half,\\nand then struck out a quarter of a mile or more towards the middle of\\nthe river, because pretty soon I would be passing the ferry landing, and\\npeople might see me and hail me. \\xa0I got out amongst the driftwood, and\\nthen laid down in the bottom of the canoe and let her float.\\n\\n\\xa0I laid there, and had a good rest and a smoke out of my pipe, looking\\naway into the sky; not a cloud in it. \\xa0The sky looks ever so deep when\\nyou lay down on your back in the moonshine; I never knowed it before.\\n\\xa0And how far a body can hear on the water such nights! \\xa0I heard people\\ntalking at the ferry landing. I heard what they said, too--every word\\nof it. \\xa0One man said it was getting towards the long days and the short\\nnights now. \\xa0T’other one said _this_ warn’t one of the short ones, he\\nreckoned--and then they laughed, and he said it over again, and they\\nlaughed again; then they waked up another fellow and told him, and\\nlaughed, but he didn’t laugh; he ripped out something brisk, and said\\nlet him alone. \\xa0The first fellow said he ‘lowed to tell it to his\\nold woman--she would think it was pretty good; but he said that warn’t\\nnothing to some things he had said in his time. I heard one man say it\\nwas nearly three o’clock, and he hoped daylight wouldn’t wait more than\\nabout a week longer. \\xa0After that the talk got further and further away,\\nand I couldn’t make out the words any more; but I could hear the mumble,\\nand now and then a laugh, too, but it seemed a long ways off.\\n\\nI was away below the ferry now. \\xa0I rose up, and there was Jackson’s\\nIsland, about two mile and a half down stream, heavy timbered and\\nstanding up out of the middle of the river, big and dark and solid, like\\na steamboat without any lights. \\xa0There warn’t any signs of the bar at\\nthe head--it was all under water now.\\n\\nIt didn’t take me long to get there. \\xa0I shot past the head at a ripping\\nrate, the current was so swift, and then I got into the dead water and\\nlanded on the side towards the Illinois shore. \\xa0I run the canoe into\\na deep dent in the bank that I knowed about; I had to part the willow\\nbranches to get in; and when I made fast nobody could a seen the canoe\\nfrom the outside.\\n\\nI went up and set down on a log at the head of the island, and looked\\nout on the big river and the black driftwood and away over to the town,\\nthree mile away, where there was three or four lights twinkling. \\xa0A\\nmonstrous big lumber-raft was about a mile up stream, coming along down,\\nwith a lantern in the middle of it. \\xa0I watched it come creeping down,\\nand when it was most abreast of where I stood I heard a man say, “Stern\\noars, there! heave her head to stabboard!” \\xa0I heard that just as plain\\nas if the man was by my side.\\n\\nThere was a little gray in the sky now; so I stepped into the woods, and\\nlaid down for a nap before breakfast.\\n\\n\\n\\n\\nCHAPTER VIII.\\n\\nTHE sun was up so high when I waked that I judged it was after eight\\no’clock. \\xa0I laid there in the grass and the cool shade thinking about\\nthings, and feeling rested and ruther comfortable and satisfied. \\xa0I\\ncould see the sun out at one or two holes, but mostly it was big trees\\nall about, and gloomy in there amongst them. \\xa0There was freckled places\\non the ground where the light sifted down through the leaves, and the\\nfreckled places swapped about a little, showing there was a little\\nbreeze up there. \\xa0A couple of squirrels set on a limb and jabbered at me\\nvery friendly.\\n\\nI was powerful lazy and comfortable--didn’t want to get up and cook\\nbreakfast. \\xa0Well, I was dozing off again when I thinks I hears a deep\\nsound of “boom!” away up the river. \\xa0I rouses up, and rests on my elbow\\nand listens; pretty soon I hears it again. \\xa0I hopped up, and went and\\nlooked out at a hole in the leaves, and I see a bunch of smoke laying\\non the water a long ways up--about abreast the ferry. \\xa0And there was the\\nferryboat full of people floating along down. \\xa0I knowed what was the\\nmatter now.  “Boom!” I see the white smoke squirt out of the ferryboat’s\\nside. \\xa0You see, they was firing cannon over the water, trying to make my\\ncarcass come to the top.\\n\\nI was pretty hungry, but it warn’t going to do for me to start a fire,\\nbecause they might see the smoke. \\xa0So I set there and watched the\\ncannon-smoke and listened to the boom. \\xa0The river was a mile wide there,\\nand it always looks pretty on a summer morning--so I was having a good\\nenough time seeing them hunt for my remainders if I only had a bite to\\neat. Well, then I happened to think how they always put quicksilver in\\nloaves of bread and float them off, because they always go right to the\\ndrownded carcass and stop there. \\xa0So, says I, I’ll keep a lookout, and\\nif any of them’s floating around after me I’ll give them a show. \\xa0I\\nchanged to the Illinois edge of the island to see what luck I could\\nhave, and I warn’t disappointed. \\xa0A big double loaf come along, and I\\nmost got it with a long stick, but my foot slipped and she floated out\\nfurther. \\xa0Of course I was where the current set in the closest to the\\nshore--I knowed enough for that. \\xa0But by and by along comes another one,\\nand this time I won. \\xa0I took out the plug and shook out the little dab\\nof quicksilver, and set my teeth in. \\xa0It was “baker’s bread”--what the\\nquality eat; none of your low-down corn-pone.\\n\\nI got a good place amongst the leaves, and set there on a log, munching\\nthe bread and watching the ferry-boat, and very well satisfied. \\xa0And\\nthen something struck me. \\xa0I says, now I reckon the widow or the parson\\nor somebody prayed that this bread would find me, and here it has gone\\nand done it. \\xa0So there ain’t no doubt but there is something in that\\nthing--that is, there’s something in it when a body like the widow or the\\nparson prays, but it don’t work for me, and I reckon it don’t work for\\nonly just the right kind.\\n\\nI lit a pipe and had a good long smoke, and went on watching. \\xa0The\\nferryboat was floating with the current, and I allowed I’d have a chance\\nto see who was aboard when she come along, because she would come in\\nclose, where the bread did. \\xa0When she’d got pretty well along down\\ntowards me, I put out my pipe and went to where I fished out the bread,\\nand laid down behind a log on the bank in a little open place. \\xa0Where\\nthe log forked I could peep through.\\n\\nBy and by she come along, and she drifted in so close that they could\\na run out a plank and walked ashore. \\xa0Most everybody was on the boat.\\n\\xa0Pap, and Judge Thatcher, and Bessie Thatcher, and Jo Harper, and Tom\\nSawyer, and his old Aunt Polly, and Sid and Mary, and plenty more.\\n\\xa0Everybody was talking about the murder, but the captain broke in and\\nsays:\\n\\n“Look sharp, now; the current sets in the closest here, and maybe he’s\\nwashed ashore and got tangled amongst the brush at the water’s edge. \\xa0I\\nhope so, anyway.”\\n\\nI didn’t hope so. \\xa0They all crowded up and leaned over the rails, nearly\\nin my face, and kept still, watching with all their might. \\xa0I could see\\nthem first-rate, but they couldn’t see me. \\xa0Then the captain sung out:\\n\\n“Stand away!” and the cannon let off such a blast right before me that\\nit made me deef with the noise and pretty near blind with the smoke, and\\nI judged I was gone. \\xa0If they’d a had some bullets in, I reckon they’d\\na got the corpse they was after. \\xa0Well, I see I warn’t hurt, thanks to\\ngoodness. The boat floated on and went out of sight around the shoulder\\nof the island. \\xa0I could hear the booming now and then, further and\\nfurther off, and by and by, after an hour, I didn’t hear it no more.\\n\\xa0The island was three mile long. \\xa0I judged they had got to the foot, and\\nwas giving it up. \\xa0But they didn’t yet a while. \\xa0They turned around\\nthe foot of the island and started up the channel on the Missouri side,\\nunder steam, and booming once in a while as they went. \\xa0I crossed over\\nto that side and watched them. When they got abreast the head of the\\nisland they quit shooting and dropped over to the Missouri shore and\\nwent home to the town.\\n\\nI knowed I was all right now. \\xa0Nobody else would come a-hunting after\\nme. I got my traps out of the canoe and made me a nice camp in the thick\\nwoods. \\xa0I made a kind of a tent out of my blankets to put my things\\nunder so the rain couldn’t get at them. \\xa0I catched a catfish and haggled\\nhim open with my saw, and towards sundown I started my camp fire and had\\nsupper. \\xa0Then I set out a line to catch some fish for breakfast.\\n\\nWhen it was dark I set by my camp fire smoking, and feeling pretty well\\nsatisfied; but by and by it got sort of lonesome, and so I went and set\\non the bank and listened to the current swashing along, and counted the\\nstars and drift logs and rafts that come down, and then went to bed;\\nthere ain’t no better way to put in time when you are lonesome; you\\ncan’t stay so, you soon get over it.\\n\\nAnd so for three days and nights. \\xa0No difference--just the same thing.\\nBut the next day I went exploring around down through the island. \\xa0I was\\nboss of it; it all belonged to me, so to say, and I wanted to know\\nall about it; but mainly I wanted to put in the time. \\xa0I found plenty\\nstrawberries, ripe and prime; and green summer grapes, and green\\nrazberries; and the green blackberries was just beginning to show. \\xa0They\\nwould all come handy by and by, I judged.\\n\\nWell, I went fooling along in the deep woods till I judged I warn’t\\nfar from the foot of the island. \\xa0I had my gun along, but I hadn’t shot\\nnothing; it was for protection; thought I would kill some game nigh\\nhome. About this time I mighty near stepped on a good-sized snake,\\nand it went sliding off through the grass and flowers, and I after\\nit, trying to get a shot at it. I clipped along, and all of a sudden I\\nbounded right on to the ashes of a camp fire that was still smoking.\\n\\nMy heart jumped up amongst my lungs. \\xa0I never waited for to look\\nfurther, but uncocked my gun and went sneaking back on my tiptoes as\\nfast as ever I could. \\xa0Every now and then I stopped a second amongst the\\nthick leaves and listened, but my breath come so hard I couldn’t hear\\nnothing else. \\xa0I slunk along another piece further, then listened again;\\nand so on, and so on. \\xa0If I see a stump, I took it for a man; if I trod\\non a stick and broke it, it made me feel like a person had cut one of my\\nbreaths in two and I only got half, and the short half, too.\\n\\nWhen I got to camp I warn’t feeling very brash, there warn’t much sand\\nin my craw; but I says, this ain’t no time to be fooling around. \\xa0So I\\ngot all my traps into my canoe again so as to have them out of sight,\\nand I put out the fire and scattered the ashes around to look like an\\nold last year’s camp, and then clumb a tree.\\n\\nI reckon I was up in the tree two hours; but I didn’t see nothing,\\nI didn’t hear nothing--I only _thought_ I heard and seen as much as a\\nthousand things. \\xa0Well, I couldn’t stay up there forever; so at last I\\ngot down, but I kept in the thick woods and on the lookout all the\\ntime. All I could get to eat was berries and what was left over from\\nbreakfast.\\n\\nBy the time it was night I was pretty hungry. \\xa0So when it was good\\nand dark I slid out from shore before moonrise and paddled over to the\\nIllinois bank--about a quarter of a mile. \\xa0I went out in the woods and\\ncooked a supper, and I had about made up my mind I would stay there\\nall night when I hear a _plunkety-plunk, plunkety-plunk_, and says\\nto myself, horses coming; and next I hear people’s voices. \\xa0I got\\neverything into the canoe as quick as I could, and then went creeping\\nthrough the woods to see what I could find out. \\xa0I hadn’t got far when I\\nhear a man say:\\n\\n“We better camp here if we can find a good place; the horses is about\\nbeat out. \\xa0Let’s look around.”\\n\\nI didn’t wait, but shoved out and paddled away easy. \\xa0I tied up in the\\nold place, and reckoned I would sleep in the canoe.\\n\\nI didn’t sleep much. \\xa0I couldn’t, somehow, for thinking. \\xa0And every time\\nI waked up I thought somebody had me by the neck. \\xa0So the sleep didn’t\\ndo me no good. \\xa0By and by I says to myself, I can’t live this way; I’m\\na-going to find out who it is that’s here on the island with me; I’ll\\nfind it out or bust. \\xa0Well, I felt better right off.\\n\\nSo I took my paddle and slid out from shore just a step or two, and\\nthen let the canoe drop along down amongst the shadows. \\xa0The moon was\\nshining, and outside of the shadows it made it most as light as day.\\n\\xa0I poked along well on to an hour, everything still as rocks and sound\\nasleep. Well, by this time I was most down to the foot of the island. \\xa0A\\nlittle ripply, cool breeze begun to blow, and that was as good as saying\\nthe night was about done. \\xa0I give her a turn with the paddle and brung\\nher nose to shore; then I got my gun and slipped out and into the edge\\nof the woods. \\xa0I sat down there on a log, and looked out through the\\nleaves. \\xa0I see the moon go off watch, and the darkness begin to blanket\\nthe river. But in a little while I see a pale streak over the treetops,\\nand knowed the day was coming. \\xa0So I took my gun and slipped off towards\\nwhere I had run across that camp fire, stopping every minute or two\\nto listen. \\xa0But I hadn’t no luck somehow; I couldn’t seem to find the\\nplace. \\xa0But by and by, sure enough, I catched a glimpse of fire away\\nthrough the trees. \\xa0I went for it, cautious and slow. \\xa0By and by I was\\nclose enough to have a look, and there laid a man on the ground. \\xa0It\\nmost give me the fan-tods. He had a blanket around his head, and his\\nhead was nearly in the fire. \\xa0I set there behind a clump of bushes, in\\nabout six foot of him, and kept my eyes on him steady. \\xa0It was getting\\ngray daylight now. \\xa0Pretty soon he gapped and stretched himself and hove\\noff the blanket, and it was Miss Watson’s Jim! \\xa0I bet I was glad to see\\nhim. \\xa0I says:\\n\\n“Hello, Jim!” and skipped out.\\n\\nHe bounced up and stared at me wild. \\xa0Then he drops down on his knees,\\nand puts his hands together and says:\\n\\n“Doan’ hurt me--don’t! \\xa0I hain’t ever done no harm to a ghos’. \\xa0I alwuz\\nliked dead people, en done all I could for ‘em. \\xa0You go en git in de\\nriver agin, whah you b’longs, en doan’ do nuffn to Ole Jim, ‘at ‘uz\\nawluz yo’ fren’.”\\n\\nWell, I warn’t long making him understand I warn’t dead. \\xa0I was ever so\\nglad to see Jim. \\xa0I warn’t lonesome now. \\xa0I told him I warn’t afraid of\\n_him_ telling the people where I was. \\xa0I talked along, but he only set\\nthere and looked at me; never said nothing. \\xa0Then I says:\\n\\n“It’s good daylight. \\xa0Le’s get breakfast. \\xa0Make up your camp fire good.”\\n\\n“What’s de use er makin’ up de camp fire to cook strawbries en sich\\ntruck? But you got a gun, hain’t you? \\xa0Den we kin git sumfn better den\\nstrawbries.”\\n\\n“Strawberries and such truck,” I says.  “Is that what you live on?”\\n\\n“I couldn’ git nuffn else,” he says.\\n\\n“Why, how long you been on the island, Jim?”\\n\\n“I come heah de night arter you’s killed.”\\n\\n“What, all that time?”\\n\\n“Yes--indeedy.”\\n\\n“And ain’t you had nothing but that kind of rubbage to eat?”\\n\\n“No, sah--nuffn else.”\\n\\n“Well, you must be most starved, ain’t you?”\\n\\n“I reck’n I could eat a hoss. \\xa0I think I could. How long you ben on de\\nislan’?”\\n\\n“Since the night I got killed.”\\n\\n“No! \\xa0W’y, what has you lived on? \\xa0But you got a gun. \\xa0Oh, yes, you got\\na gun. \\xa0Dat’s good. \\xa0Now you kill sumfn en I’ll make up de fire.”\\n\\nSo we went over to where the canoe was, and while he built a fire in\\na grassy open place amongst the trees, I fetched meal and bacon and\\ncoffee, and coffee-pot and frying-pan, and sugar and tin cups, and the\\nnigger was set back considerable, because he reckoned it was all done\\nwith witchcraft. I catched a good big catfish, too, and Jim cleaned him\\nwith his knife, and fried him.\\n\\nWhen breakfast was ready we lolled on the grass and eat it smoking hot.\\nJim laid it in with all his might, for he was most about starved. \\xa0Then\\nwhen we had got pretty well stuffed, we laid off and lazied. \\xa0By and by\\nJim says:\\n\\n“But looky here, Huck, who wuz it dat ‘uz killed in dat shanty ef it\\nwarn’t you?”\\n\\nThen I told him the whole thing, and he said it was smart. \\xa0He said Tom\\nSawyer couldn’t get up no better plan than what I had. \\xa0Then I says:\\n\\n“How do you come to be here, Jim, and how’d you get here?”\\n\\nHe looked pretty uneasy, and didn’t say nothing for a minute. \\xa0Then he\\nsays:\\n\\n“Maybe I better not tell.”\\n\\n“Why, Jim?”\\n\\n“Well, dey’s reasons. \\xa0But you wouldn’ tell on me ef I uz to tell you,\\nwould you, Huck?”\\n\\n“Blamed if I would, Jim.”\\n\\n“Well, I b’lieve you, Huck. \\xa0I--_I run off_.”\\n\\n“Jim!”\\n\\n“But mind, you said you wouldn’ tell--you know you said you wouldn’ tell,\\nHuck.”\\n\\n“Well, I did. \\xa0I said I wouldn’t, and I’ll stick to it. \\xa0Honest _injun_,\\nI will. \\xa0People would call me a low-down Abolitionist and despise me for\\nkeeping mum--but that don’t make no difference. \\xa0I ain’t a-going to tell,\\nand I ain’t a-going back there, anyways. \\xa0So, now, le’s know all about\\nit.”\\n\\n“Well, you see, it ‘uz dis way. \\xa0Ole missus--dat’s Miss Watson--she pecks\\non me all de time, en treats me pooty rough, but she awluz said she\\nwouldn’ sell me down to Orleans. \\xa0But I noticed dey wuz a nigger trader\\nroun’ de place considable lately, en I begin to git oneasy. \\xa0Well, one\\nnight I creeps to de do’ pooty late, en de do’ warn’t quite shet, en I\\nhear old missus tell de widder she gwyne to sell me down to Orleans, but\\nshe didn’ want to, but she could git eight hund’d dollars for me, en it\\n‘uz sich a big stack o’ money she couldn’ resis’. \\xa0De widder she try to\\ngit her to say she wouldn’ do it, but I never waited to hear de res’. \\xa0I\\nlit out mighty quick, I tell you.\\n\\n“I tuck out en shin down de hill, en ‘spec to steal a skift ‘long de\\nsho’ som’ers ‘bove de town, but dey wuz people a-stirring yit, so I hid\\nin de ole tumble-down cooper-shop on de bank to wait for everybody to\\ngo ‘way. Well, I wuz dah all night. \\xa0Dey wuz somebody roun’ all de time.\\n ‘Long ‘bout six in de mawnin’ skifts begin to go by, en ‘bout eight er\\nnine every skift dat went ‘long wuz talkin’ ‘bout how yo’ pap come over\\nto de town en say you’s killed. \\xa0Dese las’ skifts wuz full o’ ladies en\\ngenlmen a-goin’ over for to see de place. \\xa0Sometimes dey’d pull up at\\nde sho’ en take a res’ b’fo’ dey started acrost, so by de talk I got to\\nknow all ‘bout de killin’. \\xa0I ‘uz powerful sorry you’s killed, Huck, but\\nI ain’t no mo’ now.\\n\\n“I laid dah under de shavin’s all day. \\xa0I ‘uz hungry, but I warn’t\\nafeard; bekase I knowed ole missus en de widder wuz goin’ to start to\\nde camp-meet’n’ right arter breakfas’ en be gone all day, en dey knows\\nI goes off wid de cattle ‘bout daylight, so dey wouldn’ ‘spec to see me\\nroun’ de place, en so dey wouldn’ miss me tell arter dark in de evenin’.\\nDe yuther servants wouldn’ miss me, kase dey’d shin out en take holiday\\nsoon as de ole folks ‘uz out’n de way.\\n\\n“Well, when it come dark I tuck out up de river road, en went ‘bout two\\nmile er more to whah dey warn’t no houses. \\xa0I’d made up my mine ‘bout\\nwhat I’s agwyne to do. \\xa0You see, ef I kep’ on tryin’ to git away afoot,\\nde dogs ‘ud track me; ef I stole a skift to cross over, dey’d miss dat\\nskift, you see, en dey’d know ‘bout whah I’d lan’ on de yuther side, en\\nwhah to pick up my track. \\xa0So I says, a raff is what I’s arter; it doan’\\n_make_ no track.\\n\\n“I see a light a-comin’ roun’ de p’int bymeby, so I wade’ in en shove’\\na log ahead o’ me en swum more’n half way acrost de river, en got in\\n‘mongst de drift-wood, en kep’ my head down low, en kinder swum agin de\\ncurrent tell de raff come along. \\xa0Den I swum to de stern uv it en tuck\\na-holt. \\xa0It clouded up en ‘uz pooty dark for a little while. \\xa0So I clumb\\nup en laid down on de planks. \\xa0De men ‘uz all ‘way yonder in de middle,\\nwhah de lantern wuz. \\xa0De river wuz a-risin’, en dey wuz a good current;\\nso I reck’n’d ‘at by fo’ in de mawnin’ I’d be twenty-five mile down de\\nriver, en den I’d slip in jis b’fo’ daylight en swim asho’, en take to\\nde woods on de Illinois side.\\n\\n“But I didn’ have no luck. \\xa0When we ‘uz mos’ down to de head er de\\nislan’ a man begin to come aft wid de lantern, I see it warn’t no use\\nfer to wait, so I slid overboard en struck out fer de islan’. \\xa0Well, I\\nhad a notion I could lan’ mos’ anywhers, but I couldn’t--bank too bluff.\\n\\xa0I ‘uz mos’ to de foot er de islan’ b’fo’ I found’ a good place. \\xa0I went\\ninto de woods en jedged I wouldn’ fool wid raffs no mo’, long as dey\\nmove de lantern roun’ so. \\xa0I had my pipe en a plug er dog-leg, en some\\nmatches in my cap, en dey warn’t wet, so I ‘uz all right.”\\n\\n“And so you ain’t had no meat nor bread to eat all this time? \\xa0Why\\ndidn’t you get mud-turkles?”\\n\\n“How you gwyne to git ‘m? \\xa0You can’t slip up on um en grab um; en how’s\\na body gwyne to hit um wid a rock? \\xa0How could a body do it in de night?\\n\\xa0En I warn’t gwyne to show mysef on de bank in de daytime.”\\n\\n“Well, that’s so. \\xa0You’ve had to keep in the woods all the time, of\\ncourse. Did you hear ‘em shooting the cannon?”\\n\\n“Oh, yes. \\xa0I knowed dey was arter you. \\xa0I see um go by heah--watched um\\nthoo de bushes.”\\n\\nSome young birds come along, flying a yard or two at a time and\\nlighting. Jim said it was a sign it was going to rain. \\xa0He said it was\\na sign when young chickens flew that way, and so he reckoned it was the\\nsame way when young birds done it. \\xa0I was going to catch some of them,\\nbut Jim wouldn’t let me. \\xa0He said it was death. \\xa0He said his father laid\\nmighty sick once, and some of them catched a bird, and his old granny\\nsaid his father would die, and he did.\\n\\nAnd Jim said you mustn’t count the things you are going to cook for\\ndinner, because that would bring bad luck. \\xa0The same if you shook the\\ntable-cloth after sundown. \\xa0And he said if a man owned a beehive\\nand that man died, the bees must be told about it before sun-up next\\nmorning, or else the bees would all weaken down and quit work and die.\\n\\xa0Jim said bees wouldn’t sting idiots; but I didn’t believe that, because\\nI had tried them lots of times myself, and they wouldn’t sting me.\\n\\nI had heard about some of these things before, but not all of them. \\xa0Jim\\nknowed all kinds of signs. \\xa0He said he knowed most everything. \\xa0I said\\nit looked to me like all the signs was about bad luck, and so I asked\\nhim if there warn’t any good-luck signs. \\xa0He says:\\n\\n“Mighty few--an’ _dey_ ain’t no use to a body. \\xa0What you want to know\\nwhen good luck’s a-comin’ for? \\xa0Want to keep it off?” \\xa0And he said:  “Ef\\nyou’s got hairy arms en a hairy breas’, it’s a sign dat you’s agwyne\\nto be rich. Well, dey’s some use in a sign like dat, ‘kase it’s so fur\\nahead. You see, maybe you’s got to be po’ a long time fust, en so you\\nmight git discourage’ en kill yo’sef ‘f you didn’ know by de sign dat\\nyou gwyne to be rich bymeby.”\\n\\n“Have you got hairy arms and a hairy breast, Jim?”\\n\\n“What’s de use to ax dat question? \\xa0Don’t you see I has?”\\n\\n“Well, are you rich?”\\n\\n“No, but I ben rich wunst, and gwyne to be rich agin. \\xa0Wunst I had\\nfoteen dollars, but I tuck to specalat’n’, en got busted out.”\\n\\n“What did you speculate in, Jim?”\\n\\n“Well, fust I tackled stock.”\\n\\n“What kind of stock?”\\n\\n“Why, live stock--cattle, you know. \\xa0I put ten dollars in a cow. \\xa0But\\nI ain’ gwyne to resk no mo’ money in stock. \\xa0De cow up ‘n’ died on my\\nhan’s.”\\n\\n“So you lost the ten dollars.”\\n\\n“No, I didn’t lose it all. \\xa0I on’y los’ ‘bout nine of it. \\xa0I sole de\\nhide en taller for a dollar en ten cents.”\\n\\n“You had five dollars and ten cents left. \\xa0Did you speculate any more?”\\n\\n“Yes. \\xa0You know that one-laigged nigger dat b’longs to old Misto\\nBradish? Well, he sot up a bank, en say anybody dat put in a dollar\\nwould git fo’ dollars mo’ at de en’ er de year. \\xa0Well, all de niggers\\nwent in, but dey didn’t have much. \\xa0I wuz de on’y one dat had much. \\xa0So\\nI stuck out for mo’ dan fo’ dollars, en I said ‘f I didn’ git it I’d\\nstart a bank mysef. Well, o’ course dat nigger want’ to keep me out er\\nde business, bekase he says dey warn’t business ‘nough for two banks, so\\nhe say I could put in my five dollars en he pay me thirty-five at de en’\\ner de year.\\n\\n“So I done it. \\xa0Den I reck’n’d I’d inves’ de thirty-five dollars right\\noff en keep things a-movin’. \\xa0Dey wuz a nigger name’ Bob, dat had\\nketched a wood-flat, en his marster didn’ know it; en I bought it off’n\\nhim en told him to take de thirty-five dollars when de en’ er de\\nyear come; but somebody stole de wood-flat dat night, en nex day de\\none-laigged nigger say de bank’s busted. \\xa0So dey didn’ none uv us git no\\nmoney.”\\n\\n“What did you do with the ten cents, Jim?”\\n\\n“Well, I ‘uz gwyne to spen’ it, but I had a dream, en de dream tole me\\nto give it to a nigger name’ Balum--Balum’s Ass dey call him for short;\\nhe’s one er dem chuckleheads, you know. \\xa0But he’s lucky, dey say, en I\\nsee I warn’t lucky. \\xa0De dream say let Balum inves’ de ten cents en he’d\\nmake a raise for me. \\xa0Well, Balum he tuck de money, en when he wuz in\\nchurch he hear de preacher say dat whoever give to de po’ len’ to de\\nLord, en boun’ to git his money back a hund’d times. \\xa0So Balum he tuck\\nen give de ten cents to de po’, en laid low to see what wuz gwyne to\\ncome of it.”\\n\\n“Well, what did come of it, Jim?”\\n\\n“Nuffn never come of it. \\xa0I couldn’ manage to k’leck dat money no way;\\nen Balum he couldn’. \\xa0I ain’ gwyne to len’ no mo’ money ‘dout I see de\\nsecurity. \\xa0Boun’ to git yo’ money back a hund’d times, de preacher says!\\nEf I could git de ten _cents_ back, I’d call it squah, en be glad er de\\nchanst.”\\n\\n“Well, it’s all right anyway, Jim, long as you’re going to be rich again\\nsome time or other.”\\n\\n“Yes; en I’s rich now, come to look at it. \\xa0I owns mysef, en I’s wuth\\neight hund’d dollars. \\xa0I wisht I had de money, I wouldn’ want no mo’.”\\n\\n\\n\\n\\nCHAPTER IX.\\n\\nI wanted to go and look at a place right about the middle of the island\\nthat I’d found when I was exploring; so we started and soon got to it,\\nbecause the island was only three miles long and a quarter of a mile\\nwide.\\n\\nThis place was a tolerable long, steep hill or ridge about forty foot\\nhigh. We had a rough time getting to the top, the sides was so steep and\\nthe bushes so thick. \\xa0We tramped and clumb around all over it, and by\\nand by found a good big cavern in the rock, most up to the top on the\\nside towards Illinois. \\xa0The cavern was as big as two or three rooms\\nbunched together, and Jim could stand up straight in it. \\xa0It was cool in\\nthere. Jim was for putting our traps in there right away, but I said we\\ndidn’t want to be climbing up and down there all the time.\\n\\nJim said if we had the canoe hid in a good place, and had all the traps\\nin the cavern, we could rush there if anybody was to come to the island,\\nand they would never find us without dogs. \\xa0And, besides, he said them\\nlittle birds had said it was going to rain, and did I want the things to\\nget wet?\\n\\nSo we went back and got the canoe, and paddled up abreast the cavern,\\nand lugged all the traps up there. \\xa0Then we hunted up a place close by\\nto hide the canoe in, amongst the thick willows. \\xa0We took some fish off\\nof the lines and set them again, and begun to get ready for dinner.\\n\\nThe door of the cavern was big enough to roll a hogshead in, and on one\\nside of the door the floor stuck out a little bit, and was flat and a\\ngood place to build a fire on. \\xa0So we built it there and cooked dinner.\\n\\nWe spread the blankets inside for a carpet, and eat our dinner in there.\\nWe put all the other things handy at the back of the cavern. \\xa0Pretty\\nsoon it darkened up, and begun to thunder and lighten; so the birds was\\nright about it. \\xa0Directly it begun to rain, and it rained like all fury,\\ntoo, and I never see the wind blow so. \\xa0It was one of these regular\\nsummer storms. \\xa0It would get so dark that it looked all blue-black\\noutside, and lovely; and the rain would thrash along by so thick that\\nthe trees off a little ways looked dim and spider-webby; and here would\\ncome a blast of wind that would bend the trees down and turn up the\\npale underside of the leaves; and then a perfect ripper of a gust would\\nfollow along and set the branches to tossing their arms as if they\\nwas just wild; and next, when it was just about the bluest and\\nblackest--_FST_! it was as bright as glory, and you’d have a little\\nglimpse of tree-tops a-plunging about away off yonder in the storm,\\nhundreds of yards further than you could see before; dark as sin again\\nin a second, and now you’d hear the thunder let go with an awful crash,\\nand then go rumbling, grumbling, tumbling, down the sky towards the\\nunder side of the world, like rolling empty barrels down stairs--where\\nit’s long stairs and they bounce a good deal, you know.\\n\\n“Jim, this is nice,” I says.  “I wouldn’t want to be nowhere else but\\nhere. Pass me along another hunk of fish and some hot corn-bread.”\\n\\n“Well, you wouldn’t a ben here ‘f it hadn’t a ben for Jim. \\xa0You’d a ben\\ndown dah in de woods widout any dinner, en gittn’ mos’ drownded, too;\\ndat you would, honey. \\xa0Chickens knows when it’s gwyne to rain, en so do\\nde birds, chile.”\\n\\nThe river went on raising and raising for ten or twelve days, till at\\nlast it was over the banks. \\xa0The water was three or four foot deep on\\nthe island in the low places and on the Illinois bottom. \\xa0On that side\\nit was a good many miles wide, but on the Missouri side it was the same\\nold distance across--a half a mile--because the Missouri shore was just a\\nwall of high bluffs.\\n\\nDaytimes we paddled all over the island in the canoe, It was mighty cool\\nand shady in the deep woods, even if the sun was blazing outside. \\xa0We\\nwent winding in and out amongst the trees, and sometimes the vines hung\\nso thick we had to back away and go some other way. \\xa0Well, on every old\\nbroken-down tree you could see rabbits and snakes and such things; and\\nwhen the island had been overflowed a day or two they got so tame, on\\naccount of being hungry, that you could paddle right up and put your\\nhand on them if you wanted to; but not the snakes and turtles--they would\\nslide off in the water. \\xa0The ridge our cavern was in was full of them.\\nWe could a had pets enough if we’d wanted them.\\n\\nOne night we catched a little section of a lumber raft--nice pine planks.\\nIt was twelve foot wide and about fifteen or sixteen foot long, and\\nthe top stood above water six or seven inches--a solid, level floor. \\xa0We\\ncould see saw-logs go by in the daylight sometimes, but we let them go;\\nwe didn’t show ourselves in daylight.\\n\\nAnother night when we was up at the head of the island, just before\\ndaylight, here comes a frame-house down, on the west side. \\xa0She was\\na two-story, and tilted over considerable. \\xa0We paddled out and got\\naboard--clumb in at an upstairs window. \\xa0But it was too dark to see yet,\\nso we made the canoe fast and set in her to wait for daylight.\\n\\nThe light begun to come before we got to the foot of the island. \\xa0Then\\nwe looked in at the window. \\xa0We could make out a bed, and a table, and\\ntwo old chairs, and lots of things around about on the floor, and there\\nwas clothes hanging against the wall. \\xa0There was something laying on the\\nfloor in the far corner that looked like a man. \\xa0So Jim says:\\n\\n“Hello, you!”\\n\\nBut it didn’t budge. \\xa0So I hollered again, and then Jim says:\\n\\n“De man ain’t asleep--he’s dead. \\xa0You hold still--I’ll go en see.”\\n\\nHe went, and bent down and looked, and says:\\n\\n“It’s a dead man. \\xa0Yes, indeedy; naked, too. \\xa0He’s ben shot in de back.\\nI reck’n he’s ben dead two er three days. \\xa0Come in, Huck, but doan’ look\\nat his face--it’s too gashly.”\\n\\nI didn’t look at him at all. \\xa0Jim throwed some old rags over him, but\\nhe needn’t done it; I didn’t want to see him. \\xa0There was heaps of old\\ngreasy cards scattered around over the floor, and old whisky bottles,\\nand a couple of masks made out of black cloth; and all over the walls\\nwas the ignorantest kind of words and pictures made with charcoal.\\n\\xa0There was two old dirty calico dresses, and a sun-bonnet, and some\\nwomen’s underclothes hanging against the wall, and some men’s clothing,\\ntoo. \\xa0We put the lot into the canoe--it might come good. \\xa0There was a\\nboy’s old speckled straw hat on the floor; I took that, too. \\xa0And there\\nwas a bottle that had had milk in it, and it had a rag stopper for a\\nbaby to suck. \\xa0We would a took the bottle, but it was broke. \\xa0There was\\na seedy old chest, and an old hair trunk with the hinges broke. \\xa0They\\nstood open, but there warn’t nothing left in them that was any account.\\n\\xa0The way things was scattered about we reckoned the people left in a\\nhurry, and warn’t fixed so as to carry off most of their stuff.\\n\\nWe got an old tin lantern, and a butcher-knife without any handle, and\\na bran-new Barlow knife worth two bits in any store, and a lot of tallow\\ncandles, and a tin candlestick, and a gourd, and a tin cup, and a ratty\\nold bedquilt off the bed, and a reticule with needles and pins and\\nbeeswax and buttons and thread and all such truck in it, and a hatchet\\nand some nails, and a fishline as thick as my little finger with some\\nmonstrous hooks on it, and a roll of buckskin, and a leather dog-collar,\\nand a horseshoe, and some vials of medicine that didn’t have no label\\non them; and just as we was leaving I found a tolerable good curry-comb,\\nand Jim he found a ratty old fiddle-bow, and a wooden leg. \\xa0The straps\\nwas broke off of it, but, barring that, it was a good enough leg, though\\nit was too long for me and not long enough for Jim, and we couldn’t find\\nthe other one, though we hunted all around.\\n\\nAnd so, take it all around, we made a good haul. \\xa0When we was ready to\\nshove off we was a quarter of a mile below the island, and it was pretty\\nbroad day; so I made Jim lay down in the canoe and cover up with the\\nquilt, because if he set up people could tell he was a nigger a good\\nways off. \\xa0I paddled over to the Illinois shore, and drifted down most\\na half a mile doing it. \\xa0I crept up the dead water under the bank, and\\nhadn’t no accidents and didn’t see nobody. \\xa0We got home all safe.\\n\\n\\n\\n\\nCHAPTER X.\\n\\nAFTER breakfast I wanted to talk about the dead man and guess out how he\\ncome to be killed, but Jim didn’t want to. \\xa0He said it would fetch bad\\nluck; and besides, he said, he might come and ha’nt us; he said a man\\nthat warn’t buried was more likely to go a-ha’nting around than one\\nthat was planted and comfortable. \\xa0That sounded pretty reasonable, so\\nI didn’t say no more; but I couldn’t keep from studying over it and\\nwishing I knowed who shot the man, and what they done it for.\\n\\nWe rummaged the clothes we’d got, and found eight dollars in silver\\nsewed up in the lining of an old blanket overcoat. \\xa0Jim said he reckoned\\nthe people in that house stole the coat, because if they’d a knowed the\\nmoney was there they wouldn’t a left it. \\xa0I said I reckoned they killed\\nhim, too; but Jim didn’t want to talk about that. \\xa0I says:\\n\\n“Now you think it’s bad luck; but what did you say when I fetched in the\\nsnake-skin that I found on the top of the ridge day before yesterday?\\nYou said it was the worst bad luck in the world to touch a snake-skin\\nwith my hands. \\xa0Well, here’s your bad luck! \\xa0We’ve raked in all this\\ntruck and eight dollars besides. \\xa0I wish we could have some bad luck\\nlike this every day, Jim.”\\n\\n“Never you mind, honey, never you mind. \\xa0Don’t you git too peart. \\xa0It’s\\na-comin’. \\xa0Mind I tell you, it’s a-comin’.”\\n\\nIt did come, too. \\xa0It was a Tuesday that we had that talk. \\xa0Well, after\\ndinner Friday we was laying around in the grass at the upper end of the\\nridge, and got out of tobacco. \\xa0I went to the cavern to get some, and\\nfound a rattlesnake in there. \\xa0I killed him, and curled him up on the\\nfoot of Jim’s blanket, ever so natural, thinking there’d be some fun\\nwhen Jim found him there. \\xa0Well, by night I forgot all about the snake,\\nand when Jim flung himself down on the blanket while I struck a light\\nthe snake’s mate was there, and bit him.\\n\\nHe jumped up yelling, and the first thing the light showed was the\\nvarmint curled up and ready for another spring. \\xa0I laid him out in a\\nsecond with a stick, and Jim grabbed pap’s whisky-jug and begun to pour\\nit down.\\n\\nHe was barefooted, and the snake bit him right on the heel. \\xa0That all\\ncomes of my being such a fool as to not remember that wherever you leave\\na dead snake its mate always comes there and curls around it. \\xa0Jim told\\nme to chop off the snake’s head and throw it away, and then skin the\\nbody and roast a piece of it. \\xa0I done it, and he eat it and said it\\nwould help cure him. He made me take off the rattles and tie them around\\nhis wrist, too. \\xa0He said that that would help. \\xa0Then I slid out quiet\\nand throwed the snakes clear away amongst the bushes; for I warn’t going\\nto let Jim find out it was all my fault, not if I could help it.\\n\\nJim sucked and sucked at the jug, and now and then he got out of his\\nhead and pitched around and yelled; but every time he come to himself he\\nwent to sucking at the jug again. \\xa0His foot swelled up pretty big, and\\nso did his leg; but by and by the drunk begun to come, and so I judged\\nhe was all right; but I’d druther been bit with a snake than pap’s\\nwhisky.\\n\\nJim was laid up for four days and nights. \\xa0Then the swelling was all\\ngone and he was around again. \\xa0I made up my mind I wouldn’t ever take\\na-holt of a snake-skin again with my hands, now that I see what had come\\nof it. Jim said he reckoned I would believe him next time. \\xa0And he said\\nthat handling a snake-skin was such awful bad luck that maybe we hadn’t\\ngot to the end of it yet. \\xa0He said he druther see the new moon over his\\nleft shoulder as much as a thousand times than take up a snake-skin\\nin his hand. \\xa0Well, I was getting to feel that way myself, though I’ve\\nalways reckoned that looking at the new moon over your left shoulder is\\none of the carelessest and foolishest things a body can do. \\xa0Old Hank\\nBunker done it once, and bragged about it; and in less than two years he\\ngot drunk and fell off of the shot-tower, and spread himself out so\\nthat he was just a kind of a layer, as you may say; and they slid him\\nedgeways between two barn doors for a coffin, and buried him so, so\\nthey say, but I didn’t see it. \\xa0Pap told me. \\xa0But anyway it all come of\\nlooking at the moon that way, like a fool.\\n\\nWell, the days went along, and the river went down between its banks\\nagain; and about the first thing we done was to bait one of the big\\nhooks with a skinned rabbit and set it and catch a catfish that was\\nas big as a man, being six foot two inches long, and weighed over two\\nhundred pounds. We couldn’t handle him, of course; he would a flung us\\ninto Illinois. \\xa0We just set there and watched him rip and tear around\\ntill he drownded. \\xa0We found a brass button in his stomach and a round\\nball, and lots of rubbage. \\xa0We split the ball open with the hatchet,\\nand there was a spool in it. \\xa0Jim said he’d had it there a long time, to\\ncoat it over so and make a ball of it. \\xa0It was as big a fish as was ever\\ncatched in the Mississippi, I reckon. \\xa0Jim said he hadn’t ever seen\\na bigger one. \\xa0He would a been worth a good deal over at the village.\\n\\xa0They peddle out such a fish as that by the pound in the market-house\\nthere; everybody buys some of him; his meat’s as white as snow and makes\\na good fry.\\n\\nNext morning I said it was getting slow and dull, and I wanted to get a\\nstirring up some way. \\xa0I said I reckoned I would slip over the river and\\nfind out what was going on. \\xa0Jim liked that notion; but he said I\\nmust go in the dark and look sharp. \\xa0Then he studied it over and said,\\ncouldn’t I put on some of them old things and dress up like a girl?\\n\\xa0That was a good notion, too. \\xa0So we shortened up one of the calico\\ngowns, and I turned up my trouser-legs to my knees and got into it. \\xa0Jim\\nhitched it behind with the hooks, and it was a fair fit. \\xa0I put on the\\nsun-bonnet and tied it under my chin, and then for a body to look in\\nand see my face was like looking down a joint of stove-pipe. \\xa0Jim said\\nnobody would know me, even in the daytime, hardly. \\xa0I practiced around\\nall day to get the hang of the things, and by and by I could do pretty\\nwell in them, only Jim said I didn’t walk like a girl; and he said\\nI must quit pulling up my gown to get at my britches-pocket. \\xa0I took\\nnotice, and done better.\\n\\nI started up the Illinois shore in the canoe just after dark.\\n\\nI started across to the town from a little below the ferry-landing, and\\nthe drift of the current fetched me in at the bottom of the town. \\xa0I\\ntied up and started along the bank. \\xa0There was a light burning in a\\nlittle shanty that hadn’t been lived in for a long time, and I wondered\\nwho had took up quarters there. \\xa0I slipped up and peeped in at the\\nwindow. \\xa0There was a woman about forty year old in there knitting by\\na candle that was on a pine table. \\xa0I didn’t know her face; she was a\\nstranger, for you couldn’t start a face in that town that I didn’t know.\\n\\xa0Now this was lucky, because I was weakening; I was getting afraid I had\\ncome; people might know my voice and find me out. \\xa0But if this woman had\\nbeen in such a little town two days she could tell me all I wanted to\\nknow; so I knocked at the door, and made up my mind I wouldn’t forget I\\nwas a girl.\\n\\n\\n\\n\\nCHAPTER XI.\\n\\n“COME in,” says the woman, and I did. \\xa0She says:  “Take a cheer.”\\n\\nI done it. \\xa0She looked me all over with her little shiny eyes, and says:\\n\\n“What might your name be?”\\n\\n“Sarah Williams.”\\n\\n“Where ‘bouts do you live? \\xa0In this neighborhood?’\\n\\n“No’m. \\xa0In Hookerville, seven mile below. \\xa0I’ve walked all the way and\\nI’m all tired out.”\\n\\n“Hungry, too, I reckon. \\xa0I’ll find you something.”\\n\\n“No’m, I ain’t hungry. \\xa0I was so hungry I had to stop two miles below\\nhere at a farm; so I ain’t hungry no more. \\xa0It’s what makes me so late.\\nMy mother’s down sick, and out of money and everything, and I come to\\ntell my uncle Abner Moore. \\xa0He lives at the upper end of the town, she\\nsays. \\xa0I hain’t ever been here before. \\xa0Do you know him?”\\n\\n“No; but I don’t know everybody yet. \\xa0I haven’t lived here quite two\\nweeks. It’s a considerable ways to the upper end of the town. \\xa0You\\nbetter stay here all night. \\xa0Take off your bonnet.”\\n\\n“No,” I says; “I’ll rest a while, I reckon, and go on. \\xa0I ain’t afeared\\nof the dark.”\\n\\nShe said she wouldn’t let me go by myself, but her husband would be in\\nby and by, maybe in a hour and a half, and she’d send him along with me.\\nThen she got to talking about her husband, and about her relations up\\nthe river, and her relations down the river, and about how much better\\noff they used to was, and how they didn’t know but they’d made a mistake\\ncoming to our town, instead of letting well alone--and so on and so on,\\ntill I was afeard I had made a mistake coming to her to find out what\\nwas going on in the town; but by and by she dropped on to pap and the\\nmurder, and then I was pretty willing to let her clatter right along.\\n\\xa0She told about me and Tom Sawyer finding the six thousand dollars (only\\nshe got it ten) and all about pap and what a hard lot he was, and what\\na hard lot I was, and at last she got down to where I was murdered. \\xa0I\\nsays:\\n\\n“Who done it? \\xa0We’ve heard considerable about these goings on down in\\nHookerville, but we don’t know who ‘twas that killed Huck Finn.”\\n\\n“Well, I reckon there’s a right smart chance of people _here_ that’d\\nlike to know who killed him. \\xa0Some think old Finn done it himself.”\\n\\n“No--is that so?”\\n\\n“Most everybody thought it at first. \\xa0He’ll never know how nigh he come\\nto getting lynched. \\xa0But before night they changed around and judged it\\nwas done by a runaway nigger named Jim.”\\n\\n“Why _he_--”\\n\\nI stopped. \\xa0I reckoned I better keep still. \\xa0She run on, and never\\nnoticed I had put in at all:\\n\\n“The nigger run off the very night Huck Finn was killed. \\xa0So there’s a\\nreward out for him--three hundred dollars. \\xa0And there’s a reward out for\\nold Finn, too--two hundred dollars. \\xa0You see, he come to town the\\nmorning after the murder, and told about it, and was out with ‘em on the\\nferryboat hunt, and right away after he up and left. \\xa0Before night they\\nwanted to lynch him, but he was gone, you see. \\xa0Well, next day they\\nfound out the nigger was gone; they found out he hadn’t ben seen sence\\nten o’clock the night the murder was done. \\xa0So then they put it on him,\\nyou see; and while they was full of it, next day, back comes old Finn,\\nand went boo-hooing to Judge Thatcher to get money to hunt for the\\nnigger all over Illinois with. The judge gave him some, and that evening\\nhe got drunk, and was around till after midnight with a couple of mighty\\nhard-looking strangers, and then went off with them. \\xa0Well, he hain’t\\ncome back sence, and they ain’t looking for him back till this thing\\nblows over a little, for people thinks now that he killed his boy and\\nfixed things so folks would think robbers done it, and then he’d get\\nHuck’s money without having to bother a long time with a lawsuit.\\n\\xa0People do say he warn’t any too good to do it. \\xa0Oh, he’s sly, I reckon.\\n\\xa0If he don’t come back for a year he’ll be all right. \\xa0You can’t prove\\nanything on him, you know; everything will be quieted down then, and\\nhe’ll walk in Huck’s money as easy as nothing.”\\n\\n“Yes, I reckon so, ‘m. \\xa0I don’t see nothing in the way of it. \\xa0Has\\neverybody quit thinking the nigger done it?”\\n\\n“Oh, no, not everybody. \\xa0A good many thinks he done it. \\xa0But they’ll get\\nthe nigger pretty soon now, and maybe they can scare it out of him.”\\n\\n“Why, are they after him yet?”\\n\\n“Well, you’re innocent, ain’t you! \\xa0Does three hundred dollars lay\\naround every day for people to pick up? \\xa0Some folks think the nigger\\nain’t far from here. \\xa0I’m one of them--but I hain’t talked it around. \\xa0A\\nfew days ago I was talking with an old couple that lives next door in\\nthe log shanty, and they happened to say hardly anybody ever goes to\\nthat island over yonder that they call Jackson’s Island. \\xa0Don’t anybody\\nlive there? says I. No, nobody, says they. \\xa0I didn’t say any more, but\\nI done some thinking. \\xa0I was pretty near certain I’d seen smoke over\\nthere, about the head of the island, a day or two before that, so I says\\nto myself, like as not that nigger’s hiding over there; anyway, says\\nI, it’s worth the trouble to give the place a hunt. \\xa0I hain’t seen any\\nsmoke sence, so I reckon maybe he’s gone, if it was him; but husband’s\\ngoing over to see--him and another man. \\xa0He was gone up the river; but he\\ngot back to-day, and I told him as soon as he got here two hours ago.”\\n\\nI had got so uneasy I couldn’t set still. \\xa0I had to do something with my\\nhands; so I took up a needle off of the table and went to threading\\nit. My hands shook, and I was making a bad job of it. \\xa0When the woman\\nstopped talking I looked up, and she was looking at me pretty curious\\nand smiling a little. \\xa0I put down the needle and thread, and let on to\\nbe interested--and I was, too--and says:\\n\\n“Three hundred dollars is a power of money. \\xa0I wish my mother could get\\nit. Is your husband going over there to-night?”\\n\\n“Oh, yes. \\xa0He went up-town with the man I was telling you of, to get a\\nboat and see if they could borrow another gun. \\xa0They’ll go over after\\nmidnight.”\\n\\n“Couldn’t they see better if they was to wait till daytime?”\\n\\n“Yes. \\xa0And couldn’t the nigger see better, too? \\xa0After midnight he’ll\\nlikely be asleep, and they can slip around through the woods and hunt up\\nhis camp fire all the better for the dark, if he’s got one.”\\n\\n“I didn’t think of that.”\\n\\nThe woman kept looking at me pretty curious, and I didn’t feel a bit\\ncomfortable. \\xa0Pretty soon she says,\\n\\n“What did you say your name was, honey?”\\n\\n“M--Mary Williams.”\\n\\nSomehow it didn’t seem to me that I said it was Mary before, so I didn’t\\nlook up--seemed to me I said it was Sarah; so I felt sort of cornered,\\nand was afeared maybe I was looking it, too. \\xa0I wished the woman would\\nsay something more; the longer she set still the uneasier I was. \\xa0But\\nnow she says:\\n\\n“Honey, I thought you said it was Sarah when you first come in?”\\n\\n“Oh, yes’m, I did. \\xa0Sarah Mary Williams. \\xa0Sarah’s my first name. \\xa0Some\\ncalls me Sarah, some calls me Mary.”\\n\\n“Oh, that’s the way of it?”\\n\\n“Yes’m.”\\n\\nI was feeling better then, but I wished I was out of there, anyway. \\xa0I\\ncouldn’t look up yet.\\n\\nWell, the woman fell to talking about how hard times was, and how poor\\nthey had to live, and how the rats was as free as if they owned the\\nplace, and so forth and so on, and then I got easy again. \\xa0She was right\\nabout the rats. You’d see one stick his nose out of a hole in the corner\\nevery little while. \\xa0She said she had to have things handy to throw at\\nthem when she was alone, or they wouldn’t give her no peace. \\xa0She showed\\nme a bar of lead twisted up into a knot, and said she was a good shot\\nwith it generly, but she’d wrenched her arm a day or two ago, and didn’t\\nknow whether she could throw true now. \\xa0But she watched for a chance,\\nand directly banged away at a rat; but she missed him wide, and said\\n“Ouch!” it hurt her arm so. \\xa0Then she told me to try for the next one.\\n\\xa0I wanted to be getting away before the old man got back, but of course\\nI didn’t let on. \\xa0I got the thing, and the first rat that showed his\\nnose I let drive, and if he’d a stayed where he was he’d a been a\\ntolerable sick rat. \\xa0She said that was first-rate, and she reckoned I\\nwould hive the next one. \\xa0She went and got the lump of lead and fetched\\nit back, and brought along a hank of yarn which she wanted me to help\\nher with. \\xa0I held up my two hands and she put the hank over them, and\\nwent on talking about her and her husband’s matters. \\xa0But she broke off\\nto say:\\n\\n“Keep your eye on the rats. \\xa0You better have the lead in your lap,\\nhandy.”\\n\\nSo she dropped the lump into my lap just at that moment, and I clapped\\nmy legs together on it and she went on talking. \\xa0But only about a\\nminute. Then she took off the hank and looked me straight in the face,\\nand very pleasant, and says:\\n\\n“Come, now, what’s your real name?”\\n\\n“Wh--what, mum?”\\n\\n“What’s your real name? \\xa0Is it Bill, or Tom, or Bob?--or what is it?”\\n\\nI reckon I shook like a leaf, and I didn’t know hardly what to do. \\xa0But\\nI says:\\n\\n“Please to don’t poke fun at a poor girl like me, mum. \\xa0If I’m in the\\nway here, I’ll--”\\n\\n“No, you won’t. \\xa0Set down and stay where you are. \\xa0I ain’t going to hurt\\nyou, and I ain’t going to tell on you, nuther. \\xa0You just tell me your\\nsecret, and trust me. \\xa0I’ll keep it; and, what’s more, I’ll help\\nyou. So’ll my old man if you want him to. \\xa0You see, you’re a runaway\\n‘prentice, that’s all. \\xa0It ain’t anything. \\xa0There ain’t no harm in it.\\nYou’ve been treated bad, and you made up your mind to cut. \\xa0Bless you,\\nchild, I wouldn’t tell on you. \\xa0Tell me all about it now, that’s a good\\nboy.”\\n\\nSo I said it wouldn’t be no use to try to play it any longer, and I\\nwould just make a clean breast and tell her everything, but she musn’t\\ngo back on her promise. \\xa0Then I told her my father and mother was dead,\\nand the law had bound me out to a mean old farmer in the country thirty\\nmile back from the river, and he treated me so bad I couldn’t stand it\\nno longer; he went away to be gone a couple of days, and so I took my\\nchance and stole some of his daughter’s old clothes and cleared out, and\\nI had been three nights coming the thirty miles. \\xa0I traveled nights,\\nand hid daytimes and slept, and the bag of bread and meat I carried from\\nhome lasted me all the way, and I had a-plenty. \\xa0I said I believed my\\nuncle Abner Moore would take care of me, and so that was why I struck\\nout for this town of Goshen.\\n\\n“Goshen, child? \\xa0This ain’t Goshen. \\xa0This is St. Petersburg. \\xa0Goshen’s\\nten mile further up the river. \\xa0Who told you this was Goshen?”\\n\\n“Why, a man I met at daybreak this morning, just as I was going to turn\\ninto the woods for my regular sleep. \\xa0He told me when the roads forked I\\nmust take the right hand, and five mile would fetch me to Goshen.”\\n\\n“He was drunk, I reckon. \\xa0He told you just exactly wrong.”\\n\\n“Well, he did act like he was drunk, but it ain’t no matter now. \\xa0I got\\nto be moving along. \\xa0I’ll fetch Goshen before daylight.”\\n\\n“Hold on a minute. \\xa0I’ll put you up a snack to eat. \\xa0You might want it.”\\n\\nSo she put me up a snack, and says:\\n\\n“Say, when a cow’s laying down, which end of her gets up first? \\xa0Answer\\nup prompt now--don’t stop to study over it. \\xa0Which end gets up first?”\\n\\n“The hind end, mum.”\\n\\n“Well, then, a horse?”\\n\\n“The for’rard end, mum.”\\n\\n“Which side of a tree does the moss grow on?”\\n\\n“North side.”\\n\\n“If fifteen cows is browsing on a hillside, how many of them eats with\\ntheir heads pointed the same direction?”\\n\\n“The whole fifteen, mum.”\\n\\n“Well, I reckon you _have_ lived in the country. \\xa0I thought maybe you\\nwas trying to hocus me again. \\xa0What’s your real name, now?”\\n\\n“George Peters, mum.”\\n\\n“Well, try to remember it, George. \\xa0Don’t forget and tell me it’s\\nElexander before you go, and then get out by saying it’s George\\nElexander when I catch you. \\xa0And don’t go about women in that old\\ncalico. \\xa0You do a girl tolerable poor, but you might fool men, maybe.\\n\\xa0Bless you, child, when you set out to thread a needle don’t hold the\\nthread still and fetch the needle up to it; hold the needle still and\\npoke the thread at it; that’s the way a woman most always does, but a\\nman always does t’other way. \\xa0And when you throw at a rat or anything,\\nhitch yourself up a tiptoe and fetch your hand up over your head as\\nawkward as you can, and miss your rat about six or seven foot. Throw\\nstiff-armed from the shoulder, like there was a pivot there for it to\\nturn on, like a girl; not from the wrist and elbow, with your arm out\\nto one side, like a boy. \\xa0And, mind you, when a girl tries to catch\\nanything in her lap she throws her knees apart; she don’t clap them\\ntogether, the way you did when you catched the lump of lead. \\xa0Why, I\\nspotted you for a boy when you was threading the needle; and I contrived\\nthe other things just to make certain. \\xa0Now trot along to your uncle,\\nSarah Mary Williams George Elexander Peters, and if you get into trouble\\nyou send word to Mrs. Judith Loftus, which is me, and I’ll do what I can\\nto get you out of it. \\xa0Keep the river road all the way, and next time\\nyou tramp take shoes and socks with you. The river road’s a rocky one,\\nand your feet’ll be in a condition when you get to Goshen, I reckon.”\\n\\nI went up the bank about fifty yards, and then I doubled on my tracks\\nand slipped back to where my canoe was, a good piece below the house. \\xa0I\\njumped in, and was off in a hurry. \\xa0I went up-stream far enough to\\nmake the head of the island, and then started across. \\xa0I took off the\\nsun-bonnet, for I didn’t want no blinders on then. \\xa0When I was about the\\nmiddle I heard the clock begin to strike, so I stops and listens; the\\nsound come faint over the water but clear--eleven. \\xa0When I struck the\\nhead of the island I never waited to blow, though I was most winded, but\\nI shoved right into the timber where my old camp used to be, and started\\na good fire there on a high and dry spot.\\n\\nThen I jumped in the canoe and dug out for our place, a mile and a half\\nbelow, as hard as I could go. \\xa0I landed, and slopped through the timber\\nand up the ridge and into the cavern. \\xa0There Jim laid, sound asleep on\\nthe ground. \\xa0I roused him out and says:\\n\\n“Git up and hump yourself, Jim! \\xa0There ain’t a minute to lose. \\xa0They’re\\nafter us!”\\n\\nJim never asked no questions, he never said a word; but the way he\\nworked for the next half an hour showed about how he was scared. \\xa0By\\nthat time everything we had in the world was on our raft, and she was\\nready to be shoved out from the willow cove where she was hid. \\xa0We\\nput out the camp fire at the cavern the first thing, and didn’t show a\\ncandle outside after that.\\n\\nI took the canoe out from the shore a little piece, and took a look;\\nbut if there was a boat around I couldn’t see it, for stars and shadows\\nain’t good to see by. \\xa0Then we got out the raft and slipped along down\\nin the shade, past the foot of the island dead still--never saying a\\nword.\\n\\n\\n\\n\\nCHAPTER XII.\\n\\nIT must a been close on to one o’clock when we got below the island at\\nlast, and the raft did seem to go mighty slow. \\xa0If a boat was to come\\nalong we was going to take to the canoe and break for the Illinois\\nshore; and it was well a boat didn’t come, for we hadn’t ever thought to\\nput the gun in the canoe, or a fishing-line, or anything to eat. \\xa0We\\nwas in ruther too much of a sweat to think of so many things. \\xa0It warn’t\\ngood judgment to put _everything_ on the raft.\\n\\nIf the men went to the island I just expect they found the camp fire I\\nbuilt, and watched it all night for Jim to come. \\xa0Anyways, they stayed\\naway from us, and if my building the fire never fooled them it warn’t no\\nfault of mine. \\xa0I played it as low down on them as I could.\\n\\nWhen the first streak of day began to show we tied up to a towhead in a\\nbig bend on the Illinois side, and hacked off cottonwood branches with\\nthe hatchet, and covered up the raft with them so she looked like there\\nhad been a cave-in in the bank there. \\xa0A tow-head is a sandbar that has\\ncottonwoods on it as thick as harrow-teeth.\\n\\nWe had mountains on the Missouri shore and heavy timber on the Illinois\\nside, and the channel was down the Missouri shore at that place, so we\\nwarn’t afraid of anybody running across us. \\xa0We laid there all day,\\nand watched the rafts and steamboats spin down the Missouri shore, and\\nup-bound steamboats fight the big river in the middle. \\xa0I told Jim all\\nabout the time I had jabbering with that woman; and Jim said she was\\na smart one, and if she was to start after us herself she wouldn’t set\\ndown and watch a camp fire--no, sir, she’d fetch a dog. \\xa0Well, then, I\\nsaid, why couldn’t she tell her husband to fetch a dog? \\xa0Jim said he\\nbet she did think of it by the time the men was ready to start, and he\\nbelieved they must a gone up-town to get a dog and so they lost all that\\ntime, or else we wouldn’t be here on a towhead sixteen or seventeen mile\\nbelow the village--no, indeedy, we would be in that same old town again.\\n\\xa0So I said I didn’t care what was the reason they didn’t get us as long\\nas they didn’t.\\n\\nWhen it was beginning to come on dark we poked our heads out of the\\ncottonwood thicket, and looked up and down and across; nothing in sight;\\nso Jim took up some of the top planks of the raft and built a snug\\nwigwam to get under in blazing weather and rainy, and to keep the things\\ndry. Jim made a floor for the wigwam, and raised it a foot or more above\\nthe level of the raft, so now the blankets and all the traps was out of\\nreach of steamboat waves. \\xa0Right in the middle of the wigwam we made a\\nlayer of dirt about five or six inches deep with a frame around it for\\nto hold it to its place; this was to build a fire on in sloppy weather\\nor chilly; the wigwam would keep it from being seen. \\xa0We made an extra\\nsteering-oar, too, because one of the others might get broke on a snag\\nor something. We fixed up a short forked stick to hang the old lantern\\non, because we must always light the lantern whenever we see a steamboat\\ncoming down-stream, to keep from getting run over; but we wouldn’t have\\nto light it for up-stream boats unless we see we was in what they call\\na “crossing”; for the river was pretty high yet, very low banks being\\nstill a little under water; so up-bound boats didn’t always run the\\nchannel, but hunted easy water.\\n\\nThis second night we run between seven and eight hours, with a current\\nthat was making over four mile an hour. \\xa0We catched fish and talked,\\nand we took a swim now and then to keep off sleepiness. \\xa0It was kind of\\nsolemn, drifting down the big, still river, laying on our backs looking\\nup at the stars, and we didn’t ever feel like talking loud, and it\\nwarn’t often that we laughed--only a little kind of a low chuckle. \\xa0We\\nhad mighty good weather as a general thing, and nothing ever happened to\\nus at all--that night, nor the next, nor the next.\\n\\nEvery night we passed towns, some of them away up on black hillsides,\\nnothing but just a shiny bed of lights; not a house could you see. \\xa0The\\nfifth night we passed St. Louis, and it was like the whole world lit up.\\nIn St. Petersburg they used to say there was twenty or thirty thousand\\npeople in St. Louis, but I never believed it till I see that wonderful\\nspread of lights at two o’clock that still night. \\xa0There warn’t a sound\\nthere; everybody was asleep.\\n\\nEvery night now I used to slip ashore towards ten o’clock at some little\\nvillage, and buy ten or fifteen cents’ worth of meal or bacon or other\\nstuff to eat; and sometimes I lifted a chicken that warn’t roosting\\ncomfortable, and took him along. \\xa0Pap always said, take a chicken when\\nyou get a chance, because if you don’t want him yourself you can easy\\nfind somebody that does, and a good deed ain’t ever forgot. \\xa0I never see\\npap when he didn’t want the chicken himself, but that is what he used to\\nsay, anyway.\\n\\nMornings before daylight I slipped into cornfields and borrowed a\\nwatermelon, or a mushmelon, or a punkin, or some new corn, or things of\\nthat kind. \\xa0Pap always said it warn’t no harm to borrow things if you\\nwas meaning to pay them back some time; but the widow said it warn’t\\nanything but a soft name for stealing, and no decent body would do it.\\n\\xa0Jim said he reckoned the widow was partly right and pap was partly\\nright; so the best way would be for us to pick out two or three things\\nfrom the list and say we wouldn’t borrow them any more--then he reckoned\\nit wouldn’t be no harm to borrow the others. \\xa0So we talked it over all\\none night, drifting along down the river, trying to make up our minds\\nwhether to drop the watermelons, or the cantelopes, or the mushmelons,\\nor what. \\xa0But towards daylight we got it all settled satisfactory, and\\nconcluded to drop crabapples and p’simmons. \\xa0We warn’t feeling just\\nright before that, but it was all comfortable now. \\xa0I was glad the way\\nit come out, too, because crabapples ain’t ever good, and the p’simmons\\nwouldn’t be ripe for two or three months yet.\\n\\nWe shot a water-fowl now and then that got up too early in the morning\\nor didn’t go to bed early enough in the evening. \\xa0Take it all round, we\\nlived pretty high.\\n\\nThe fifth night below St. Louis we had a big storm after midnight, with\\na power of thunder and lightning, and the rain poured down in a solid\\nsheet. We stayed in the wigwam and let the raft take care of itself.\\nWhen the lightning glared out we could see a big straight river ahead,\\nand high, rocky bluffs on both sides. \\xa0By and by says I, “Hel-_lo_, Jim,\\nlooky yonder!” It was a steamboat that had killed herself on a rock.\\n\\xa0We was drifting straight down for her. \\xa0The lightning showed her very\\ndistinct. \\xa0She was leaning over, with part of her upper deck above\\nwater, and you could see every little chimbly-guy clean and clear, and a\\nchair by the big bell, with an old slouch hat hanging on the back of it,\\nwhen the flashes come.\\n\\nWell, it being away in the night and stormy, and all so mysterious-like,\\nI felt just the way any other boy would a felt when I see that wreck\\nlaying there so mournful and lonesome in the middle of the river. \\xa0I\\nwanted to get aboard of her and slink around a little, and see what\\nthere was there. \\xa0So I says:\\n\\n“Le’s land on her, Jim.”\\n\\nBut Jim was dead against it at first. \\xa0He says:\\n\\n“I doan’ want to go fool’n ‘long er no wrack. \\xa0We’s doin’ blame’ well,\\nen we better let blame’ well alone, as de good book says. \\xa0Like as not\\ndey’s a watchman on dat wrack.”\\n\\n“Watchman your grandmother,” I says; “there ain’t nothing to watch but\\nthe texas and the pilot-house; and do you reckon anybody’s going to resk\\nhis life for a texas and a pilot-house such a night as this, when\\nit’s likely to break up and wash off down the river any minute?” \\xa0Jim\\ncouldn’t say nothing to that, so he didn’t try.  “And besides,” I says,\\n“we might borrow something worth having out of the captain’s stateroom.\\n\\xa0Seegars, I bet you--and cost five cents apiece, solid cash. \\xa0Steamboat\\ncaptains is always rich, and get sixty dollars a month, and _they_ don’t\\ncare a cent what a thing costs, you know, long as they want it. \\xa0Stick a\\ncandle in your pocket; I can’t rest, Jim, till we give her a rummaging.\\n\\xa0Do you reckon Tom Sawyer would ever go by this thing? \\xa0Not for pie, he\\nwouldn’t. He’d call it an adventure--that’s what he’d call it; and he’d\\nland on that wreck if it was his last act. \\xa0And wouldn’t he throw style\\ninto it?--wouldn’t he spread himself, nor nothing? \\xa0Why, you’d think it\\nwas Christopher C’lumbus discovering Kingdom-Come. \\xa0I wish Tom Sawyer\\n_was_ here.”\\n\\nJim he grumbled a little, but give in. \\xa0He said we mustn’t talk any more\\nthan we could help, and then talk mighty low. \\xa0The lightning showed us\\nthe wreck again just in time, and we fetched the stabboard derrick, and\\nmade fast there.\\n\\nThe deck was high out here. \\xa0We went sneaking down the slope of it to\\nlabboard, in the dark, towards the texas, feeling our way slow with our\\nfeet, and spreading our hands out to fend off the guys, for it was so\\ndark we couldn’t see no sign of them. \\xa0Pretty soon we struck the forward\\nend of the skylight, and clumb on to it; and the next step fetched us in\\nfront of the captain’s door, which was open, and by Jimminy, away down\\nthrough the texas-hall we see a light! and all in the same second we\\nseem to hear low voices in yonder!\\n\\nJim whispered and said he was feeling powerful sick, and told me to come\\nalong. \\xa0I says, all right, and was going to start for the raft; but just\\nthen I heard a voice wail out and say:\\n\\n“Oh, please don’t, boys; I swear I won’t ever tell!”\\n\\nAnother voice said, pretty loud:\\n\\n“It’s a lie, Jim Turner. \\xa0You’ve acted this way before. \\xa0You always want\\nmore’n your share of the truck, and you’ve always got it, too, because\\nyou’ve swore ‘t if you didn’t you’d tell. \\xa0But this time you’ve said\\nit jest one time too many. \\xa0You’re the meanest, treacherousest hound in\\nthis country.”\\n\\nBy this time Jim was gone for the raft. \\xa0I was just a-biling with\\ncuriosity; and I says to myself, Tom Sawyer wouldn’t back out now,\\nand so I won’t either; I’m a-going to see what’s going on here. \\xa0So I\\ndropped on my hands and knees in the little passage, and crept aft\\nin the dark till there warn’t but one stateroom betwixt me and the\\ncross-hall of the texas. \\xa0Then in there I see a man stretched on the\\nfloor and tied hand and foot, and two men standing over him, and one\\nof them had a dim lantern in his hand, and the other one had a pistol.\\n\\xa0This one kept pointing the pistol at the man’s head on the floor, and\\nsaying:\\n\\n“I’d _like_ to! \\xa0And I orter, too--a mean skunk!”\\n\\nThe man on the floor would shrivel up and say, “Oh, please don’t, Bill;\\nI hain’t ever goin’ to tell.”\\n\\nAnd every time he said that the man with the lantern would laugh and\\nsay:\\n\\n“‘Deed you _ain’t!_ \\xa0You never said no truer thing ‘n that, you bet\\nyou.” And once he said:  “Hear him beg! and yit if we hadn’t got the\\nbest of him and tied him he’d a killed us both. \\xa0And what _for_? \\xa0Jist\\nfor noth’n. Jist because we stood on our _rights_--that’s what for. \\xa0But\\nI lay you ain’t a-goin’ to threaten nobody any more, Jim Turner. \\xa0Put\\n_up_ that pistol, Bill.”\\n\\nBill says:\\n\\n“I don’t want to, Jake Packard. \\xa0I’m for killin’ him--and didn’t he kill\\nold Hatfield jist the same way--and don’t he deserve it?”\\n\\n“But I don’t _want_ him killed, and I’ve got my reasons for it.”\\n\\n“Bless yo’ heart for them words, Jake Packard! \\xa0I’ll never forgit you\\nlong’s I live!” says the man on the floor, sort of blubbering.\\n\\nPackard didn’t take no notice of that, but hung up his lantern on a nail\\nand started towards where I was there in the dark, and motioned Bill\\nto come. \\xa0I crawfished as fast as I could about two yards, but the boat\\nslanted so that I couldn’t make very good time; so to keep from getting\\nrun over and catched I crawled into a stateroom on the upper side.\\n\\xa0The man came a-pawing along in the dark, and when Packard got to my\\nstateroom, he says:\\n\\n“Here--come in here.”\\n\\nAnd in he come, and Bill after him. \\xa0But before they got in I was up\\nin the upper berth, cornered, and sorry I come. \\xa0Then they stood there,\\nwith their hands on the ledge of the berth, and talked. \\xa0I couldn’t see\\nthem, but I could tell where they was by the whisky they’d been having.\\n\\xa0I was glad I didn’t drink whisky; but it wouldn’t made much difference\\nanyway, because most of the time they couldn’t a treed me because I\\ndidn’t breathe. \\xa0I was too scared. \\xa0And, besides, a body _couldn’t_\\nbreathe and hear such talk. \\xa0They talked low and earnest. \\xa0Bill wanted\\nto kill Turner. \\xa0He says:\\n\\n“He’s said he’ll tell, and he will. \\xa0If we was to give both our shares\\nto him _now_ it wouldn’t make no difference after the row and the way\\nwe’ve served him. \\xa0Shore’s you’re born, he’ll turn State’s evidence; now\\nyou hear _me_. \\xa0I’m for putting him out of his troubles.”\\n\\n“So’m I,” says Packard, very quiet.\\n\\n“Blame it, I’d sorter begun to think you wasn’t. \\xa0Well, then, that’s all\\nright. \\xa0Le’s go and do it.”\\n\\n“Hold on a minute; I hain’t had my say yit. \\xa0You listen to me.\\nShooting’s good, but there’s quieter ways if the thing’s _got_ to be\\ndone. But what I say is this: \\xa0it ain’t good sense to go court’n around\\nafter a halter if you can git at what you’re up to in some way that’s\\njist as good and at the same time don’t bring you into no resks. \\xa0Ain’t\\nthat so?”\\n\\n“You bet it is. \\xa0But how you goin’ to manage it this time?”\\n\\n“Well, my idea is this: \\xa0we’ll rustle around and gather up whatever\\npickins we’ve overlooked in the staterooms, and shove for shore and hide\\nthe truck. Then we’ll wait. \\xa0Now I say it ain’t a-goin’ to be more’n two\\nhours befo’ this wrack breaks up and washes off down the river. \\xa0See?\\nHe’ll be drownded, and won’t have nobody to blame for it but his own\\nself. \\xa0I reckon that’s a considerble sight better ‘n killin’ of him.\\n\\xa0I’m unfavorable to killin’ a man as long as you can git aroun’ it; it\\nain’t good sense, it ain’t good morals. \\xa0Ain’t I right?”\\n\\n“Yes, I reck’n you are. \\xa0But s’pose she _don’t_ break up and wash off?”\\n\\n“Well, we can wait the two hours anyway and see, can’t we?”\\n\\n“All right, then; come along.”\\n\\nSo they started, and I lit out, all in a cold sweat, and scrambled\\nforward. It was dark as pitch there; but I said, in a kind of a coarse\\nwhisper, “Jim!” and he answered up, right at my elbow, with a sort of a\\nmoan, and I says:\\n\\n“Quick, Jim, it ain’t no time for fooling around and moaning; there’s a\\ngang of murderers in yonder, and if we don’t hunt up their boat and set\\nher drifting down the river so these fellows can’t get away from the\\nwreck there’s one of ‘em going to be in a bad fix. \\xa0But if we find their\\nboat we can put _all_ of ‘em in a bad fix--for the sheriff ‘ll get ‘em.\\nQuick--hurry! \\xa0I’ll hunt the labboard side, you hunt the stabboard. You\\nstart at the raft, and--”\\n\\n“Oh, my lordy, lordy! \\xa0_raf’_? \\xa0Dey ain’ no raf’ no mo’; she done broke\\nloose en gone I--en here we is!”\\n\\n\\n\\n\\nCHAPTER XIII.\\n\\nWELL, I catched my breath and most fainted. \\xa0Shut up on a wreck with\\nsuch a gang as that! \\xa0But it warn’t no time to be sentimentering. \\xa0We’d\\n_got_ to find that boat now--had to have it for ourselves. \\xa0So we went\\na-quaking and shaking down the stabboard side, and slow work it was,\\ntoo--seemed a week before we got to the stern. \\xa0No sign of a boat. \\xa0Jim\\nsaid he didn’t believe he could go any further--so scared he hadn’t\\nhardly any strength left, he said. \\xa0But I said, come on, if we get left\\non this wreck we are in a fix, sure. \\xa0So on we prowled again. \\xa0We struck\\nfor the stern of the texas, and found it, and then scrabbled along\\nforwards on the skylight, hanging on from shutter to shutter, for the\\nedge of the skylight was in the water. \\xa0When we got pretty close to the\\ncross-hall door there was the skiff, sure enough! \\xa0I could just barely\\nsee her. \\xa0I felt ever so thankful. \\xa0In another second I would a been\\naboard of her, but just then the door opened. \\xa0One of the men stuck his\\nhead out only about a couple of foot from me, and I thought I was gone;\\nbut he jerked it in again, and says:\\n\\n“Heave that blame lantern out o’ sight, Bill!”\\n\\nHe flung a bag of something into the boat, and then got in himself and\\nset down. \\xa0It was Packard. \\xa0Then Bill _he_ come out and got in. \\xa0Packard\\nsays, in a low voice:\\n\\n“All ready--shove off!”\\n\\nI couldn’t hardly hang on to the shutters, I was so weak. \\xa0But Bill\\nsays:\\n\\n“Hold on--‘d you go through him?”\\n\\n“No. \\xa0Didn’t you?”\\n\\n“No. \\xa0So he’s got his share o’ the cash yet.”\\n\\n“Well, then, come along; no use to take truck and leave money.”\\n\\n“Say, won’t he suspicion what we’re up to?”\\n\\n“Maybe he won’t. \\xa0But we got to have it anyway. Come along.”\\n\\nSo they got out and went in.\\n\\nThe door slammed to because it was on the careened side; and in a half\\nsecond I was in the boat, and Jim come tumbling after me. \\xa0I out with my\\nknife and cut the rope, and away we went!\\n\\nWe didn’t touch an oar, and we didn’t speak nor whisper, nor hardly even\\nbreathe. \\xa0We went gliding swift along, dead silent, past the tip of the\\npaddle-box, and past the stern; then in a second or two more we was a\\nhundred yards below the wreck, and the darkness soaked her up, every\\nlast sign of her, and we was safe, and knowed it.\\n\\nWhen we was three or four hundred yards down-stream we see the lantern\\nshow like a little spark at the texas door for a second, and we knowed\\nby that that the rascals had missed their boat, and was beginning to\\nunderstand that they was in just as much trouble now as Jim Turner was.\\n\\nThen Jim manned the oars, and we took out after our raft. \\xa0Now was the\\nfirst time that I begun to worry about the men--I reckon I hadn’t\\nhad time to before. \\xa0I begun to think how dreadful it was, even for\\nmurderers, to be in such a fix. \\xa0I says to myself, there ain’t no\\ntelling but I might come to be a murderer myself yet, and then how would\\nI like it? \\xa0So says I to Jim:\\n\\n“The first light we see we’ll land a hundred yards below it or above\\nit, in a place where it’s a good hiding-place for you and the skiff, and\\nthen I’ll go and fix up some kind of a yarn, and get somebody to go for\\nthat gang and get them out of their scrape, so they can be hung when\\ntheir time comes.”\\n\\nBut that idea was a failure; for pretty soon it begun to storm again,\\nand this time worse than ever. \\xa0The rain poured down, and never a light\\nshowed; everybody in bed, I reckon. \\xa0We boomed along down the river,\\nwatching for lights and watching for our raft. \\xa0After a long time the\\nrain let up, but the clouds stayed, and the lightning kept whimpering,\\nand by and by a flash showed us a black thing ahead, floating, and we\\nmade for it.\\n\\nIt was the raft, and mighty glad was we to get aboard of it again. \\xa0We\\nseen a light now away down to the right, on shore. \\xa0So I said I would\\ngo for it. The skiff was half full of plunder which that gang had stole\\nthere on the wreck. \\xa0We hustled it on to the raft in a pile, and I told\\nJim to float along down, and show a light when he judged he had gone\\nabout two mile, and keep it burning till I come; then I manned my oars\\nand shoved for the light. \\xa0As I got down towards it three or four more\\nshowed--up on a hillside. \\xa0It was a village. \\xa0I closed in above the shore\\nlight, and laid on my oars and floated. \\xa0As I went by I see it was a\\nlantern hanging on the jackstaff of a double-hull ferryboat. \\xa0I skimmed\\naround for the watchman, a-wondering whereabouts he slept; and by and\\nby I found him roosting on the bitts forward, with his head down between\\nhis knees. \\xa0I gave his shoulder two or three little shoves, and begun to\\ncry.\\n\\nHe stirred up in a kind of a startlish way; but when he see it was only\\nme he took a good gap and stretch, and then he says:\\n\\n“Hello, what’s up? \\xa0Don’t cry, bub. \\xa0What’s the trouble?”\\n\\nI says:\\n\\n“Pap, and mam, and sis, and--”\\n\\nThen I broke down. \\xa0He says:\\n\\n“Oh, dang it now, _don’t_ take on so; we all has to have our troubles,\\nand this ‘n ‘ll come out all right. \\xa0What’s the matter with ‘em?”\\n\\n“They’re--they’re--are you the watchman of the boat?”\\n\\n“Yes,” he says, kind of pretty-well-satisfied like.  “I’m the captain\\nand the owner and the mate and the pilot and watchman and head\\ndeck-hand; and sometimes I’m the freight and passengers. \\xa0I ain’t as\\nrich as old Jim Hornback, and I can’t be so blame’ generous and good\\nto Tom, Dick, and Harry as what he is, and slam around money the way he\\ndoes; but I’ve told him a many a time ‘t I wouldn’t trade places with\\nhim; for, says I, a sailor’s life’s the life for me, and I’m derned if\\n_I’d_ live two mile out o’ town, where there ain’t nothing ever goin’\\non, not for all his spondulicks and as much more on top of it. \\xa0Says I--”\\n\\nI broke in and says:\\n\\n“They’re in an awful peck of trouble, and--”\\n\\n“_Who_ is?”\\n\\n“Why, pap and mam and sis and Miss Hooker; and if you’d take your\\nferryboat and go up there--”\\n\\n“Up where? \\xa0Where are they?”\\n\\n“On the wreck.”\\n\\n“What wreck?”\\n\\n“Why, there ain’t but one.”\\n\\n“What, you don’t mean the Walter Scott?”\\n\\n“Yes.”\\n\\n“Good land! what are they doin’ _there_, for gracious sakes?”\\n\\n“Well, they didn’t go there a-purpose.”\\n\\n“I bet they didn’t! \\xa0Why, great goodness, there ain’t no chance for ‘em\\nif they don’t git off mighty quick! \\xa0Why, how in the nation did they\\never git into such a scrape?”\\n\\n“Easy enough. \\xa0Miss Hooker was a-visiting up there to the town--”\\n\\n“Yes, Booth’s Landing--go on.”\\n\\n“She was a-visiting there at Booth’s Landing, and just in the edge of\\nthe evening she started over with her nigger woman in the horse-ferry\\nto stay all night at her friend’s house, Miss What-you-may-call-her I\\ndisremember her name--and they lost their steering-oar, and swung\\naround and went a-floating down, stern first, about two mile, and\\nsaddle-baggsed on the wreck, and the ferryman and the nigger woman and\\nthe horses was all lost, but Miss Hooker she made a grab and got aboard\\nthe wreck. \\xa0Well, about an hour after dark we come along down in our\\ntrading-scow, and it was so dark we didn’t notice the wreck till we was\\nright on it; and so _we_ saddle-baggsed; but all of us was saved but\\nBill Whipple--and oh, he _was_ the best cretur!--I most wish ‘t it had\\nbeen me, I do.”\\n\\n“My George! \\xa0It’s the beatenest thing I ever struck. \\xa0And _then_ what\\ndid you all do?”\\n\\n“Well, we hollered and took on, but it’s so wide there we couldn’t\\nmake nobody hear. \\xa0So pap said somebody got to get ashore and get help\\nsomehow. I was the only one that could swim, so I made a dash for it,\\nand Miss Hooker she said if I didn’t strike help sooner, come here and\\nhunt up her uncle, and he’d fix the thing. \\xa0I made the land about a mile\\nbelow, and been fooling along ever since, trying to get people to do\\nsomething, but they said, ‘What, in such a night and such a current?\\nThere ain’t no sense in it; go for the steam ferry.’ \\xa0Now if you’ll go\\nand--”\\n\\n“By Jackson, I’d _like_ to, and, blame it, I don’t know but I will; but\\nwho in the dingnation’s a-going’ to _pay_ for it? \\xa0Do you reckon your\\npap--”\\n\\n“Why _that’s_ all right. \\xa0Miss Hooker she tole me, _particular_, that\\nher uncle Hornback--”\\n\\n“Great guns! is _he_ her uncle? \\xa0Looky here, you break for that light\\nover yonder-way, and turn out west when you git there, and about a\\nquarter of a mile out you’ll come to the tavern; tell ‘em to dart you\\nout to Jim Hornback’s, and he’ll foot the bill. \\xa0And don’t you fool\\naround any, because he’ll want to know the news. \\xa0Tell him I’ll have\\nhis niece all safe before he can get to town. \\xa0Hump yourself, now; I’m\\na-going up around the corner here to roust out my engineer.”\\n\\nI struck for the light, but as soon as he turned the corner I went back\\nand got into my skiff and bailed her out, and then pulled up shore in\\nthe easy water about six hundred yards, and tucked myself in among\\nsome woodboats; for I couldn’t rest easy till I could see the ferryboat\\nstart. But take it all around, I was feeling ruther comfortable on\\naccounts of taking all this trouble for that gang, for not many would\\na done it. \\xa0I wished the widow knowed about it. \\xa0I judged she would be\\nproud of me for helping these rapscallions, because rapscallions and\\ndead beats is the kind the widow and good people takes the most interest\\nin.\\n\\nWell, before long here comes the wreck, dim and dusky, sliding along\\ndown! A kind of cold shiver went through me, and then I struck out for\\nher. \\xa0She was very deep, and I see in a minute there warn’t much chance\\nfor anybody being alive in her. \\xa0I pulled all around her and hollered\\na little, but there wasn’t any answer; all dead still. \\xa0I felt a little\\nbit heavy-hearted about the gang, but not much, for I reckoned if they\\ncould stand it I could.\\n\\nThen here comes the ferryboat; so I shoved for the middle of the river\\non a long down-stream slant; and when I judged I was out of eye-reach\\nI laid on my oars, and looked back and see her go and smell around the\\nwreck for Miss Hooker’s remainders, because the captain would know her\\nuncle Hornback would want them; and then pretty soon the ferryboat give\\nit up and went for the shore, and I laid into my work and went a-booming\\ndown the river.\\n\\nIt did seem a powerful long time before Jim’s light showed up; and when\\nit did show it looked like it was a thousand mile off. \\xa0By the time I\\ngot there the sky was beginning to get a little gray in the east; so we\\nstruck for an island, and hid the raft, and sunk the skiff, and turned\\nin and slept like dead people.\\n\\n\\n\\n\\nCHAPTER XIV.\\n\\nBY and by, when we got up, we turned over the truck the gang had stole\\noff of the wreck, and found boots, and blankets, and clothes, and all\\nsorts of other things, and a lot of books, and a spyglass, and three\\nboxes of seegars. \\xa0We hadn’t ever been this rich before in neither of\\nour lives. \\xa0The seegars was prime. \\xa0We laid off all the afternoon in the\\nwoods talking, and me reading the books, and having a general good\\ntime. I told Jim all about what happened inside the wreck and at the\\nferryboat, and I said these kinds of things was adventures; but he said\\nhe didn’t want no more adventures. \\xa0He said that when I went in the\\ntexas and he crawled back to get on the raft and found her gone he\\nnearly died, because he judged it was all up with _him_ anyway it could\\nbe fixed; for if he didn’t get saved he would get drownded; and if he\\ndid get saved, whoever saved him would send him back home so as to get\\nthe reward, and then Miss Watson would sell him South, sure. \\xa0Well, he\\nwas right; he was most always right; he had an uncommon level head for a\\nnigger.\\n\\nI read considerable to Jim about kings and dukes and earls and such, and\\nhow gaudy they dressed, and how much style they put on, and called each\\nother your majesty, and your grace, and your lordship, and so on, ‘stead\\nof mister; and Jim’s eyes bugged out, and he was interested. \\xa0He says:\\n\\n“I didn’ know dey was so many un um. \\xa0I hain’t hearn ‘bout none un um,\\nskasely, but ole King Sollermun, onless you counts dem kings dat’s in a\\npack er k’yards. \\xa0How much do a king git?”\\n\\n“Get?” \\xa0I says; “why, they get a thousand dollars a month if they want\\nit; they can have just as much as they want; everything belongs to\\nthem.”\\n\\n“_Ain’_ dat gay? \\xa0En what dey got to do, Huck?”\\n\\n“_They_ don’t do nothing! \\xa0Why, how you talk! They just set around.”\\n\\n“No; is dat so?”\\n\\n“Of course it is. \\xa0They just set around--except, maybe, when there’s a\\nwar; then they go to the war. \\xa0But other times they just lazy around; or\\ngo hawking--just hawking and sp--Sh!--d’ you hear a noise?”\\n\\nWe skipped out and looked; but it warn’t nothing but the flutter of a\\nsteamboat’s wheel away down, coming around the point; so we come back.\\n\\n“Yes,” says I, “and other times, when things is dull, they fuss with the\\nparlyment; and if everybody don’t go just so he whacks their heads off.\\nBut mostly they hang round the harem.”\\n\\n“Roun’ de which?”\\n\\n“Harem.”\\n\\n“What’s de harem?”\\n\\n“The place where he keeps his wives. \\xa0Don’t you know about the harem?\\nSolomon had one; he had about a million wives.”\\n\\n“Why, yes, dat’s so; I--I’d done forgot it. \\xa0A harem’s a bo’d’n-house, I\\nreck’n. \\xa0Mos’ likely dey has rackety times in de nussery. \\xa0En I reck’n\\nde wives quarrels considable; en dat ‘crease de racket. \\xa0Yit dey say\\nSollermun de wises’ man dat ever live’. \\xa0I doan’ take no stock in\\ndat. Bekase why: would a wise man want to live in de mids’ er sich a\\nblim-blammin’ all de time? \\xa0No--‘deed he wouldn’t. \\xa0A wise man ‘ud take\\nen buil’ a biler-factry; en den he could shet _down_ de biler-factry\\nwhen he want to res’.”\\n\\n“Well, but he _was_ the wisest man, anyway; because the widow she told\\nme so, her own self.”\\n\\n“I doan k’yer what de widder say, he _warn’t_ no wise man nuther. \\xa0He\\nhad some er de dad-fetchedes’ ways I ever see. \\xa0Does you know ‘bout dat\\nchile dat he ‘uz gwyne to chop in two?”\\n\\n“Yes, the widow told me all about it.”\\n\\n“_Well_, den! \\xa0Warn’ dat de beatenes’ notion in de worl’? \\xa0You jes’\\ntake en look at it a minute. \\xa0Dah’s de stump, dah--dat’s one er de women;\\nheah’s you--dat’s de yuther one; I’s Sollermun; en dish yer dollar bill’s\\nde chile. \\xa0Bofe un you claims it. \\xa0What does I do? \\xa0Does I shin aroun’\\nmongs’ de neighbors en fine out which un you de bill _do_ b’long to, en\\nhan’ it over to de right one, all safe en soun’, de way dat anybody dat\\nhad any gumption would? \\xa0No; I take en whack de bill in _two_, en give\\nhalf un it to you, en de yuther half to de yuther woman. \\xa0Dat’s de way\\nSollermun was gwyne to do wid de chile. \\xa0Now I want to ast you: \\xa0what’s\\nde use er dat half a bill?--can’t buy noth’n wid it. \\xa0En what use is a\\nhalf a chile? \\xa0I wouldn’ give a dern for a million un um.”\\n\\n“But hang it, Jim, you’ve clean missed the point--blame it, you’ve missed\\nit a thousand mile.”\\n\\n“Who? \\xa0Me? \\xa0Go ‘long. \\xa0Doan’ talk to me ‘bout yo’ pints. \\xa0I reck’n I\\nknows sense when I sees it; en dey ain’ no sense in sich doin’s as\\ndat. De ‘spute warn’t ‘bout a half a chile, de ‘spute was ‘bout a whole\\nchile; en de man dat think he kin settle a ‘spute ‘bout a whole chile\\nwid a half a chile doan’ know enough to come in out’n de rain. \\xa0Doan’\\ntalk to me ‘bout Sollermun, Huck, I knows him by de back.”\\n\\n“But I tell you you don’t get the point.”\\n\\n“Blame de point! \\xa0I reck’n I knows what I knows. \\xa0En mine you, de _real_\\npint is down furder--it’s down deeper. \\xa0It lays in de way Sollermun was\\nraised. \\xa0You take a man dat’s got on’y one or two chillen; is dat man\\ngwyne to be waseful o’ chillen? \\xa0No, he ain’t; he can’t ‘ford it. \\xa0_He_\\nknow how to value ‘em. \\xa0But you take a man dat’s got ‘bout five million\\nchillen runnin’ roun’ de house, en it’s diffunt. \\xa0_He_ as soon chop a\\nchile in two as a cat. Dey’s plenty mo’. \\xa0A chile er two, mo’ er less,\\nwarn’t no consekens to Sollermun, dad fatch him!”\\n\\nI never see such a nigger. \\xa0If he got a notion in his head once, there\\nwarn’t no getting it out again. \\xa0He was the most down on Solomon of\\nany nigger I ever see. \\xa0So I went to talking about other kings, and let\\nSolomon slide. \\xa0I told about Louis Sixteenth that got his head cut off\\nin France long time ago; and about his little boy the dolphin, that\\nwould a been a king, but they took and shut him up in jail, and some say\\nhe died there.\\n\\n“Po’ little chap.”\\n\\n“But some says he got out and got away, and come to America.”\\n\\n“Dat’s good! \\xa0But he’ll be pooty lonesome--dey ain’ no kings here, is\\ndey, Huck?”\\n\\n“No.”\\n\\n“Den he cain’t git no situation. \\xa0What he gwyne to do?”\\n\\n“Well, I don’t know. \\xa0Some of them gets on the police, and some of them\\nlearns people how to talk French.”\\n\\n“Why, Huck, doan’ de French people talk de same way we does?”\\n\\n“_No_, Jim; you couldn’t understand a word they said--not a single word.”\\n\\n“Well, now, I be ding-busted! \\xa0How do dat come?”\\n\\n“I don’t know; but it’s so. \\xa0I got some of their jabber out of a book.\\nS’pose a man was to come to you and say Polly-voo-franzy--what would you\\nthink?”\\n\\n“I wouldn’ think nuff’n; I’d take en bust him over de head--dat is, if he\\nwarn’t white. \\xa0I wouldn’t ‘low no nigger to call me dat.”\\n\\n“Shucks, it ain’t calling you anything. \\xa0It’s only saying, do you know\\nhow to talk French?”\\n\\n“Well, den, why couldn’t he _say_ it?”\\n\\n“Why, he _is_ a-saying it. \\xa0That’s a Frenchman’s _way_ of saying it.”\\n\\n“Well, it’s a blame ridicklous way, en I doan’ want to hear no mo’ ‘bout\\nit. \\xa0Dey ain’ no sense in it.”\\n\\n“Looky here, Jim; does a cat talk like we do?”\\n\\n“No, a cat don’t.”\\n\\n“Well, does a cow?”\\n\\n“No, a cow don’t, nuther.”\\n\\n“Does a cat talk like a cow, or a cow talk like a cat?”\\n\\n“No, dey don’t.”\\n\\n“It’s natural and right for ‘em to talk different from each other, ain’t\\nit?”\\n\\n“Course.”\\n\\n“And ain’t it natural and right for a cat and a cow to talk different\\nfrom _us_?”\\n\\n“Why, mos’ sholy it is.”\\n\\n“Well, then, why ain’t it natural and right for a _Frenchman_ to talk\\ndifferent from us? \\xa0You answer me that.”\\n\\n“Is a cat a man, Huck?”\\n\\n“No.”\\n\\n“Well, den, dey ain’t no sense in a cat talkin’ like a man. \\xa0Is a cow a\\nman?--er is a cow a cat?”\\n\\n“No, she ain’t either of them.”\\n\\n“Well, den, she ain’t got no business to talk like either one er the\\nyuther of ‘em. \\xa0Is a Frenchman a man?”\\n\\n“Yes.”\\n\\n“_Well_, den! \\xa0Dad blame it, why doan’ he _talk_ like a man? \\xa0You answer\\nme _dat_!”\\n\\nI see it warn’t no use wasting words--you can’t learn a nigger to argue.\\nSo I quit.\\n\\n\\n\\n\\nCHAPTER XV.\\n\\nWE judged that three nights more would fetch us to Cairo, at the bottom\\nof Illinois, where the Ohio River comes in, and that was what we was\\nafter. \\xa0We would sell the raft and get on a steamboat and go way up the\\nOhio amongst the free States, and then be out of trouble.\\n\\nWell, the second night a fog begun to come on, and we made for a towhead\\nto tie to, for it wouldn’t do to try to run in a fog; but when I paddled\\nahead in the canoe, with the line to make fast, there warn’t anything\\nbut little saplings to tie to. \\xa0I passed the line around one of them\\nright on the edge of the cut bank, but there was a stiff current, and\\nthe raft come booming down so lively she tore it out by the roots and\\naway she went. \\xa0I see the fog closing down, and it made me so sick and\\nscared I couldn’t budge for most a half a minute it seemed to me--and\\nthen there warn’t no raft in sight; you couldn’t see twenty yards. \\xa0I\\njumped into the canoe and run back to the stern, and grabbed the paddle\\nand set her back a stroke. \\xa0But she didn’t come. \\xa0I was in such a hurry\\nI hadn’t untied her. \\xa0I got up and tried to untie her, but I was so\\nexcited my hands shook so I couldn’t hardly do anything with them.\\n\\nAs soon as I got started I took out after the raft, hot and heavy, right\\ndown the towhead. \\xa0That was all right as far as it went, but the towhead\\nwarn’t sixty yards long, and the minute I flew by the foot of it I shot\\nout into the solid white fog, and hadn’t no more idea which way I was\\ngoing than a dead man.\\n\\nThinks I, it won’t do to paddle; first I know I’ll run into the bank\\nor a towhead or something; I got to set still and float, and yet it’s\\nmighty fidgety business to have to hold your hands still at such a time.\\n\\xa0I whooped and listened. \\xa0Away down there somewheres I hears a small\\nwhoop, and up comes my spirits. \\xa0I went tearing after it, listening\\nsharp to hear it again. \\xa0The next time it come I see I warn’t heading\\nfor it, but heading away to the right of it. \\xa0And the next time I was\\nheading away to the left of it--and not gaining on it much either, for\\nI was flying around, this way and that and t’other, but it was going\\nstraight ahead all the time.\\n\\nI did wish the fool would think to beat a tin pan, and beat it all the\\ntime, but he never did, and it was the still places between the whoops\\nthat was making the trouble for me. \\xa0Well, I fought along, and directly\\nI hears the whoop _behind_ me. \\xa0I was tangled good now. \\xa0That was\\nsomebody else’s whoop, or else I was turned around.\\n\\nI throwed the paddle down. \\xa0I heard the whoop again; it was behind me\\nyet, but in a different place; it kept coming, and kept changing its\\nplace, and I kept answering, till by and by it was in front of me again,\\nand I knowed the current had swung the canoe’s head down-stream, and I\\nwas all right if that was Jim and not some other raftsman hollering.\\n\\xa0I couldn’t tell nothing about voices in a fog, for nothing don’t look\\nnatural nor sound natural in a fog.\\n\\nThe whooping went on, and in about a minute I come a-booming down on a\\ncut bank with smoky ghosts of big trees on it, and the current throwed\\nme off to the left and shot by, amongst a lot of snags that fairly\\nroared, the currrent was tearing by them so swift.\\n\\nIn another second or two it was solid white and still again. \\xa0I set\\nperfectly still then, listening to my heart thump, and I reckon I didn’t\\ndraw a breath while it thumped a hundred.\\n\\nI just give up then. \\xa0I knowed what the matter was. \\xa0That cut bank\\nwas an island, and Jim had gone down t’other side of it. \\xa0It warn’t no\\ntowhead that you could float by in ten minutes. \\xa0It had the big timber\\nof a regular island; it might be five or six miles long and more than\\nhalf a mile wide.\\n\\nI kept quiet, with my ears cocked, about fifteen minutes, I reckon. \\xa0I\\nwas floating along, of course, four or five miles an hour; but you don’t\\never think of that. \\xa0No, you _feel_ like you are laying dead still on\\nthe water; and if a little glimpse of a snag slips by you don’t think to\\nyourself how fast _you’re_ going, but you catch your breath and think,\\nmy! how that snag’s tearing along. \\xa0If you think it ain’t dismal and\\nlonesome out in a fog that way by yourself in the night, you try it\\nonce--you’ll see.\\n\\nNext, for about a half an hour, I whoops now and then; at last I hears\\nthe answer a long ways off, and tries to follow it, but I couldn’t do\\nit, and directly I judged I’d got into a nest of towheads, for I had\\nlittle dim glimpses of them on both sides of me--sometimes just a narrow\\nchannel between, and some that I couldn’t see I knowed was there because\\nI’d hear the wash of the current against the old dead brush and trash\\nthat hung over the banks. \\xa0Well, I warn’t long loosing the whoops down\\namongst the towheads; and I only tried to chase them a little while,\\nanyway, because it was worse than chasing a Jack-o’-lantern. \\xa0You never\\nknowed a sound dodge around so, and swap places so quick and so much.\\n\\nI had to claw away from the bank pretty lively four or five times, to\\nkeep from knocking the islands out of the river; and so I judged the\\nraft must be butting into the bank every now and then, or else it would\\nget further ahead and clear out of hearing--it was floating a little\\nfaster than what I was.\\n\\nWell, I seemed to be in the open river again by and by, but I couldn’t\\nhear no sign of a whoop nowheres. \\xa0I reckoned Jim had fetched up on a\\nsnag, maybe, and it was all up with him. \\xa0I was good and tired, so I\\nlaid down in the canoe and said I wouldn’t bother no more. \\xa0I didn’t\\nwant to go to sleep, of course; but I was so sleepy I couldn’t help it;\\nso I thought I would take jest one little cat-nap.\\n\\nBut I reckon it was more than a cat-nap, for when I waked up the stars\\nwas shining bright, the fog was all gone, and I was spinning down a\\nbig bend stern first. \\xa0First I didn’t know where I was; I thought I was\\ndreaming; and when things began to come back to me they seemed to come\\nup dim out of last week.\\n\\nIt was a monstrous big river here, with the tallest and the thickest\\nkind of timber on both banks; just a solid wall, as well as I could see\\nby the stars. \\xa0I looked away down-stream, and seen a black speck on the\\nwater. I took after it; but when I got to it it warn’t nothing but a\\ncouple of sawlogs made fast together. \\xa0Then I see another speck, and\\nchased that; then another, and this time I was right. \\xa0It was the raft.\\n\\nWhen I got to it Jim was setting there with his head down between his\\nknees, asleep, with his right arm hanging over the steering-oar. \\xa0The\\nother oar was smashed off, and the raft was littered up with leaves and\\nbranches and dirt. \\xa0So she’d had a rough time.\\n\\nI made fast and laid down under Jim’s nose on the raft, and began to\\ngap, and stretch my fists out against Jim, and says:\\n\\n“Hello, Jim, have I been asleep? \\xa0Why didn’t you stir me up?”\\n\\n“Goodness gracious, is dat you, Huck? \\xa0En you ain’ dead--you ain’\\ndrownded--you’s back agin? \\xa0It’s too good for true, honey, it’s too good\\nfor true. Lemme look at you chile, lemme feel o’ you. \\xa0No, you ain’\\ndead! you’s back agin, ‘live en soun’, jis de same ole Huck--de same ole\\nHuck, thanks to goodness!”\\n\\n“What’s the matter with you, Jim? \\xa0You been a-drinking?”\\n\\n“Drinkin’? \\xa0Has I ben a-drinkin’? \\xa0Has I had a chance to be a-drinkin’?”\\n\\n“Well, then, what makes you talk so wild?”\\n\\n“How does I talk wild?”\\n\\n“_How_? \\xa0Why, hain’t you been talking about my coming back, and all that\\nstuff, as if I’d been gone away?”\\n\\n“Huck--Huck Finn, you look me in de eye; look me in de eye. \\xa0_Hain’t_ you\\nben gone away?”\\n\\n“Gone away? \\xa0Why, what in the nation do you mean? \\xa0I hain’t been gone\\nanywheres. \\xa0Where would I go to?”\\n\\n“Well, looky here, boss, dey’s sumf’n wrong, dey is. \\xa0Is I _me_, or who\\n_is_ I? Is I heah, or whah _is_ I? \\xa0Now dat’s what I wants to know.”\\n\\n“Well, I think you’re here, plain enough, but I think you’re a\\ntangle-headed old fool, Jim.”\\n\\n“I is, is I? \\xa0Well, you answer me dis: \\xa0Didn’t you tote out de line in\\nde canoe fer to make fas’ to de tow-head?”\\n\\n“No, I didn’t. \\xa0What tow-head? \\xa0I hain’t see no tow-head.”\\n\\n“You hain’t seen no towhead? \\xa0Looky here, didn’t de line pull loose en\\nde raf’ go a-hummin’ down de river, en leave you en de canoe behine in\\nde fog?”\\n\\n“What fog?”\\n\\n“Why, de fog!--de fog dat’s been aroun’ all night. \\xa0En didn’t you whoop,\\nen didn’t I whoop, tell we got mix’ up in de islands en one un us got\\nlos’ en t’other one was jis’ as good as los’, ‘kase he didn’ know whah\\nhe wuz? En didn’t I bust up agin a lot er dem islands en have a turrible\\ntime en mos’ git drownded? \\xa0Now ain’ dat so, boss--ain’t it so? \\xa0You\\nanswer me dat.”\\n\\n“Well, this is too many for me, Jim. \\xa0I hain’t seen no fog, nor no\\nislands, nor no troubles, nor nothing. \\xa0I been setting here talking with\\nyou all night till you went to sleep about ten minutes ago, and I reckon\\nI done the same. \\xa0You couldn’t a got drunk in that time, so of course\\nyou’ve been dreaming.”\\n\\n“Dad fetch it, how is I gwyne to dream all dat in ten minutes?”\\n\\n“Well, hang it all, you did dream it, because there didn’t any of it\\nhappen.”\\n\\n“But, Huck, it’s all jis’ as plain to me as--”\\n\\n“It don’t make no difference how plain it is; there ain’t nothing in it.\\nI know, because I’ve been here all the time.”\\n\\nJim didn’t say nothing for about five minutes, but set there studying\\nover it. \\xa0Then he says:\\n\\n“Well, den, I reck’n I did dream it, Huck; but dog my cats ef it ain’t\\nde powerfullest dream I ever see. \\xa0En I hain’t ever had no dream b’fo’\\ndat’s tired me like dis one.”\\n\\n“Oh, well, that’s all right, because a dream does tire a body like\\neverything sometimes. \\xa0But this one was a staving dream; tell me all\\nabout it, Jim.”\\n\\nSo Jim went to work and told me the whole thing right through, just as\\nit happened, only he painted it up considerable. \\xa0Then he said he must\\nstart in and “‘terpret” it, because it was sent for a warning. \\xa0He said\\nthe first towhead stood for a man that would try to do us some good, but\\nthe current was another man that would get us away from him. \\xa0The whoops\\nwas warnings that would come to us every now and then, and if we didn’t\\ntry hard to make out to understand them they’d just take us into bad\\nluck, ‘stead of keeping us out of it. \\xa0The lot of towheads was troubles\\nwe was going to get into with quarrelsome people and all kinds of mean\\nfolks, but if we minded our business and didn’t talk back and aggravate\\nthem, we would pull through and get out of the fog and into the big\\nclear river, which was the free States, and wouldn’t have no more\\ntrouble.\\n\\nIt had clouded up pretty dark just after I got on to the raft, but it\\nwas clearing up again now.\\n\\n“Oh, well, that’s all interpreted well enough as far as it goes, Jim,” I\\nsays; “but what does _these_ things stand for?”\\n\\nIt was the leaves and rubbish on the raft and the smashed oar. \\xa0You\\ncould see them first-rate now.\\n\\nJim looked at the trash, and then looked at me, and back at the trash\\nagain. \\xa0He had got the dream fixed so strong in his head that he\\ncouldn’t seem to shake it loose and get the facts back into its place\\nagain right away. \\xa0But when he did get the thing straightened around he\\nlooked at me steady without ever smiling, and says:\\n\\n“What do dey stan’ for? \\xa0I’se gwyne to tell you. \\xa0When I got all wore\\nout wid work, en wid de callin’ for you, en went to sleep, my heart wuz\\nmos’ broke bekase you wuz los’, en I didn’ k’yer no’ mo’ what become\\ner me en de raf’. \\xa0En when I wake up en fine you back agin, all safe\\nen soun’, de tears come, en I could a got down on my knees en kiss yo’\\nfoot, I’s so thankful. En all you wuz thinkin’ ‘bout wuz how you could\\nmake a fool uv ole Jim wid a lie. \\xa0Dat truck dah is _trash_; en trash\\nis what people is dat puts dirt on de head er dey fren’s en makes ‘em\\nashamed.”\\n\\nThen he got up slow and walked to the wigwam, and went in there without\\nsaying anything but that. \\xa0But that was enough. \\xa0It made me feel so mean\\nI could almost kissed _his_ foot to get him to take it back.\\n\\nIt was fifteen minutes before I could work myself up to go and humble\\nmyself to a nigger; but I done it, and I warn’t ever sorry for it\\nafterwards, neither. \\xa0I didn’t do him no more mean tricks, and I\\nwouldn’t done that one if I’d a knowed it would make him feel that way.\\n\\n\\n\\n\\nCHAPTER XVI.\\n\\nWE slept most all day, and started out at night, a little ways behind a\\nmonstrous long raft that was as long going by as a procession. \\xa0She had\\nfour long sweeps at each end, so we judged she carried as many as thirty\\nmen, likely. \\xa0She had five big wigwams aboard, wide apart, and an open\\ncamp fire in the middle, and a tall flag-pole at each end. \\xa0There was a\\npower of style about her. \\xa0It _amounted_ to something being a raftsman\\non such a craft as that.\\n\\nWe went drifting down into a big bend, and the night clouded up and got\\nhot. \\xa0The river was very wide, and was walled with solid timber on\\nboth sides; you couldn’t see a break in it hardly ever, or a light. \\xa0We\\ntalked about Cairo, and wondered whether we would know it when we got to\\nit. \\xa0I said likely we wouldn’t, because I had heard say there warn’t but\\nabout a dozen houses there, and if they didn’t happen to have them lit\\nup, how was we going to know we was passing a town? \\xa0Jim said if the two\\nbig rivers joined together there, that would show. \\xa0But I said maybe\\nwe might think we was passing the foot of an island and coming into the\\nsame old river again. That disturbed Jim--and me too. \\xa0So the question\\nwas, what to do? \\xa0I said, paddle ashore the first time a light showed,\\nand tell them pap was behind, coming along with a trading-scow, and\\nwas a green hand at the business, and wanted to know how far it was to\\nCairo. \\xa0Jim thought it was a good idea, so we took a smoke on it and\\nwaited.\\n\\nThere warn’t nothing to do now but to look out sharp for the town, and\\nnot pass it without seeing it. \\xa0He said he’d be mighty sure to see it,\\nbecause he’d be a free man the minute he seen it, but if he missed it\\nhe’d be in a slave country again and no more show for freedom. \\xa0Every\\nlittle while he jumps up and says:\\n\\n“Dah she is?”\\n\\nBut it warn’t. \\xa0It was Jack-o’-lanterns, or lightning bugs; so he set\\ndown again, and went to watching, same as before. \\xa0Jim said it made him\\nall over trembly and feverish to be so close to freedom. \\xa0Well, I can\\ntell you it made me all over trembly and feverish, too, to hear him,\\nbecause I begun to get it through my head that he _was_ most free--and\\nwho was to blame for it? \\xa0Why, _me_. \\xa0I couldn’t get that out of my\\nconscience, no how nor no way. It got to troubling me so I couldn’t\\nrest; I couldn’t stay still in one place. \\xa0It hadn’t ever come home to\\nme before, what this thing was that I was doing. \\xa0But now it did; and it\\nstayed with me, and scorched me more and more. \\xa0I tried to make out to\\nmyself that I warn’t to blame, because I didn’t run Jim off from his\\nrightful owner; but it warn’t no use, conscience up and says, every\\ntime, “But you knowed he was running for his freedom, and you could a\\npaddled ashore and told somebody.” \\xa0That was so--I couldn’t get around\\nthat noway. \\xa0That was where it pinched. \\xa0Conscience says to me, “What\\nhad poor Miss Watson done to you that you could see her nigger go off\\nright under your eyes and never say one single word? \\xa0What did that poor\\nold woman do to you that you could treat her so mean? \\xa0Why, she tried to\\nlearn you your book, she tried to learn you your manners, she tried to\\nbe good to you every way she knowed how. \\xa0_That’s_ what she done.”\\n\\nI got to feeling so mean and so miserable I most wished I was dead. \\xa0I\\nfidgeted up and down the raft, abusing myself to myself, and Jim was\\nfidgeting up and down past me. \\xa0We neither of us could keep still.\\n\\xa0Every time he danced around and says, “Dah’s Cairo!” it went through me\\nlike a shot, and I thought if it _was_ Cairo I reckoned I would die of\\nmiserableness.\\n\\nJim talked out loud all the time while I was talking to myself. \\xa0He was\\nsaying how the first thing he would do when he got to a free State he\\nwould go to saving up money and never spend a single cent, and when he\\ngot enough he would buy his wife, which was owned on a farm close to\\nwhere Miss Watson lived; and then they would both work to buy the\\ntwo children, and if their master wouldn’t sell them, they’d get an\\nAb’litionist to go and steal them.\\n\\nIt most froze me to hear such talk. \\xa0He wouldn’t ever dared to talk such\\ntalk in his life before. \\xa0Just see what a difference it made in him the\\nminute he judged he was about free. \\xa0It was according to the old saying,\\n“Give a nigger an inch and he’ll take an ell.” \\xa0Thinks I, this is what\\ncomes of my not thinking. \\xa0Here was this nigger, which I had as good\\nas helped to run away, coming right out flat-footed and saying he would\\nsteal his children--children that belonged to a man I didn’t even know; a\\nman that hadn’t ever done me no harm.\\n\\nI was sorry to hear Jim say that, it was such a lowering of him. \\xa0My\\nconscience got to stirring me up hotter than ever, until at last I says\\nto it, “Let up on me--it ain’t too late yet--I’ll paddle ashore at the\\nfirst light and tell.” \\xa0I felt easy and happy and light as a feather\\nright off. \\xa0All my troubles was gone. \\xa0I went to looking out sharp for a\\nlight, and sort of singing to myself. \\xa0By and by one showed. \\xa0Jim sings\\nout:\\n\\n“We’s safe, Huck, we’s safe! \\xa0Jump up and crack yo’ heels! \\xa0Dat’s de\\ngood ole Cairo at las’, I jis knows it!”\\n\\nI says:\\n\\n“I’ll take the canoe and go and see, Jim. \\xa0It mightn’t be, you know.”\\n\\nHe jumped and got the canoe ready, and put his old coat in the bottom\\nfor me to set on, and give me the paddle; and as I shoved off, he says:\\n\\n“Pooty soon I’ll be a-shout’n’ for joy, en I’ll say, it’s all on\\naccounts o’ Huck; I’s a free man, en I couldn’t ever ben free ef it\\nhadn’ ben for Huck; Huck done it. \\xa0Jim won’t ever forgit you, Huck;\\nyou’s de bes’ fren’ Jim’s ever had; en you’s de _only_ fren’ ole Jim’s\\ngot now.”\\n\\nI was paddling off, all in a sweat to tell on him; but when he says\\nthis, it seemed to kind of take the tuck all out of me. \\xa0I went along\\nslow then, and I warn’t right down certain whether I was glad I started\\nor whether I warn’t. \\xa0When I was fifty yards off, Jim says:\\n\\n“Dah you goes, de ole true Huck; de on’y white genlman dat ever kep’ his\\npromise to ole Jim.”\\n\\nWell, I just felt sick. \\xa0But I says, I _got_ to do it--I can’t get _out_\\nof it. \\xa0Right then along comes a skiff with two men in it with guns, and\\nthey stopped and I stopped. \\xa0One of them says:\\n\\n“What’s that yonder?”\\n\\n“A piece of a raft,” I says.\\n\\n“Do you belong on it?”\\n\\n“Yes, sir.”\\n\\n“Any men on it?”\\n\\n“Only one, sir.”\\n\\n“Well, there’s five niggers run off to-night up yonder, above the head\\nof the bend. \\xa0Is your man white or black?”\\n\\nI didn’t answer up prompt. \\xa0I tried to, but the words wouldn’t come. I\\ntried for a second or two to brace up and out with it, but I warn’t man\\nenough--hadn’t the spunk of a rabbit. \\xa0I see I was weakening; so I just\\ngive up trying, and up and says:\\n\\n“He’s white.”\\n\\n“I reckon we’ll go and see for ourselves.”\\n\\n“I wish you would,” says I, “because it’s pap that’s there, and maybe\\nyou’d help me tow the raft ashore where the light is. \\xa0He’s sick--and so\\nis mam and Mary Ann.”\\n\\n“Oh, the devil! we’re in a hurry, boy. \\xa0But I s’pose we’ve got to.\\n\\xa0Come, buckle to your paddle, and let’s get along.”\\n\\nI buckled to my paddle and they laid to their oars. \\xa0When we had made a\\nstroke or two, I says:\\n\\n“Pap’ll be mighty much obleeged to you, I can tell you. \\xa0Everybody goes\\naway when I want them to help me tow the raft ashore, and I can’t do it\\nby myself.”\\n\\n“Well, that’s infernal mean. \\xa0Odd, too. \\xa0Say, boy, what’s the matter\\nwith your father?”\\n\\n“It’s the--a--the--well, it ain’t anything much.”\\n\\nThey stopped pulling. \\xa0It warn’t but a mighty little ways to the raft\\nnow. One says:\\n\\n“Boy, that’s a lie. \\xa0What _is_ the matter with your pap? \\xa0Answer up\\nsquare now, and it’ll be the better for you.”\\n\\n“I will, sir, I will, honest--but don’t leave us, please. \\xa0It’s\\nthe--the--Gentlemen, if you’ll only pull ahead, and let me heave you the\\nheadline, you won’t have to come a-near the raft--please do.”\\n\\n“Set her back, John, set her back!” says one. \\xa0They backed water.  “Keep\\naway, boy--keep to looard. \\xa0Confound it, I just expect the wind has\\nblowed it to us. \\xa0Your pap’s got the small-pox, and you know it precious\\nwell. \\xa0Why didn’t you come out and say so? \\xa0Do you want to spread it all\\nover?”\\n\\n“Well,” says I, a-blubbering, “I’ve told everybody before, and they just\\nwent away and left us.”\\n\\n“Poor devil, there’s something in that. \\xa0We are right down sorry for\\nyou, but we--well, hang it, we don’t want the small-pox, you see. \\xa0Look\\nhere, I’ll tell you what to do. \\xa0Don’t you try to land by yourself, or\\nyou’ll smash everything to pieces. \\xa0You float along down about twenty\\nmiles, and you’ll come to a town on the left-hand side of the river. \\xa0It\\nwill be long after sun-up then, and when you ask for help you tell them\\nyour folks are all down with chills and fever. \\xa0Don’t be a fool again,\\nand let people guess what is the matter. \\xa0Now we’re trying to do you a\\nkindness; so you just put twenty miles between us, that’s a good boy.\\n\\xa0It wouldn’t do any good to land yonder where the light is--it’s only a\\nwood-yard. Say, I reckon your father’s poor, and I’m bound to say he’s\\nin pretty hard luck. \\xa0Here, I’ll put a twenty-dollar gold piece on this\\nboard, and you get it when it floats by. \\xa0I feel mighty mean to leave\\nyou; but my kingdom! it won’t do to fool with small-pox, don’t you see?”\\n\\n“Hold on, Parker,” says the other man, “here’s a twenty to put on the\\nboard for me. \\xa0Good-bye, boy; you do as Mr. Parker told you, and you’ll\\nbe all right.”\\n\\n“That’s so, my boy--good-bye, good-bye. \\xa0If you see any runaway niggers\\nyou get help and nab them, and you can make some money by it.”\\n\\n“Good-bye, sir,” says I; “I won’t let no runaway niggers get by me if I\\ncan help it.”\\n\\nThey went off and I got aboard the raft, feeling bad and low, because I\\nknowed very well I had done wrong, and I see it warn’t no use for me\\nto try to learn to do right; a body that don’t get _started_ right when\\nhe’s little ain’t got no show--when the pinch comes there ain’t nothing\\nto back him up and keep him to his work, and so he gets beat. \\xa0Then I\\nthought a minute, and says to myself, hold on; s’pose you’d a done right\\nand give Jim up, would you felt better than what you do now? \\xa0No, says\\nI, I’d feel bad--I’d feel just the same way I do now. \\xa0Well, then, says\\nI, what’s the use you learning to do right when it’s troublesome to do\\nright and ain’t no trouble to do wrong, and the wages is just the same?\\n\\xa0I was stuck. \\xa0I couldn’t answer that. \\xa0So I reckoned I wouldn’t bother\\nno more about it, but after this always do whichever come handiest at\\nthe time.\\n\\nI went into the wigwam; Jim warn’t there. \\xa0I looked all around; he\\nwarn’t anywhere. \\xa0I says:\\n\\n“Jim!”\\n\\n“Here I is, Huck. \\xa0Is dey out o’ sight yit? \\xa0Don’t talk loud.”\\n\\nHe was in the river under the stern oar, with just his nose out. \\xa0I told\\nhim they were out of sight, so he come aboard. \\xa0He says:\\n\\n“I was a-listenin’ to all de talk, en I slips into de river en was gwyne\\nto shove for sho’ if dey come aboard. \\xa0Den I was gwyne to swim to de\\nraf’ agin when dey was gone. \\xa0But lawsy, how you did fool ‘em, Huck!\\n\\xa0Dat _wuz_ de smartes’ dodge! \\xa0I tell you, chile, I’spec it save’ ole\\nJim--ole Jim ain’t going to forgit you for dat, honey.”\\n\\nThen we talked about the money. \\xa0It was a pretty good raise--twenty\\ndollars apiece. \\xa0Jim said we could take deck passage on a steamboat\\nnow, and the money would last us as far as we wanted to go in the free\\nStates. He said twenty mile more warn’t far for the raft to go, but he\\nwished we was already there.\\n\\nTowards daybreak we tied up, and Jim was mighty particular about hiding\\nthe raft good. \\xa0Then he worked all day fixing things in bundles, and\\ngetting all ready to quit rafting.\\n\\nThat night about ten we hove in sight of the lights of a town away down\\nin a left-hand bend.\\n\\nI went off in the canoe to ask about it. \\xa0Pretty soon I found a man out\\nin the river with a skiff, setting a trot-line. \\xa0I ranged up and says:\\n\\n“Mister, is that town Cairo?”\\n\\n“Cairo? no. \\xa0You must be a blame’ fool.”\\n\\n“What town is it, mister?”\\n\\n“If you want to know, go and find out. \\xa0If you stay here botherin’\\naround me for about a half a minute longer you’ll get something you\\nwon’t want.”\\n\\nI paddled to the raft. \\xa0Jim was awful disappointed, but I said never\\nmind, Cairo would be the next place, I reckoned.\\n\\nWe passed another town before daylight, and I was going out again; but\\nit was high ground, so I didn’t go. \\xa0No high ground about Cairo, Jim\\nsaid. I had forgot it. \\xa0We laid up for the day on a towhead tolerable\\nclose to the left-hand bank. \\xa0I begun to suspicion something. \\xa0So did\\nJim. \\xa0I says:\\n\\n“Maybe we went by Cairo in the fog that night.”\\n\\nHe says:\\n\\n“Doan’ le’s talk about it, Huck. \\xa0Po’ niggers can’t have no luck. \\xa0I\\nawluz ‘spected dat rattlesnake-skin warn’t done wid its work.”\\n\\n“I wish I’d never seen that snake-skin, Jim--I do wish I’d never laid\\neyes on it.”\\n\\n“It ain’t yo’ fault, Huck; you didn’ know. \\xa0Don’t you blame yo’self\\n‘bout it.”\\n\\nWhen it was daylight, here was the clear Ohio water inshore, sure\\nenough, and outside was the old regular Muddy! \\xa0So it was all up with\\nCairo.\\n\\nWe talked it all over. \\xa0It wouldn’t do to take to the shore; we couldn’t\\ntake the raft up the stream, of course. \\xa0There warn’t no way but to wait\\nfor dark, and start back in the canoe and take the chances. \\xa0So we slept\\nall day amongst the cottonwood thicket, so as to be fresh for the work,\\nand when we went back to the raft about dark the canoe was gone!\\n\\nWe didn’t say a word for a good while. \\xa0There warn’t anything to\\nsay. \\xa0We both knowed well enough it was some more work of the\\nrattlesnake-skin; so what was the use to talk about it? \\xa0It would only\\nlook like we was finding fault, and that would be bound to fetch more\\nbad luck--and keep on fetching it, too, till we knowed enough to keep\\nstill.\\n\\nBy and by we talked about what we better do, and found there warn’t no\\nway but just to go along down with the raft till we got a chance to buy\\na canoe to go back in. \\xa0We warn’t going to borrow it when there warn’t\\nanybody around, the way pap would do, for that might set people after\\nus.\\n\\nSo we shoved out after dark on the raft.\\n\\nAnybody that don’t believe yet that it’s foolishness to handle a\\nsnake-skin, after all that that snake-skin done for us, will believe it\\nnow if they read on and see what more it done for us.\\n\\nThe place to buy canoes is off of rafts laying up at shore. \\xa0But we\\ndidn’t see no rafts laying up; so we went along during three hours and\\nmore. \\xa0Well, the night got gray and ruther thick, which is the next\\nmeanest thing to fog. \\xa0You can’t tell the shape of the river, and you\\ncan’t see no distance. It got to be very late and still, and then along\\ncomes a steamboat up the river. \\xa0We lit the lantern, and judged she\\nwould see it. \\xa0Up-stream boats didn’t generly come close to us; they\\ngo out and follow the bars and hunt for easy water under the reefs; but\\nnights like this they bull right up the channel against the whole river.\\n\\nWe could hear her pounding along, but we didn’t see her good till she\\nwas close. \\xa0She aimed right for us. \\xa0Often they do that and try to see\\nhow close they can come without touching; sometimes the wheel bites off\\na sweep, and then the pilot sticks his head out and laughs, and thinks\\nhe’s mighty smart. \\xa0Well, here she comes, and we said she was going to\\ntry and shave us; but she didn’t seem to be sheering off a bit. \\xa0She\\nwas a big one, and she was coming in a hurry, too, looking like a black\\ncloud with rows of glow-worms around it; but all of a sudden she bulged\\nout, big and scary, with a long row of wide-open furnace doors shining\\nlike red-hot teeth, and her monstrous bows and guards hanging right\\nover us. \\xa0There was a yell at us, and a jingling of bells to stop the\\nengines, a powwow of cussing, and whistling of steam--and as Jim went\\noverboard on one side and I on the other, she come smashing straight\\nthrough the raft.\\n\\nI dived--and I aimed to find the bottom, too, for a thirty-foot wheel\\nhad got to go over me, and I wanted it to have plenty of room. \\xa0I could\\nalways stay under water a minute; this time I reckon I stayed under a\\nminute and a half. \\xa0Then I bounced for the top in a hurry, for I was\\nnearly busting. \\xa0I popped out to my armpits and blowed the water out of\\nmy nose, and puffed a bit. \\xa0Of course there was a booming current; and\\nof course that boat started her engines again ten seconds after she\\nstopped them, for they never cared much for raftsmen; so now she was\\nchurning along up the river, out of sight in the thick weather, though I\\ncould hear her.\\n\\nI sung out for Jim about a dozen times, but I didn’t get any answer;\\nso I grabbed a plank that touched me while I was “treading water,” and\\nstruck out for shore, shoving it ahead of me. \\xa0But I made out to see\\nthat the drift of the current was towards the left-hand shore, which\\nmeant that I was in a crossing; so I changed off and went that way.\\n\\nIt was one of these long, slanting, two-mile crossings; so I was a good\\nlong time in getting over. \\xa0I made a safe landing, and clumb up the\\nbank. I couldn’t see but a little ways, but I went poking along over\\nrough ground for a quarter of a mile or more, and then I run across a\\nbig old-fashioned double log-house before I noticed it. \\xa0I was going to\\nrush by and get away, but a lot of dogs jumped out and went to howling\\nand barking at me, and I knowed better than to move another peg.\\n\\n\\n\\n\\nCHAPTER XVII.\\n\\nIN about a minute somebody spoke out of a window without putting his\\nhead out, and says:\\n\\n“Be done, boys! \\xa0Who’s there?”\\n\\nI says:\\n\\n“It’s me.”\\n\\n“Who’s me?”\\n\\n“George Jackson, sir.”\\n\\n“What do you want?”\\n\\n“I don’t want nothing, sir. \\xa0I only want to go along by, but the dogs\\nwon’t let me.”\\n\\n“What are you prowling around here this time of night for--hey?”\\n\\n“I warn’t prowling around, sir, I fell overboard off of the steamboat.”\\n\\n“Oh, you did, did you? \\xa0Strike a light there, somebody. \\xa0What did you\\nsay your name was?”\\n\\n“George Jackson, sir. \\xa0I’m only a boy.”\\n\\n“Look here, if you’re telling the truth you needn’t be afraid--nobody’ll\\nhurt you. \\xa0But don’t try to budge; stand right where you are. \\xa0Rouse out\\nBob and Tom, some of you, and fetch the guns. \\xa0George Jackson, is there\\nanybody with you?”\\n\\n“No, sir, nobody.”\\n\\nI heard the people stirring around in the house now, and see a light.\\nThe man sung out:\\n\\n“Snatch that light away, Betsy, you old fool--ain’t you got any sense?\\nPut it on the floor behind the front door. \\xa0Bob, if you and Tom are\\nready, take your places.”\\n\\n“All ready.”\\n\\n“Now, George Jackson, do you know the Shepherdsons?”\\n\\n“No, sir; I never heard of them.”\\n\\n“Well, that may be so, and it mayn’t. \\xa0Now, all ready. \\xa0Step forward,\\nGeorge Jackson. \\xa0And mind, don’t you hurry--come mighty slow. \\xa0If there’s\\nanybody with you, let him keep back--if he shows himself he’ll be shot.\\nCome along now. \\xa0Come slow; push the door open yourself--just enough to\\nsqueeze in, d’ you hear?”\\n\\nI didn’t hurry; I couldn’t if I’d a wanted to. \\xa0I took one slow step at\\na time and there warn’t a sound, only I thought I could hear my heart.\\n\\xa0The dogs were as still as the humans, but they followed a little behind\\nme. When I got to the three log doorsteps I heard them unlocking and\\nunbarring and unbolting. \\xa0I put my hand on the door and pushed it a\\nlittle and a little more till somebody said, “There, that’s enough--put\\nyour head in.” I done it, but I judged they would take it off.\\n\\nThe candle was on the floor, and there they all was, looking at me, and\\nme at them, for about a quarter of a minute: \\xa0Three big men with guns\\npointed at me, which made me wince, I tell you; the oldest, gray\\nand about sixty, the other two thirty or more--all of them fine and\\nhandsome--and the sweetest old gray-headed lady, and back of her two\\nyoung women which I couldn’t see right well. \\xa0The old gentleman says:\\n\\n“There; I reckon it’s all right. \\xa0Come in.”\\n\\nAs soon as I was in the old gentleman he locked the door and barred it\\nand bolted it, and told the young men to come in with their guns, and\\nthey all went in a big parlor that had a new rag carpet on the floor,\\nand got together in a corner that was out of the range of the front\\nwindows--there warn’t none on the side. \\xa0They held the candle, and took a\\ngood look at me, and all said, “Why, _he_ ain’t a Shepherdson--no, there\\nain’t any Shepherdson about him.” \\xa0Then the old man said he hoped I\\nwouldn’t mind being searched for arms, because he didn’t mean no harm by\\nit--it was only to make sure. \\xa0So he didn’t pry into my pockets, but only\\nfelt outside with his hands, and said it was all right. \\xa0He told me to\\nmake myself easy and at home, and tell all about myself; but the old\\nlady says:\\n\\n“Why, bless you, Saul, the poor thing’s as wet as he can be; and don’t\\nyou reckon it may be he’s hungry?”\\n\\n“True for you, Rachel--I forgot.”\\n\\nSo the old lady says:\\n\\n“Betsy” (this was a nigger woman), “you fly around and get him something\\nto eat as quick as you can, poor thing; and one of you girls go and wake\\nup Buck and tell him--oh, here he is himself. \\xa0Buck, take this little\\nstranger and get the wet clothes off from him and dress him up in some\\nof yours that’s dry.”\\n\\nBuck looked about as old as me--thirteen or fourteen or along there,\\nthough he was a little bigger than me. \\xa0He hadn’t on anything but a\\nshirt, and he was very frowzy-headed. \\xa0He came in gaping and digging one\\nfist into his eyes, and he was dragging a gun along with the other one.\\nHe says:\\n\\n“Ain’t they no Shepherdsons around?”\\n\\nThey said, no, ‘twas a false alarm.\\n\\n“Well,” he says, “if they’d a ben some, I reckon I’d a got one.”\\n\\nThey all laughed, and Bob says:\\n\\n“Why, Buck, they might have scalped us all, you’ve been so slow in\\ncoming.”\\n\\n“Well, nobody come after me, and it ain’t right I’m always kept down; I\\ndon’t get no show.”\\n\\n“Never mind, Buck, my boy,” says the old man, “you’ll have show enough,\\nall in good time, don’t you fret about that. \\xa0Go ‘long with you now, and\\ndo as your mother told you.”\\n\\nWhen we got up-stairs to his room he got me a coarse shirt and a\\nroundabout and pants of his, and I put them on. \\xa0While I was at it he\\nasked me what my name was, but before I could tell him he started to\\ntell me about a bluejay and a young rabbit he had catched in the woods\\nday before yesterday, and he asked me where Moses was when the candle\\nwent out. \\xa0I said I didn’t know; I hadn’t heard about it before, no way.\\n\\n“Well, guess,” he says.\\n\\n“How’m I going to guess,” says I, “when I never heard tell of it\\nbefore?”\\n\\n“But you can guess, can’t you? \\xa0It’s just as easy.”\\n\\n“_Which_ candle?” \\xa0I says.\\n\\n“Why, any candle,” he says.\\n\\n“I don’t know where he was,” says I; “where was he?”\\n\\n“Why, he was in the _dark_! \\xa0That’s where he was!”\\n\\n“Well, if you knowed where he was, what did you ask me for?”\\n\\n“Why, blame it, it’s a riddle, don’t you see? \\xa0Say, how long are you\\ngoing to stay here? \\xa0You got to stay always. \\xa0We can just have booming\\ntimes--they don’t have no school now. \\xa0Do you own a dog? \\xa0I’ve got a\\ndog--and he’ll go in the river and bring out chips that you throw in. \\xa0Do\\nyou like to comb up Sundays, and all that kind of foolishness? \\xa0You bet\\nI don’t, but ma she makes me. \\xa0Confound these ole britches! \\xa0I reckon\\nI’d better put ‘em on, but I’d ruther not, it’s so warm. \\xa0Are you all\\nready? All right. \\xa0Come along, old hoss.”\\n\\nCold corn-pone, cold corn-beef, butter and buttermilk--that is what they\\nhad for me down there, and there ain’t nothing better that ever I’ve\\ncome across yet. \\xa0Buck and his ma and all of them smoked cob pipes,\\nexcept the nigger woman, which was gone, and the two young women. \\xa0They\\nall smoked and talked, and I eat and talked. \\xa0The young women had\\nquilts around them, and their hair down their backs. \\xa0They all asked me\\nquestions, and I told them how pap and me and all the family was living\\non a little farm down at the bottom of Arkansaw, and my sister Mary Ann\\nrun off and got married and never was heard of no more, and Bill went\\nto hunt them and he warn’t heard of no more, and Tom and Mort died,\\nand then there warn’t nobody but just me and pap left, and he was just\\ntrimmed down to nothing, on account of his troubles; so when he died\\nI took what there was left, because the farm didn’t belong to us, and\\nstarted up the river, deck passage, and fell overboard; and that was how\\nI come to be here. \\xa0So they said I could have a home there as long as I\\nwanted it. \\xa0Then it was most daylight and everybody went to bed, and I\\nwent to bed with Buck, and when I waked up in the morning, drat it all,\\nI had forgot what my name was. So I laid there about an hour trying to\\nthink, and when Buck waked up I says:\\n\\n“Can you spell, Buck?”\\n\\n“Yes,” he says.\\n\\n“I bet you can’t spell my name,” says I.\\n\\n“I bet you what you dare I can,” says he.\\n\\n“All right,” says I, “go ahead.”\\n\\n“G-e-o-r-g-e J-a-x-o-n--there now,” he says.\\n\\n“Well,” says I, “you done it, but I didn’t think you could. \\xa0It ain’t no\\nslouch of a name to spell--right off without studying.”\\n\\nI set it down, private, because somebody might want _me_ to spell it\\nnext, and so I wanted to be handy with it and rattle it off like I was\\nused to it.\\n\\nIt was a mighty nice family, and a mighty nice house, too. \\xa0I hadn’t\\nseen no house out in the country before that was so nice and had so much\\nstyle. \\xa0It didn’t have an iron latch on the front door, nor a wooden one\\nwith a buckskin string, but a brass knob to turn, the same as houses in\\ntown. There warn’t no bed in the parlor, nor a sign of a bed; but heaps\\nof parlors in towns has beds in them. \\xa0There was a big fireplace that\\nwas bricked on the bottom, and the bricks was kept clean and red by\\npouring water on them and scrubbing them with another brick; sometimes\\nthey wash them over with red water-paint that they call Spanish-brown,\\nsame as they do in town. \\xa0They had big brass dog-irons that could hold\\nup a saw-log. There was a clock on the middle of the mantelpiece, with\\na picture of a town painted on the bottom half of the glass front, and\\na round place in the middle of it for the sun, and you could see the\\npendulum swinging behind it. \\xa0It was beautiful to hear that clock tick;\\nand sometimes when one of these peddlers had been along and scoured her\\nup and got her in good shape, she would start in and strike a hundred\\nand fifty before she got tuckered out. \\xa0They wouldn’t took any money for\\nher.\\n\\nWell, there was a big outlandish parrot on each side of the clock,\\nmade out of something like chalk, and painted up gaudy. \\xa0By one of the\\nparrots was a cat made of crockery, and a crockery dog by the other;\\nand when you pressed down on them they squeaked, but didn’t open\\ntheir mouths nor look different nor interested. \\xa0They squeaked through\\nunderneath. \\xa0There was a couple of big wild-turkey-wing fans spread out\\nbehind those things. \\xa0On the table in the middle of the room was a kind\\nof a lovely crockery basket that had apples and oranges and peaches and\\ngrapes piled up in it, which was much redder and yellower and prettier\\nthan real ones is, but they warn’t real because you could see where\\npieces had got chipped off and showed the white chalk, or whatever it\\nwas, underneath.\\n\\nThis table had a cover made out of beautiful oilcloth, with a red and\\nblue spread-eagle painted on it, and a painted border all around. \\xa0It\\ncome all the way from Philadelphia, they said. \\xa0There was some books,\\ntoo, piled up perfectly exact, on each corner of the table. \\xa0One was a\\nbig family Bible full of pictures. \\xa0One was Pilgrim’s Progress, about a\\nman that left his family, it didn’t say why. \\xa0I read considerable in it\\nnow and then. \\xa0The statements was interesting, but tough. \\xa0Another was\\nFriendship’s Offering, full of beautiful stuff and poetry; but I didn’t\\nread the poetry. \\xa0Another was Henry Clay’s Speeches, and another was Dr.\\nGunn’s Family Medicine, which told you all about what to do if a body\\nwas sick or dead. \\xa0There was a hymn book, and a lot of other books. \\xa0And\\nthere was nice split-bottom chairs, and perfectly sound, too--not bagged\\ndown in the middle and busted, like an old basket.\\n\\nThey had pictures hung on the walls--mainly Washingtons and Lafayettes,\\nand battles, and Highland Marys, and one called “Signing the\\nDeclaration.” There was some that they called crayons, which one of the\\ndaughters which was dead made her own self when she was only\\nfifteen years old. \\xa0They was different from any pictures I ever see\\nbefore--blacker, mostly, than is common. \\xa0One was a woman in a slim black\\ndress, belted small under the armpits, with bulges like a cabbage in\\nthe middle of the sleeves, and a large black scoop-shovel bonnet with\\na black veil, and white slim ankles crossed about with black tape, and\\nvery wee black slippers, like a chisel, and she was leaning pensive on a\\ntombstone on her right elbow, under a weeping willow, and her other hand\\nhanging down her side holding a white handkerchief and a reticule,\\nand underneath the picture it said “Shall I Never See Thee More Alas.”\\n \\xa0Another one was a young lady with her hair all combed up straight\\nto the top of her head, and knotted there in front of a comb like a\\nchair-back, and she was crying into a handkerchief and had a dead bird\\nlaying on its back in her other hand with its heels up, and underneath\\nthe picture it said “I Shall Never Hear Thy Sweet Chirrup More Alas.”\\n \\xa0There was one where a young lady was at a window looking up at the\\nmoon, and tears running down her cheeks; and she had an open letter in\\none hand with black sealing wax showing on one edge of it, and she was\\nmashing a locket with a chain to it against her mouth, and underneath\\nthe picture it said “And Art Thou Gone Yes Thou Art Gone Alas.” \\xa0These\\nwas all nice pictures, I reckon, but I didn’t somehow seem to take\\nto them, because if ever I was down a little they always give me the\\nfan-tods. \\xa0Everybody was sorry she died, because she had laid out a lot\\nmore of these pictures to do, and a body could see by what she had done\\nwhat they had lost. \\xa0But I reckoned that with her disposition she was\\nhaving a better time in the graveyard. \\xa0She was at work on what they\\nsaid was her greatest picture when she took sick, and every day and\\nevery night it was her prayer to be allowed to live till she got it\\ndone, but she never got the chance. \\xa0It was a picture of a young woman\\nin a long white gown, standing on the rail of a bridge all ready to jump\\noff, with her hair all down her back, and looking up to the moon, with\\nthe tears running down her face, and she had two arms folded across her\\nbreast, and two arms stretched out in front, and two more reaching up\\ntowards the moon--and the idea was to see which pair would look best,\\nand then scratch out all the other arms; but, as I was saying, she died\\nbefore she got her mind made up, and now they kept this picture over the\\nhead of the bed in her room, and every time her birthday come they hung\\nflowers on it. \\xa0Other times it was hid with a little curtain. \\xa0The young\\nwoman in the picture had a kind of a nice sweet face, but there was so\\nmany arms it made her look too spidery, seemed to me.\\n\\nThis young girl kept a scrap-book when she was alive, and used to paste\\nobituaries and accidents and cases of patient suffering in it out of the\\nPresbyterian Observer, and write poetry after them out of her own head.\\nIt was very good poetry. This is what she wrote about a boy by the name\\nof Stephen Dowling Bots that fell down a well and was drownded:\\n\\nODE TO STEPHEN DOWLING BOTS, DEC’D\\n\\nAnd did young Stephen sicken, \\xa0 \\xa0And did young Stephen die? And did the\\nsad hearts thicken, \\xa0 \\xa0And did the mourners cry?\\n\\nNo; such was not the fate of \\xa0 \\xa0Young Stephen Dowling Bots; Though sad\\nhearts round him thickened, \\xa0  ‘Twas not from sickness’ shots.\\n\\nNo whooping-cough did rack his frame, \\xa0 \\xa0Nor measles drear with spots;\\nNot these impaired the sacred name \\xa0 \\xa0Of Stephen Dowling Bots.\\n\\nDespised love struck not with woe \\xa0 \\xa0That head of curly knots, Nor\\nstomach troubles laid him low, \\xa0 \\xa0Young Stephen Dowling Bots.\\n\\nO no. Then list with tearful eye, \\xa0 \\xa0Whilst I his fate do tell. His soul\\ndid from this cold world fly \\xa0 \\xa0By falling down a well.\\n\\nThey got him out and emptied him; \\xa0 \\xa0Alas it was too late; His spirit\\nwas gone for to sport aloft \\xa0 \\xa0In the realms of the good and great.\\n\\nIf Emmeline Grangerford could make poetry like that before she was\\nfourteen, there ain’t no telling what she could a done by and by. \\xa0Buck\\nsaid she could rattle off poetry like nothing. \\xa0She didn’t ever have to\\nstop to think. \\xa0He said she would slap down a line, and if she couldn’t\\nfind anything to rhyme with it would just scratch it out and slap down\\nanother one, and go ahead. She warn’t particular; she could write about\\nanything you choose to give her to write about just so it was sadful.\\nEvery time a man died, or a woman died, or a child died, she would be on\\nhand with her “tribute” before he was cold. \\xa0She called them tributes.\\nThe neighbors said it was the doctor first, then Emmeline, then the\\nundertaker--the undertaker never got in ahead of Emmeline but once, and\\nthen she hung fire on a rhyme for the dead person’s name, which was\\nWhistler. \\xa0She warn’t ever the same after that; she never complained,\\nbut she kinder pined away and did not live long. \\xa0Poor thing, many’s the\\ntime I made myself go up to the little room that used to be hers and get\\nout her poor old scrap-book and read in it when her pictures had been\\naggravating me and I had soured on her a little. \\xa0I liked all that\\nfamily, dead ones and all, and warn’t going to let anything come between\\nus. \\xa0Poor Emmeline made poetry about all the dead people when she was\\nalive, and it didn’t seem right that there warn’t nobody to make some\\nabout her now she was gone; so I tried to sweat out a verse or two\\nmyself, but I couldn’t seem to make it go somehow. \\xa0They kept Emmeline’s\\nroom trim and nice, and all the things fixed in it just the way she\\nliked to have them when she was alive, and nobody ever slept there.\\n\\xa0The old lady took care of the room herself, though there was plenty\\nof niggers, and she sewed there a good deal and read her Bible there\\nmostly.\\n\\nWell, as I was saying about the parlor, there was beautiful curtains on\\nthe windows: \\xa0white, with pictures painted on them of castles with vines\\nall down the walls, and cattle coming down to drink. \\xa0There was a little\\nold piano, too, that had tin pans in it, I reckon, and nothing was ever\\nso lovely as to hear the young ladies sing “The Last Link is Broken”\\n and play “The Battle of Prague” on it. \\xa0The walls of all the rooms was\\nplastered, and most had carpets on the floors, and the whole house was\\nwhitewashed on the outside.\\n\\nIt was a double house, and the big open place betwixt them was roofed\\nand floored, and sometimes the table was set there in the middle of the\\nday, and it was a cool, comfortable place. \\xa0Nothing couldn’t be better.\\n\\xa0And warn’t the cooking good, and just bushels of it too!\\n\\n\\n\\n\\nCHAPTER XVIII.\\n\\nCOL. \\xa0Grangerford was a gentleman, you see. \\xa0He was a gentleman all\\nover; and so was his family. \\xa0He was well born, as the saying is, and\\nthat’s worth as much in a man as it is in a horse, so the Widow Douglas\\nsaid, and nobody ever denied that she was of the first aristocracy\\nin our town; and pap he always said it, too, though he warn’t no more\\nquality than a mudcat himself. \\xa0Col. \\xa0Grangerford was very tall and\\nvery slim, and had a darkish-paly complexion, not a sign of red in it\\nanywheres; he was clean shaved every morning all over his thin face, and\\nhe had the thinnest kind of lips, and the thinnest kind of nostrils, and\\na high nose, and heavy eyebrows, and the blackest kind of eyes, sunk so\\ndeep back that they seemed like they was looking out of caverns at\\nyou, as you may say. \\xa0His forehead was high, and his hair was black and\\nstraight and hung to his shoulders. His hands was long and thin, and\\nevery day of his life he put on a clean shirt and a full suit from head\\nto foot made out of linen so white it hurt your eyes to look at it;\\nand on Sundays he wore a blue tail-coat with brass buttons on it. \\xa0He\\ncarried a mahogany cane with a silver head to it. \\xa0There warn’t no\\nfrivolishness about him, not a bit, and he warn’t ever loud. \\xa0He was\\nas kind as he could be--you could feel that, you know, and so you had\\nconfidence. \\xa0Sometimes he smiled, and it was good to see; but when he\\nstraightened himself up like a liberty-pole, and the lightning begun to\\nflicker out from under his eyebrows, you wanted to climb a tree first,\\nand find out what the matter was afterwards. \\xa0He didn’t ever have to\\ntell anybody to mind their manners--everybody was always good-mannered\\nwhere he was. \\xa0Everybody loved to have him around, too; he was sunshine\\nmost always--I mean he made it seem like good weather. \\xa0When he turned\\ninto a cloudbank it was awful dark for half a minute, and that was\\nenough; there wouldn’t nothing go wrong again for a week.\\n\\nWhen him and the old lady come down in the morning all the family got\\nup out of their chairs and give them good-day, and didn’t set down again\\ntill they had set down. \\xa0Then Tom and Bob went to the sideboard where\\nthe decanter was, and mixed a glass of bitters and handed it to him, and\\nhe held it in his hand and waited till Tom’s and Bob’s was mixed, and\\nthen they bowed and said, “Our duty to you, sir, and madam;” and _they_\\nbowed the least bit in the world and said thank you, and so they drank,\\nall three, and Bob and Tom poured a spoonful of water on the sugar and\\nthe mite of whisky or apple brandy in the bottom of their tumblers, and\\ngive it to me and Buck, and we drank to the old people too.\\n\\nBob was the oldest and Tom next--tall, beautiful men with very broad\\nshoulders and brown faces, and long black hair and black eyes. \\xa0They\\ndressed in white linen from head to foot, like the old gentleman, and\\nwore broad Panama hats.\\n\\nThen there was Miss Charlotte; she was twenty-five, and tall and proud\\nand grand, but as good as she could be when she warn’t stirred up; but\\nwhen she was she had a look that would make you wilt in your tracks,\\nlike her father. \\xa0She was beautiful.\\n\\nSo was her sister, Miss Sophia, but it was a different kind. \\xa0She was\\ngentle and sweet like a dove, and she was only twenty.\\n\\nEach person had their own nigger to wait on them--Buck too. \\xa0My nigger\\nhad a monstrous easy time, because I warn’t used to having anybody do\\nanything for me, but Buck’s was on the jump most of the time.\\n\\nThis was all there was of the family now, but there used to be\\nmore--three sons; they got killed; and Emmeline that died.\\n\\nThe old gentleman owned a lot of farms and over a hundred niggers.\\nSometimes a stack of people would come there, horseback, from ten or\\nfifteen mile around, and stay five or six days, and have such junketings\\nround about and on the river, and dances and picnics in the woods\\ndaytimes, and balls at the house nights. \\xa0These people was mostly\\nkinfolks of the family. \\xa0The men brought their guns with them. \\xa0It was a\\nhandsome lot of quality, I tell you.\\n\\nThere was another clan of aristocracy around there--five or six\\nfamilies--mostly of the name of Shepherdson. \\xa0They was as high-toned\\nand well born and rich and grand as the tribe of Grangerfords. \\xa0The\\nShepherdsons and Grangerfords used the same steamboat landing, which was\\nabout two mile above our house; so sometimes when I went up there with a\\nlot of our folks I used to see a lot of the Shepherdsons there on their\\nfine horses.\\n\\nOne day Buck and me was away out in the woods hunting, and heard a horse\\ncoming. \\xa0We was crossing the road. \\xa0Buck says:\\n\\n“Quick! \\xa0Jump for the woods!”\\n\\nWe done it, and then peeped down the woods through the leaves. \\xa0Pretty\\nsoon a splendid young man come galloping down the road, setting his\\nhorse easy and looking like a soldier. \\xa0He had his gun across his\\npommel. \\xa0I had seen him before. \\xa0It was young Harney Shepherdson. \\xa0I\\nheard Buck’s gun go off at my ear, and Harney’s hat tumbled off from his\\nhead. \\xa0He grabbed his gun and rode straight to the place where we was\\nhid. \\xa0But we didn’t wait. \\xa0We started through the woods on a run. \\xa0The\\nwoods warn’t thick, so I looked over my shoulder to dodge the bullet,\\nand twice I seen Harney cover Buck with his gun; and then he rode away\\nthe way he come--to get his hat, I reckon, but I couldn’t see. \\xa0We never\\nstopped running till we got home. \\xa0The old gentleman’s eyes blazed a\\nminute--‘twas pleasure, mainly, I judged--then his face sort of smoothed\\ndown, and he says, kind of gentle:\\n\\n“I don’t like that shooting from behind a bush. \\xa0Why didn’t you step\\ninto the road, my boy?”\\n\\n“The Shepherdsons don’t, father. \\xa0They always take advantage.”\\n\\nMiss Charlotte she held her head up like a queen while Buck was telling\\nhis tale, and her nostrils spread and her eyes snapped. \\xa0The two young\\nmen looked dark, but never said nothing. \\xa0Miss Sophia she turned pale,\\nbut the color come back when she found the man warn’t hurt.\\n\\nSoon as I could get Buck down by the corn-cribs under the trees by\\nourselves, I says:\\n\\n“Did you want to kill him, Buck?”\\n\\n“Well, I bet I did.”\\n\\n“What did he do to you?”\\n\\n“Him? \\xa0He never done nothing to me.”\\n\\n“Well, then, what did you want to kill him for?”\\n\\n“Why, nothing--only it’s on account of the feud.”\\n\\n“What’s a feud?”\\n\\n“Why, where was you raised? \\xa0Don’t you know what a feud is?”\\n\\n“Never heard of it before--tell me about it.”\\n\\n“Well,” says Buck, “a feud is this way: \\xa0A man has a quarrel with\\nanother man, and kills him; then that other man’s brother kills _him_;\\nthen the other brothers, on both sides, goes for one another; then the\\n_cousins_ chip in--and by and by everybody’s killed off, and there ain’t\\nno more feud. \\xa0But it’s kind of slow, and takes a long time.”\\n\\n“Has this one been going on long, Buck?”\\n\\n“Well, I should _reckon_! \\xa0It started thirty year ago, or som’ers along\\nthere. \\xa0There was trouble ‘bout something, and then a lawsuit to settle\\nit; and the suit went agin one of the men, and so he up and shot the\\nman that won the suit--which he would naturally do, of course. \\xa0Anybody\\nwould.”\\n\\n“What was the trouble about, Buck?--land?”\\n\\n“I reckon maybe--I don’t know.”\\n\\n“Well, who done the shooting? \\xa0Was it a Grangerford or a Shepherdson?”\\n\\n“Laws, how do I know? \\xa0It was so long ago.”\\n\\n“Don’t anybody know?”\\n\\n“Oh, yes, pa knows, I reckon, and some of the other old people; but they\\ndon’t know now what the row was about in the first place.”\\n\\n“Has there been many killed, Buck?”\\n\\n“Yes; right smart chance of funerals. \\xa0But they don’t always kill. \\xa0Pa’s\\ngot a few buckshot in him; but he don’t mind it ‘cuz he don’t weigh\\nmuch, anyway. \\xa0Bob’s been carved up some with a bowie, and Tom’s been\\nhurt once or twice.”\\n\\n“Has anybody been killed this year, Buck?”\\n\\n“Yes; we got one and they got one.  ‘Bout three months ago my cousin\\nBud, fourteen year old, was riding through the woods on t’other side\\nof the river, and didn’t have no weapon with him, which was blame’\\nfoolishness, and in a lonesome place he hears a horse a-coming behind\\nhim, and sees old Baldy Shepherdson a-linkin’ after him with his gun in\\nhis hand and his white hair a-flying in the wind; and ‘stead of jumping\\noff and taking to the brush, Bud ‘lowed he could out-run him; so they\\nhad it, nip and tuck, for five mile or more, the old man a-gaining all\\nthe time; so at last Bud seen it warn’t any use, so he stopped and faced\\naround so as to have the bullet holes in front, you know, and the old\\nman he rode up and shot him down. \\xa0But he didn’t git much chance to\\nenjoy his luck, for inside of a week our folks laid _him_ out.”\\n\\n“I reckon that old man was a coward, Buck.”\\n\\n“I reckon he _warn’t_ a coward. \\xa0Not by a blame’ sight. \\xa0There ain’t a\\ncoward amongst them Shepherdsons--not a one. \\xa0And there ain’t no cowards\\namongst the Grangerfords either. \\xa0Why, that old man kep’ up his end in a\\nfight one day for half an hour against three Grangerfords, and come\\nout winner. \\xa0They was all a-horseback; he lit off of his horse and got\\nbehind a little woodpile, and kep’ his horse before him to stop the\\nbullets; but the Grangerfords stayed on their horses and capered around\\nthe old man, and peppered away at him, and he peppered away at them.\\n\\xa0Him and his horse both went home pretty leaky and crippled, but the\\nGrangerfords had to be _fetched_ home--and one of ‘em was dead, and\\nanother died the next day. \\xa0No, sir; if a body’s out hunting for cowards\\nhe don’t want to fool away any time amongst them Shepherdsons, becuz\\nthey don’t breed any of that _kind_.”\\n\\nNext Sunday we all went to church, about three mile, everybody\\na-horseback. The men took their guns along, so did Buck, and kept\\nthem between their knees or stood them handy against the wall. \\xa0The\\nShepherdsons done the same. \\xa0It was pretty ornery preaching--all about\\nbrotherly love, and such-like tiresomeness; but everybody said it was\\na good sermon, and they all talked it over going home, and had such\\na powerful lot to say about faith and good works and free grace and\\npreforeordestination, and I don’t know what all, that it did seem to me\\nto be one of the roughest Sundays I had run across yet.\\n\\nAbout an hour after dinner everybody was dozing around, some in their\\nchairs and some in their rooms, and it got to be pretty dull. \\xa0Buck and\\na dog was stretched out on the grass in the sun sound asleep. \\xa0I went up\\nto our room, and judged I would take a nap myself. \\xa0I found that sweet\\nMiss Sophia standing in her door, which was next to ours, and she took\\nme in her room and shut the door very soft, and asked me if I liked her,\\nand I said I did; and she asked me if I would do something for her and\\nnot tell anybody, and I said I would. \\xa0Then she said she’d forgot her\\nTestament, and left it in the seat at church between two other books,\\nand would I slip out quiet and go there and fetch it to her, and not say\\nnothing to nobody. \\xa0I said I would. So I slid out and slipped off up the\\nroad, and there warn’t anybody at the church, except maybe a hog or two,\\nfor there warn’t any lock on the door, and hogs likes a puncheon floor\\nin summer-time because it’s cool. \\xa0If you notice, most folks don’t go to\\nchurch only when they’ve got to; but a hog is different.\\n\\nSays I to myself, something’s up; it ain’t natural for a girl to be in\\nsuch a sweat about a Testament. \\xa0So I give it a shake, and out drops a\\nlittle piece of paper with “HALF-PAST TWO” wrote on it with a pencil. \\xa0I\\nransacked it, but couldn’t find anything else. \\xa0I couldn’t make anything\\nout of that, so I put the paper in the book again, and when I got home\\nand upstairs there was Miss Sophia in her door waiting for me. \\xa0She\\npulled me in and shut the door; then she looked in the Testament till\\nshe found the paper, and as soon as she read it she looked glad; and\\nbefore a body could think she grabbed me and give me a squeeze, and\\nsaid I was the best boy in the world, and not to tell anybody. \\xa0She was\\nmighty red in the face for a minute, and her eyes lighted up, and it\\nmade her powerful pretty. \\xa0I was a good deal astonished, but when I got\\nmy breath I asked her what the paper was about, and she asked me if I\\nhad read it, and I said no, and she asked me if I could read writing,\\nand I told her “no, only coarse-hand,” and then she said the paper\\nwarn’t anything but a book-mark to keep her place, and I might go and\\nplay now.\\n\\nI went off down to the river, studying over this thing, and pretty soon\\nI noticed that my nigger was following along behind. \\xa0When we was out\\nof sight of the house he looked back and around a second, and then comes\\na-running, and says:\\n\\n“Mars Jawge, if you’ll come down into de swamp I’ll show you a whole\\nstack o’ water-moccasins.”\\n\\nThinks I, that’s mighty curious; he said that yesterday. \\xa0He oughter\\nknow a body don’t love water-moccasins enough to go around hunting for\\nthem. What is he up to, anyway? \\xa0So I says:\\n\\n“All right; trot ahead.”\\n\\nI followed a half a mile; then he struck out over the swamp, and waded\\nankle deep as much as another half-mile. \\xa0We come to a little flat piece\\nof land which was dry and very thick with trees and bushes and vines,\\nand he says:\\n\\n“You shove right in dah jist a few steps, Mars Jawge; dah’s whah dey is.\\nI’s seed ‘m befo’; I don’t k’yer to see ‘em no mo’.”\\n\\nThen he slopped right along and went away, and pretty soon the trees hid\\nhim. \\xa0I poked into the place a-ways and come to a little open patch\\nas big as a bedroom all hung around with vines, and found a man laying\\nthere asleep--and, by jings, it was my old Jim!\\n\\nI waked him up, and I reckoned it was going to be a grand surprise to\\nhim to see me again, but it warn’t. \\xa0He nearly cried he was so glad, but\\nhe warn’t surprised. \\xa0Said he swum along behind me that night, and heard\\nme yell every time, but dasn’t answer, because he didn’t want nobody to\\npick _him_ up and take him into slavery again. \\xa0Says he:\\n\\n“I got hurt a little, en couldn’t swim fas’, so I wuz a considable ways\\nbehine you towards de las’; when you landed I reck’ned I could ketch\\nup wid you on de lan’ ‘dout havin’ to shout at you, but when I see dat\\nhouse I begin to go slow. \\xa0I ‘uz off too fur to hear what dey say to\\nyou--I wuz ‘fraid o’ de dogs; but when it ‘uz all quiet agin I knowed\\nyou’s in de house, so I struck out for de woods to wait for day. \\xa0Early\\nin de mawnin’ some er de niggers come along, gwyne to de fields, en dey\\ntuk me en showed me dis place, whah de dogs can’t track me on accounts\\no’ de water, en dey brings me truck to eat every night, en tells me how\\nyou’s a-gitt’n along.”\\n\\n“Why didn’t you tell my Jack to fetch me here sooner, Jim?”\\n\\n“Well, ‘twarn’t no use to ‘sturb you, Huck, tell we could do sumfn--but\\nwe’s all right now. \\xa0I ben a-buyin’ pots en pans en vittles, as I got a\\nchanst, en a-patchin’ up de raf’ nights when--”\\n\\n“_What_ raft, Jim?”\\n\\n“Our ole raf’.”\\n\\n“You mean to say our old raft warn’t smashed all to flinders?”\\n\\n“No, she warn’t. \\xa0She was tore up a good deal--one en’ of her was; but\\ndey warn’t no great harm done, on’y our traps was mos’ all los’. \\xa0Ef we\\nhadn’ dive’ so deep en swum so fur under water, en de night hadn’ ben\\nso dark, en we warn’t so sk’yerd, en ben sich punkin-heads, as de sayin’\\nis, we’d a seed de raf’. \\xa0But it’s jis’ as well we didn’t, ‘kase now\\nshe’s all fixed up agin mos’ as good as new, en we’s got a new lot o’\\nstuff, in de place o’ what ‘uz los’.”\\n\\n“Why, how did you get hold of the raft again, Jim--did you catch her?”\\n\\n“How I gwyne to ketch her en I out in de woods? \\xa0No; some er de niggers\\nfoun’ her ketched on a snag along heah in de ben’, en dey hid her in a\\ncrick ‘mongst de willows, en dey wuz so much jawin’ ‘bout which un ‘um\\nshe b’long to de mos’ dat I come to heah ‘bout it pooty soon, so I ups\\nen settles de trouble by tellin’ ‘um she don’t b’long to none uv um, but\\nto you en me; en I ast ‘m if dey gwyne to grab a young white genlman’s\\npropaty, en git a hid’n for it? \\xa0Den I gin ‘m ten cents apiece, en dey\\n‘uz mighty well satisfied, en wisht some mo’ raf’s ‘ud come along en\\nmake ‘m rich agin. Dey’s mighty good to me, dese niggers is, en whatever\\nI wants ‘m to do fur me I doan’ have to ast ‘m twice, honey. \\xa0Dat Jack’s\\na good nigger, en pooty smart.”\\n\\n“Yes, he is. \\xa0He ain’t ever told me you was here; told me to come, and\\nhe’d show me a lot of water-moccasins. \\xa0If anything happens _he_ ain’t\\nmixed up in it. \\xa0He can say he never seen us together, and it ‘ll be the\\ntruth.”\\n\\nI don’t want to talk much about the next day. \\xa0I reckon I’ll cut it\\npretty short. \\xa0I waked up about dawn, and was a-going to turn over and\\ngo to sleep again when I noticed how still it was--didn’t seem to be\\nanybody stirring. \\xa0That warn’t usual. \\xa0Next I noticed that Buck was\\nup and gone. Well, I gets up, a-wondering, and goes down stairs--nobody\\naround; everything as still as a mouse. \\xa0Just the same outside. \\xa0Thinks\\nI, what does it mean? \\xa0Down by the wood-pile I comes across my Jack, and\\nsays:\\n\\n“What’s it all about?”\\n\\nSays he:\\n\\n“Don’t you know, Mars Jawge?”\\n\\n“No,” says I, “I don’t.”\\n\\n“Well, den, Miss Sophia’s run off! ‘deed she has. \\xa0She run off in de\\nnight some time--nobody don’t know jis’ when; run off to get married\\nto dat young Harney Shepherdson, you know--leastways, so dey ‘spec. \\xa0De\\nfambly foun’ it out ‘bout half an hour ago--maybe a little mo’--en’ I\\n_tell_ you dey warn’t no time los’. \\xa0Sich another hurryin’ up guns\\nen hosses _you_ never see! \\xa0De women folks has gone for to stir up de\\nrelations, en ole Mars Saul en de boys tuck dey guns en rode up de\\nriver road for to try to ketch dat young man en kill him ‘fo’ he kin\\ngit acrost de river wid Miss Sophia. \\xa0I reck’n dey’s gwyne to be mighty\\nrough times.”\\n\\n“Buck went off ‘thout waking me up.”\\n\\n“Well, I reck’n he _did_! \\xa0Dey warn’t gwyne to mix you up in it.\\n\\xa0Mars Buck he loaded up his gun en ‘lowed he’s gwyne to fetch home a\\nShepherdson or bust. Well, dey’ll be plenty un ‘m dah, I reck’n, en you\\nbet you he’ll fetch one ef he gits a chanst.”\\n\\nI took up the river road as hard as I could put. \\xa0By and by I begin to\\nhear guns a good ways off. \\xa0When I come in sight of the log store and\\nthe woodpile where the steamboats lands I worked along under the trees\\nand brush till I got to a good place, and then I clumb up into the\\nforks of a cottonwood that was out of reach, and watched. \\xa0There was a\\nwood-rank four foot high a little ways in front of the tree, and first I\\nwas going to hide behind that; but maybe it was luckier I didn’t.\\n\\nThere was four or five men cavorting around on their horses in the open\\nplace before the log store, cussing and yelling, and trying to get at\\na couple of young chaps that was behind the wood-rank alongside of the\\nsteamboat landing; but they couldn’t come it. \\xa0Every time one of them\\nshowed himself on the river side of the woodpile he got shot at. \\xa0The\\ntwo boys was squatting back to back behind the pile, so they could watch\\nboth ways.\\n\\nBy and by the men stopped cavorting around and yelling. \\xa0They started\\nriding towards the store; then up gets one of the boys, draws a steady\\nbead over the wood-rank, and drops one of them out of his saddle. \\xa0All\\nthe men jumped off of their horses and grabbed the hurt one and started\\nto carry him to the store; and that minute the two boys started on the\\nrun. \\xa0They got half way to the tree I was in before the men noticed.\\nThen the men see them, and jumped on their horses and took out after\\nthem. \\xa0They gained on the boys, but it didn’t do no good, the boys had\\ntoo good a start; they got to the woodpile that was in front of my tree,\\nand slipped in behind it, and so they had the bulge on the men again.\\nOne of the boys was Buck, and the other was a slim young chap about\\nnineteen years old.\\n\\nThe men ripped around awhile, and then rode away. \\xa0As soon as they was\\nout of sight I sung out to Buck and told him. \\xa0He didn’t know what\\nto make of my voice coming out of the tree at first. \\xa0He was awful\\nsurprised. \\xa0He told me to watch out sharp and let him know when the\\nmen come in sight again; said they was up to some devilment or\\nother--wouldn’t be gone long. \\xa0I wished I was out of that tree, but I\\ndasn’t come down. \\xa0Buck begun to cry and rip, and ‘lowed that him and\\nhis cousin Joe (that was the other young chap) would make up for this\\nday yet. \\xa0He said his father and his two brothers was killed, and two\\nor three of the enemy. \\xa0Said the Shepherdsons laid for them in\\nambush. \\xa0Buck said his father and brothers ought to waited for their\\nrelations--the Shepherdsons was too strong for them. \\xa0I asked him what\\nwas become of young Harney and Miss Sophia. \\xa0He said they’d got across\\nthe river and was safe. \\xa0I was glad of that; but the way Buck did take\\non because he didn’t manage to kill Harney that day he shot at him--I\\nhain’t ever heard anything like it.\\n\\nAll of a sudden, bang! bang! bang! goes three or four guns--the men had\\nslipped around through the woods and come in from behind without their\\nhorses! \\xa0The boys jumped for the river--both of them hurt--and as they\\nswum down the current the men run along the bank shooting at them and\\nsinging out, “Kill them, kill them!” \\xa0It made me so sick I most fell out\\nof the tree. \\xa0I ain’t a-going to tell _all_ that happened--it would make\\nme sick again if I was to do that. \\xa0I wished I hadn’t ever come ashore\\nthat night to see such things. \\xa0I ain’t ever going to get shut of\\nthem--lots of times I dream about them.\\n\\nI stayed in the tree till it begun to get dark, afraid to come down.\\nSometimes I heard guns away off in the woods; and twice I seen little\\ngangs of men gallop past the log store with guns; so I reckoned the\\ntrouble was still a-going on. \\xa0I was mighty downhearted; so I made up my\\nmind I wouldn’t ever go anear that house again, because I reckoned I\\nwas to blame, somehow. I judged that that piece of paper meant that Miss\\nSophia was to meet Harney somewheres at half-past two and run off; and\\nI judged I ought to told her father about that paper and the curious way\\nshe acted, and then maybe he would a locked her up, and this awful mess\\nwouldn’t ever happened.\\n\\nWhen I got down out of the tree I crept along down the river bank a\\npiece, and found the two bodies laying in the edge of the water, and\\ntugged at them till I got them ashore; then I covered up their faces,\\nand got away as quick as I could. \\xa0I cried a little when I was covering\\nup Buck’s face, for he was mighty good to me.\\n\\nIt was just dark now. \\xa0I never went near the house, but struck through\\nthe woods and made for the swamp. \\xa0Jim warn’t on his island, so I\\ntramped off in a hurry for the crick, and crowded through the willows,\\nred-hot to jump aboard and get out of that awful country. \\xa0The raft was\\ngone! \\xa0My souls, but I was scared! \\xa0I couldn’t get my breath for most\\na minute. Then I raised a yell. \\xa0A voice not twenty-five foot from me\\nsays:\\n\\n“Good lan’! is dat you, honey? \\xa0Doan’ make no noise.”\\n\\nIt was Jim’s voice--nothing ever sounded so good before. \\xa0I run along the\\nbank a piece and got aboard, and Jim he grabbed me and hugged me, he was\\nso glad to see me. \\xa0He says:\\n\\n“Laws bless you, chile, I ‘uz right down sho’ you’s dead agin. \\xa0Jack’s\\nbeen heah; he say he reck’n you’s ben shot, kase you didn’ come home no\\nmo’; so I’s jes’ dis minute a startin’ de raf’ down towards de mouf er\\nde crick, so’s to be all ready for to shove out en leave soon as Jack\\ncomes agin en tells me for certain you _is_ dead. \\xa0Lawsy, I’s mighty\\nglad to git you back again, honey.”\\n\\nI says:\\n\\n“All right--that’s mighty good; they won’t find me, and they’ll think\\nI’ve been killed, and floated down the river--there’s something up there\\nthat ‘ll help them think so--so don’t you lose no time, Jim, but just\\nshove off for the big water as fast as ever you can.”\\n\\nI never felt easy till the raft was two mile below there and out in\\nthe middle of the Mississippi. \\xa0Then we hung up our signal lantern, and\\njudged that we was free and safe once more. \\xa0I hadn’t had a bite to eat\\nsince yesterday, so Jim he got out some corn-dodgers and buttermilk,\\nand pork and cabbage and greens--there ain’t nothing in the world so good\\nwhen it’s cooked right--and whilst I eat my supper we talked and had a\\ngood time. \\xa0I was powerful glad to get away from the feuds, and so was\\nJim to get away from the swamp. \\xa0We said there warn’t no home like a\\nraft, after all. \\xa0Other places do seem so cramped up and smothery, but a\\nraft don’t. \\xa0You feel mighty free and easy and comfortable on a raft.\\n\\n\\n\\n\\nCHAPTER XIX.\\n\\nTWO or three days and nights went by; I reckon I might say they swum by,\\nthey slid along so quiet and smooth and lovely. \\xa0Here is the way we put\\nin the time. \\xa0It was a monstrous big river down there--sometimes a mile\\nand a half wide; we run nights, and laid up and hid daytimes; soon as\\nnight was most gone we stopped navigating and tied up--nearly always\\nin the dead water under a towhead; and then cut young cottonwoods and\\nwillows, and hid the raft with them. \\xa0Then we set out the lines. \\xa0Next\\nwe slid into the river and had a swim, so as to freshen up and cool\\noff; then we set down on the sandy bottom where the water was about knee\\ndeep, and watched the daylight come. \\xa0Not a sound anywheres--perfectly\\nstill--just like the whole world was asleep, only sometimes the bullfrogs\\na-cluttering, maybe. \\xa0The first thing to see, looking away over the\\nwater, was a kind of dull line--that was the woods on t’other side; you\\ncouldn’t make nothing else out; then a pale place in the sky; then more\\npaleness spreading around; then the river softened up away off, and\\nwarn’t black any more, but gray; you could see little dark spots\\ndrifting along ever so far away--trading scows, and such things; and\\nlong black streaks--rafts; sometimes you could hear a sweep screaking; or\\njumbled up voices, it was so still, and sounds come so far; and by and\\nby you could see a streak on the water which you know by the look of the\\nstreak that there’s a snag there in a swift current which breaks on it\\nand makes that streak look that way; and you see the mist curl up off\\nof the water, and the east reddens up, and the river, and you make out a\\nlog-cabin in the edge of the woods, away on the bank on t’other side of\\nthe river, being a woodyard, likely, and piled by them cheats so you can\\nthrow a dog through it anywheres; then the nice breeze springs up, and\\ncomes fanning you from over there, so cool and fresh and sweet to smell\\non account of the woods and the flowers; but sometimes not that way,\\nbecause they’ve left dead fish laying around, gars and such, and they\\ndo get pretty rank; and next you’ve got the full day, and everything\\nsmiling in the sun, and the song-birds just going it!\\n\\nA little smoke couldn’t be noticed now, so we would take some fish off\\nof the lines and cook up a hot breakfast. \\xa0And afterwards we would watch\\nthe lonesomeness of the river, and kind of lazy along, and by and by\\nlazy off to sleep. \\xa0Wake up by and by, and look to see what done it, and\\nmaybe see a steamboat coughing along up-stream, so far off towards the\\nother side you couldn’t tell nothing about her only whether she was\\na stern-wheel or side-wheel; then for about an hour there wouldn’t be\\nnothing to hear nor nothing to see--just solid lonesomeness. \\xa0Next\\nyou’d see a raft sliding by, away off yonder, and maybe a galoot on it\\nchopping, because they’re most always doing it on a raft; you’d see the\\naxe flash and come down--you don’t hear nothing; you see that axe go\\nup again, and by the time it’s above the man’s head then you hear the\\n_k’chunk_!--it had took all that time to come over the water. \\xa0So we\\nwould put in the day, lazying around, listening to the stillness. \\xa0Once\\nthere was a thick fog, and the rafts and things that went by was beating\\ntin pans so the steamboats wouldn’t run over them. \\xa0A scow or a\\nraft went by so close we could hear them talking and cussing and\\nlaughing--heard them plain; but we couldn’t see no sign of them; it made\\nyou feel crawly; it was like spirits carrying on that way in the air.\\n\\xa0Jim said he believed it was spirits; but I says:\\n\\n“No; spirits wouldn’t say, ‘Dern the dern fog.’”\\n\\nSoon as it was night out we shoved; when we got her out to about the\\nmiddle we let her alone, and let her float wherever the current wanted\\nher to; then we lit the pipes, and dangled our legs in the water, and\\ntalked about all kinds of things--we was always naked, day and night,\\nwhenever the mosquitoes would let us--the new clothes Buck’s folks made\\nfor me was too good to be comfortable, and besides I didn’t go much on\\nclothes, nohow.\\n\\nSometimes we’d have that whole river all to ourselves for the longest\\ntime. Yonder was the banks and the islands, across the water; and maybe\\na spark--which was a candle in a cabin window; and sometimes on the water\\nyou could see a spark or two--on a raft or a scow, you know; and maybe\\nyou could hear a fiddle or a song coming over from one of them crafts.\\nIt’s lovely to live on a raft. \\xa0We had the sky up there, all speckled\\nwith stars, and we used to lay on our backs and look up at them, and\\ndiscuss about whether they was made or only just happened. \\xa0Jim he\\nallowed they was made, but I allowed they happened; I judged it would\\nhave took too long to _make_ so many. \\xa0Jim said the moon could a _laid_\\nthem; well, that looked kind of reasonable, so I didn’t say nothing\\nagainst it, because I’ve seen a frog lay most as many, so of course it\\ncould be done. We used to watch the stars that fell, too, and see them\\nstreak down. \\xa0Jim allowed they’d got spoiled and was hove out of the\\nnest.\\n\\nOnce or twice of a night we would see a steamboat slipping along in the\\ndark, and now and then she would belch a whole world of sparks up out\\nof her chimbleys, and they would rain down in the river and look awful\\npretty; then she would turn a corner and her lights would wink out and\\nher powwow shut off and leave the river still again; and by and by her\\nwaves would get to us, a long time after she was gone, and joggle the\\nraft a bit, and after that you wouldn’t hear nothing for you couldn’t\\ntell how long, except maybe frogs or something.\\n\\nAfter midnight the people on shore went to bed, and then for two or\\nthree hours the shores was black--no more sparks in the cabin windows.\\n\\xa0These sparks was our clock--the first one that showed again meant\\nmorning was coming, so we hunted a place to hide and tie up right away.\\n\\nOne morning about daybreak I found a canoe and crossed over a chute to\\nthe main shore--it was only two hundred yards--and paddled about a mile\\nup a crick amongst the cypress woods, to see if I couldn’t get some\\nberries. Just as I was passing a place where a kind of a cowpath crossed\\nthe crick, here comes a couple of men tearing up the path as tight as\\nthey could foot it. \\xa0I thought I was a goner, for whenever anybody was\\nafter anybody I judged it was _me_--or maybe Jim. \\xa0I was about to dig out\\nfrom there in a hurry, but they was pretty close to me then, and sung\\nout and begged me to save their lives--said they hadn’t been doing\\nnothing, and was being chased for it--said there was men and dogs\\na-coming. \\xa0They wanted to jump right in, but I says:\\n\\n“Don’t you do it. \\xa0I don’t hear the dogs and horses yet; you’ve got time\\nto crowd through the brush and get up the crick a little ways; then you\\ntake to the water and wade down to me and get in--that’ll throw the dogs\\noff the scent.”\\n\\nThey done it, and soon as they was aboard I lit out for our towhead,\\nand in about five or ten minutes we heard the dogs and the men away off,\\nshouting. We heard them come along towards the crick, but couldn’t\\nsee them; they seemed to stop and fool around a while; then, as we got\\nfurther and further away all the time, we couldn’t hardly hear them at\\nall; by the time we had left a mile of woods behind us and struck the\\nriver, everything was quiet, and we paddled over to the towhead and hid\\nin the cottonwoods and was safe.\\n\\nOne of these fellows was about seventy or upwards, and had a bald head\\nand very gray whiskers. \\xa0He had an old battered-up slouch hat on, and\\na greasy blue woollen shirt, and ragged old blue jeans britches stuffed\\ninto his boot-tops, and home-knit galluses--no, he only had one. \\xa0He had\\nan old long-tailed blue jeans coat with slick brass buttons flung over\\nhis arm, and both of them had big, fat, ratty-looking carpet-bags.\\n\\nThe other fellow was about thirty, and dressed about as ornery. \\xa0After\\nbreakfast we all laid off and talked, and the first thing that come out\\nwas that these chaps didn’t know one another.\\n\\n“What got you into trouble?” says the baldhead to t’other chap.\\n\\n“Well, I’d been selling an article to take the tartar off the teeth--and\\nit does take it off, too, and generly the enamel along with it--but I\\nstayed about one night longer than I ought to, and was just in the act\\nof sliding out when I ran across you on the trail this side of town, and\\nyou told me they were coming, and begged me to help you to get off. \\xa0So\\nI told you I was expecting trouble myself, and would scatter out _with_\\nyou. That’s the whole yarn--what’s yourn?\\n\\n“Well, I’d ben a-running’ a little temperance revival thar ‘bout a week,\\nand was the pet of the women folks, big and little, for I was makin’ it\\nmighty warm for the rummies, I _tell_ you, and takin’ as much as five\\nor six dollars a night--ten cents a head, children and niggers free--and\\nbusiness a-growin’ all the time, when somehow or another a little report\\ngot around last night that I had a way of puttin’ in my time with a\\nprivate jug on the sly. \\xa0A nigger rousted me out this mornin’, and told\\nme the people was getherin’ on the quiet with their dogs and horses, and\\nthey’d be along pretty soon and give me ‘bout half an hour’s start,\\nand then run me down if they could; and if they got me they’d tar\\nand feather me and ride me on a rail, sure. \\xa0I didn’t wait for no\\nbreakfast--I warn’t hungry.”\\n\\n“Old man,” said the young one, “I reckon we might double-team it\\ntogether; what do you think?”\\n\\n“I ain’t undisposed. \\xa0What’s your line--mainly?”\\n\\n“Jour printer by trade; do a little in patent medicines;\\ntheater-actor--tragedy, you know; take a turn to mesmerism and phrenology\\nwhen there’s a chance; teach singing-geography school for a change;\\nsling a lecture sometimes--oh, I do lots of things--most anything that\\ncomes handy, so it ain’t work. \\xa0What’s your lay?”\\n\\n“I’ve done considerble in the doctoring way in my time. \\xa0Layin’ on o’\\nhands is my best holt--for cancer and paralysis, and sich things; and I\\nk’n tell a fortune pretty good when I’ve got somebody along to find out\\nthe facts for me. \\xa0Preachin’s my line, too, and workin’ camp-meetin’s,\\nand missionaryin’ around.”\\n\\nNobody never said anything for a while; then the young man hove a sigh\\nand says:\\n\\n“Alas!”\\n\\n“What ‘re you alassin’ about?” says the bald-head.\\n\\n“To think I should have lived to be leading such a life, and be degraded\\ndown into such company.” \\xa0And he begun to wipe the corner of his eye\\nwith a rag.\\n\\n“Dern your skin, ain’t the company good enough for you?” says the\\nbaldhead, pretty pert and uppish.\\n\\n“Yes, it _is_ good enough for me; it’s as good as I deserve; for who\\nfetched me so low when I was so high? \\xa0I did myself. \\xa0I don’t blame\\n_you_, gentlemen--far from it; I don’t blame anybody. \\xa0I deserve it\\nall. \\xa0Let the cold world do its worst; one thing I know--there’s a grave\\nsomewhere for me. The world may go on just as it’s always done, and take\\neverything from me--loved ones, property, everything; but it can’t take\\nthat. Some day I’ll lie down in it and forget it all, and my poor broken\\nheart will be at rest.” \\xa0He went on a-wiping.\\n\\n“Drot your pore broken heart,” says the baldhead; “what are you heaving\\nyour pore broken heart at _us_ f’r? \\xa0_we_ hain’t done nothing.”\\n\\n“No, I know you haven’t. \\xa0I ain’t blaming you, gentlemen. \\xa0I brought\\nmyself down--yes, I did it myself. \\xa0It’s right I should suffer--perfectly\\nright--I don’t make any moan.”\\n\\n“Brought you down from whar? \\xa0Whar was you brought down from?”\\n\\n“Ah, you would not believe me; the world never believes--let it pass--‘tis\\nno matter. \\xa0The secret of my birth--”\\n\\n“The secret of your birth! \\xa0Do you mean to say--”\\n\\n“Gentlemen,” says the young man, very solemn, “I will reveal it to you,\\nfor I feel I may have confidence in you. \\xa0By rights I am a duke!”\\n\\nJim’s eyes bugged out when he heard that; and I reckon mine did, too.\\nThen the baldhead says:  “No! you can’t mean it?”\\n\\n“Yes. \\xa0My great-grandfather, eldest son of the Duke of Bridgewater, fled\\nto this country about the end of the last century, to breathe the pure\\nair of freedom; married here, and died, leaving a son, his own father\\ndying about the same time. \\xa0The second son of the late duke seized the\\ntitles and estates--the infant real duke was ignored. \\xa0I am the lineal\\ndescendant of that infant--I am the rightful Duke of Bridgewater; and\\nhere am I, forlorn, torn from my high estate, hunted of men, despised\\nby the cold world, ragged, worn, heart-broken, and degraded to the\\ncompanionship of felons on a raft!”\\n\\nJim pitied him ever so much, and so did I. We tried to comfort him, but\\nhe said it warn’t much use, he couldn’t be much comforted; said if we\\nwas a mind to acknowledge him, that would do him more good than most\\nanything else; so we said we would, if he would tell us how. \\xa0He said we\\nought to bow when we spoke to him, and say “Your Grace,” or “My Lord,”\\n or “Your Lordship”--and he wouldn’t mind it if we called him plain\\n“Bridgewater,” which, he said, was a title anyway, and not a name; and\\none of us ought to wait on him at dinner, and do any little thing for\\nhim he wanted done.\\n\\nWell, that was all easy, so we done it. \\xa0All through dinner Jim stood\\naround and waited on him, and says, “Will yo’ Grace have some o’ dis or\\nsome o’ dat?” and so on, and a body could see it was mighty pleasing to\\nhim.\\n\\nBut the old man got pretty silent by and by--didn’t have much to say, and\\ndidn’t look pretty comfortable over all that petting that was going on\\naround that duke. \\xa0He seemed to have something on his mind. \\xa0So, along\\nin the afternoon, he says:\\n\\n“Looky here, Bilgewater,” he says, “I’m nation sorry for you, but you\\nain’t the only person that’s had troubles like that.”\\n\\n“No?”\\n\\n“No you ain’t. \\xa0You ain’t the only person that’s ben snaked down\\nwrongfully out’n a high place.”\\n\\n“Alas!”\\n\\n“No, you ain’t the only person that’s had a secret of his birth.” \\xa0And,\\nby jings, _he_ begins to cry.\\n\\n“Hold! \\xa0What do you mean?”\\n\\n“Bilgewater, kin I trust you?” says the old man, still sort of sobbing.\\n\\n“To the bitter death!” \\xa0He took the old man by the hand and squeezed it,\\nand says, “That secret of your being: \\xa0speak!”\\n\\n“Bilgewater, I am the late Dauphin!”\\n\\nYou bet you, Jim and me stared this time. \\xa0Then the duke says:\\n\\n“You are what?”\\n\\n“Yes, my friend, it is too true--your eyes is lookin’ at this very moment\\non the pore disappeared Dauphin, Looy the Seventeen, son of Looy the\\nSixteen and Marry Antonette.”\\n\\n“You! \\xa0At your age! \\xa0No! \\xa0You mean you’re the late Charlemagne; you must\\nbe six or seven hundred years old, at the very least.”\\n\\n“Trouble has done it, Bilgewater, trouble has done it; trouble has brung\\nthese gray hairs and this premature balditude. \\xa0Yes, gentlemen, you\\nsee before you, in blue jeans and misery, the wanderin’, exiled,\\ntrampled-on, and sufferin’ rightful King of France.”\\n\\nWell, he cried and took on so that me and Jim didn’t know hardly what to\\ndo, we was so sorry--and so glad and proud we’d got him with us, too.\\n\\xa0So we set in, like we done before with the duke, and tried to comfort\\n_him_. But he said it warn’t no use, nothing but to be dead and done\\nwith it all could do him any good; though he said it often made him feel\\neasier and better for a while if people treated him according to his\\nrights, and got down on one knee to speak to him, and always called him\\n“Your Majesty,” and waited on him first at meals, and didn’t set down\\nin his presence till he asked them. So Jim and me set to majestying him,\\nand doing this and that and t’other for him, and standing up till he\\ntold us we might set down. \\xa0This done him heaps of good, and so he\\ngot cheerful and comfortable. \\xa0But the duke kind of soured on him, and\\ndidn’t look a bit satisfied with the way things was going; still,\\nthe king acted real friendly towards him, and said the duke’s\\ngreat-grandfather and all the other Dukes of Bilgewater was a good\\ndeal thought of by _his_ father, and was allowed to come to the palace\\nconsiderable; but the duke stayed huffy a good while, till by and by the\\nking says:\\n\\n“Like as not we got to be together a blamed long time on this h-yer\\nraft, Bilgewater, and so what’s the use o’ your bein’ sour? \\xa0It ‘ll only\\nmake things oncomfortable. \\xa0It ain’t my fault I warn’t born a duke,\\nit ain’t your fault you warn’t born a king--so what’s the use to worry?\\n\\xa0Make the best o’ things the way you find ‘em, says I--that’s my motto.\\n\\xa0This ain’t no bad thing that we’ve struck here--plenty grub and an easy\\nlife--come, give us your hand, duke, and le’s all be friends.”\\n\\nThe duke done it, and Jim and me was pretty glad to see it. \\xa0It took\\naway all the uncomfortableness and we felt mighty good over it, because\\nit would a been a miserable business to have any unfriendliness on the\\nraft; for what you want, above all things, on a raft, is for everybody\\nto be satisfied, and feel right and kind towards the others.\\n\\nIt didn’t take me long to make up my mind that these liars warn’t no\\nkings nor dukes at all, but just low-down humbugs and frauds. \\xa0But I\\nnever said nothing, never let on; kept it to myself; it’s the best way;\\nthen you don’t have no quarrels, and don’t get into no trouble. \\xa0If they\\nwanted us to call them kings and dukes, I hadn’t no objections, ‘long as\\nit would keep peace in the family; and it warn’t no use to tell Jim, so\\nI didn’t tell him. \\xa0If I never learnt nothing else out of pap, I learnt\\nthat the best way to get along with his kind of people is to let them\\nhave their own way.\\n\\n\\n\\n\\nCHAPTER XX.\\n\\nTHEY asked us considerable many questions; wanted to know what we\\ncovered up the raft that way for, and laid by in the daytime instead of\\nrunning--was Jim a runaway nigger? \\xa0Says I:\\n\\n“Goodness sakes! would a runaway nigger run _south_?”\\n\\nNo, they allowed he wouldn’t. \\xa0I had to account for things some way, so\\nI says:\\n\\n“My folks was living in Pike County, in Missouri, where I was born, and\\nthey all died off but me and pa and my brother Ike. \\xa0Pa, he ‘lowed\\nhe’d break up and go down and live with Uncle Ben, who’s got a little\\none-horse place on the river, forty-four mile below Orleans. \\xa0Pa was\\npretty poor, and had some debts; so when he’d squared up there warn’t\\nnothing left but sixteen dollars and our nigger, Jim. \\xa0That warn’t\\nenough to take us fourteen hundred mile, deck passage nor no other way.\\n\\xa0Well, when the river rose pa had a streak of luck one day; he ketched\\nthis piece of a raft; so we reckoned we’d go down to Orleans on it.\\n\\xa0Pa’s luck didn’t hold out; a steamboat run over the forrard corner of\\nthe raft one night, and we all went overboard and dove under the wheel;\\nJim and me come up all right, but pa was drunk, and Ike was only four\\nyears old, so they never come up no more. \\xa0Well, for the next day or\\ntwo we had considerable trouble, because people was always coming out in\\nskiffs and trying to take Jim away from me, saying they believed he was\\na runaway nigger. \\xa0We don’t run daytimes no more now; nights they don’t\\nbother us.”\\n\\nThe duke says:\\n\\n“Leave me alone to cipher out a way so we can run in the daytime if we\\nwant to. \\xa0I’ll think the thing over--I’ll invent a plan that’ll fix it.\\nWe’ll let it alone for to-day, because of course we don’t want to go by\\nthat town yonder in daylight--it mightn’t be healthy.”\\n\\nTowards night it begun to darken up and look like rain; the heat\\nlightning was squirting around low down in the sky, and the leaves was\\nbeginning to shiver--it was going to be pretty ugly, it was easy to see\\nthat. \\xa0So the duke and the king went to overhauling our wigwam, to see\\nwhat the beds was like. \\xa0My bed was a straw tick better than Jim’s,\\nwhich was a corn-shuck tick; there’s always cobs around about in a shuck\\ntick, and they poke into you and hurt; and when you roll over the dry\\nshucks sound like you was rolling over in a pile of dead leaves; it\\nmakes such a rustling that you wake up. \\xa0Well, the duke allowed he would\\ntake my bed; but the king allowed he wouldn’t. \\xa0He says:\\n\\n“I should a reckoned the difference in rank would a sejested to you that\\na corn-shuck bed warn’t just fitten for me to sleep on. \\xa0Your Grace ‘ll\\ntake the shuck bed yourself.”\\n\\nJim and me was in a sweat again for a minute, being afraid there was\\ngoing to be some more trouble amongst them; so we was pretty glad when\\nthe duke says:\\n\\n“‘Tis my fate to be always ground into the mire under the iron heel of\\noppression. \\xa0Misfortune has broken my once haughty spirit; I yield, I\\nsubmit; ‘tis my fate. \\xa0I am alone in the world--let me suffer; can bear\\nit.”\\n\\nWe got away as soon as it was good and dark. \\xa0The king told us to stand\\nwell out towards the middle of the river, and not show a light till we\\ngot a long ways below the town. \\xa0We come in sight of the little bunch of\\nlights by and by--that was the town, you know--and slid by, about a half\\na mile out, all right. \\xa0When we was three-quarters of a mile below we\\nhoisted up our signal lantern; and about ten o’clock it come on to rain\\nand blow and thunder and lighten like everything; so the king told us\\nto both stay on watch till the weather got better; then him and the duke\\ncrawled into the wigwam and turned in for the night. \\xa0It was my watch\\nbelow till twelve, but I wouldn’t a turned in anyway if I’d had a bed,\\nbecause a body don’t see such a storm as that every day in the week, not\\nby a long sight. \\xa0My souls, how the wind did scream along! \\xa0And every\\nsecond or two there’d come a glare that lit up the white-caps for a half\\na mile around, and you’d see the islands looking dusty through the rain,\\nand the trees thrashing around in the wind; then comes a H-WHACK!--bum!\\nbum! bumble-umble-um-bum-bum-bum-bum--and the thunder would go rumbling\\nand grumbling away, and quit--and then RIP comes another flash and\\nanother sockdolager. \\xa0The waves most washed me off the raft sometimes,\\nbut I hadn’t any clothes on, and didn’t mind. \\xa0We didn’t have no trouble\\nabout snags; the lightning was glaring and flittering around so constant\\nthat we could see them plenty soon enough to throw her head this way or\\nthat and miss them.\\n\\nI had the middle watch, you know, but I was pretty sleepy by that time,\\nso Jim he said he would stand the first half of it for me; he was always\\nmighty good that way, Jim was. \\xa0I crawled into the wigwam, but the king\\nand the duke had their legs sprawled around so there warn’t no show for\\nme; so I laid outside--I didn’t mind the rain, because it was warm, and\\nthe waves warn’t running so high now. \\xa0About two they come up again,\\nthough, and Jim was going to call me; but he changed his mind, because\\nhe reckoned they warn’t high enough yet to do any harm; but he was\\nmistaken about that, for pretty soon all of a sudden along comes a\\nregular ripper and washed me overboard. \\xa0It most killed Jim a-laughing.\\n\\xa0He was the easiest nigger to laugh that ever was, anyway.\\n\\nI took the watch, and Jim he laid down and snored away; and by and by\\nthe storm let up for good and all; and the first cabin-light that showed\\nI rousted him out, and we slid the raft into hiding quarters for the\\nday.\\n\\nThe king got out an old ratty deck of cards after breakfast, and him\\nand the duke played seven-up a while, five cents a game. \\xa0Then they got\\ntired of it, and allowed they would “lay out a campaign,” as they called\\nit. The duke went down into his carpet-bag, and fetched up a lot of\\nlittle printed bills and read them out loud. \\xa0One bill said, “The\\ncelebrated Dr. Armand de Montalban, of Paris,” would “lecture on the\\nScience of Phrenology” at such and such a place, on the blank day of\\nblank, at ten cents admission, and “furnish charts of character at\\ntwenty-five cents apiece.” \\xa0The duke said that was _him_. \\xa0In another\\nbill he was the “world-renowned Shakespearian tragedian, Garrick the\\nYounger, of Drury Lane, London.” \\xa0In other bills he had a lot of other\\nnames and done other wonderful things, like finding water and gold with\\na “divining-rod,” “dissipating witch spells,” and so on. \\xa0By and by he\\nsays:\\n\\n“But the histrionic muse is the darling. \\xa0Have you ever trod the boards,\\nRoyalty?”\\n\\n“No,” says the king.\\n\\n“You shall, then, before you’re three days older, Fallen Grandeur,” says\\nthe duke.  “The first good town we come to we’ll hire a hall and do the\\nsword fight in Richard III. and the balcony scene in Romeo and Juliet.\\nHow does that strike you?”\\n\\n“I’m in, up to the hub, for anything that will pay, Bilgewater; but, you\\nsee, I don’t know nothing about play-actin’, and hain’t ever seen much\\nof it. \\xa0I was too small when pap used to have ‘em at the palace. \\xa0Do you\\nreckon you can learn me?”\\n\\n“Easy!”\\n\\n“All right. \\xa0I’m jist a-freezn’ for something fresh, anyway. \\xa0Le’s\\ncommence right away.”\\n\\nSo the duke he told him all about who Romeo was and who Juliet was, and\\nsaid he was used to being Romeo, so the king could be Juliet.\\n\\n“But if Juliet’s such a young gal, duke, my peeled head and my white\\nwhiskers is goin’ to look oncommon odd on her, maybe.”\\n\\n“No, don’t you worry; these country jakes won’t ever think of that.\\nBesides, you know, you’ll be in costume, and that makes all the\\ndifference in the world; Juliet’s in a balcony, enjoying the moonlight\\nbefore she goes to bed, and she’s got on her night-gown and her ruffled\\nnightcap. \\xa0Here are the costumes for the parts.”\\n\\nHe got out two or three curtain-calico suits, which he said was\\nmeedyevil armor for Richard III. and t’other chap, and a long white\\ncotton nightshirt and a ruffled nightcap to match. \\xa0The king was\\nsatisfied; so the duke got out his book and read the parts over in the\\nmost splendid spread-eagle way, prancing around and acting at the same\\ntime, to show how it had got to be done; then he give the book to the\\nking and told him to get his part by heart.\\n\\nThere was a little one-horse town about three mile down the bend, and\\nafter dinner the duke said he had ciphered out his idea about how to run\\nin daylight without it being dangersome for Jim; so he allowed he would\\ngo down to the town and fix that thing. \\xa0The king allowed he would go,\\ntoo, and see if he couldn’t strike something. \\xa0We was out of coffee, so\\nJim said I better go along with them in the canoe and get some.\\n\\nWhen we got there there warn’t nobody stirring; streets empty, and\\nperfectly dead and still, like Sunday. \\xa0We found a sick nigger sunning\\nhimself in a back yard, and he said everybody that warn’t too young or\\ntoo sick or too old was gone to camp-meeting, about two mile back in the\\nwoods. \\xa0The king got the directions, and allowed he’d go and work that\\ncamp-meeting for all it was worth, and I might go, too.\\n\\nThe duke said what he was after was a printing-office. \\xa0We found it;\\na little bit of a concern, up over a carpenter shop--carpenters and\\nprinters all gone to the meeting, and no doors locked. \\xa0It was a dirty,\\nlittered-up place, and had ink marks, and handbills with pictures of\\nhorses and runaway niggers on them, all over the walls. \\xa0The duke shed\\nhis coat and said he was all right now. \\xa0So me and the king lit out for\\nthe camp-meeting.\\n\\nWe got there in about a half an hour fairly dripping, for it was a most\\nawful hot day. \\xa0There was as much as a thousand people there from\\ntwenty mile around. \\xa0The woods was full of teams and wagons, hitched\\neverywheres, feeding out of the wagon-troughs and stomping to keep\\noff the flies. \\xa0There was sheds made out of poles and roofed over with\\nbranches, where they had lemonade and gingerbread to sell, and piles of\\nwatermelons and green corn and such-like truck.\\n\\nThe preaching was going on under the same kinds of sheds, only they was\\nbigger and held crowds of people. \\xa0The benches was made out of outside\\nslabs of logs, with holes bored in the round side to drive sticks into\\nfor legs. They didn’t have no backs. \\xa0The preachers had high platforms\\nto stand on at one end of the sheds. \\xa0The women had on sun-bonnets;\\nand some had linsey-woolsey frocks, some gingham ones, and a few of the\\nyoung ones had on calico. \\xa0Some of the young men was barefooted, and\\nsome of the children didn’t have on any clothes but just a tow-linen\\nshirt. \\xa0Some of the old women was knitting, and some of the young folks\\nwas courting on the sly.\\n\\nThe first shed we come to the preacher was lining out a hymn. \\xa0He lined\\nout two lines, everybody sung it, and it was kind of grand to hear it,\\nthere was so many of them and they done it in such a rousing way; then\\nhe lined out two more for them to sing--and so on. \\xa0The people woke up\\nmore and more, and sung louder and louder; and towards the end some\\nbegun to groan, and some begun to shout. \\xa0Then the preacher begun to\\npreach, and begun in earnest, too; and went weaving first to one side of\\nthe platform and then the other, and then a-leaning down over the front\\nof it, with his arms and his body going all the time, and shouting his\\nwords out with all his might; and every now and then he would hold up\\nhis Bible and spread it open, and kind of pass it around this way and\\nthat, shouting, “It’s the brazen serpent in the wilderness! \\xa0Look upon\\nit and live!” \\xa0And people would shout out, “Glory!--A-a-_men_!” \\xa0And so\\nhe went on, and the people groaning and crying and saying amen:\\n\\n“Oh, come to the mourners’ bench! come, black with sin! (_Amen_!) come,\\nsick and sore! (_Amen_!) come, lame and halt and blind! (_Amen_!) come,\\npore and needy, sunk in shame! (_A-A-Men_!) come, all that’s worn and\\nsoiled and suffering!--come with a broken spirit! come with a contrite\\nheart! come in your rags and sin and dirt! the waters that cleanse\\nis free, the door of heaven stands open--oh, enter in and be at rest!”\\n (_A-A-Men_! \\xa0_Glory, Glory Hallelujah!_)\\n\\nAnd so on. \\xa0You couldn’t make out what the preacher said any more, on\\naccount of the shouting and crying. \\xa0Folks got up everywheres in the\\ncrowd, and worked their way just by main strength to the mourners’\\nbench, with the tears running down their faces; and when all the\\nmourners had got up there to the front benches in a crowd, they sung and\\nshouted and flung themselves down on the straw, just crazy and wild.\\n\\nWell, the first I knowed the king got a-going, and you could hear him\\nover everybody; and next he went a-charging up on to the platform, and\\nthe preacher he begged him to speak to the people, and he done it. \\xa0He\\ntold them he was a pirate--been a pirate for thirty years out in the\\nIndian Ocean--and his crew was thinned out considerable last spring in\\na fight, and he was home now to take out some fresh men, and thanks to\\ngoodness he’d been robbed last night and put ashore off of a steamboat\\nwithout a cent, and he was glad of it; it was the blessedest thing that\\never happened to him, because he was a changed man now, and happy for\\nthe first time in his life; and, poor as he was, he was going to start\\nright off and work his way back to the Indian Ocean, and put in the rest\\nof his life trying to turn the pirates into the true path; for he could\\ndo it better than anybody else, being acquainted with all pirate crews\\nin that ocean; and though it would take him a long time to get there\\nwithout money, he would get there anyway, and every time he convinced\\na pirate he would say to him, “Don’t you thank me, don’t you give me no\\ncredit; it all belongs to them dear people in Pokeville camp-meeting,\\nnatural brothers and benefactors of the race, and that dear preacher\\nthere, the truest friend a pirate ever had!”\\n\\nAnd then he busted into tears, and so did everybody. \\xa0Then somebody\\nsings out, “Take up a collection for him, take up a collection!” \\xa0Well,\\na half a dozen made a jump to do it, but somebody sings out, “Let _him_\\npass the hat around!” \\xa0Then everybody said it, the preacher too.\\n\\nSo the king went all through the crowd with his hat swabbing his eyes,\\nand blessing the people and praising them and thanking them for being\\nso good to the poor pirates away off there; and every little while the\\nprettiest kind of girls, with the tears running down their cheeks, would\\nup and ask him would he let them kiss him for to remember him by; and he\\nalways done it; and some of them he hugged and kissed as many as five or\\nsix times--and he was invited to stay a week; and everybody wanted him to\\nlive in their houses, and said they’d think it was an honor; but he said\\nas this was the last day of the camp-meeting he couldn’t do no good, and\\nbesides he was in a sweat to get to the Indian Ocean right off and go to\\nwork on the pirates.\\n\\nWhen we got back to the raft and he come to count up he found he had\\ncollected eighty-seven dollars and seventy-five cents. \\xa0And then he had\\nfetched away a three-gallon jug of whisky, too, that he found under a\\nwagon when he was starting home through the woods. \\xa0The king said,\\ntake it all around, it laid over any day he’d ever put in in the\\nmissionarying line. \\xa0He said it warn’t no use talking, heathens don’t\\namount to shucks alongside of pirates to work a camp-meeting with.\\n\\nThe duke was thinking _he’d_ been doing pretty well till the king come\\nto show up, but after that he didn’t think so so much. \\xa0He had set\\nup and printed off two little jobs for farmers in that\\nprinting-office--horse bills--and took the money, four dollars. \\xa0And he\\nhad got in ten dollars’ worth of advertisements for the paper, which he\\nsaid he would put in for four dollars if they would pay in advance--so\\nthey done it. The price of the paper was two dollars a year, but he took\\nin three subscriptions for half a dollar apiece on condition of them\\npaying him in advance; they were going to pay in cordwood and onions as\\nusual, but he said he had just bought the concern and knocked down the\\nprice as low as he could afford it, and was going to run it for cash.\\n\\xa0He set up a little piece of poetry, which he made, himself, out of\\nhis own head--three verses--kind of sweet and saddish--the name of it was,\\n“Yes, crush, cold world, this breaking heart”--and he left that all set\\nup and ready to print in the paper, and didn’t charge nothing for it.\\n\\xa0Well, he took in nine dollars and a half, and said he’d done a pretty\\nsquare day’s work for it.\\n\\nThen he showed us another little job he’d printed and hadn’t charged\\nfor, because it was for us. \\xa0It had a picture of a runaway nigger with\\na bundle on a stick over his shoulder, and “$200 reward” under it. \\xa0The\\nreading was all about Jim, and just described him to a dot. \\xa0It said\\nhe run away from St. Jacques’ plantation, forty mile below New Orleans,\\nlast winter, and likely went north, and whoever would catch him and send\\nhim back he could have the reward and expenses.\\n\\n“Now,” says the duke, “after to-night we can run in the daytime if we\\nwant to. \\xa0Whenever we see anybody coming we can tie Jim hand and foot\\nwith a rope, and lay him in the wigwam and show this handbill and say we\\ncaptured him up the river, and were too poor to travel on a steamboat,\\nso we got this little raft on credit from our friends and are going down\\nto get the reward. \\xa0Handcuffs and chains would look still better on Jim,\\nbut it wouldn’t go well with the story of us being so poor. \\xa0Too much\\nlike jewelry. \\xa0Ropes are the correct thing--we must preserve the unities,\\nas we say on the boards.”\\n\\nWe all said the duke was pretty smart, and there couldn’t be no trouble\\nabout running daytimes. \\xa0We judged we could make miles enough that night\\nto get out of the reach of the powwow we reckoned the duke’s work in\\nthe printing office was going to make in that little town; then we could\\nboom right along if we wanted to.\\n\\nWe laid low and kept still, and never shoved out till nearly ten\\no’clock; then we slid by, pretty wide away from the town, and didn’t\\nhoist our lantern till we was clear out of sight of it.\\n\\nWhen Jim called me to take the watch at four in the morning, he says:\\n\\n“Huck, does you reck’n we gwyne to run acrost any mo’ kings on dis\\ntrip?”\\n\\n“No,” I says, “I reckon not.”\\n\\n“Well,” says he, “dat’s all right, den. \\xa0I doan’ mine one er two kings,\\nbut dat’s enough. \\xa0Dis one’s powerful drunk, en de duke ain’ much\\nbetter.”\\n\\nI found Jim had been trying to get him to talk French, so he could hear\\nwhat it was like; but he said he had been in this country so long, and\\nhad so much trouble, he’d forgot it.\\n\\n\\n\\n\\nCHAPTER XXI.\\n\\nIT was after sun-up now, but we went right on and didn’t tie up. \\xa0The\\nking and the duke turned out by and by looking pretty rusty; but after\\nthey’d jumped overboard and took a swim it chippered them up a good\\ndeal. After breakfast the king he took a seat on the corner of the raft,\\nand pulled off his boots and rolled up his britches, and let his legs\\ndangle in the water, so as to be comfortable, and lit his pipe, and went\\nto getting his Romeo and Juliet by heart. \\xa0When he had got it pretty\\ngood him and the duke begun to practice it together. \\xa0The duke had to\\nlearn him over and over again how to say every speech; and he made him\\nsigh, and put his hand on his heart, and after a while he said he done\\nit pretty well; “only,” he says, “you mustn’t bellow out _Romeo_!\\nthat way, like a bull--you must say it soft and sick and languishy,\\nso--R-o-o-meo! that is the idea; for Juliet’s a dear sweet mere child of\\na girl, you know, and she doesn’t bray like a jackass.”\\n\\nWell, next they got out a couple of long swords that the duke made out\\nof oak laths, and begun to practice the sword fight--the duke called\\nhimself Richard III.; and the way they laid on and pranced around\\nthe raft was grand to see. \\xa0But by and by the king tripped and fell\\noverboard, and after that they took a rest, and had a talk about all\\nkinds of adventures they’d had in other times along the river.\\n\\nAfter dinner the duke says:\\n\\n“Well, Capet, we’ll want to make this a first-class show, you know, so\\nI guess we’ll add a little more to it. \\xa0We want a little something to\\nanswer encores with, anyway.”\\n\\n“What’s onkores, Bilgewater?”\\n\\nThe duke told him, and then says:\\n\\n“I’ll answer by doing the Highland fling or the sailor’s hornpipe; and\\nyou--well, let me see--oh, I’ve got it--you can do Hamlet’s soliloquy.”\\n\\n“Hamlet’s which?”\\n\\n“Hamlet’s soliloquy, you know; the most celebrated thing in Shakespeare.\\nAh, it’s sublime, sublime! \\xa0Always fetches the house. \\xa0I haven’t got\\nit in the book--I’ve only got one volume--but I reckon I can piece it out\\nfrom memory. \\xa0I’ll just walk up and down a minute, and see if I can call\\nit back from recollection’s vaults.”\\n\\nSo he went to marching up and down, thinking, and frowning horrible\\nevery now and then; then he would hoist up his eyebrows; next he would\\nsqueeze his hand on his forehead and stagger back and kind of moan; next\\nhe would sigh, and next he’d let on to drop a tear. \\xa0It was beautiful\\nto see him. By and by he got it. \\xa0He told us to give attention. \\xa0Then\\nhe strikes a most noble attitude, with one leg shoved forwards, and his\\narms stretched away up, and his head tilted back, looking up at the sky;\\nand then he begins to rip and rave and grit his teeth; and after that,\\nall through his speech, he howled, and spread around, and swelled up his\\nchest, and just knocked the spots out of any acting ever I see before.\\n\\xa0This is the speech--I learned it, easy enough, while he was learning it\\nto the king:\\n\\nTo be, or not to be; that is the bare bodkin That makes calamity of\\nso long life; For who would fardels bear, till Birnam Wood do come\\nto Dunsinane, But that the fear of something after death Murders the\\ninnocent sleep, Great nature’s second course, And makes us rather sling\\nthe arrows of outrageous fortune Than fly to others that we know not of.\\nThere’s the respect must give us pause: Wake Duncan with thy knocking! I\\nwould thou couldst; For who would bear the whips and scorns of time, The\\noppressor’s wrong, the proud man’s contumely, The law’s delay, and the\\nquietus which his pangs might take. In the dead waste and middle of the\\nnight, when churchyards yawn In customary suits of solemn black, But\\nthat the undiscovered country from whose bourne no traveler returns,\\nBreathes forth contagion on the world, And thus the native hue of\\nresolution, like the poor cat i’ the adage, Is sicklied o’er with care.\\nAnd all the clouds that lowered o’er our housetops, With this\\nregard their currents turn awry, And lose the name of action. ‘Tis a\\nconsummation devoutly to be wished. But soft you, the fair Ophelia: Ope\\nnot thy ponderous and marble jaws. But get thee to a nunnery&mdash;go!\\n\\nWell, the old man he liked that speech, and he mighty soon got it so he\\ncould do it first rate. It seemed like he was just born for it; and when\\nhe had his hand in and was excited, it was perfectly lovely the way he\\nwould rip and tear and rair up behind when he was getting it off.\\n\\nThe first chance we got, the duke he had some show bills printed; and\\nafter that, for two or three days as we floated along, the raft was a\\nmost uncommon lively place, for there warn’t nothing but sword-fighting\\nand rehearsing--as the duke called it--going on all the time. One morning,\\nwhen we was pretty well down the State of Arkansaw, we come in sight\\nof a little one-horse town in a big bend; so we tied up about\\nthree-quarters of a mile above it, in the mouth of a crick which was\\nshut in like a tunnel by the cypress trees, and all of us but Jim took\\nthe canoe and went down there to see if there was any chance in that\\nplace for our show.\\n\\nWe struck it mighty lucky; there was going to be a circus there that\\nafternoon, and the country people was already beginning to come in, in\\nall kinds of old shackly wagons, and on horses. The circus would leave\\nbefore night, so our show would have a pretty good chance. The duke he\\nhired the court house, and we went around and stuck up our bills. They\\nread like this:\\n\\nShaksperean Revival!!!\\n\\nWonderful Attraction!\\n\\nFor One Night Only! The world renowned tragedians,\\n\\nDavid Garrick the younger, of Drury Lane Theatre, London,\\n\\nand\\n\\nEdmund Kean the elder, of the Royal Haymarket Theatre, Whitechapel,\\nPudding Lane, Piccadilly, London, and the Royal Continental Theatres, in\\ntheir sublime Shaksperean Spectacle entitled The Balcony Scene in\\n\\nRomeo and Juliet!!!\\n\\nRomeo...................................... Mr. Garrick.\\n\\nJuliet..................................... Mr. Kean.\\n\\nAssisted by the whole strength of the company!\\n\\nNew costumes, new scenery, new appointments!\\n\\nAlso:\\n\\nThe thrilling, masterly, and blood-curdling Broad-sword conflict In\\nRichard III.!!!\\n\\nRichard III................................ Mr. Garrick.\\n\\nRichmond................................... Mr. Kean.\\n\\nalso:\\n\\n(by special request,)\\n\\nHamlet’s Immortal Soliloquy!!\\n\\nBy the Illustrious Kean!\\n\\nDone by him 300 consecutive nights in Paris!\\n\\nFor One Night Only,\\n\\nOn account of imperative European engagements!\\n\\nAdmission 25 cents; children and servants, 10 cents.\\n\\nThen we went loafing around the town. The stores and houses was most all\\nold shackly dried-up frame concerns that hadn’t ever been painted; they\\nwas set up three or four foot above ground on stilts, so as to be out of\\nreach of the water when the river was overflowed. The houses had little\\ngardens around them, but they didn’t seem to raise hardly anything in\\nthem but jimpson weeds, and sunflowers, and ash-piles, and old curled-up\\nboots and shoes, and pieces of bottles, and rags, and played-out\\ntin-ware. The fences was made of different kinds of boards, nailed on\\nat different times; and they leaned every which-way, and had gates that\\ndidn’t generly have but one hinge--a leather one. Some of the fences\\nhad been whitewashed, some time or another, but the duke said it was in\\nClumbus’s time, like enough. There was generly hogs in the garden, and\\npeople driving them out.\\n\\nAll the stores was along one street. \\xa0They had white domestic awnings in\\nfront, and the country people hitched their horses to the awning-posts.\\nThere was empty drygoods boxes under the awnings, and loafers roosting\\non them all day long, whittling them with their Barlow knives; and\\nchawing tobacco, and gaping and yawning and stretching--a mighty ornery\\nlot. They generly had on yellow straw hats most as wide as an umbrella,\\nbut didn’t wear no coats nor waistcoats, they called one another Bill,\\nand Buck, and Hank, and Joe, and Andy, and talked lazy and drawly, and\\nused considerable many cuss words. \\xa0There was as many as one loafer\\nleaning up against every awning-post, and he most always had his hands\\nin his britches-pockets, except when he fetched them out to lend a chaw\\nof tobacco or scratch. \\xa0What a body was hearing amongst them all the\\ntime was:\\n\\n“Gimme a chaw ‘v tobacker, Hank.”\\n\\n“Cain’t; I hain’t got but one chaw left. \\xa0Ask Bill.”\\n\\nMaybe Bill he gives him a chaw; maybe he lies and says he ain’t got\\nnone. Some of them kinds of loafers never has a cent in the world, nor a\\nchaw of tobacco of their own. \\xa0They get all their chawing by borrowing;\\nthey say to a fellow, “I wisht you’d len’ me a chaw, Jack, I jist this\\nminute give Ben Thompson the last chaw I had”--which is a lie pretty\\nmuch everytime; it don’t fool nobody but a stranger; but Jack ain’t no\\nstranger, so he says:\\n\\n“_You_ give him a chaw, did you? \\xa0So did your sister’s cat’s\\ngrandmother. You pay me back the chaws you’ve awready borry’d off’n me,\\nLafe Buckner, then I’ll loan you one or two ton of it, and won’t charge\\nyou no back intrust, nuther.”\\n\\n“Well, I _did_ pay you back some of it wunst.”\\n\\n“Yes, you did--‘bout six chaws. \\xa0You borry’d store tobacker and paid back\\nnigger-head.”\\n\\nStore tobacco is flat black plug, but these fellows mostly chaws the\\nnatural leaf twisted. \\xa0When they borrow a chaw they don’t generly cut it\\noff with a knife, but set the plug in between their teeth, and gnaw with\\ntheir teeth and tug at the plug with their hands till they get it in\\ntwo; then sometimes the one that owns the tobacco looks mournful at it\\nwhen it’s handed back, and says, sarcastic:\\n\\n“Here, gimme the _chaw_, and you take the _plug_.”\\n\\nAll the streets and lanes was just mud; they warn’t nothing else _but_\\nmud--mud as black as tar and nigh about a foot deep in some places,\\nand two or three inches deep in _all_ the places. \\xa0The hogs loafed and\\ngrunted around everywheres. \\xa0You’d see a muddy sow and a litter of pigs\\ncome lazying along the street and whollop herself right down in the way,\\nwhere folks had to walk around her, and she’d stretch out and shut her\\neyes and wave her ears whilst the pigs was milking her, and look as\\nhappy as if she was on salary. And pretty soon you’d hear a loafer\\nsing out, “Hi! \\xa0_so_ boy! sick him, Tige!” and away the sow would go,\\nsquealing most horrible, with a dog or two swinging to each ear, and\\nthree or four dozen more a-coming; and then you would see all the\\nloafers get up and watch the thing out of sight, and laugh at the fun\\nand look grateful for the noise. \\xa0Then they’d settle back again till\\nthere was a dog fight. \\xa0There couldn’t anything wake them up all over,\\nand make them happy all over, like a dog fight--unless it might be\\nputting turpentine on a stray dog and setting fire to him, or tying a\\ntin pan to his tail and see him run himself to death.\\n\\nOn the river front some of the houses was sticking out over the bank,\\nand they was bowed and bent, and about ready to tumble in. The people\\nhad moved out of them. \\xa0The bank was caved away under one corner of some\\nothers, and that corner was hanging over. \\xa0People lived in them yet, but\\nit was dangersome, because sometimes a strip of land as wide as a house\\ncaves in at a time. \\xa0Sometimes a belt of land a quarter of a mile deep\\nwill start in and cave along and cave along till it all caves into the\\nriver in one summer. Such a town as that has to be always moving back,\\nand back, and back, because the river’s always gnawing at it.\\n\\nThe nearer it got to noon that day the thicker and thicker was the\\nwagons and horses in the streets, and more coming all the time.\\n\\xa0Families fetched their dinners with them from the country, and eat them\\nin the wagons. \\xa0There was considerable whisky drinking going on, and I\\nseen three fights. \\xa0By and by somebody sings out:\\n\\n“Here comes old Boggs!--in from the country for his little old monthly\\ndrunk; here he comes, boys!”\\n\\nAll the loafers looked glad; I reckoned they was used to having fun out\\nof Boggs. \\xa0One of them says:\\n\\n“Wonder who he’s a-gwyne to chaw up this time. \\xa0If he’d a-chawed up all\\nthe men he’s ben a-gwyne to chaw up in the last twenty year he’d have\\nconsiderable ruputation now.”\\n\\nAnother one says, “I wisht old Boggs ‘d threaten me, ‘cuz then I’d know\\nI warn’t gwyne to die for a thousan’ year.”\\n\\nBoggs comes a-tearing along on his horse, whooping and yelling like an\\nInjun, and singing out:\\n\\n“Cler the track, thar. \\xa0I’m on the waw-path, and the price uv coffins is\\na-gwyne to raise.”\\n\\nHe was drunk, and weaving about in his saddle; he was over fifty year\\nold, and had a very red face. \\xa0Everybody yelled at him and laughed at\\nhim and sassed him, and he sassed back, and said he’d attend to them and\\nlay them out in their regular turns, but he couldn’t wait now because\\nhe’d come to town to kill old Colonel Sherburn, and his motto was, “Meat\\nfirst, and spoon vittles to top off on.”\\n\\nHe see me, and rode up and says:\\n\\n“Whar’d you come f’m, boy? \\xa0You prepared to die?”\\n\\nThen he rode on. \\xa0I was scared, but a man says:\\n\\n“He don’t mean nothing; he’s always a-carryin’ on like that when he’s\\ndrunk. \\xa0He’s the best naturedest old fool in Arkansaw--never hurt nobody,\\ndrunk nor sober.”\\n\\nBoggs rode up before the biggest store in town, and bent his head down\\nso he could see under the curtain of the awning and yells:\\n\\n“Come out here, Sherburn! Come out and meet the man you’ve swindled.\\nYou’re the houn’ I’m after, and I’m a-gwyne to have you, too!”\\n\\nAnd so he went on, calling Sherburn everything he could lay his tongue\\nto, and the whole street packed with people listening and laughing and\\ngoing on. \\xa0By and by a proud-looking man about fifty-five--and he was a\\nheap the best dressed man in that town, too--steps out of the store, and\\nthe crowd drops back on each side to let him come. \\xa0He says to Boggs,\\nmighty ca’m and slow--he says:\\n\\n“I’m tired of this, but I’ll endure it till one o’clock. \\xa0Till one\\no’clock, mind--no longer. \\xa0If you open your mouth against me only once\\nafter that time you can’t travel so far but I will find you.”\\n\\nThen he turns and goes in. \\xa0The crowd looked mighty sober; nobody\\nstirred, and there warn’t no more laughing. \\xa0Boggs rode off\\nblackguarding Sherburn as loud as he could yell, all down the street;\\nand pretty soon back he comes and stops before the store, still keeping\\nit up. \\xa0Some men crowded around him and tried to get him to shut up,\\nbut he wouldn’t; they told him it would be one o’clock in about fifteen\\nminutes, and so he _must_ go home--he must go right away. \\xa0But it didn’t\\ndo no good. \\xa0He cussed away with all his might, and throwed his hat down\\nin the mud and rode over it, and pretty soon away he went a-raging down\\nthe street again, with his gray hair a-flying. Everybody that could get\\na chance at him tried their best to coax him off of his horse so they\\ncould lock him up and get him sober; but it warn’t no use--up the street\\nhe would tear again, and give Sherburn another cussing. \\xa0By and by\\nsomebody says:\\n\\n“Go for his daughter!--quick, go for his daughter; sometimes he’ll listen\\nto her. \\xa0If anybody can persuade him, she can.”\\n\\nSo somebody started on a run. \\xa0I walked down street a ways and stopped.\\nIn about five or ten minutes here comes Boggs again, but not on his\\nhorse. \\xa0He was a-reeling across the street towards me, bare-headed, with\\na friend on both sides of him a-holt of his arms and hurrying him along.\\nHe was quiet, and looked uneasy; and he warn’t hanging back any, but was\\ndoing some of the hurrying himself. \\xa0Somebody sings out:\\n\\n“Boggs!”\\n\\nI looked over there to see who said it, and it was that Colonel\\nSherburn. He was standing perfectly still in the street, and had a\\npistol raised in his right hand--not aiming it, but holding it out with\\nthe barrel tilted up towards the sky. \\xa0The same second I see a young\\ngirl coming on the run, and two men with her. \\xa0Boggs and the men turned\\nround to see who called him, and when they see the pistol the men\\njumped to one side, and the pistol-barrel come down slow and steady to\\na level--both barrels cocked. Boggs throws up both of his hands and says,\\n“O Lord, don’t shoot!” \\xa0Bang! goes the first shot, and he staggers back,\\nclawing at the air--bang! goes the second one, and he tumbles backwards\\non to the ground, heavy and solid, with his arms spread out. \\xa0That young\\ngirl screamed out and comes rushing, and down she throws herself on her\\nfather, crying, and saying, “Oh, he’s killed him, he’s killed him!” \\xa0The\\ncrowd closed up around them, and shouldered and jammed one another, with\\ntheir necks stretched, trying to see, and people on the inside trying to\\nshove them back and shouting, “Back, back! give him air, give him air!”\\n\\nColonel Sherburn he tossed his pistol on to the ground, and turned\\naround on his heels and walked off.\\n\\nThey took Boggs to a little drug store, the crowd pressing around just\\nthe same, and the whole town following, and I rushed and got a good\\nplace at the window, where I was close to him and could see in. \\xa0They\\nlaid him on the floor and put one large Bible under his head, and opened\\nanother one and spread it on his breast; but they tore open his shirt\\nfirst, and I seen where one of the bullets went in. \\xa0He made about a\\ndozen long gasps, his breast lifting the Bible up when he drawed in his\\nbreath, and letting it down again when he breathed it out--and after that\\nhe laid still; he was dead. \\xa0Then they pulled his daughter away from\\nhim, screaming and crying, and took her off. \\xa0She was about sixteen, and\\nvery sweet and gentle looking, but awful pale and scared.\\n\\nWell, pretty soon the whole town was there, squirming and scrouging and\\npushing and shoving to get at the window and have a look, but people\\nthat had the places wouldn’t give them up, and folks behind them was\\nsaying all the time, “Say, now, you’ve looked enough, you fellows;\\n‘tain’t right and ‘tain’t fair for you to stay thar all the time, and\\nnever give nobody a chance; other folks has their rights as well as\\nyou.”\\n\\nThere was considerable jawing back, so I slid out, thinking maybe\\nthere was going to be trouble. \\xa0The streets was full, and everybody was\\nexcited. Everybody that seen the shooting was telling how it happened,\\nand there was a big crowd packed around each one of these fellows,\\nstretching their necks and listening. \\xa0One long, lanky man, with long\\nhair and a big white fur stovepipe hat on the back of his head, and a\\ncrooked-handled cane, marked out the places on the ground where Boggs\\nstood and where Sherburn stood, and the people following him around from\\none place to t’other and watching everything he done, and bobbing their\\nheads to show they understood, and stooping a little and resting their\\nhands on their thighs to watch him mark the places on the ground with\\nhis cane; and then he stood up straight and stiff where Sherburn had\\nstood, frowning and having his hat-brim down over his eyes, and sung\\nout, “Boggs!” and then fetched his cane down slow to a level, and says\\n“Bang!” staggered backwards, says “Bang!” again, and fell down flat on\\nhis back. The people that had seen the thing said he done it perfect;\\nsaid it was just exactly the way it all happened. \\xa0Then as much as a\\ndozen people got out their bottles and treated him.\\n\\nWell, by and by somebody said Sherburn ought to be lynched. \\xa0In about a\\nminute everybody was saying it; so away they went, mad and yelling, and\\nsnatching down every clothes-line they come to to do the hanging with.\\n\\n\\n\\n\\nCHAPTER XXII.\\n\\nTHEY swarmed up towards Sherburn’s house, a-whooping and raging like\\nInjuns, and everything had to clear the way or get run over and tromped\\nto mush, and it was awful to see. \\xa0Children was heeling it ahead of the\\nmob, screaming and trying to get out of the way; and every window along\\nthe road was full of women’s heads, and there was nigger boys in every\\ntree, and bucks and wenches looking over every fence; and as soon as the\\nmob would get nearly to them they would break and skaddle back out of\\nreach. \\xa0Lots of the women and girls was crying and taking on, scared\\nmost to death.\\n\\nThey swarmed up in front of Sherburn’s palings as thick as they could\\njam together, and you couldn’t hear yourself think for the noise. \\xa0It\\nwas a little twenty-foot yard. \\xa0Some sung out “Tear down the fence! tear\\ndown the fence!” \\xa0Then there was a racket of ripping and tearing and\\nsmashing, and down she goes, and the front wall of the crowd begins to\\nroll in like a wave.\\n\\nJust then Sherburn steps out on to the roof of his little front porch,\\nwith a double-barrel gun in his hand, and takes his stand, perfectly\\nca’m and deliberate, not saying a word. \\xa0The racket stopped, and the\\nwave sucked back.\\n\\nSherburn never said a word--just stood there, looking down. \\xa0The\\nstillness was awful creepy and uncomfortable. \\xa0Sherburn run his eye slow\\nalong the crowd; and wherever it struck the people tried a little to\\nout-gaze him, but they couldn’t; they dropped their eyes and looked\\nsneaky. Then pretty soon Sherburn sort of laughed; not the pleasant\\nkind, but the kind that makes you feel like when you are eating bread\\nthat’s got sand in it.\\n\\nThen he says, slow and scornful:\\n\\n“The idea of _you_ lynching anybody! \\xa0It’s amusing. \\xa0The idea of you\\nthinking you had pluck enough to lynch a _man_! \\xa0Because you’re brave\\nenough to tar and feather poor friendless cast-out women that come along\\nhere, did that make you think you had grit enough to lay your hands on a\\n_man_? \\xa0Why, a _man’s_ safe in the hands of ten thousand of your kind--as\\nlong as it’s daytime and you’re not behind him.\\n\\n“Do I know you? \\xa0I know you clear through. I was born and raised in the\\nSouth, and I’ve lived in the North; so I know the average all around.\\nThe average man’s a coward. \\xa0In the North he lets anybody walk over him\\nthat wants to, and goes home and prays for a humble spirit to bear it.\\nIn the South one man all by himself, has stopped a stage full of men\\nin the daytime, and robbed the lot. \\xa0Your newspapers call you a\\nbrave people so much that you think you are braver than any other\\npeople--whereas you’re just _as_ brave, and no braver. \\xa0Why don’t your\\njuries hang murderers? \\xa0Because they’re afraid the man’s friends will\\nshoot them in the back, in the dark--and it’s just what they _would_ do.\\n\\n“So they always acquit; and then a _man_ goes in the night, with a\\nhundred masked cowards at his back and lynches the rascal. \\xa0Your mistake\\nis, that you didn’t bring a man with you; that’s one mistake, and the\\nother is that you didn’t come in the dark and fetch your masks. \\xa0You\\nbrought _part_ of a man--Buck Harkness, there--and if you hadn’t had him\\nto start you, you’d a taken it out in blowing.\\n\\n“You didn’t want to come. \\xa0The average man don’t like trouble and\\ndanger. _You_ don’t like trouble and danger. \\xa0But if only _half_ a\\nman--like Buck Harkness, there--shouts ‘Lynch him! lynch him!’ you’re\\nafraid to back down--afraid you’ll be found out to be what you\\nare--_cowards_--and so you raise a yell, and hang yourselves on to that\\nhalf-a-man’s coat-tail, and come raging up here, swearing what big\\nthings you’re going to do. The pitifulest thing out is a mob; that’s\\nwhat an army is--a mob; they don’t fight with courage that’s born in\\nthem, but with courage that’s borrowed from their mass, and from their\\nofficers. \\xa0But a mob without any _man_ at the head of it is _beneath_\\npitifulness. \\xa0Now the thing for _you_ to do is to droop your tails and\\ngo home and crawl in a hole. \\xa0If any real lynching’s going to be done it\\nwill be done in the dark, Southern fashion; and when they come they’ll\\nbring their masks, and fetch a _man_ along. \\xa0Now _leave_--and take your\\nhalf-a-man with you”--tossing his gun up across his left arm and cocking\\nit when he says this.\\n\\nThe crowd washed back sudden, and then broke all apart, and went tearing\\noff every which way, and Buck Harkness he heeled it after them, looking\\ntolerable cheap. \\xa0I could a stayed if I wanted to, but I didn’t want to.\\n\\nI went to the circus and loafed around the back side till the watchman\\nwent by, and then dived in under the tent. \\xa0I had my twenty-dollar gold\\npiece and some other money, but I reckoned I better save it, because\\nthere ain’t no telling how soon you are going to need it, away from\\nhome and amongst strangers that way. \\xa0You can’t be too careful. \\xa0I ain’t\\nopposed to spending money on circuses when there ain’t no other way, but\\nthere ain’t no use in _wasting_ it on them.\\n\\nIt was a real bully circus. \\xa0It was the splendidest sight that ever was\\nwhen they all come riding in, two and two, a gentleman and lady, side\\nby side, the men just in their drawers and undershirts, and no shoes\\nnor stirrups, and resting their hands on their thighs easy and\\ncomfortable--there must a been twenty of them--and every lady with a\\nlovely complexion, and perfectly beautiful, and looking just like a gang\\nof real sure-enough queens, and dressed in clothes that cost millions of\\ndollars, and just littered with diamonds. \\xa0It was a powerful fine sight;\\nI never see anything so lovely. \\xa0And then one by one they got up\\nand stood, and went a-weaving around the ring so gentle and wavy and\\ngraceful, the men looking ever so tall and airy and straight, with their\\nheads bobbing and skimming along, away up there under the tent-roof, and\\nevery lady’s rose-leafy dress flapping soft and silky around her hips,\\nand she looking like the most loveliest parasol.\\n\\nAnd then faster and faster they went, all of them dancing, first one\\nfoot out in the air and then the other, the horses leaning more and\\nmore, and the ringmaster going round and round the center-pole, cracking\\nhis whip and shouting “Hi!--hi!” and the clown cracking jokes behind\\nhim; and by and by all hands dropped the reins, and every lady put her\\nknuckles on her hips and every gentleman folded his arms, and then how\\nthe horses did lean over and hump themselves! \\xa0And so one after the\\nother they all skipped off into the ring, and made the sweetest bow I\\never see, and then scampered out, and everybody clapped their hands and\\nwent just about wild.\\n\\nWell, all through the circus they done the most astonishing things; and\\nall the time that clown carried on so it most killed the people. \\xa0The\\nringmaster couldn’t ever say a word to him but he was back at him quick\\nas a wink with the funniest things a body ever said; and how he ever\\n_could_ think of so many of them, and so sudden and so pat, was what I\\ncouldn’t noway understand. Why, I couldn’t a thought of them in a year.\\nAnd by and by a drunk man tried to get into the ring--said he wanted to\\nride; said he could ride as well as anybody that ever was. \\xa0They argued\\nand tried to keep him out, but he wouldn’t listen, and the whole show\\ncome to a standstill. \\xa0Then the people begun to holler at him and make\\nfun of him, and that made him mad, and he begun to rip and tear; so that\\nstirred up the people, and a lot of men begun to pile down off of the\\nbenches and swarm towards the ring, saying, “Knock him down! throw him\\nout!” and one or two women begun to scream. \\xa0So, then, the ringmaster\\nhe made a little speech, and said he hoped there wouldn’t be no\\ndisturbance, and if the man would promise he wouldn’t make no more\\ntrouble he would let him ride if he thought he could stay on the horse.\\n\\xa0So everybody laughed and said all right, and the man got on. The minute\\nhe was on, the horse begun to rip and tear and jump and cavort around,\\nwith two circus men hanging on to his bridle trying to hold him, and the\\ndrunk man hanging on to his neck, and his heels flying in the air every\\njump, and the whole crowd of people standing up shouting and laughing\\ntill tears rolled down. \\xa0And at last, sure enough, all the circus men\\ncould do, the horse broke loose, and away he went like the very nation,\\nround and round the ring, with that sot laying down on him and hanging\\nto his neck, with first one leg hanging most to the ground on one side,\\nand then t’other one on t’other side, and the people just crazy. \\xa0It\\nwarn’t funny to me, though; I was all of a tremble to see his danger.\\n\\xa0But pretty soon he struggled up astraddle and grabbed the bridle,\\na-reeling this way and that; and the next minute he sprung up and\\ndropped the bridle and stood! and the horse a-going like a house afire\\ntoo. \\xa0He just stood up there, a-sailing around as easy and comfortable\\nas if he warn’t ever drunk in his life--and then he begun to pull off his\\nclothes and sling them. \\xa0He shed them so thick they kind of clogged up\\nthe air, and altogether he shed seventeen suits. And, then, there he\\nwas, slim and handsome, and dressed the gaudiest and prettiest you\\never saw, and he lit into that horse with his whip and made him fairly\\nhum--and finally skipped off, and made his bow and danced off to\\nthe dressing-room, and everybody just a-howling with pleasure and\\nastonishment.\\n\\nThen the ringmaster he see how he had been fooled, and he _was_ the\\nsickest ringmaster you ever see, I reckon. \\xa0Why, it was one of his own\\nmen! \\xa0He had got up that joke all out of his own head, and never let on\\nto nobody. Well, I felt sheepish enough to be took in so, but I wouldn’t\\na been in that ringmaster’s place, not for a thousand dollars. \\xa0I don’t\\nknow; there may be bullier circuses than what that one was, but I\\nnever struck them yet. Anyways, it was plenty good enough for _me_; and\\nwherever I run across it, it can have all of _my_ custom every time.\\n\\nWell, that night we had _our_ show; but there warn’t only about twelve\\npeople there--just enough to pay expenses. \\xa0And they laughed all the\\ntime, and that made the duke mad; and everybody left, anyway, before\\nthe show was over, but one boy which was asleep. \\xa0So the duke said these\\nArkansaw lunkheads couldn’t come up to Shakespeare; what they wanted\\nwas low comedy--and maybe something ruther worse than low comedy, he\\nreckoned. \\xa0He said he could size their style. \\xa0So next morning he got\\nsome big sheets of wrapping paper and some black paint, and drawed off\\nsome handbills, and stuck them up all over the village. \\xa0The bills said:\\n\\n\\n\\n\\nCHAPTER XXIII.\\n\\nWELL, all day him and the king was hard at it, rigging up a stage and\\na curtain and a row of candles for footlights; and that night the house\\nwas jam full of men in no time. \\xa0When the place couldn’t hold no more,\\nthe duke he quit tending door and went around the back way and come on\\nto the stage and stood up before the curtain and made a little speech,\\nand praised up this tragedy, and said it was the most thrillingest one\\nthat ever was; and so he went on a-bragging about the tragedy, and about\\nEdmund Kean the Elder, which was to play the main principal part in it;\\nand at last when he’d got everybody’s expectations up high enough, he\\nrolled up the curtain, and the next minute the king come a-prancing\\nout on all fours, naked; and he was painted all over,\\nring-streaked-and-striped, all sorts of colors, as splendid as a\\nrainbow. \\xa0And--but never mind the rest of his outfit; it was just wild,\\nbut it was awful funny. The people most killed themselves laughing; and\\nwhen the king got done capering and capered off behind the scenes, they\\nroared and clapped and stormed and haw-hawed till he come back and done\\nit over again, and after that they made him do it another time. Well, it\\nwould make a cow laugh to see the shines that old idiot cut.\\n\\nThen the duke he lets the curtain down, and bows to the people, and says\\nthe great tragedy will be performed only two nights more, on accounts of\\npressing London engagements, where the seats is all sold already for it\\nin Drury Lane; and then he makes them another bow, and says if he has\\nsucceeded in pleasing them and instructing them, he will be deeply\\nobleeged if they will mention it to their friends and get them to come\\nand see it.\\n\\nTwenty people sings out:\\n\\n“What, is it over? \\xa0Is that _all_?”\\n\\nThe duke says yes. \\xa0Then there was a fine time. \\xa0Everybody sings\\nout, “Sold!” and rose up mad, and was a-going for that stage and them\\ntragedians. \\xa0But a big, fine looking man jumps up on a bench and shouts:\\n\\n“Hold on! \\xa0Just a word, gentlemen.” \\xa0They stopped to listen.  “We are\\nsold--mighty badly sold. \\xa0But we don’t want to be the laughing stock of\\nthis whole town, I reckon, and never hear the last of this thing as long\\nas we live. \\xa0_No_. \\xa0What we want is to go out of here quiet, and talk\\nthis show up, and sell the _rest_ of the town! \\xa0Then we’ll all be in the\\nsame boat. \\xa0Ain’t that sensible?” (“You bet it is!--the jedge is right!”\\n everybody sings out.) “All right, then--not a word about any sell. \\xa0Go\\nalong home, and advise everybody to come and see the tragedy.”\\n\\nNext day you couldn’t hear nothing around that town but how splendid\\nthat show was. \\xa0House was jammed again that night, and we sold this\\ncrowd the same way. \\xa0When me and the king and the duke got home to the\\nraft we all had a supper; and by and by, about midnight, they made Jim\\nand me back her out and float her down the middle of the river, and\\nfetch her in and hide her about two mile below town.\\n\\nThe third night the house was crammed again--and they warn’t new-comers\\nthis time, but people that was at the show the other two nights. \\xa0I\\nstood by the duke at the door, and I see that every man that went in had\\nhis pockets bulging, or something muffled up under his coat--and I see it\\nwarn’t no perfumery, neither, not by a long sight. \\xa0I smelt sickly eggs\\nby the barrel, and rotten cabbages, and such things; and if I know the\\nsigns of a dead cat being around, and I bet I do, there was sixty-four\\nof them went in. \\xa0I shoved in there for a minute, but it was too various\\nfor me; I couldn’t stand it. \\xa0Well, when the place couldn’t hold no more\\npeople the duke he give a fellow a quarter and told him to tend door\\nfor him a minute, and then he started around for the stage door, I after\\nhim; but the minute we turned the corner and was in the dark he says:\\n\\n“Walk fast now till you get away from the houses, and then shin for the\\nraft like the dickens was after you!”\\n\\nI done it, and he done the same. \\xa0We struck the raft at the same time,\\nand in less than two seconds we was gliding down stream, all dark and\\nstill, and edging towards the middle of the river, nobody saying a\\nword. I reckoned the poor king was in for a gaudy time of it with the\\naudience, but nothing of the sort; pretty soon he crawls out from under\\nthe wigwam, and says:\\n\\n“Well, how’d the old thing pan out this time, duke?” \\xa0He hadn’t been\\nup-town at all.\\n\\nWe never showed a light till we was about ten mile below the village.\\nThen we lit up and had a supper, and the king and the duke fairly\\nlaughed their bones loose over the way they’d served them people. \\xa0The\\nduke says:\\n\\n“Greenhorns, flatheads! \\xa0I knew the first house would keep mum and let\\nthe rest of the town get roped in; and I knew they’d lay for us the\\nthird night, and consider it was _their_ turn now. \\xa0Well, it _is_ their\\nturn, and I’d give something to know how much they’d take for it. \\xa0I\\n_would_ just like to know how they’re putting in their opportunity.\\n\\xa0They can turn it into a picnic if they want to--they brought plenty\\nprovisions.”\\n\\nThem rapscallions took in four hundred and sixty-five dollars in that\\nthree nights. \\xa0I never see money hauled in by the wagon-load like that\\nbefore. \\xa0By and by, when they was asleep and snoring, Jim says:\\n\\n“Don’t it s’prise you de way dem kings carries on, Huck?”\\n\\n“No,” I says, “it don’t.”\\n\\n“Why don’t it, Huck?”\\n\\n“Well, it don’t, because it’s in the breed. \\xa0I reckon they’re all\\nalike.”\\n\\n“But, Huck, dese kings o’ ourn is reglar rapscallions; dat’s jist what\\ndey is; dey’s reglar rapscallions.”\\n\\n“Well, that’s what I’m a-saying; all kings is mostly rapscallions, as\\nfur as I can make out.”\\n\\n“Is dat so?”\\n\\n“You read about them once--you’ll see. \\xa0Look at Henry the Eight; this ‘n\\n‘s a Sunday-school Superintendent to _him_. \\xa0And look at Charles Second,\\nand Louis Fourteen, and Louis Fifteen, and James Second, and Edward\\nSecond, and Richard Third, and forty more; besides all them Saxon\\nheptarchies that used to rip around so in old times and raise Cain. \\xa0My,\\nyou ought to seen old Henry the Eight when he was in bloom. \\xa0He _was_ a\\nblossom. \\xa0He used to marry a new wife every day, and chop off her head\\nnext morning. \\xa0And he would do it just as indifferent as if he was\\nordering up eggs.  ‘Fetch up Nell Gwynn,’ he says. \\xa0They fetch her up.\\nNext morning, ‘Chop off her head!’ \\xa0And they chop it off.  ‘Fetch up\\nJane Shore,’ he says; and up she comes, Next morning, ‘Chop off her\\nhead’--and they chop it off.  ‘Ring up Fair Rosamun.’ \\xa0Fair Rosamun\\nanswers the bell. \\xa0Next morning, ‘Chop off her head.’ \\xa0And he made every\\none of them tell him a tale every night; and he kept that up till he had\\nhogged a thousand and one tales that way, and then he put them all in a\\nbook, and called it Domesday Book--which was a good name and stated the\\ncase. \\xa0You don’t know kings, Jim, but I know them; and this old rip\\nof ourn is one of the cleanest I’ve struck in history. \\xa0Well, Henry he\\ntakes a notion he wants to get up some trouble with this country. How\\ndoes he go at it--give notice?--give the country a show? \\xa0No. \\xa0All of a\\nsudden he heaves all the tea in Boston Harbor overboard, and whacks\\nout a declaration of independence, and dares them to come on. \\xa0That was\\n_his_ style--he never give anybody a chance. \\xa0He had suspicions of his\\nfather, the Duke of Wellington. \\xa0Well, what did he do? \\xa0Ask him to show\\nup? \\xa0No--drownded him in a butt of mamsey, like a cat. \\xa0S’pose people\\nleft money laying around where he was--what did he do? \\xa0He collared it.\\n\\xa0S’pose he contracted to do a thing, and you paid him, and didn’t set\\ndown there and see that he done it--what did he do? \\xa0He always done the\\nother thing. S’pose he opened his mouth--what then? \\xa0If he didn’t shut it\\nup powerful quick he’d lose a lie every time. \\xa0That’s the kind of a bug\\nHenry was; and if we’d a had him along ‘stead of our kings he’d a fooled\\nthat town a heap worse than ourn done. \\xa0I don’t say that ourn is lambs,\\nbecause they ain’t, when you come right down to the cold facts; but they\\nain’t nothing to _that_ old ram, anyway. \\xa0All I say is, kings is kings,\\nand you got to make allowances. \\xa0Take them all around, they’re a mighty\\nornery lot. It’s the way they’re raised.”\\n\\n“But dis one do _smell_ so like de nation, Huck.”\\n\\n“Well, they all do, Jim. \\xa0We can’t help the way a king smells; history\\ndon’t tell no way.”\\n\\n“Now de duke, he’s a tolerble likely man in some ways.”\\n\\n“Yes, a duke’s different. \\xa0But not very different. \\xa0This one’s\\na middling hard lot for a duke. \\xa0When he’s drunk there ain’t no\\nnear-sighted man could tell him from a king.”\\n\\n“Well, anyways, I doan’ hanker for no mo’ un um, Huck. \\xa0Dese is all I\\nkin stan’.”\\n\\n“It’s the way I feel, too, Jim. \\xa0But we’ve got them on our hands, and we\\ngot to remember what they are, and make allowances. \\xa0Sometimes I wish we\\ncould hear of a country that’s out of kings.”\\n\\nWhat was the use to tell Jim these warn’t real kings and dukes? \\xa0It\\nwouldn’t a done no good; and, besides, it was just as I said: \\xa0you\\ncouldn’t tell them from the real kind.\\n\\nI went to sleep, and Jim didn’t call me when it was my turn. \\xa0He often\\ndone that. \\xa0When I waked up just at daybreak he was sitting there with\\nhis head down betwixt his knees, moaning and mourning to himself. \\xa0I\\ndidn’t take notice nor let on. \\xa0I knowed what it was about. \\xa0He was\\nthinking about his wife and his children, away up yonder, and he was low\\nand homesick; because he hadn’t ever been away from home before in his\\nlife; and I do believe he cared just as much for his people as white\\nfolks does for their’n. \\xa0It don’t seem natural, but I reckon it’s so.\\n\\xa0He was often moaning and mourning that way nights, when he judged I\\nwas asleep, and saying, “Po’ little ‘Lizabeth! po’ little Johnny! it’s\\nmighty hard; I spec’ I ain’t ever gwyne to see you no mo’, no mo’!” \\xa0He\\nwas a mighty good nigger, Jim was.\\n\\nBut this time I somehow got to talking to him about his wife and young\\nones; and by and by he says:\\n\\n“What makes me feel so bad dis time ‘uz bekase I hear sumpn over yonder\\non de bank like a whack, er a slam, while ago, en it mine me er de time\\nI treat my little ‘Lizabeth so ornery. \\xa0She warn’t on’y ‘bout fo’ year\\nole, en she tuck de sk’yarlet fever, en had a powful rough spell; but\\nshe got well, en one day she was a-stannin’ aroun’, en I says to her, I\\nsays:\\n\\n“‘Shet de do’.’\\n\\n“She never done it; jis’ stood dah, kiner smilin’ up at me. \\xa0It make me\\nmad; en I says agin, mighty loud, I says:\\n\\n“‘Doan’ you hear me? \\xa0Shet de do’!’\\n\\n“She jis stood de same way, kiner smilin’ up. \\xa0I was a-bilin’! \\xa0I says:\\n\\n“‘I lay I _make_ you mine!’\\n\\n“En wid dat I fetch’ her a slap side de head dat sont her a-sprawlin’.\\nDen I went into de yuther room, en ‘uz gone ‘bout ten minutes; en when\\nI come back dah was dat do’ a-stannin’ open _yit_, en dat chile stannin’\\nmos’ right in it, a-lookin’ down and mournin’, en de tears runnin’ down.\\n\\xa0My, but I _wuz_ mad! \\xa0I was a-gwyne for de chile, but jis’ den--it was a\\ndo’ dat open innerds--jis’ den, ‘long come de wind en slam it to, behine\\nde chile, ker-BLAM!--en my lan’, de chile never move’! \\xa0My breff mos’\\nhop outer me; en I feel so--so--I doan’ know HOW I feel. \\xa0I crope out,\\nall a-tremblin’, en crope aroun’ en open de do’ easy en slow, en poke my\\nhead in behine de chile, sof’ en still, en all uv a sudden I says POW!\\njis’ as loud as I could yell. \\xa0_She never budge!_ \\xa0Oh, Huck, I bust out\\na-cryin’ en grab her up in my arms, en say, ‘Oh, de po’ little thing!\\n\\xa0De Lord God Amighty fogive po’ ole Jim, kaze he never gwyne to fogive\\nhisself as long’s he live!’ \\xa0Oh, she was plumb deef en dumb, Huck, plumb\\ndeef en dumb--en I’d ben a-treat’n her so!”\\n\\n\\n\\n\\nCHAPTER XXIV.\\n\\nNEXT day, towards night, we laid up under a little willow towhead out in\\nthe middle, where there was a village on each side of the river, and the\\nduke and the king begun to lay out a plan for working them towns. \\xa0Jim\\nhe spoke to the duke, and said he hoped it wouldn’t take but a few\\nhours, because it got mighty heavy and tiresome to him when he had to\\nlay all day in the wigwam tied with the rope. \\xa0You see, when we left him\\nall alone we had to tie him, because if anybody happened on to him all\\nby himself and not tied it wouldn’t look much like he was a runaway\\nnigger, you know. So the duke said it _was_ kind of hard to have to lay\\nroped all day, and he’d cipher out some way to get around it.\\n\\nHe was uncommon bright, the duke was, and he soon struck it. \\xa0He dressed\\nJim up in King Lear’s outfit--it was a long curtain-calico gown, and a\\nwhite horse-hair wig and whiskers; and then he took his theater paint\\nand painted Jim’s face and hands and ears and neck all over a dead,\\ndull, solid blue, like a man that’s been drownded nine days. \\xa0Blamed if\\nhe warn’t the horriblest looking outrage I ever see. \\xa0Then the duke took\\nand wrote out a sign on a shingle so:\\n\\nSick Arab--but harmless when not out of his head.\\n\\nAnd he nailed that shingle to a lath, and stood the lath up four or five\\nfoot in front of the wigwam. \\xa0Jim was satisfied. \\xa0He said it was a sight\\nbetter than lying tied a couple of years every day, and trembling all\\nover every time there was a sound. \\xa0The duke told him to make himself\\nfree and easy, and if anybody ever come meddling around, he must hop\\nout of the wigwam, and carry on a little, and fetch a howl or two like\\na wild beast, and he reckoned they would light out and leave him alone.\\n\\xa0Which was sound enough judgment; but you take the average man, and he\\nwouldn’t wait for him to howl. \\xa0Why, he didn’t only look like he was\\ndead, he looked considerable more than that.\\n\\nThese rapscallions wanted to try the Nonesuch again, because there was\\nso much money in it, but they judged it wouldn’t be safe, because maybe\\nthe news might a worked along down by this time. \\xa0They couldn’t hit no\\nproject that suited exactly; so at last the duke said he reckoned he’d\\nlay off and work his brains an hour or two and see if he couldn’t put up\\nsomething on the Arkansaw village; and the king he allowed he would drop\\nover to t’other village without any plan, but just trust in Providence\\nto lead him the profitable way--meaning the devil, I reckon. \\xa0We had all\\nbought store clothes where we stopped last; and now the king put his’n\\non, and he told me to put mine on. \\xa0I done it, of course. \\xa0The king’s\\nduds was all black, and he did look real swell and starchy. \\xa0I never\\nknowed how clothes could change a body before. \\xa0Why, before, he looked\\nlike the orneriest old rip that ever was; but now, when he’d take off\\nhis new white beaver and make a bow and do a smile, he looked that grand\\nand good and pious that you’d say he had walked right out of the ark,\\nand maybe was old Leviticus himself. \\xa0Jim cleaned up the canoe, and I\\ngot my paddle ready. \\xa0There was a big steamboat laying at the shore away\\nup under the point, about three mile above the town--been there a couple\\nof hours, taking on freight. \\xa0Says the king:\\n\\n“Seein’ how I’m dressed, I reckon maybe I better arrive down from St.\\nLouis or Cincinnati, or some other big place. \\xa0Go for the steamboat,\\nHuckleberry; we’ll come down to the village on her.”\\n\\nI didn’t have to be ordered twice to go and take a steamboat ride.\\n\\xa0I fetched the shore a half a mile above the village, and then went\\nscooting along the bluff bank in the easy water. \\xa0Pretty soon we come to\\na nice innocent-looking young country jake setting on a log swabbing the\\nsweat off of his face, for it was powerful warm weather; and he had a\\ncouple of big carpet-bags by him.\\n\\n“Run her nose in shore,” says the king. \\xa0I done it.  “Wher’ you bound\\nfor, young man?”\\n\\n“For the steamboat; going to Orleans.”\\n\\n“Git aboard,” says the king.  “Hold on a minute, my servant ‘ll he’p you\\nwith them bags. \\xa0Jump out and he’p the gentleman, Adolphus”--meaning me,\\nI see.\\n\\nI done so, and then we all three started on again. \\xa0The young chap was\\nmighty thankful; said it was tough work toting his baggage such weather.\\nHe asked the king where he was going, and the king told him he’d come\\ndown the river and landed at the other village this morning, and now he\\nwas going up a few mile to see an old friend on a farm up there. \\xa0The\\nyoung fellow says:\\n\\n“When I first see you I says to myself, ‘It’s Mr. Wilks, sure, and he\\ncome mighty near getting here in time.’ \\xa0But then I says again, ‘No, I\\nreckon it ain’t him, or else he wouldn’t be paddling up the river.’ \\xa0You\\n_ain’t_ him, are you?”\\n\\n“No, my name’s Blodgett--Elexander Blodgett--_Reverend_ Elexander\\nBlodgett, I s’pose I must say, as I’m one o’ the Lord’s poor servants.\\n\\xa0But still I’m jist as able to be sorry for Mr. Wilks for not arriving\\nin time, all the same, if he’s missed anything by it--which I hope he\\nhasn’t.”\\n\\n“Well, he don’t miss any property by it, because he’ll get that all\\nright; but he’s missed seeing his brother Peter die--which he mayn’t\\nmind, nobody can tell as to that--but his brother would a give anything\\nin this world to see _him_ before he died; never talked about nothing\\nelse all these three weeks; hadn’t seen him since they was boys\\ntogether--and hadn’t ever seen his brother William at all--that’s the deef\\nand dumb one--William ain’t more than thirty or thirty-five. \\xa0Peter and\\nGeorge were the only ones that come out here; George was the married\\nbrother; him and his wife both died last year. \\xa0Harvey and William’s the\\nonly ones that’s left now; and, as I was saying, they haven’t got here\\nin time.”\\n\\n“Did anybody send ‘em word?”\\n\\n“Oh, yes; a month or two ago, when Peter was first took; because Peter\\nsaid then that he sorter felt like he warn’t going to get well this\\ntime. You see, he was pretty old, and George’s g’yirls was too young to\\nbe much company for him, except Mary Jane, the red-headed one; and so he\\nwas kinder lonesome after George and his wife died, and didn’t seem\\nto care much to live. \\xa0He most desperately wanted to see Harvey--and\\nWilliam, too, for that matter--because he was one of them kind that can’t\\nbear to make a will. \\xa0He left a letter behind for Harvey, and said he’d\\ntold in it where his money was hid, and how he wanted the rest of the\\nproperty divided up so George’s g’yirls would be all right--for George\\ndidn’t leave nothing. \\xa0And that letter was all they could get him to put\\na pen to.”\\n\\n“Why do you reckon Harvey don’t come? \\xa0Wher’ does he live?”\\n\\n“Oh, he lives in England--Sheffield--preaches there--hasn’t ever been in\\nthis country. \\xa0He hasn’t had any too much time--and besides he mightn’t a\\ngot the letter at all, you know.”\\n\\n“Too bad, too bad he couldn’t a lived to see his brothers, poor soul.\\nYou going to Orleans, you say?”\\n\\n“Yes, but that ain’t only a part of it. \\xa0I’m going in a ship, next\\nWednesday, for Ryo Janeero, where my uncle lives.”\\n\\n“It’s a pretty long journey. \\xa0But it’ll be lovely; wisht I was a-going.\\nIs Mary Jane the oldest? \\xa0How old is the others?”\\n\\n“Mary Jane’s nineteen, Susan’s fifteen, and Joanna’s about\\nfourteen--that’s the one that gives herself to good works and has a\\nhare-lip.”\\n\\n“Poor things! to be left alone in the cold world so.”\\n\\n“Well, they could be worse off. \\xa0Old Peter had friends, and they\\nain’t going to let them come to no harm. \\xa0There’s Hobson, the Babtis’\\npreacher; and Deacon Lot Hovey, and Ben Rucker, and Abner Shackleford,\\nand Levi Bell, the lawyer; and Dr. Robinson, and their wives, and the\\nwidow Bartley, and--well, there’s a lot of them; but these are the ones\\nthat Peter was thickest with, and used to write about sometimes, when\\nhe wrote home; so Harvey ‘ll know where to look for friends when he gets\\nhere.”\\n\\nWell, the old man went on asking questions till he just fairly emptied\\nthat young fellow. \\xa0Blamed if he didn’t inquire about everybody and\\neverything in that blessed town, and all about the Wilkses; and about\\nPeter’s business--which was a tanner; and about George’s--which was a\\ncarpenter; and about Harvey’s--which was a dissentering minister; and so\\non, and so on. \\xa0Then he says:\\n\\n“What did you want to walk all the way up to the steamboat for?”\\n\\n“Because she’s a big Orleans boat, and I was afeard she mightn’t stop\\nthere. \\xa0When they’re deep they won’t stop for a hail. \\xa0A Cincinnati boat\\nwill, but this is a St. Louis one.”\\n\\n“Was Peter Wilks well off?”\\n\\n“Oh, yes, pretty well off. \\xa0He had houses and land, and it’s reckoned he\\nleft three or four thousand in cash hid up som’ers.”\\n\\n“When did you say he died?”\\n\\n“I didn’t say, but it was last night.”\\n\\n“Funeral to-morrow, likely?”\\n\\n“Yes, ‘bout the middle of the day.”\\n\\n“Well, it’s all terrible sad; but we’ve all got to go, one time or\\nanother. So what we want to do is to be prepared; then we’re all right.”\\n\\n“Yes, sir, it’s the best way. \\xa0Ma used to always say that.”\\n\\nWhen we struck the boat she was about done loading, and pretty soon she\\ngot off. \\xa0The king never said nothing about going aboard, so I lost\\nmy ride, after all. \\xa0When the boat was gone the king made me paddle up\\nanother mile to a lonesome place, and then he got ashore and says:\\n\\n“Now hustle back, right off, and fetch the duke up here, and the new\\ncarpet-bags. \\xa0And if he’s gone over to t’other side, go over there and\\ngit him. \\xa0And tell him to git himself up regardless. \\xa0Shove along, now.”\\n\\nI see what _he_ was up to; but I never said nothing, of course. \\xa0When\\nI got back with the duke we hid the canoe, and then they set down on a\\nlog, and the king told him everything, just like the young fellow had\\nsaid it--every last word of it. \\xa0And all the time he was a-doing it he\\ntried to talk like an Englishman; and he done it pretty well, too, for\\na slouch. I can’t imitate him, and so I ain’t a-going to try to; but he\\nreally done it pretty good. \\xa0Then he says:\\n\\n“How are you on the deef and dumb, Bilgewater?”\\n\\nThe duke said, leave him alone for that; said he had played a deef\\nand dumb person on the histronic boards. \\xa0So then they waited for a\\nsteamboat.\\n\\nAbout the middle of the afternoon a couple of little boats come along,\\nbut they didn’t come from high enough up the river; but at last there\\nwas a big one, and they hailed her. \\xa0She sent out her yawl, and we went\\naboard, and she was from Cincinnati; and when they found we only wanted\\nto go four or five mile they was booming mad, and gave us a cussing, and\\nsaid they wouldn’t land us. \\xa0But the king was ca’m. \\xa0He says:\\n\\n“If gentlemen kin afford to pay a dollar a mile apiece to be took on and\\nput off in a yawl, a steamboat kin afford to carry ‘em, can’t it?”\\n\\nSo they softened down and said it was all right; and when we got to the\\nvillage they yawled us ashore. \\xa0About two dozen men flocked down when\\nthey see the yawl a-coming, and when the king says:\\n\\n“Kin any of you gentlemen tell me wher’ Mr. Peter Wilks lives?” they\\ngive a glance at one another, and nodded their heads, as much as to say,\\n“What d’ I tell you?” \\xa0Then one of them says, kind of soft and gentle:\\n\\n“I’m sorry sir, but the best we can do is to tell you where he _did_\\nlive yesterday evening.”\\n\\nSudden as winking the ornery old cretur went an to smash, and fell up\\nagainst the man, and put his chin on his shoulder, and cried down his\\nback, and says:\\n\\n“Alas, alas, our poor brother--gone, and we never got to see him; oh,\\nit’s too, too hard!”\\n\\nThen he turns around, blubbering, and makes a lot of idiotic signs to\\nthe duke on his hands, and blamed if he didn’t drop a carpet-bag and\\nbust out a-crying. \\xa0If they warn’t the beatenest lot, them two frauds,\\nthat ever I struck.\\n\\nWell, the men gathered around and sympathized with them, and said all\\nsorts of kind things to them, and carried their carpet-bags up the hill\\nfor them, and let them lean on them and cry, and told the king all about\\nhis brother’s last moments, and the king he told it all over again on\\nhis hands to the duke, and both of them took on about that dead tanner\\nlike they’d lost the twelve disciples. \\xa0Well, if ever I struck anything\\nlike it, I’m a nigger. It was enough to make a body ashamed of the human\\nrace.\\n\\n\\n\\n\\nCHAPTER XXV.\\n\\nTHE news was all over town in two minutes, and you could see the people\\ntearing down on the run from every which way, some of them putting on\\ntheir coats as they come. \\xa0Pretty soon we was in the middle of a crowd,\\nand the noise of the tramping was like a soldier march. \\xa0The windows and\\ndooryards was full; and every minute somebody would say, over a fence:\\n\\n“Is it _them_?”\\n\\nAnd somebody trotting along with the gang would answer back and say:\\n\\n“You bet it is.”\\n\\nWhen we got to the house the street in front of it was packed, and the\\nthree girls was standing in the door. \\xa0Mary Jane _was_ red-headed, but\\nthat don’t make no difference, she was most awful beautiful, and her\\nface and her eyes was all lit up like glory, she was so glad her uncles\\nwas come. The king he spread his arms, and Mary Jane she jumped for\\nthem, and the hare-lip jumped for the duke, and there they had it!\\n\\xa0Everybody most, leastways women, cried for joy to see them meet again\\nat last and have such good times.\\n\\nThen the king he hunched the duke private--I see him do it--and then he\\nlooked around and see the coffin, over in the corner on two chairs; so\\nthen him and the duke, with a hand across each other’s shoulder, and\\nt’other hand to their eyes, walked slow and solemn over there, everybody\\ndropping back to give them room, and all the talk and noise stopping,\\npeople saying “Sh!” and all the men taking their hats off and drooping\\ntheir heads, so you could a heard a pin fall. \\xa0And when they got there\\nthey bent over and looked in the coffin, and took one sight, and then\\nthey bust out a-crying so you could a heard them to Orleans, most; and\\nthen they put their arms around each other’s necks, and hung their chins\\nover each other’s shoulders; and then for three minutes, or maybe four,\\nI never see two men leak the way they done. \\xa0And, mind you, everybody\\nwas doing the same; and the place was that damp I never see anything\\nlike it. Then one of them got on one side of the coffin, and t’other on\\nt’other side, and they kneeled down and rested their foreheads on the\\ncoffin, and let on to pray all to themselves. \\xa0Well, when it come\\nto that it worked the crowd like you never see anything like it, and\\neverybody broke down and went to sobbing right out loud--the poor girls,\\ntoo; and every woman, nearly, went up to the girls, without saying a\\nword, and kissed them, solemn, on the forehead, and then put their hand\\non their head, and looked up towards the sky, with the tears running\\ndown, and then busted out and went off sobbing and swabbing, and give\\nthe next woman a show. \\xa0I never see anything so disgusting.\\n\\nWell, by and by the king he gets up and comes forward a little, and\\nworks himself up and slobbers out a speech, all full of tears and\\nflapdoodle about its being a sore trial for him and his poor brother\\nto lose the diseased, and to miss seeing diseased alive after the long\\njourney of four thousand mile, but it’s a trial that’s sweetened and\\nsanctified to us by this dear sympathy and these holy tears, and so he\\nthanks them out of his heart and out of his brother’s heart, because out\\nof their mouths they can’t, words being too weak and cold, and all that\\nkind of rot and slush, till it was just sickening; and then he blubbers\\nout a pious goody-goody Amen, and turns himself loose and goes to crying\\nfit to bust.\\n\\nAnd the minute the words were out of his mouth somebody over in the\\ncrowd struck up the doxolojer, and everybody joined in with all their\\nmight, and it just warmed you up and made you feel as good as church\\nletting out. Music is a good thing; and after all that soul-butter and\\nhogwash I never see it freshen up things so, and sound so honest and\\nbully.\\n\\nThen the king begins to work his jaw again, and says how him and his\\nnieces would be glad if a few of the main principal friends of the\\nfamily would take supper here with them this evening, and help set up\\nwith the ashes of the diseased; and says if his poor brother laying\\nyonder could speak he knows who he would name, for they was names that\\nwas very dear to him, and mentioned often in his letters; and so he will\\nname the same, to wit, as follows, vizz.:--Rev. Mr. Hobson, and Deacon\\nLot Hovey, and Mr. Ben Rucker, and Abner Shackleford, and Levi Bell, and\\nDr. Robinson, and their wives, and the widow Bartley.\\n\\nRev. Hobson and Dr. Robinson was down to the end of the town a-hunting\\ntogether--that is, I mean the doctor was shipping a sick man to t’other\\nworld, and the preacher was pinting him right. \\xa0Lawyer Bell was away up\\nto Louisville on business. \\xa0But the rest was on hand, and so they all\\ncome and shook hands with the king and thanked him and talked to him;\\nand then they shook hands with the duke and didn’t say nothing, but just\\nkept a-smiling and bobbing their heads like a passel of sapheads whilst\\nhe made all sorts of signs with his hands and said “Goo-goo--goo-goo-goo”\\n all the time, like a baby that can’t talk.\\n\\nSo the king he blattered along, and managed to inquire about pretty\\nmuch everybody and dog in town, by his name, and mentioned all sorts\\nof little things that happened one time or another in the town, or to\\nGeorge’s family, or to Peter. \\xa0And he always let on that Peter wrote him\\nthe things; but that was a lie: \\xa0he got every blessed one of them out of\\nthat young flathead that we canoed up to the steamboat.\\n\\nThen Mary Jane she fetched the letter her father left behind, and the\\nking he read it out loud and cried over it. \\xa0It give the dwelling-house\\nand three thousand dollars, gold, to the girls; and it give the tanyard\\n(which was doing a good business), along with some other houses and\\nland (worth about seven thousand), and three thousand dollars in gold\\nto Harvey and William, and told where the six thousand cash was hid down\\ncellar. \\xa0So these two frauds said they’d go and fetch it up, and have\\neverything square and above-board; and told me to come with a candle.\\n\\xa0We shut the cellar door behind us, and when they found the bag\\nthey spilt it out on the floor, and it was a lovely sight, all them\\nyaller-boys. \\xa0My, the way the king’s eyes did shine! \\xa0He slaps the duke\\non the shoulder and says:\\n\\n“Oh, _this_ ain’t bully nor noth’n! \\xa0Oh, no, I reckon not! \\xa0Why,\\n_bully_, it beats the Nonesuch, _don’t_ it?”\\n\\nThe duke allowed it did. \\xa0They pawed the yaller-boys, and sifted them\\nthrough their fingers and let them jingle down on the floor; and the\\nking says:\\n\\n“It ain’t no use talkin’; bein’ brothers to a rich dead man and\\nrepresentatives of furrin heirs that’s got left is the line for you and\\nme, Bilge. \\xa0Thish yer comes of trust’n to Providence. \\xa0It’s the best\\nway, in the long run. \\xa0I’ve tried ‘em all, and ther’ ain’t no better\\nway.”\\n\\nMost everybody would a been satisfied with the pile, and took it on\\ntrust; but no, they must count it. \\xa0So they counts it, and it comes out\\nfour hundred and fifteen dollars short. \\xa0Says the king:\\n\\n“Dern him, I wonder what he done with that four hundred and fifteen\\ndollars?”\\n\\nThey worried over that awhile, and ransacked all around for it. \\xa0Then\\nthe duke says:\\n\\n“Well, he was a pretty sick man, and likely he made a mistake--I reckon\\nthat’s the way of it. \\xa0The best way’s to let it go, and keep still about\\nit. \\xa0We can spare it.”\\n\\n“Oh, shucks, yes, we can _spare_ it. \\xa0I don’t k’yer noth’n ‘bout\\nthat--it’s the _count_ I’m thinkin’ about. \\xa0We want to be awful square\\nand open and above-board here, you know. \\xa0We want to lug this h-yer\\nmoney up stairs and count it before everybody--then ther’ ain’t noth’n\\nsuspicious. \\xa0But when the dead man says ther’s six thous’n dollars, you\\nknow, we don’t want to--”\\n\\n“Hold on,” says the duke.  “Le’s make up the deffisit,” and he begun to\\nhaul out yaller-boys out of his pocket.\\n\\n“It’s a most amaz’n’ good idea, duke--you _have_ got a rattlin’ clever\\nhead on you,” says the king.  “Blest if the old Nonesuch ain’t a heppin’\\nus out agin,” and _he_ begun to haul out yaller-jackets and stack them\\nup.\\n\\nIt most busted them, but they made up the six thousand clean and clear.\\n\\n“Say,” says the duke, “I got another idea. \\xa0Le’s go up stairs and count\\nthis money, and then take and _give it to the girls_.”\\n\\n“Good land, duke, lemme hug you! \\xa0It’s the most dazzling idea ‘at ever a\\nman struck. \\xa0You have cert’nly got the most astonishin’ head I ever see.\\nOh, this is the boss dodge, ther’ ain’t no mistake ‘bout it. \\xa0Let ‘em\\nfetch along their suspicions now if they want to--this ‘ll lay ‘em out.”\\n\\nWhen we got up-stairs everybody gethered around the table, and the king\\nhe counted it and stacked it up, three hundred dollars in a pile--twenty\\nelegant little piles. \\xa0Everybody looked hungry at it, and licked their\\nchops. \\xa0Then they raked it into the bag again, and I see the king begin\\nto swell himself up for another speech. \\xa0He says:\\n\\n“Friends all, my poor brother that lays yonder has done generous by\\nthem that’s left behind in the vale of sorrers. \\xa0He has done generous by\\nthese yer poor little lambs that he loved and sheltered, and that’s left\\nfatherless and motherless. \\xa0Yes, and we that knowed him knows that he\\nwould a done _more_ generous by ‘em if he hadn’t ben afeard o’ woundin’\\nhis dear William and me. \\xa0Now, _wouldn’t_ he? \\xa0Ther’ ain’t no question\\n‘bout it in _my_ mind. \\xa0Well, then, what kind o’ brothers would it be\\nthat ‘d stand in his way at sech a time? \\xa0And what kind o’ uncles would\\nit be that ‘d rob--yes, _rob_--sech poor sweet lambs as these ‘at he loved\\nso at sech a time? \\xa0If I know William--and I _think_ I do--he--well, I’ll\\njest ask him.” He turns around and begins to make a lot of signs to\\nthe duke with his hands, and the duke he looks at him stupid and\\nleather-headed a while; then all of a sudden he seems to catch his\\nmeaning, and jumps for the king, goo-gooing with all his might for joy,\\nand hugs him about fifteen times before he lets up. \\xa0Then the king says,\\n“I knowed it; I reckon _that ‘ll_ convince anybody the way _he_ feels\\nabout it. \\xa0Here, Mary Jane, Susan, Joanner, take the money--take it\\n_all_. \\xa0It’s the gift of him that lays yonder, cold but joyful.”\\n\\nMary Jane she went for him, Susan and the hare-lip went for the\\nduke, and then such another hugging and kissing I never see yet. \\xa0And\\neverybody crowded up with the tears in their eyes, and most shook the\\nhands off of them frauds, saying all the time:\\n\\n“You _dear_ good souls!--how _lovely_!--how _could_ you!”\\n\\nWell, then, pretty soon all hands got to talking about the diseased\\nagain, and how good he was, and what a loss he was, and all that; and\\nbefore long a big iron-jawed man worked himself in there from outside,\\nand stood a-listening and looking, and not saying anything; and nobody\\nsaying anything to him either, because the king was talking and they was\\nall busy listening. \\xa0The king was saying--in the middle of something he’d\\nstarted in on--\\n\\n“--they bein’ partickler friends o’ the diseased. \\xa0That’s why they’re\\ninvited here this evenin’; but tomorrow we want _all_ to come--everybody;\\nfor he respected everybody, he liked everybody, and so it’s fitten that\\nhis funeral orgies sh’d be public.”\\n\\nAnd so he went a-mooning on and on, liking to hear himself talk, and\\nevery little while he fetched in his funeral orgies again, till the duke\\nhe couldn’t stand it no more; so he writes on a little scrap of paper,\\n“_Obsequies_, you old fool,” and folds it up, and goes to goo-gooing and\\nreaching it over people’s heads to him. \\xa0The king he reads it and puts\\nit in his pocket, and says:\\n\\n“Poor William, afflicted as he is, his _heart’s_ aluz right. \\xa0Asks me\\nto invite everybody to come to the funeral--wants me to make ‘em all\\nwelcome. \\xa0But he needn’t a worried--it was jest what I was at.”\\n\\nThen he weaves along again, perfectly ca’m, and goes to dropping in his\\nfuneral orgies again every now and then, just like he done before. \\xa0And\\nwhen he done it the third time he says:\\n\\n“I say orgies, not because it’s the common term, because it\\nain’t--obsequies bein’ the common term--but because orgies is the right\\nterm. Obsequies ain’t used in England no more now--it’s gone out. \\xa0We\\nsay orgies now in England. \\xa0Orgies is better, because it means the thing\\nyou’re after more exact. \\xa0It’s a word that’s made up out’n the Greek\\n_orgo_, outside, open, abroad; and the Hebrew _jeesum_, to plant, cover\\nup; hence in_ter._ \\xa0So, you see, funeral orgies is an open er public\\nfuneral.”\\n\\nHe was the _worst_ I ever struck. \\xa0Well, the iron-jawed man he laughed\\nright in his face. \\xa0Everybody was shocked. \\xa0Everybody says, “Why,\\n_doctor_!” and Abner Shackleford says:\\n\\n“Why, Robinson, hain’t you heard the news? \\xa0This is Harvey Wilks.”\\n\\nThe king he smiled eager, and shoved out his flapper, and says:\\n\\n“Is it my poor brother’s dear good friend and physician? \\xa0I--”\\n\\n“Keep your hands off of me!” says the doctor.  “_You_ talk like an\\nEnglishman, _don’t_ you? \\xa0It’s the worst imitation I ever heard. \\xa0_You_\\nPeter Wilks’s brother! \\xa0You’re a fraud, that’s what you are!”\\n\\nWell, how they all took on! \\xa0They crowded around the doctor and tried to\\nquiet him down, and tried to explain to him and tell him how Harvey ‘d\\nshowed in forty ways that he _was_ Harvey, and knowed everybody by name,\\nand the names of the very dogs, and begged and _begged_ him not to hurt\\nHarvey’s feelings and the poor girl’s feelings, and all that. \\xa0But it\\nwarn’t no use; he stormed right along, and said any man that pretended\\nto be an Englishman and couldn’t imitate the lingo no better than what\\nhe did was a fraud and a liar. \\xa0The poor girls was hanging to the king\\nand crying; and all of a sudden the doctor ups and turns on _them_. \\xa0He\\nsays:\\n\\n“I was your father’s friend, and I’m your friend; and I warn you as a\\nfriend, and an honest one that wants to protect you and keep you out of\\nharm and trouble, to turn your backs on that scoundrel and have nothing\\nto do with him, the ignorant tramp, with his idiotic Greek and Hebrew,\\nas he calls it. \\xa0He is the thinnest kind of an impostor--has come here\\nwith a lot of empty names and facts which he picked up somewheres, and\\nyou take them for _proofs_, and are helped to fool yourselves by these\\nfoolish friends here, who ought to know better. \\xa0Mary Jane Wilks, you\\nknow me for your friend, and for your unselfish friend, too. \\xa0Now listen\\nto me; turn this pitiful rascal out--I _beg_ you to do it. \\xa0Will you?”\\n\\nMary Jane straightened herself up, and my, but she was handsome! \\xa0She\\nsays:\\n\\n“_Here_ is my answer.” \\xa0She hove up the bag of money and put it in the\\nking’s hands, and says, “Take this six thousand dollars, and invest for\\nme and my sisters any way you want to, and don’t give us no receipt for\\nit.”\\n\\nThen she put her arm around the king on one side, and Susan and the\\nhare-lip done the same on the other. \\xa0Everybody clapped their hands and\\nstomped on the floor like a perfect storm, whilst the king held up his\\nhead and smiled proud. \\xa0The doctor says:\\n\\n“All right; I wash _my_ hands of the matter. \\xa0But I warn you all that a\\ntime ‘s coming when you’re going to feel sick whenever you think of this\\nday.” And away he went.\\n\\n“All right, doctor,” says the king, kinder mocking him; “we’ll try and\\nget ‘em to send for you;” which made them all laugh, and they said it\\nwas a prime good hit.\\n\\n\\n\\n\\nCHAPTER XXVI.\\n\\nWELL, when they was all gone the king he asks Mary Jane how they was off\\nfor spare rooms, and she said she had one spare room, which would do for\\nUncle William, and she’d give her own room to Uncle Harvey, which was\\na little bigger, and she would turn into the room with her sisters and\\nsleep on a cot; and up garret was a little cubby, with a pallet in it.\\nThe king said the cubby would do for his valley--meaning me.\\n\\nSo Mary Jane took us up, and she showed them their rooms, which was\\nplain but nice. \\xa0She said she’d have her frocks and a lot of other traps\\ntook out of her room if they was in Uncle Harvey’s way, but he said\\nthey warn’t. \\xa0The frocks was hung along the wall, and before them was\\na curtain made out of calico that hung down to the floor. \\xa0There was an\\nold hair trunk in one corner, and a guitar-box in another, and all sorts\\nof little knickknacks and jimcracks around, like girls brisken up a room\\nwith. \\xa0The king said it was all the more homely and more pleasanter for\\nthese fixings, and so don’t disturb them. \\xa0The duke’s room was pretty\\nsmall, but plenty good enough, and so was my cubby.\\n\\nThat night they had a big supper, and all them men and women was there,\\nand I stood behind the king and the duke’s chairs and waited on them,\\nand the niggers waited on the rest. \\xa0Mary Jane she set at the head of\\nthe table, with Susan alongside of her, and said how bad the biscuits\\nwas, and how mean the preserves was, and how ornery and tough the fried\\nchickens was--and all that kind of rot, the way women always do for to\\nforce out compliments; and the people all knowed everything was tiptop,\\nand said so--said “How _do_ you get biscuits to brown so nice?” and\\n“Where, for the land’s sake, _did_ you get these amaz’n pickles?” and\\nall that kind of humbug talky-talk, just the way people always does at a\\nsupper, you know.\\n\\nAnd when it was all done me and the hare-lip had supper in the kitchen\\noff of the leavings, whilst the others was helping the niggers clean up\\nthe things. \\xa0The hare-lip she got to pumping me about England, and blest\\nif I didn’t think the ice was getting mighty thin sometimes. \\xa0She says:\\n\\n“Did you ever see the king?”\\n\\n“Who? \\xa0William Fourth? \\xa0Well, I bet I have--he goes to our church.” \\xa0I\\nknowed he was dead years ago, but I never let on. \\xa0So when I says he\\ngoes to our church, she says:\\n\\n“What--regular?”\\n\\n“Yes--regular. \\xa0His pew’s right over opposite ourn--on t’other side the\\npulpit.”\\n\\n“I thought he lived in London?”\\n\\n“Well, he does. \\xa0Where _would_ he live?”\\n\\n“But I thought _you_ lived in Sheffield?”\\n\\nI see I was up a stump. \\xa0I had to let on to get choked with a chicken\\nbone, so as to get time to think how to get down again. \\xa0Then I says:\\n\\n“I mean he goes to our church regular when he’s in Sheffield. \\xa0That’s\\nonly in the summer time, when he comes there to take the sea baths.”\\n\\n“Why, how you talk--Sheffield ain’t on the sea.”\\n\\n“Well, who said it was?”\\n\\n“Why, you did.”\\n\\n“I _didn’t_ nuther.”\\n\\n“You did!”\\n\\n“I didn’t.”\\n\\n“You did.”\\n\\n“I never said nothing of the kind.”\\n\\n“Well, what _did_ you say, then?”\\n\\n“Said he come to take the sea _baths_--that’s what I said.”\\n\\n“Well, then, how’s he going to take the sea baths if it ain’t on the\\nsea?”\\n\\n“Looky here,” I says; “did you ever see any Congress-water?”\\n\\n“Yes.”\\n\\n“Well, did you have to go to Congress to get it?”\\n\\n“Why, no.”\\n\\n“Well, neither does William Fourth have to go to the sea to get a sea\\nbath.”\\n\\n“How does he get it, then?”\\n\\n“Gets it the way people down here gets Congress-water--in barrels. \\xa0There\\nin the palace at Sheffield they’ve got furnaces, and he wants his water\\nhot. \\xa0They can’t bile that amount of water away off there at the sea.\\nThey haven’t got no conveniences for it.”\\n\\n“Oh, I see, now. \\xa0You might a said that in the first place and saved\\ntime.”\\n\\nWhen she said that I see I was out of the woods again, and so I was\\ncomfortable and glad. \\xa0Next, she says:\\n\\n“Do you go to church, too?”\\n\\n“Yes--regular.”\\n\\n“Where do you set?”\\n\\n“Why, in our pew.”\\n\\n“_Whose_ pew?”\\n\\n“Why, _ourn_--your Uncle Harvey’s.”\\n\\n“His’n? \\xa0What does _he_ want with a pew?”\\n\\n“Wants it to set in. \\xa0What did you _reckon_ he wanted with it?”\\n\\n“Why, I thought he’d be in the pulpit.”\\n\\nRot him, I forgot he was a preacher. \\xa0I see I was up a stump again, so I\\nplayed another chicken bone and got another think. \\xa0Then I says:\\n\\n“Blame it, do you suppose there ain’t but one preacher to a church?”\\n\\n“Why, what do they want with more?”\\n\\n“What!--to preach before a king? \\xa0I never did see such a girl as you.\\nThey don’t have no less than seventeen.”\\n\\n“Seventeen! \\xa0My land! \\xa0Why, I wouldn’t set out such a string as that,\\nnot if I _never_ got to glory. \\xa0It must take ‘em a week.”\\n\\n“Shucks, they don’t _all_ of ‘em preach the same day--only _one_ of ‘em.”\\n\\n“Well, then, what does the rest of ‘em do?”\\n\\n“Oh, nothing much. \\xa0Loll around, pass the plate--and one thing or\\nanother. \\xa0But mainly they don’t do nothing.”\\n\\n“Well, then, what are they _for_?”\\n\\n“Why, they’re for _style_. \\xa0Don’t you know nothing?”\\n\\n“Well, I don’t _want_ to know no such foolishness as that. \\xa0How is\\nservants treated in England? \\xa0Do they treat ‘em better ‘n we treat our\\nniggers?”\\n\\n“_No_! \\xa0A servant ain’t nobody there. \\xa0They treat them worse than dogs.”\\n\\n“Don’t they give ‘em holidays, the way we do, Christmas and New Year’s\\nweek, and Fourth of July?”\\n\\n“Oh, just listen! \\xa0A body could tell _you_ hain’t ever been to England\\nby that. \\xa0Why, Hare-l--why, Joanna, they never see a holiday from year’s\\nend to year’s end; never go to the circus, nor theater, nor nigger\\nshows, nor nowheres.”\\n\\n“Nor church?”\\n\\n“Nor church.”\\n\\n“But _you_ always went to church.”\\n\\nWell, I was gone up again. \\xa0I forgot I was the old man’s servant. \\xa0But\\nnext minute I whirled in on a kind of an explanation how a valley was\\ndifferent from a common servant and _had_ to go to church whether he\\nwanted to or not, and set with the family, on account of its being the\\nlaw. \\xa0But I didn’t do it pretty good, and when I got done I see she\\nwarn’t satisfied. \\xa0She says:\\n\\n“Honest injun, now, hain’t you been telling me a lot of lies?”\\n\\n“Honest injun,” says I.\\n\\n“None of it at all?”\\n\\n“None of it at all. \\xa0Not a lie in it,” says I.\\n\\n“Lay your hand on this book and say it.”\\n\\nI see it warn’t nothing but a dictionary, so I laid my hand on it and\\nsaid it. \\xa0So then she looked a little better satisfied, and says:\\n\\n“Well, then, I’ll believe some of it; but I hope to gracious if I’ll\\nbelieve the rest.”\\n\\n“What is it you won’t believe, Joe?” says Mary Jane, stepping in with\\nSusan behind her.  “It ain’t right nor kind for you to talk so to him,\\nand him a stranger and so far from his people. \\xa0How would you like to be\\ntreated so?”\\n\\n“That’s always your way, Maim--always sailing in to help somebody before\\nthey’re hurt. \\xa0I hain’t done nothing to him. \\xa0He’s told some stretchers,\\nI reckon, and I said I wouldn’t swallow it all; and that’s every bit\\nand grain I _did_ say. \\xa0I reckon he can stand a little thing like that,\\ncan’t he?”\\n\\n“I don’t care whether ‘twas little or whether ‘twas big; he’s here in\\nour house and a stranger, and it wasn’t good of you to say it. \\xa0If you\\nwas in his place it would make you feel ashamed; and so you oughtn’t to\\nsay a thing to another person that will make _them_ feel ashamed.”\\n\\n“Why, Mam, he said--”\\n\\n“It don’t make no difference what he _said_--that ain’t the thing. \\xa0The\\nthing is for you to treat him _kind_, and not be saying things to make\\nhim remember he ain’t in his own country and amongst his own folks.”\\n\\nI says to myself, _this_ is a girl that I’m letting that old reptile rob\\nher of her money!\\n\\nThen Susan _she_ waltzed in; and if you’ll believe me, she did give\\nHare-lip hark from the tomb!\\n\\nSays I to myself, and this is _another_ one that I’m letting him rob her\\nof her money!\\n\\nThen Mary Jane she took another inning, and went in sweet and lovely\\nagain--which was her way; but when she got done there warn’t hardly\\nanything left o’ poor Hare-lip. \\xa0So she hollered.\\n\\n“All right, then,” says the other girls; “you just ask his pardon.”\\n\\nShe done it, too; and she done it beautiful. \\xa0She done it so beautiful\\nit was good to hear; and I wished I could tell her a thousand lies, so\\nshe could do it again.\\n\\nI says to myself, this is _another_ one that I’m letting him rob her of\\nher money. \\xa0And when she got through they all jest laid theirselves\\nout to make me feel at home and know I was amongst friends. \\xa0I felt so\\nornery and low down and mean that I says to myself, my mind’s made up;\\nI’ll hive that money for them or bust.\\n\\nSo then I lit out--for bed, I said, meaning some time or another. \\xa0When\\nI got by myself I went to thinking the thing over. \\xa0I says to myself,\\nshall I go to that doctor, private, and blow on these frauds? \\xa0No--that\\nwon’t do. He might tell who told him; then the king and the duke would\\nmake it warm for me. \\xa0Shall I go, private, and tell Mary Jane? \\xa0No--I\\ndasn’t do it. Her face would give them a hint, sure; they’ve got the\\nmoney, and they’d slide right out and get away with it. \\xa0If she was to\\nfetch in help I’d get mixed up in the business before it was done with,\\nI judge. \\xa0No; there ain’t no good way but one. \\xa0I got to steal that\\nmoney, somehow; and I got to steal it some way that they won’t suspicion\\nthat I done it. They’ve got a good thing here, and they ain’t a-going\\nto leave till they’ve played this family and this town for all they’re\\nworth, so I’ll find a chance time enough. I’ll steal it and hide it; and\\nby and by, when I’m away down the river, I’ll write a letter and tell\\nMary Jane where it’s hid. \\xa0But I better hive it tonight if I can,\\nbecause the doctor maybe hasn’t let up as much as he lets on he has; he\\nmight scare them out of here yet.\\n\\nSo, thinks I, I’ll go and search them rooms. \\xa0Upstairs the hall was\\ndark, but I found the duke’s room, and started to paw around it with\\nmy hands; but I recollected it wouldn’t be much like the king to let\\nanybody else take care of that money but his own self; so then I went to\\nhis room and begun to paw around there. \\xa0But I see I couldn’t do nothing\\nwithout a candle, and I dasn’t light one, of course. \\xa0So I judged I’d\\ngot to do the other thing--lay for them and eavesdrop. \\xa0About that time\\nI hears their footsteps coming, and was going to skip under the bed; I\\nreached for it, but it wasn’t where I thought it would be; but I touched\\nthe curtain that hid Mary Jane’s frocks, so I jumped in behind that and\\nsnuggled in amongst the gowns, and stood there perfectly still.\\n\\nThey come in and shut the door; and the first thing the duke done was to\\nget down and look under the bed. \\xa0Then I was glad I hadn’t found the bed\\nwhen I wanted it. \\xa0And yet, you know, it’s kind of natural to hide under\\nthe bed when you are up to anything private. \\xa0They sets down then, and\\nthe king says:\\n\\n“Well, what is it? \\xa0And cut it middlin’ short, because it’s better for\\nus to be down there a-whoopin’ up the mournin’ than up here givin’ ‘em a\\nchance to talk us over.”\\n\\n“Well, this is it, Capet. \\xa0I ain’t easy; I ain’t comfortable. \\xa0That\\ndoctor lays on my mind. \\xa0I wanted to know your plans. \\xa0I’ve got a\\nnotion, and I think it’s a sound one.”\\n\\n“What is it, duke?”\\n\\n“That we better glide out of this before three in the morning, and clip\\nit down the river with what we’ve got. \\xa0Specially, seeing we got it so\\neasy--_given_ back to us, flung at our heads, as you may say, when of\\ncourse we allowed to have to steal it back. \\xa0I’m for knocking off and\\nlighting out.”\\n\\nThat made me feel pretty bad. \\xa0About an hour or two ago it would a been\\na little different, but now it made me feel bad and disappointed, The\\nking rips out and says:\\n\\n“What! \\xa0And not sell out the rest o’ the property? \\xa0March off like\\na passel of fools and leave eight or nine thous’n’ dollars’ worth o’\\nproperty layin’ around jest sufferin’ to be scooped in?--and all good,\\nsalable stuff, too.”\\n\\nThe duke he grumbled; said the bag of gold was enough, and he didn’t\\nwant to go no deeper--didn’t want to rob a lot of orphans of _everything_\\nthey had.\\n\\n“Why, how you talk!” says the king.  “We sha’n’t rob ‘em of nothing at\\nall but jest this money. \\xa0The people that _buys_ the property is the\\nsuff’rers; because as soon ‘s it’s found out ‘at we didn’t own it--which\\nwon’t be long after we’ve slid--the sale won’t be valid, and it ‘ll all\\ngo back to the estate. \\xa0These yer orphans ‘ll git their house back agin,\\nand that’s enough for _them_; they’re young and spry, and k’n easy\\nearn a livin’. \\xa0_they_ ain’t a-goin to suffer. \\xa0Why, jest think--there’s\\nthous’n’s and thous’n’s that ain’t nigh so well off. \\xa0Bless you, _they_\\nain’t got noth’n’ to complain of.”\\n\\nWell, the king he talked him blind; so at last he give in, and said all\\nright, but said he believed it was blamed foolishness to stay, and that\\ndoctor hanging over them. \\xa0But the king says:\\n\\n“Cuss the doctor! \\xa0What do we k’yer for _him_? \\xa0Hain’t we got all the\\nfools in town on our side? \\xa0And ain’t that a big enough majority in any\\ntown?”\\n\\nSo they got ready to go down stairs again. \\xa0The duke says:\\n\\n“I don’t think we put that money in a good place.”\\n\\nThat cheered me up. \\xa0I’d begun to think I warn’t going to get a hint of\\nno kind to help me. \\xa0The king says:\\n\\n“Why?”\\n\\n“Because Mary Jane ‘ll be in mourning from this out; and first you know\\nthe nigger that does up the rooms will get an order to box these duds\\nup and put ‘em away; and do you reckon a nigger can run across money and\\nnot borrow some of it?”\\n\\n“Your head’s level agin, duke,” says the king; and he comes a-fumbling\\nunder the curtain two or three foot from where I was. \\xa0I stuck tight to\\nthe wall and kept mighty still, though quivery; and I wondered what them\\nfellows would say to me if they catched me; and I tried to think what\\nI’d better do if they did catch me. \\xa0But the king he got the bag before\\nI could think more than about a half a thought, and he never suspicioned\\nI was around. \\xa0They took and shoved the bag through a rip in the straw\\ntick that was under the feather-bed, and crammed it in a foot or two\\namongst the straw and said it was all right now, because a nigger only\\nmakes up the feather-bed, and don’t turn over the straw tick only about\\ntwice a year, and so it warn’t in no danger of getting stole now.\\n\\nBut I knowed better. \\xa0I had it out of there before they was half-way\\ndown stairs. \\xa0I groped along up to my cubby, and hid it there till I\\ncould get a chance to do better. \\xa0I judged I better hide it outside\\nof the house somewheres, because if they missed it they would give the\\nhouse a good ransacking: \\xa0I knowed that very well. \\xa0Then I turned in,\\nwith my clothes all on; but I couldn’t a gone to sleep if I’d a wanted\\nto, I was in such a sweat to get through with the business. \\xa0By and by I\\nheard the king and the duke come up; so I rolled off my pallet and laid\\nwith my chin at the top of my ladder, and waited to see if anything was\\ngoing to happen. \\xa0But nothing did.\\n\\nSo I held on till all the late sounds had quit and the early ones hadn’t\\nbegun yet; and then I slipped down the ladder.\\n\\n\\n\\n\\nCHAPTER XXVII.\\n\\nI crept to their doors and listened; they was snoring. \\xa0So I tiptoed\\nalong, and got down stairs all right. \\xa0There warn’t a sound anywheres.\\n\\xa0I peeped through a crack of the dining-room door, and see the men that\\nwas watching the corpse all sound asleep on their chairs. \\xa0The door\\nwas open into the parlor, where the corpse was laying, and there was a\\ncandle in both rooms. I passed along, and the parlor door was open; but\\nI see there warn’t nobody in there but the remainders of Peter; so I\\nshoved on by; but the front door was locked, and the key wasn’t there.\\n\\xa0Just then I heard somebody coming down the stairs, back behind me. \\xa0I\\nrun in the parlor and took a swift look around, and the only place I\\nsee to hide the bag was in the coffin. \\xa0The lid was shoved along about\\na foot, showing the dead man’s face down in there, with a wet cloth over\\nit, and his shroud on. \\xa0I tucked the money-bag in under the lid, just\\ndown beyond where his hands was crossed, which made me creep, they was\\nso cold, and then I run back across the room and in behind the door.\\n\\nThe person coming was Mary Jane. \\xa0She went to the coffin, very soft, and\\nkneeled down and looked in; then she put up her handkerchief, and I see\\nshe begun to cry, though I couldn’t hear her, and her back was to me. \\xa0I\\nslid out, and as I passed the dining-room I thought I’d make sure them\\nwatchers hadn’t seen me; so I looked through the crack, and everything\\nwas all right. \\xa0They hadn’t stirred.\\n\\nI slipped up to bed, feeling ruther blue, on accounts of the thing\\nplaying out that way after I had took so much trouble and run so much\\nresk about it. \\xa0Says I, if it could stay where it is, all right; because\\nwhen we get down the river a hundred mile or two I could write back to\\nMary Jane, and she could dig him up again and get it; but that ain’t the\\nthing that’s going to happen; the thing that’s going to happen is, the\\nmoney ‘ll be found when they come to screw on the lid. \\xa0Then the king\\n‘ll get it again, and it ‘ll be a long day before he gives anybody\\nanother chance to smouch it from him. Of course I _wanted_ to slide\\ndown and get it out of there, but I dasn’t try it. \\xa0Every minute it was\\ngetting earlier now, and pretty soon some of them watchers would begin\\nto stir, and I might get catched--catched with six thousand dollars in my\\nhands that nobody hadn’t hired me to take care of. \\xa0I don’t wish to be\\nmixed up in no such business as that, I says to myself.\\n\\nWhen I got down stairs in the morning the parlor was shut up, and the\\nwatchers was gone. \\xa0There warn’t nobody around but the family and the\\nwidow Bartley and our tribe. \\xa0I watched their faces to see if anything\\nhad been happening, but I couldn’t tell.\\n\\nTowards the middle of the day the undertaker come with his man, and they\\nset the coffin in the middle of the room on a couple of chairs, and then\\nset all our chairs in rows, and borrowed more from the neighbors till\\nthe hall and the parlor and the dining-room was full. \\xa0I see the coffin\\nlid was the way it was before, but I dasn’t go to look in under it, with\\nfolks around.\\n\\nThen the people begun to flock in, and the beats and the girls took\\nseats in the front row at the head of the coffin, and for a half an hour\\nthe people filed around slow, in single rank, and looked down at the\\ndead man’s face a minute, and some dropped in a tear, and it was\\nall very still and solemn, only the girls and the beats holding\\nhandkerchiefs to their eyes and keeping their heads bent, and sobbing a\\nlittle. \\xa0There warn’t no other sound but the scraping of the feet on\\nthe floor and blowing noses--because people always blows them more at a\\nfuneral than they do at other places except church.\\n\\nWhen the place was packed full the undertaker he slid around in his\\nblack gloves with his softy soothering ways, putting on the last\\ntouches, and getting people and things all ship-shape and comfortable,\\nand making no more sound than a cat. \\xa0He never spoke; he moved people\\naround, he squeezed in late ones, he opened up passageways, and done\\nit with nods, and signs with his hands. \\xa0Then he took his place over\\nagainst the wall. He was the softest, glidingest, stealthiest man I ever\\nsee; and there warn’t no more smile to him than there is to a ham.\\n\\nThey had borrowed a melodeum--a sick one; and when everything was ready\\na young woman set down and worked it, and it was pretty skreeky and\\ncolicky, and everybody joined in and sung, and Peter was the only one\\nthat had a good thing, according to my notion. \\xa0Then the Reverend Hobson\\nopened up, slow and solemn, and begun to talk; and straight off the most\\noutrageous row busted out in the cellar a body ever heard; it was only\\none dog, but he made a most powerful racket, and he kept it up right\\nalong; the parson he had to stand there, over the coffin, and wait--you\\ncouldn’t hear yourself think. \\xa0It was right down awkward, and nobody\\ndidn’t seem to know what to do. \\xa0But pretty soon they see that\\nlong-legged undertaker make a sign to the preacher as much as to say,\\n“Don’t you worry--just depend on me.” \\xa0Then he stooped down and begun\\nto glide along the wall, just his shoulders showing over the people’s\\nheads. \\xa0So he glided along, and the powwow and racket getting more and\\nmore outrageous all the time; and at last, when he had gone around two\\nsides of the room, he disappears down cellar. \\xa0Then in about two seconds\\nwe heard a whack, and the dog he finished up with a most amazing howl or\\ntwo, and then everything was dead still, and the parson begun his solemn\\ntalk where he left off. \\xa0In a minute or two here comes this undertaker’s\\nback and shoulders gliding along the wall again; and so he glided and\\nglided around three sides of the room, and then rose up, and shaded his\\nmouth with his hands, and stretched his neck out towards the preacher,\\nover the people’s heads, and says, in a kind of a coarse whisper, “_He\\nhad a rat_!” \\xa0Then he drooped down and glided along the wall again to\\nhis place. \\xa0You could see it was a great satisfaction to the people,\\nbecause naturally they wanted to know. \\xa0A little thing like that don’t\\ncost nothing, and it’s just the little things that makes a man to be\\nlooked up to and liked. \\xa0There warn’t no more popular man in town than\\nwhat that undertaker was.\\n\\nWell, the funeral sermon was very good, but pison long and tiresome; and\\nthen the king he shoved in and got off some of his usual rubbage, and\\nat last the job was through, and the undertaker begun to sneak up on the\\ncoffin with his screw-driver. \\xa0I was in a sweat then, and watched him\\npretty keen. But he never meddled at all; just slid the lid along as\\nsoft as mush, and screwed it down tight and fast. \\xa0So there I was! \\xa0I\\ndidn’t know whether the money was in there or not. \\xa0So, says I, s’pose\\nsomebody has hogged that bag on the sly?--now how do I know whether\\nto write to Mary Jane or not? S’pose she dug him up and didn’t find\\nnothing, what would she think of me? Blame it, I says, I might get\\nhunted up and jailed; I’d better lay low and keep dark, and not write at\\nall; the thing’s awful mixed now; trying to better it, I’ve worsened it\\na hundred times, and I wish to goodness I’d just let it alone, dad fetch\\nthe whole business!\\n\\nThey buried him, and we come back home, and I went to watching faces\\nagain--I couldn’t help it, and I couldn’t rest easy. \\xa0But nothing come of\\nit; the faces didn’t tell me nothing.\\n\\nThe king he visited around in the evening, and sweetened everybody up,\\nand made himself ever so friendly; and he give out the idea that his\\ncongregation over in England would be in a sweat about him, so he must\\nhurry and settle up the estate right away and leave for home. \\xa0He was\\nvery sorry he was so pushed, and so was everybody; they wished he could\\nstay longer, but they said they could see it couldn’t be done. \\xa0And he\\nsaid of course him and William would take the girls home with them; and\\nthat pleased everybody too, because then the girls would be well fixed\\nand amongst their own relations; and it pleased the girls, too--tickled\\nthem so they clean forgot they ever had a trouble in the world; and told\\nhim to sell out as quick as he wanted to, they would be ready. \\xa0Them\\npoor things was that glad and happy it made my heart ache to see them\\ngetting fooled and lied to so, but I didn’t see no safe way for me to\\nchip in and change the general tune.\\n\\nWell, blamed if the king didn’t bill the house and the niggers and all\\nthe property for auction straight off--sale two days after the funeral;\\nbut anybody could buy private beforehand if they wanted to.\\n\\nSo the next day after the funeral, along about noon-time, the girls’ joy\\ngot the first jolt. \\xa0A couple of nigger traders come along, and the king\\nsold them the niggers reasonable, for three-day drafts as they called\\nit, and away they went, the two sons up the river to Memphis, and their\\nmother down the river to Orleans. \\xa0I thought them poor girls and them\\nniggers would break their hearts for grief; they cried around each\\nother, and took on so it most made me down sick to see it. \\xa0The girls\\nsaid they hadn’t ever dreamed of seeing the family separated or sold\\naway from the town. \\xa0I can’t ever get it out of my memory, the sight of\\nthem poor miserable girls and niggers hanging around each other’s necks\\nand crying; and I reckon I couldn’t a stood it all, but would a had\\nto bust out and tell on our gang if I hadn’t knowed the sale warn’t no\\naccount and the niggers would be back home in a week or two.\\n\\nThe thing made a big stir in the town, too, and a good many come out\\nflatfooted and said it was scandalous to separate the mother and the\\nchildren that way. \\xa0It injured the frauds some; but the old fool he\\nbulled right along, spite of all the duke could say or do, and I tell\\nyou the duke was powerful uneasy.\\n\\nNext day was auction day. \\xa0About broad day in the morning the king and\\nthe duke come up in the garret and woke me up, and I see by their look\\nthat there was trouble. \\xa0The king says:\\n\\n“Was you in my room night before last?”\\n\\n“No, your majesty”--which was the way I always called him when nobody but\\nour gang warn’t around.\\n\\n“Was you in there yisterday er last night?”\\n\\n“No, your majesty.”\\n\\n“Honor bright, now--no lies.”\\n\\n“Honor bright, your majesty, I’m telling you the truth. \\xa0I hain’t been\\na-near your room since Miss Mary Jane took you and the duke and showed\\nit to you.”\\n\\nThe duke says:\\n\\n“Have you seen anybody else go in there?”\\n\\n“No, your grace, not as I remember, I believe.”\\n\\n“Stop and think.”\\n\\nI studied awhile and see my chance; then I says:\\n\\n“Well, I see the niggers go in there several times.”\\n\\nBoth of them gave a little jump, and looked like they hadn’t ever\\nexpected it, and then like they _had_. \\xa0Then the duke says:\\n\\n“What, all of them?”\\n\\n“No--leastways, not all at once--that is, I don’t think I ever see them\\nall come _out_ at once but just one time.”\\n\\n“Hello! \\xa0When was that?”\\n\\n“It was the day we had the funeral. \\xa0In the morning. \\xa0It warn’t early,\\nbecause I overslept. \\xa0I was just starting down the ladder, and I see\\nthem.”\\n\\n“Well, go on, _go_ on! \\xa0What did they do? \\xa0How’d they act?”\\n\\n“They didn’t do nothing. \\xa0And they didn’t act anyway much, as fur as I\\nsee. They tiptoed away; so I seen, easy enough, that they’d shoved in\\nthere to do up your majesty’s room, or something, s’posing you was up;\\nand found you _warn’t_ up, and so they was hoping to slide out of the\\nway of trouble without waking you up, if they hadn’t already waked you\\nup.”\\n\\n“Great guns, _this_ is a go!” says the king; and both of them looked\\npretty sick and tolerable silly. \\xa0They stood there a-thinking and\\nscratching their heads a minute, and the duke he bust into a kind of a\\nlittle raspy chuckle, and says:\\n\\n“It does beat all how neat the niggers played their hand. \\xa0They let on\\nto be _sorry_ they was going out of this region! \\xa0And I believed they\\n_was_ sorry, and so did you, and so did everybody. \\xa0Don’t ever tell _me_\\nany more that a nigger ain’t got any histrionic talent. \\xa0Why, the way\\nthey played that thing it would fool _anybody_. \\xa0In my opinion, there’s\\na fortune in ‘em. \\xa0If I had capital and a theater, I wouldn’t want a\\nbetter lay-out than that--and here we’ve gone and sold ‘em for a song.\\n\\xa0Yes, and ain’t privileged to sing the song yet. \\xa0Say, where _is_ that\\nsong--that draft?”\\n\\n“In the bank for to be collected. \\xa0Where _would_ it be?”\\n\\n“Well, _that’s_ all right then, thank goodness.”\\n\\nSays I, kind of timid-like:\\n\\n“Is something gone wrong?”\\n\\nThe king whirls on me and rips out:\\n\\n“None o’ your business! \\xa0You keep your head shet, and mind y’r own\\naffairs--if you got any. \\xa0Long as you’re in this town don’t you forgit\\n_that_--you hear?” \\xa0Then he says to the duke, “We got to jest swaller it\\nand say noth’n’: \\xa0mum’s the word for _us_.”\\n\\nAs they was starting down the ladder the duke he chuckles again, and\\nsays:\\n\\n“Quick sales _and_ small profits! \\xa0It’s a good business--yes.”\\n\\nThe king snarls around on him and says:\\n\\n“I was trying to do for the best in sellin’ ‘em out so quick. \\xa0If the\\nprofits has turned out to be none, lackin’ considable, and none to\\ncarry, is it my fault any more’n it’s yourn?”\\n\\n“Well, _they’d_ be in this house yet and we _wouldn’t_ if I could a got\\nmy advice listened to.”\\n\\nThe king sassed back as much as was safe for him, and then swapped\\naround and lit into _me_ again. \\xa0He give me down the banks for not\\ncoming and _telling_ him I see the niggers come out of his room acting\\nthat way--said any fool would a _knowed_ something was up. \\xa0And then\\nwaltzed in and cussed _himself_ awhile, and said it all come of him not\\nlaying late and taking his natural rest that morning, and he’d be\\nblamed if he’d ever do it again. \\xa0So they went off a-jawing; and I felt\\ndreadful glad I’d worked it all off on to the niggers, and yet hadn’t\\ndone the niggers no harm by it.\\n\\n\\n\\n\\nCHAPTER XXVIII.\\n\\nBY and by it was getting-up time. \\xa0So I come down the ladder and started\\nfor down-stairs; but as I come to the girls’ room the door was open, and\\nI see Mary Jane setting by her old hair trunk, which was open and she’d\\nbeen packing things in it--getting ready to go to England. \\xa0But she\\nhad stopped now with a folded gown in her lap, and had her face in her\\nhands, crying. \\xa0I felt awful bad to see it; of course anybody would. \\xa0I\\nwent in there and says:\\n\\n“Miss Mary Jane, you can’t a-bear to see people in trouble, and I\\ncan’t--most always. \\xa0Tell me about it.”\\n\\nSo she done it. \\xa0And it was the niggers--I just expected it. \\xa0She said\\nthe beautiful trip to England was most about spoiled for her; she didn’t\\nknow _how_ she was ever going to be happy there, knowing the mother and\\nthe children warn’t ever going to see each other no more--and then busted\\nout bitterer than ever, and flung up her hands, and says:\\n\\n“Oh, dear, dear, to think they ain’t _ever_ going to see each other any\\nmore!”\\n\\n“But they _will_--and inside of two weeks--and I _know_ it!” says I.\\n\\nLaws, it was out before I could think! \\xa0And before I could budge she\\nthrows her arms around my neck and told me to say it _again_, say it\\n_again_, say it _again_!\\n\\nI see I had spoke too sudden and said too much, and was in a close\\nplace. I asked her to let me think a minute; and she set there, very\\nimpatient and excited and handsome, but looking kind of happy and\\neased-up, like a person that’s had a tooth pulled out. \\xa0So I went to\\nstudying it out. \\xa0I says to myself, I reckon a body that ups and tells\\nthe truth when he is in a tight place is taking considerable many resks,\\nthough I ain’t had no experience, and can’t say for certain; but it\\nlooks so to me, anyway; and yet here’s a case where I’m blest if it\\ndon’t look to me like the truth is better and actuly _safer_ than a lie.\\n\\xa0I must lay it by in my mind, and think it over some time or other, it’s\\nso kind of strange and unregular. I never see nothing like it. \\xa0Well, I\\nsays to myself at last, I’m a-going to chance it; I’ll up and tell the\\ntruth this time, though it does seem most like setting down on a kag of\\npowder and touching it off just to see where you’ll go to. Then I says:\\n\\n“Miss Mary Jane, is there any place out of town a little ways where you\\ncould go and stay three or four days?”\\n\\n“Yes; Mr. Lothrop’s. \\xa0Why?”\\n\\n“Never mind why yet. \\xa0If I’ll tell you how I know the niggers will see\\neach other again inside of two weeks--here in this house--and _prove_ how\\nI know it--will you go to Mr. Lothrop’s and stay four days?”\\n\\n“Four days!” she says; “I’ll stay a year!”\\n\\n“All right,” I says, “I don’t want nothing more out of _you_ than just\\nyour word--I druther have it than another man’s kiss-the-Bible.” \\xa0She\\nsmiled and reddened up very sweet, and I says, “If you don’t mind it,\\nI’ll shut the door--and bolt it.”\\n\\nThen I come back and set down again, and says:\\n\\n“Don’t you holler. \\xa0Just set still and take it like a man. \\xa0I got to\\ntell the truth, and you want to brace up, Miss Mary, because it’s a\\nbad kind, and going to be hard to take, but there ain’t no help for\\nit. \\xa0These uncles of yourn ain’t no uncles at all; they’re a couple of\\nfrauds--regular dead-beats. \\xa0There, now we’re over the worst of it, you\\ncan stand the rest middling easy.”\\n\\nIt jolted her up like everything, of course; but I was over the shoal\\nwater now, so I went right along, her eyes a-blazing higher and higher\\nall the time, and told her every blame thing, from where we first struck\\nthat young fool going up to the steamboat, clear through to where she\\nflung herself on to the king’s breast at the front door and he kissed\\nher sixteen or seventeen times--and then up she jumps, with her face\\nafire like sunset, and says:\\n\\n“The brute! \\xa0Come, don’t waste a minute--not a _second_--we’ll have them\\ntarred and feathered, and flung in the river!”\\n\\nSays I:\\n\\n“Cert’nly. \\xa0But do you mean _before_ you go to Mr. Lothrop’s, or--”\\n\\n“Oh,” she says, “what am I _thinking_ about!” she says, and set right\\ndown again.  “Don’t mind what I said--please don’t--you _won’t,_ now,\\n_will_ you?” Laying her silky hand on mine in that kind of a way that\\nI said I would die first.  “I never thought, I was so stirred up,” she\\nsays; “now go on, and I won’t do so any more. \\xa0You tell me what to do,\\nand whatever you say I’ll do it.”\\n\\n“Well,” I says, “it’s a rough gang, them two frauds, and I’m fixed so\\nI got to travel with them a while longer, whether I want to or not--I\\ndruther not tell you why; and if you was to blow on them this town would\\nget me out of their claws, and I’d be all right; but there’d be another\\nperson that you don’t know about who’d be in big trouble. \\xa0Well, we\\ngot to save _him_, hain’t we? \\xa0Of course. \\xa0Well, then, we won’t blow on\\nthem.”\\n\\nSaying them words put a good idea in my head. \\xa0I see how maybe I could\\nget me and Jim rid of the frauds; get them jailed here, and then leave.\\nBut I didn’t want to run the raft in the daytime without anybody aboard\\nto answer questions but me; so I didn’t want the plan to begin working\\ntill pretty late to-night. \\xa0I says:\\n\\n“Miss Mary Jane, I’ll tell you what we’ll do, and you won’t have to stay\\nat Mr. Lothrop’s so long, nuther. \\xa0How fur is it?”\\n\\n“A little short of four miles--right out in the country, back here.”\\n\\n“Well, that ‘ll answer. \\xa0Now you go along out there, and lay low\\ntill nine or half-past to-night, and then get them to fetch you home\\nagain--tell them you’ve thought of something. \\xa0If you get here before\\neleven put a candle in this window, and if I don’t turn up wait _till_\\neleven, and _then_ if I don’t turn up it means I’m gone, and out of the\\nway, and safe. Then you come out and spread the news around, and get\\nthese beats jailed.”\\n\\n“Good,” she says, “I’ll do it.”\\n\\n“And if it just happens so that I don’t get away, but get took up along\\nwith them, you must up and say I told you the whole thing beforehand,\\nand you must stand by me all you can.”\\n\\n“Stand by you! indeed I will. \\xa0They sha’n’t touch a hair of your head!”\\n she says, and I see her nostrils spread and her eyes snap when she said\\nit, too.\\n\\n“If I get away I sha’n’t be here,” I says, “to prove these rapscallions\\nain’t your uncles, and I couldn’t do it if I _was_ here. \\xa0I could swear\\nthey was beats and bummers, that’s all, though that’s worth something.\\nWell, there’s others can do that better than what I can, and they’re\\npeople that ain’t going to be doubted as quick as I’d be. \\xa0I’ll tell you\\nhow to find them. \\xa0Gimme a pencil and a piece of paper. \\xa0There--‘Royal\\nNonesuch, Bricksville.’ \\xa0Put it away, and don’t lose it. \\xa0When the\\ncourt wants to find out something about these two, let them send up to\\nBricksville and say they’ve got the men that played the Royal Nonesuch,\\nand ask for some witnesses--why, you’ll have that entire town down here\\nbefore you can hardly wink, Miss Mary. \\xa0And they’ll come a-biling, too.”\\n\\nI judged we had got everything fixed about right now. \\xa0So I says:\\n\\n“Just let the auction go right along, and don’t worry. \\xa0Nobody don’t\\nhave to pay for the things they buy till a whole day after the auction\\non accounts of the short notice, and they ain’t going out of this till\\nthey get that money; and the way we’ve fixed it the sale ain’t going to\\ncount, and they ain’t going to get no money. \\xa0It’s just like the way\\nit was with the niggers--it warn’t no sale, and the niggers will be\\nback before long. \\xa0Why, they can’t collect the money for the _niggers_\\nyet--they’re in the worst kind of a fix, Miss Mary.”\\n\\n“Well,” she says, “I’ll run down to breakfast now, and then I’ll start\\nstraight for Mr. Lothrop’s.”\\n\\n“‘Deed, _that_ ain’t the ticket, Miss Mary Jane,” I says, “by no manner\\nof means; go _before_ breakfast.”\\n\\n“Why?”\\n\\n“What did you reckon I wanted you to go at all for, Miss Mary?”\\n\\n“Well, I never thought--and come to think, I don’t know. \\xa0What was it?”\\n\\n“Why, it’s because you ain’t one of these leather-face people. \\xa0I don’t\\nwant no better book than what your face is. \\xa0A body can set down and\\nread it off like coarse print. \\xa0Do you reckon you can go and face your\\nuncles when they come to kiss you good-morning, and never--”\\n\\n“There, there, don’t! \\xa0Yes, I’ll go before breakfast--I’ll be glad to.\\nAnd leave my sisters with them?”\\n\\n“Yes; never mind about them. \\xa0They’ve got to stand it yet a while. \\xa0They\\nmight suspicion something if all of you was to go. \\xa0I don’t want you to\\nsee them, nor your sisters, nor nobody in this town; if a neighbor was\\nto ask how is your uncles this morning your face would tell something.\\n\\xa0No, you go right along, Miss Mary Jane, and I’ll fix it with all of\\nthem. I’ll tell Miss Susan to give your love to your uncles and say\\nyou’ve went away for a few hours for to get a little rest and change, or\\nto see a friend, and you’ll be back to-night or early in the morning.”\\n\\n“Gone to see a friend is all right, but I won’t have my love given to\\nthem.”\\n\\n“Well, then, it sha’n’t be.” \\xa0It was well enough to tell _her_ so--no\\nharm in it. \\xa0It was only a little thing to do, and no trouble; and it’s\\nthe little things that smooths people’s roads the most, down here below;\\nit would make Mary Jane comfortable, and it wouldn’t cost nothing. \\xa0Then\\nI says:  “There’s one more thing--that bag of money.”\\n\\n“Well, they’ve got that; and it makes me feel pretty silly to think\\n_how_ they got it.”\\n\\n“No, you’re out, there. \\xa0They hain’t got it.”\\n\\n“Why, who’s got it?”\\n\\n“I wish I knowed, but I don’t. \\xa0I _had_ it, because I stole it from\\nthem; and I stole it to give to you; and I know where I hid it, but I’m\\nafraid it ain’t there no more. \\xa0I’m awful sorry, Miss Mary Jane, I’m\\njust as sorry as I can be; but I done the best I could; I did honest. \\xa0I\\ncome nigh getting caught, and I had to shove it into the first place I\\ncome to, and run--and it warn’t a good place.”\\n\\n“Oh, stop blaming yourself--it’s too bad to do it, and I won’t allow\\nit--you couldn’t help it; it wasn’t your fault. \\xa0Where did you hide it?”\\n\\nI didn’t want to set her to thinking about her troubles again; and I\\ncouldn’t seem to get my mouth to tell her what would make her see that\\ncorpse laying in the coffin with that bag of money on his stomach. \\xa0So\\nfor a minute I didn’t say nothing; then I says:\\n\\n“I’d ruther not _tell_ you where I put it, Miss Mary Jane, if you don’t\\nmind letting me off; but I’ll write it for you on a piece of paper, and\\nyou can read it along the road to Mr. Lothrop’s, if you want to. \\xa0Do you\\nreckon that ‘ll do?”\\n\\n“Oh, yes.”\\n\\nSo I wrote:  “I put it in the coffin. \\xa0It was in there when you was\\ncrying there, away in the night. \\xa0I was behind the door, and I was\\nmighty sorry for you, Miss Mary Jane.”\\n\\nIt made my eyes water a little to remember her crying there all by\\nherself in the night, and them devils laying there right under her own\\nroof, shaming her and robbing her; and when I folded it up and give it\\nto her I see the water come into her eyes, too; and she shook me by the\\nhand, hard, and says:\\n\\n“_Good_-bye. \\xa0I’m going to do everything just as you’ve told me; and if\\nI don’t ever see you again, I sha’n’t ever forget you and I’ll think of\\nyou a many and a many a time, and I’ll _pray_ for you, too!”--and she was\\ngone.\\n\\nPray for me! \\xa0I reckoned if she knowed me she’d take a job that was more\\nnearer her size. \\xa0But I bet she done it, just the same--she was just that\\nkind. \\xa0She had the grit to pray for Judus if she took the notion--there\\nwarn’t no back-down to her, I judge. \\xa0You may say what you want to, but\\nin my opinion she had more sand in her than any girl I ever see; in\\nmy opinion she was just full of sand. \\xa0It sounds like flattery, but it\\nain’t no flattery. \\xa0And when it comes to beauty--and goodness, too--she\\nlays over them all. \\xa0I hain’t ever seen her since that time that I see\\nher go out of that door; no, I hain’t ever seen her since, but I reckon\\nI’ve thought of her a many and a many a million times, and of her saying\\nshe would pray for me; and if ever I’d a thought it would do any good\\nfor me to pray for _her_, blamed if I wouldn’t a done it or bust.\\n\\nWell, Mary Jane she lit out the back way, I reckon; because nobody see\\nher go. \\xa0When I struck Susan and the hare-lip, I says:\\n\\n“What’s the name of them people over on t’other side of the river that\\nyou all goes to see sometimes?”\\n\\nThey says:\\n\\n“There’s several; but it’s the Proctors, mainly.”\\n\\n“That’s the name,” I says; “I most forgot it. \\xa0Well, Miss Mary Jane she\\ntold me to tell you she’s gone over there in a dreadful hurry--one of\\nthem’s sick.”\\n\\n“Which one?”\\n\\n“I don’t know; leastways, I kinder forget; but I thinks it’s--”\\n\\n“Sakes alive, I hope it ain’t _Hanner_?”\\n\\n“I’m sorry to say it,” I says, “but Hanner’s the very one.”\\n\\n“My goodness, and she so well only last week! \\xa0Is she took bad?”\\n\\n“It ain’t no name for it. \\xa0They set up with her all night, Miss Mary\\nJane said, and they don’t think she’ll last many hours.”\\n\\n“Only think of that, now! \\xa0What’s the matter with her?”\\n\\nI couldn’t think of anything reasonable, right off that way, so I says:\\n\\n“Mumps.”\\n\\n“Mumps your granny! \\xa0They don’t set up with people that’s got the\\nmumps.”\\n\\n“They don’t, don’t they? \\xa0You better bet they do with _these_ mumps.\\n\\xa0These mumps is different. \\xa0It’s a new kind, Miss Mary Jane said.”\\n\\n“How’s it a new kind?”\\n\\n“Because it’s mixed up with other things.”\\n\\n“What other things?”\\n\\n“Well, measles, and whooping-cough, and erysiplas, and consumption, and\\nyaller janders, and brain-fever, and I don’t know what all.”\\n\\n“My land! \\xa0And they call it the _mumps_?”\\n\\n“That’s what Miss Mary Jane said.”\\n\\n“Well, what in the nation do they call it the _mumps_ for?”\\n\\n“Why, because it _is_ the mumps. \\xa0That’s what it starts with.”\\n\\n“Well, ther’ ain’t no sense in it. \\xa0A body might stump his toe, and take\\npison, and fall down the well, and break his neck, and bust his brains\\nout, and somebody come along and ask what killed him, and some numskull\\nup and say, ‘Why, he stumped his _toe_.’ \\xa0Would ther’ be any sense\\nin that? _No_. \\xa0And ther’ ain’t no sense in _this_, nuther. \\xa0Is it\\nketching?”\\n\\n“Is it _ketching_? \\xa0Why, how you talk. \\xa0Is a _harrow_ catching--in the\\ndark? If you don’t hitch on to one tooth, you’re bound to on another,\\nain’t you? And you can’t get away with that tooth without fetching the\\nwhole harrow along, can you? \\xa0Well, these kind of mumps is a kind of a\\nharrow, as you may say--and it ain’t no slouch of a harrow, nuther, you\\ncome to get it hitched on good.”\\n\\n“Well, it’s awful, I think,” says the hare-lip.  “I’ll go to Uncle\\nHarvey and--”\\n\\n“Oh, yes,” I says, “I _would_. \\xa0Of _course_ I would. \\xa0I wouldn’t lose no\\ntime.”\\n\\n“Well, why wouldn’t you?”\\n\\n“Just look at it a minute, and maybe you can see. \\xa0Hain’t your uncles\\nobleegd to get along home to England as fast as they can? \\xa0And do you\\nreckon they’d be mean enough to go off and leave you to go all that\\njourney by yourselves? \\xa0_you_ know they’ll wait for you. \\xa0So fur, so\\ngood. Your uncle Harvey’s a preacher, ain’t he? \\xa0Very well, then; is a\\n_preacher_ going to deceive a steamboat clerk? is he going to deceive\\na _ship clerk?_--so as to get them to let Miss Mary Jane go aboard? \\xa0Now\\n_you_ know he ain’t. \\xa0What _will_ he do, then? \\xa0Why, he’ll say, ‘It’s a\\ngreat pity, but my church matters has got to get along the best way they\\ncan; for my niece has been exposed to the dreadful pluribus-unum mumps,\\nand so it’s my bounden duty to set down here and wait the three months\\nit takes to show on her if she’s got it.’ \\xa0But never mind, if you think\\nit’s best to tell your uncle Harvey--”\\n\\n“Shucks, and stay fooling around here when we could all be having good\\ntimes in England whilst we was waiting to find out whether Mary Jane’s\\ngot it or not? \\xa0Why, you talk like a muggins.”\\n\\n“Well, anyway, maybe you’d better tell some of the neighbors.”\\n\\n“Listen at that, now. \\xa0You do beat all for natural stupidness. \\xa0Can’t\\nyou _see_ that _they’d_ go and tell? \\xa0Ther’ ain’t no way but just to not\\ntell anybody at _all_.”\\n\\n“Well, maybe you’re right--yes, I judge you _are_ right.”\\n\\n“But I reckon we ought to tell Uncle Harvey she’s gone out a while,\\nanyway, so he won’t be uneasy about her?”\\n\\n“Yes, Miss Mary Jane she wanted you to do that. \\xa0She says, ‘Tell them to\\ngive Uncle Harvey and William my love and a kiss, and say I’ve run over\\nthe river to see Mr.’--Mr.--what _is_ the name of that rich family your\\nuncle Peter used to think so much of?--I mean the one that--”\\n\\n“Why, you must mean the Apthorps, ain’t it?”\\n\\n“Of course; bother them kind of names, a body can’t ever seem to\\nremember them, half the time, somehow. \\xa0Yes, she said, say she has run\\nover for to ask the Apthorps to be sure and come to the auction and buy\\nthis house, because she allowed her uncle Peter would ruther they had\\nit than anybody else; and she’s going to stick to them till they say\\nthey’ll come, and then, if she ain’t too tired, she’s coming home; and\\nif she is, she’ll be home in the morning anyway. \\xa0She said, don’t say\\nnothing about the Proctors, but only about the Apthorps--which ‘ll be\\nperfectly true, because she is going there to speak about their buying\\nthe house; I know it, because she told me so herself.”\\n\\n“All right,” they said, and cleared out to lay for their uncles, and\\ngive them the love and the kisses, and tell them the message.\\n\\nEverything was all right now. \\xa0The girls wouldn’t say nothing because\\nthey wanted to go to England; and the king and the duke would ruther\\nMary Jane was off working for the auction than around in reach of\\nDoctor Robinson. \\xa0I felt very good; I judged I had done it pretty neat--I\\nreckoned Tom Sawyer couldn’t a done it no neater himself. \\xa0Of course he\\nwould a throwed more style into it, but I can’t do that very handy, not\\nbeing brung up to it.\\n\\nWell, they held the auction in the public square, along towards the end\\nof the afternoon, and it strung along, and strung along, and the old man\\nhe was on hand and looking his level pisonest, up there longside of the\\nauctioneer, and chipping in a little Scripture now and then, or a little\\ngoody-goody saying of some kind, and the duke he was around goo-gooing\\nfor sympathy all he knowed how, and just spreading himself generly.\\n\\nBut by and by the thing dragged through, and everything was\\nsold--everything but a little old trifling lot in the graveyard. \\xa0So\\nthey’d got to work that off--I never see such a girafft as the king was\\nfor wanting to swallow _everything_. \\xa0Well, whilst they was at it a\\nsteamboat landed, and in about two minutes up comes a crowd a-whooping\\nand yelling and laughing and carrying on, and singing out:\\n\\n“_Here’s_ your opposition line! here’s your two sets o’ heirs to old\\nPeter Wilks--and you pays your money and you takes your choice!”\\n\\n\\n\\n\\nCHAPTER XXIX.\\n\\nTHEY was fetching a very nice-looking old gentleman along, and a\\nnice-looking younger one, with his right arm in a sling. \\xa0And, my souls,\\nhow the people yelled and laughed, and kept it up. \\xa0But I didn’t see no\\njoke about it, and I judged it would strain the duke and the king some\\nto see any. \\xa0I reckoned they’d turn pale. \\xa0But no, nary a pale did\\n_they_ turn. The duke he never let on he suspicioned what was up, but\\njust went a goo-gooing around, happy and satisfied, like a jug that’s\\ngoogling out buttermilk; and as for the king, he just gazed and gazed\\ndown sorrowful on them new-comers like it give him the stomach-ache in\\nhis very heart to think there could be such frauds and rascals in the\\nworld. \\xa0Oh, he done it admirable. \\xa0Lots of the principal people\\ngethered around the king, to let him see they was on his side. \\xa0That old\\ngentleman that had just come looked all puzzled to death. \\xa0Pretty\\nsoon he begun to speak, and I see straight off he pronounced _like_ an\\nEnglishman--not the king’s way, though the king’s _was_ pretty good for\\nan imitation. \\xa0I can’t give the old gent’s words, nor I can’t imitate\\nhim; but he turned around to the crowd, and says, about like this:\\n\\n“This is a surprise to me which I wasn’t looking for; and I’ll\\nacknowledge, candid and frank, I ain’t very well fixed to meet it and\\nanswer it; for my brother and me has had misfortunes; he’s broke his\\narm, and our baggage got put off at a town above here last night in the\\nnight by a mistake. \\xa0I am Peter Wilks’ brother Harvey, and this is his\\nbrother William, which can’t hear nor speak--and can’t even make signs to\\namount to much, now’t he’s only got one hand to work them with. \\xa0We are\\nwho we say we are; and in a day or two, when I get the baggage, I can\\nprove it. But up till then I won’t say nothing more, but go to the hotel\\nand wait.”\\n\\nSo him and the new dummy started off; and the king he laughs, and\\nblethers out:\\n\\n“Broke his arm--_very_ likely, _ain’t_ it?--and very convenient, too,\\nfor a fraud that’s got to make signs, and ain’t learnt how. \\xa0Lost\\ntheir baggage! That’s _mighty_ good!--and mighty ingenious--under the\\n_circumstances_!”\\n\\nSo he laughed again; and so did everybody else, except three or four,\\nor maybe half a dozen. \\xa0One of these was that doctor; another one was\\na sharp-looking gentleman, with a carpet-bag of the old-fashioned kind\\nmade out of carpet-stuff, that had just come off of the steamboat and\\nwas talking to him in a low voice, and glancing towards the king now and\\nthen and nodding their heads--it was Levi Bell, the lawyer that was gone\\nup to Louisville; and another one was a big rough husky that come along\\nand listened to all the old gentleman said, and was listening to the\\nking now. And when the king got done this husky up and says:\\n\\n“Say, looky here; if you are Harvey Wilks, when’d you come to this\\ntown?”\\n\\n“The day before the funeral, friend,” says the king.\\n\\n“But what time o’ day?”\\n\\n“In the evenin’--‘bout an hour er two before sundown.”\\n\\n“_How’d_ you come?”\\n\\n“I come down on the Susan Powell from Cincinnati.”\\n\\n“Well, then, how’d you come to be up at the Pint in the _mornin_’--in a\\ncanoe?”\\n\\n“I warn’t up at the Pint in the mornin’.”\\n\\n“It’s a lie.”\\n\\nSeveral of them jumped for him and begged him not to talk that way to an\\nold man and a preacher.\\n\\n“Preacher be hanged, he’s a fraud and a liar. \\xa0He was up at the Pint\\nthat mornin’. \\xa0I live up there, don’t I? \\xa0Well, I was up there, and\\nhe was up there. \\xa0I see him there. \\xa0He come in a canoe, along with Tim\\nCollins and a boy.”\\n\\nThe doctor he up and says:\\n\\n“Would you know the boy again if you was to see him, Hines?”\\n\\n“I reckon I would, but I don’t know. \\xa0Why, yonder he is, now. \\xa0I know\\nhim perfectly easy.”\\n\\nIt was me he pointed at. \\xa0The doctor says:\\n\\n“Neighbors, I don’t know whether the new couple is frauds or not; but if\\n_these_ two ain’t frauds, I am an idiot, that’s all. \\xa0I think it’s our\\nduty to see that they don’t get away from here till we’ve looked into\\nthis thing. Come along, Hines; come along, the rest of you. \\xa0We’ll take\\nthese fellows to the tavern and affront them with t’other couple, and I\\nreckon we’ll find out _something_ before we get through.”\\n\\nIt was nuts for the crowd, though maybe not for the king’s friends; so\\nwe all started. \\xa0It was about sundown. \\xa0The doctor he led me along by\\nthe hand, and was plenty kind enough, but he never let go my hand.\\n\\nWe all got in a big room in the hotel, and lit up some candles, and\\nfetched in the new couple. \\xa0First, the doctor says:\\n\\n“I don’t wish to be too hard on these two men, but I think they’re\\nfrauds, and they may have complices that we don’t know nothing about.\\n\\xa0If they have, won’t the complices get away with that bag of gold Peter\\nWilks left? \\xa0It ain’t unlikely. \\xa0If these men ain’t frauds, they won’t\\nobject to sending for that money and letting us keep it till they prove\\nthey’re all right--ain’t that so?”\\n\\nEverybody agreed to that. \\xa0So I judged they had our gang in a pretty\\ntight place right at the outstart. \\xa0But the king he only looked\\nsorrowful, and says:\\n\\n“Gentlemen, I wish the money was there, for I ain’t got no disposition\\nto throw anything in the way of a fair, open, out-and-out investigation\\no’ this misable business; but, alas, the money ain’t there; you k’n send\\nand see, if you want to.”\\n\\n“Where is it, then?”\\n\\n“Well, when my niece give it to me to keep for her I took and hid it\\ninside o’ the straw tick o’ my bed, not wishin’ to bank it for the few\\ndays we’d be here, and considerin’ the bed a safe place, we not bein’\\nused to niggers, and suppos’n’ ‘em honest, like servants in England.\\n\\xa0The niggers stole it the very next mornin’ after I had went down\\nstairs; and when I sold ‘em I hadn’t missed the money yit, so they got\\nclean away with it. \\xa0My servant here k’n tell you ‘bout it, gentlemen.”\\n\\nThe doctor and several said “Shucks!” and I see nobody didn’t altogether\\nbelieve him. \\xa0One man asked me if I see the niggers steal it. \\xa0I said\\nno, but I see them sneaking out of the room and hustling away, and I\\nnever thought nothing, only I reckoned they was afraid they had waked up\\nmy master and was trying to get away before he made trouble with them.\\n\\xa0That was all they asked me. \\xa0Then the doctor whirls on me and says:\\n\\n“Are _you_ English, too?”\\n\\nI says yes; and him and some others laughed, and said, “Stuff!”\\n\\nWell, then they sailed in on the general investigation, and there we had\\nit, up and down, hour in, hour out, and nobody never said a word about\\nsupper, nor ever seemed to think about it--and so they kept it up, and\\nkept it up; and it _was_ the worst mixed-up thing you ever see. \\xa0They\\nmade the king tell his yarn, and they made the old gentleman tell his’n;\\nand anybody but a lot of prejudiced chuckleheads would a _seen_ that the\\nold gentleman was spinning truth and t’other one lies. \\xa0And by and by\\nthey had me up to tell what I knowed. \\xa0The king he give me a left-handed\\nlook out of the corner of his eye, and so I knowed enough to talk on the\\nright side. \\xa0I begun to tell about Sheffield, and how we lived there,\\nand all about the English Wilkses, and so on; but I didn’t get pretty\\nfur till the doctor begun to laugh; and Levi Bell, the lawyer, says:\\n\\n“Set down, my boy; I wouldn’t strain myself if I was you. \\xa0I reckon\\nyou ain’t used to lying, it don’t seem to come handy; what you want is\\npractice. \\xa0You do it pretty awkward.”\\n\\nI didn’t care nothing for the compliment, but I was glad to be let off,\\nanyway.\\n\\nThe doctor he started to say something, and turns and says:\\n\\n“If you’d been in town at first, Levi Bell--” The king broke in and\\nreached out his hand, and says:\\n\\n“Why, is this my poor dead brother’s old friend that he’s wrote so often\\nabout?”\\n\\nThe lawyer and him shook hands, and the lawyer smiled and looked\\npleased, and they talked right along awhile, and then got to one side\\nand talked low; and at last the lawyer speaks up and says:\\n\\n“That ‘ll fix it. \\xa0I’ll take the order and send it, along with your\\nbrother’s, and then they’ll know it’s all right.”\\n\\nSo they got some paper and a pen, and the king he set down and twisted\\nhis head to one side, and chawed his tongue, and scrawled off something;\\nand then they give the pen to the duke--and then for the first time the\\nduke looked sick. \\xa0But he took the pen and wrote. \\xa0So then the lawyer\\nturns to the new old gentleman and says:\\n\\n“You and your brother please write a line or two and sign your names.”\\n\\nThe old gentleman wrote, but nobody couldn’t read it. \\xa0The lawyer looked\\npowerful astonished, and says:\\n\\n“Well, it beats _me_”--and snaked a lot of old letters out of his pocket,\\nand examined them, and then examined the old man’s writing, and then\\n_them_ again; and then says:  “These old letters is from Harvey Wilks;\\nand here’s _these_ two handwritings, and anybody can see they didn’t\\nwrite them” (the king and the duke looked sold and foolish, I tell\\nyou, to see how the lawyer had took them in), “and here’s _this_ old\\ngentleman’s hand writing, and anybody can tell, easy enough, _he_ didn’t\\nwrite them--fact is, the scratches he makes ain’t properly _writing_ at\\nall. \\xa0Now, here’s some letters from--”\\n\\nThe new old gentleman says:\\n\\n“If you please, let me explain. \\xa0Nobody can read my hand but my brother\\nthere--so he copies for me. \\xa0It’s _his_ hand you’ve got there, not mine.”\\n\\n“_Well_!” says the lawyer, “this _is_ a state of things. \\xa0I’ve got some\\nof William’s letters, too; so if you’ll get him to write a line or so we\\ncan com--”\\n\\n“He _can’t_ write with his left hand,” says the old gentleman.  “If he\\ncould use his right hand, you would see that he wrote his own letters\\nand mine too. \\xa0Look at both, please--they’re by the same hand.”\\n\\nThe lawyer done it, and says:\\n\\n“I believe it’s so--and if it ain’t so, there’s a heap stronger\\nresemblance than I’d noticed before, anyway. \\xa0Well, well, well! \\xa0I\\nthought we was right on the track of a solution, but it’s gone to grass,\\npartly. \\xa0But anyway, one thing is proved--_these_ two ain’t either of ‘em\\nWilkses”--and he wagged his head towards the king and the duke.\\n\\nWell, what do you think? \\xa0That muleheaded old fool wouldn’t give in\\n_then_! Indeed he wouldn’t. \\xa0Said it warn’t no fair test. \\xa0Said his\\nbrother William was the cussedest joker in the world, and hadn’t tried\\nto write--_he_ see William was going to play one of his jokes the minute\\nhe put the pen to paper. \\xa0And so he warmed up and went warbling and\\nwarbling right along till he was actuly beginning to believe what he was\\nsaying _himself_; but pretty soon the new gentleman broke in, and says:\\n\\n“I’ve thought of something. \\xa0Is there anybody here that helped to lay\\nout my br--helped to lay out the late Peter Wilks for burying?”\\n\\n“Yes,” says somebody, “me and Ab Turner done it. \\xa0We’re both here.”\\n\\nThen the old man turns towards the king, and says:\\n\\n“Perhaps this gentleman can tell me what was tattooed on his breast?”\\n\\nBlamed if the king didn’t have to brace up mighty quick, or he’d a\\nsqushed down like a bluff bank that the river has cut under, it took\\nhim so sudden; and, mind you, it was a thing that was calculated to make\\nmost _anybody_ sqush to get fetched such a solid one as that without any\\nnotice, because how was _he_ going to know what was tattooed on the man?\\n\\xa0He whitened a little; he couldn’t help it; and it was mighty still in\\nthere, and everybody bending a little forwards and gazing at him. \\xa0Says\\nI to myself, _now_ he’ll throw up the sponge--there ain’t no more use.\\n\\xa0Well, did he? \\xa0A body can’t hardly believe it, but he didn’t. \\xa0I reckon\\nhe thought he’d keep the thing up till he tired them people out, so\\nthey’d thin out, and him and the duke could break loose and get away.\\n\\xa0Anyway, he set there, and pretty soon he begun to smile, and says:\\n\\n“Mf! \\xa0It’s a _very_ tough question, _ain’t_ it! \\xa0_yes_, sir, I k’n\\ntell you what’s tattooed on his breast. \\xa0It’s jest a small, thin, blue\\narrow--that’s what it is; and if you don’t look clost, you can’t see it.\\n\\xa0_now_ what do you say--hey?”\\n\\nWell, I never see anything like that old blister for clean out-and-out\\ncheek.\\n\\nThe new old gentleman turns brisk towards Ab Turner and his pard, and\\nhis eye lights up like he judged he’d got the king _this_ time, and\\nsays:\\n\\n“There--you’ve heard what he said! \\xa0Was there any such mark on Peter\\nWilks’ breast?”\\n\\nBoth of them spoke up and says:\\n\\n“We didn’t see no such mark.”\\n\\n“Good!” says the old gentleman.  “Now, what you _did_ see on his breast\\nwas a small dim P, and a B (which is an initial he dropped when he was\\nyoung), and a W, with dashes between them, so: \\xa0P--B--W”--and he marked\\nthem that way on a piece of paper.  “Come, ain’t that what you saw?”\\n\\nBoth of them spoke up again, and says:\\n\\n“No, we _didn’t_. \\xa0We never seen any marks at all.”\\n\\nWell, everybody _was_ in a state of mind now, and they sings out:\\n\\n“The whole _bilin_’ of ‘m ‘s frauds! \\xa0Le’s duck ‘em! le’s drown ‘em!\\nle’s ride ‘em on a rail!” and everybody was whooping at once, and there\\nwas a rattling powwow. \\xa0But the lawyer he jumps on the table and yells,\\nand says:\\n\\n“Gentlemen--gentle_men!_ \\xa0Hear me just a word--just a _single_ word--if you\\n_please_! \\xa0There’s one way yet--let’s go and dig up the corpse and look.”\\n\\nThat took them.\\n\\n“Hooray!” they all shouted, and was starting right off; but the lawyer\\nand the doctor sung out:\\n\\n“Hold on, hold on! \\xa0Collar all these four men and the boy, and fetch\\n_them_ along, too!”\\n\\n“We’ll do it!” they all shouted; “and if we don’t find them marks we’ll\\nlynch the whole gang!”\\n\\nI _was_ scared, now, I tell you. \\xa0But there warn’t no getting away, you\\nknow. They gripped us all, and marched us right along, straight for the\\ngraveyard, which was a mile and a half down the river, and the whole\\ntown at our heels, for we made noise enough, and it was only nine in the\\nevening.\\n\\nAs we went by our house I wished I hadn’t sent Mary Jane out of town;\\nbecause now if I could tip her the wink she’d light out and save me, and\\nblow on our dead-beats.\\n\\nWell, we swarmed along down the river road, just carrying on like\\nwildcats; and to make it more scary the sky was darking up, and the\\nlightning beginning to wink and flitter, and the wind to shiver amongst\\nthe leaves. This was the most awful trouble and most dangersome I ever\\nwas in; and I was kinder stunned; everything was going so different from\\nwhat I had allowed for; stead of being fixed so I could take my own time\\nif I wanted to, and see all the fun, and have Mary Jane at my back to\\nsave me and set me free when the close-fit come, here was nothing in the\\nworld betwixt me and sudden death but just them tattoo-marks. \\xa0If they\\ndidn’t find them--\\n\\nI couldn’t bear to think about it; and yet, somehow, I couldn’t think\\nabout nothing else. \\xa0It got darker and darker, and it was a beautiful\\ntime to give the crowd the slip; but that big husky had me by the\\nwrist--Hines--and a body might as well try to give Goliar the slip. \\xa0He\\ndragged me right along, he was so excited, and I had to run to keep up.\\n\\nWhen they got there they swarmed into the graveyard and washed over it\\nlike an overflow. \\xa0And when they got to the grave they found they had\\nabout a hundred times as many shovels as they wanted, but nobody hadn’t\\nthought to fetch a lantern. \\xa0But they sailed into digging anyway by the\\nflicker of the lightning, and sent a man to the nearest house, a half a\\nmile off, to borrow one.\\n\\nSo they dug and dug like everything; and it got awful dark, and the rain\\nstarted, and the wind swished and swushed along, and the lightning come\\nbrisker and brisker, and the thunder boomed; but them people never took\\nno notice of it, they was so full of this business; and one minute\\nyou could see everything and every face in that big crowd, and the\\nshovelfuls of dirt sailing up out of the grave, and the next second the\\ndark wiped it all out, and you couldn’t see nothing at all.\\n\\nAt last they got out the coffin and begun to unscrew the lid, and then\\nsuch another crowding and shouldering and shoving as there was, to\\nscrouge in and get a sight, you never see; and in the dark, that way, it\\nwas awful. \\xa0Hines he hurt my wrist dreadful pulling and tugging so,\\nand I reckon he clean forgot I was in the world, he was so excited and\\npanting.\\n\\nAll of a sudden the lightning let go a perfect sluice of white glare,\\nand somebody sings out:\\n\\n“By the living jingo, here’s the bag of gold on his breast!”\\n\\nHines let out a whoop, like everybody else, and dropped my wrist and\\ngive a big surge to bust his way in and get a look, and the way I lit\\nout and shinned for the road in the dark there ain’t nobody can tell.\\n\\nI had the road all to myself, and I fairly flew--leastways, I had it all\\nto myself except the solid dark, and the now-and-then glares, and the\\nbuzzing of the rain, and the thrashing of the wind, and the splitting of\\nthe thunder; and sure as you are born I did clip it along!\\n\\nWhen I struck the town I see there warn’t nobody out in the storm, so\\nI never hunted for no back streets, but humped it straight through the\\nmain one; and when I begun to get towards our house I aimed my eye and\\nset it. No light there; the house all dark--which made me feel sorry and\\ndisappointed, I didn’t know why. \\xa0But at last, just as I was sailing by,\\n_flash_ comes the light in Mary Jane’s window! and my heart swelled up\\nsudden, like to bust; and the same second the house and all was behind\\nme in the dark, and wasn’t ever going to be before me no more in this\\nworld. She _was_ the best girl I ever see, and had the most sand.\\n\\nThe minute I was far enough above the town to see I could make the\\ntowhead, I begun to look sharp for a boat to borrow, and the first\\ntime the lightning showed me one that wasn’t chained I snatched it and\\nshoved. It was a canoe, and warn’t fastened with nothing but a rope.\\n\\xa0The towhead was a rattling big distance off, away out there in the\\nmiddle of the river, but I didn’t lose no time; and when I struck the\\nraft at last I was so fagged I would a just laid down to blow and gasp\\nif I could afforded it. \\xa0But I didn’t. \\xa0As I sprung aboard I sung out:\\n\\n“Out with you, Jim, and set her loose! \\xa0Glory be to goodness, we’re shut\\nof them!”\\n\\nJim lit out, and was a-coming for me with both arms spread, he was so\\nfull of joy; but when I glimpsed him in the lightning my heart shot up\\nin my mouth and I went overboard backwards; for I forgot he was old King\\nLear and a drownded A-rab all in one, and it most scared the livers and\\nlights out of me. \\xa0But Jim fished me out, and was going to hug me and\\nbless me, and so on, he was so glad I was back and we was shut of the\\nking and the duke, but I says:\\n\\n“Not now; have it for breakfast, have it for breakfast! \\xa0Cut loose and\\nlet her slide!”\\n\\nSo in two seconds away we went a-sliding down the river, and it _did_\\nseem so good to be free again and all by ourselves on the big river, and\\nnobody to bother us. \\xa0I had to skip around a bit, and jump up and crack\\nmy heels a few times--I couldn’t help it; but about the third crack\\nI noticed a sound that I knowed mighty well, and held my breath and\\nlistened and waited; and sure enough, when the next flash busted out\\nover the water, here they come!--and just a-laying to their oars and\\nmaking their skiff hum! \\xa0It was the king and the duke.\\n\\nSo I wilted right down on to the planks then, and give up; and it was\\nall I could do to keep from crying.\\n\\n\\n\\n\\nCHAPTER XXX.\\n\\nWHEN they got aboard the king went for me, and shook me by the collar,\\nand says:\\n\\n“Tryin’ to give us the slip, was ye, you pup! \\xa0Tired of our company,\\nhey?”\\n\\nI says:\\n\\n“No, your majesty, we warn’t--_please_ don’t, your majesty!”\\n\\n“Quick, then, and tell us what _was_ your idea, or I’ll shake the\\ninsides out o’ you!”\\n\\n“Honest, I’ll tell you everything just as it happened, your majesty.\\n\\xa0The man that had a-holt of me was very good to me, and kept saying he\\nhad a boy about as big as me that died last year, and he was sorry\\nto see a boy in such a dangerous fix; and when they was all took by\\nsurprise by finding the gold, and made a rush for the coffin, he lets go\\nof me and whispers, ‘Heel it now, or they’ll hang ye, sure!’ and I lit\\nout. \\xa0It didn’t seem no good for _me_ to stay--I couldn’t do nothing,\\nand I didn’t want to be hung if I could get away. \\xa0So I never stopped\\nrunning till I found the canoe; and when I got here I told Jim to hurry,\\nor they’d catch me and hang me yet, and said I was afeard you and the\\nduke wasn’t alive now, and I was awful sorry, and so was Jim, and was\\nawful glad when we see you coming; you may ask Jim if I didn’t.”\\n\\nJim said it was so; and the king told him to shut up, and said, “Oh,\\nyes, it’s _mighty_ likely!” and shook me up again, and said he reckoned\\nhe’d drownd me. \\xa0But the duke says:\\n\\n“Leggo the boy, you old idiot! \\xa0Would _you_ a done any different? \\xa0Did\\nyou inquire around for _him_ when you got loose? \\xa0I don’t remember it.”\\n\\nSo the king let go of me, and begun to cuss that town and everybody in\\nit. But the duke says:\\n\\n“You better a blame’ sight give _yourself_ a good cussing, for you’re\\nthe one that’s entitled to it most. \\xa0You hain’t done a thing from the\\nstart that had any sense in it, except coming out so cool and cheeky\\nwith that imaginary blue-arrow mark. \\xa0That _was_ bright--it was right\\ndown bully; and it was the thing that saved us. \\xa0For if it hadn’t been\\nfor that they’d a jailed us till them Englishmen’s baggage come--and\\nthen--the penitentiary, you bet! But that trick took ‘em to the\\ngraveyard, and the gold done us a still bigger kindness; for if the\\nexcited fools hadn’t let go all holts and made that rush to get a\\nlook we’d a slept in our cravats to-night--cravats warranted to _wear_,\\ntoo--longer than _we’d_ need ‘em.”\\n\\nThey was still a minute--thinking; then the king says, kind of\\nabsent-minded like:\\n\\n“Mf! \\xa0And we reckoned the _niggers_ stole it!”\\n\\nThat made me squirm!\\n\\n“Yes,” says the duke, kinder slow and deliberate and sarcastic, “_we_\\ndid.”\\n\\nAfter about a half a minute the king drawls out:\\n\\n“Leastways, I did.”\\n\\nThe duke says, the same way:\\n\\n“On the contrary, I did.”\\n\\nThe king kind of ruffles up, and says:\\n\\n“Looky here, Bilgewater, what’r you referrin’ to?”\\n\\nThe duke says, pretty brisk:\\n\\n“When it comes to that, maybe you’ll let me ask, what was _you_\\nreferring to?”\\n\\n“Shucks!” says the king, very sarcastic; “but I don’t know--maybe you was\\nasleep, and didn’t know what you was about.”\\n\\nThe duke bristles up now, and says:\\n\\n“Oh, let _up_ on this cussed nonsense; do you take me for a blame’ fool?\\nDon’t you reckon I know who hid that money in that coffin?”\\n\\n“_Yes_, sir! \\xa0I know you _do_ know, because you done it yourself!”\\n\\n“It’s a lie!”--and the duke went for him. \\xa0The king sings out:\\n\\n“Take y’r hands off!--leggo my throat!--I take it all back!”\\n\\nThe duke says:\\n\\n“Well, you just own up, first, that you _did_ hide that money there,\\nintending to give me the slip one of these days, and come back and dig\\nit up, and have it all to yourself.”\\n\\n“Wait jest a minute, duke--answer me this one question, honest and fair;\\nif you didn’t put the money there, say it, and I’ll b’lieve you, and\\ntake back everything I said.”\\n\\n“You old scoundrel, I didn’t, and you know I didn’t. \\xa0There, now!”\\n\\n“Well, then, I b’lieve you. \\xa0But answer me only jest this one more--now\\n_don’t_ git mad; didn’t you have it in your mind to hook the money and\\nhide it?”\\n\\nThe duke never said nothing for a little bit; then he says:\\n\\n“Well, I don’t care if I _did_, I didn’t _do_ it, anyway. \\xa0But you not\\nonly had it in mind to do it, but you _done_ it.”\\n\\n“I wisht I never die if I done it, duke, and that’s honest. \\xa0I won’t say\\nI warn’t goin’ to do it, because I _was_; but you--I mean somebody--got in\\nahead o’ me.”\\n\\n“It’s a lie! \\xa0You done it, and you got to _say_ you done it, or--”\\n\\nThe king began to gurgle, and then he gasps out:\\n\\n“‘Nough!--I _own up!_”\\n\\nI was very glad to hear him say that; it made me feel much more easier\\nthan what I was feeling before. \\xa0So the duke took his hands off and\\nsays:\\n\\n“If you ever deny it again I’ll drown you. \\xa0It’s _well_ for you to set\\nthere and blubber like a baby--it’s fitten for you, after the way\\nyou’ve acted. I never see such an old ostrich for wanting to gobble\\neverything--and I a-trusting you all the time, like you was my own\\nfather. \\xa0You ought to been ashamed of yourself to stand by and hear it\\nsaddled on to a lot of poor niggers, and you never say a word for ‘em.\\n\\xa0It makes me feel ridiculous to think I was soft enough to _believe_\\nthat rubbage. \\xa0Cuss you, I can see now why you was so anxious to make\\nup the deffisit--you wanted to get what money I’d got out of the Nonesuch\\nand one thing or another, and scoop it _all_!”\\n\\nThe king says, timid, and still a-snuffling:\\n\\n“Why, duke, it was you that said make up the deffisit; it warn’t me.”\\n\\n“Dry up! \\xa0I don’t want to hear no more out of you!” says the duke.  “And\\n_now_ you see what you GOT by it. \\xa0They’ve got all their own money back,\\nand all of _ourn_ but a shekel or two _besides_. \\xa0G’long to bed, and\\ndon’t you deffersit _me_ no more deffersits, long ‘s _you_ live!”\\n\\nSo the king sneaked into the wigwam and took to his bottle for comfort,\\nand before long the duke tackled HIS bottle; and so in about a half an\\nhour they was as thick as thieves again, and the tighter they got the\\nlovinger they got, and went off a-snoring in each other’s arms. \\xa0They\\nboth got powerful mellow, but I noticed the king didn’t get mellow\\nenough to forget to remember to not deny about hiding the money-bag\\nagain. \\xa0That made me feel easy and satisfied. \\xa0Of course when they got\\nto snoring we had a long gabble, and I told Jim everything.\\n\\n\\n\\n\\nCHAPTER XXXI.\\n\\nWE dasn’t stop again at any town for days and days; kept right along\\ndown the river. \\xa0We was down south in the warm weather now, and a mighty\\nlong ways from home. \\xa0We begun to come to trees with Spanish moss on\\nthem, hanging down from the limbs like long, gray beards. \\xa0It was the\\nfirst I ever see it growing, and it made the woods look solemn and\\ndismal. \\xa0So now the frauds reckoned they was out of danger, and they\\nbegun to work the villages again.\\n\\nFirst they done a lecture on temperance; but they didn’t make enough\\nfor them both to get drunk on. \\xa0Then in another village they started\\na dancing-school; but they didn’t know no more how to dance than a\\nkangaroo does; so the first prance they made the general public jumped\\nin and pranced them out of town. \\xa0Another time they tried to go at\\nyellocution; but they didn’t yellocute long till the audience got up and\\ngive them a solid good cussing, and made them skip out. \\xa0They tackled\\nmissionarying, and mesmerizing, and doctoring, and telling fortunes, and\\na little of everything; but they couldn’t seem to have no luck. \\xa0So at\\nlast they got just about dead broke, and laid around the raft as she\\nfloated along, thinking and thinking, and never saying nothing, by the\\nhalf a day at a time, and dreadful blue and desperate.\\n\\nAnd at last they took a change and begun to lay their heads together in\\nthe wigwam and talk low and confidential two or three hours at a time.\\nJim and me got uneasy. \\xa0We didn’t like the look of it. \\xa0We judged they\\nwas studying up some kind of worse deviltry than ever. \\xa0We turned it\\nover and over, and at last we made up our minds they was going to break\\ninto somebody’s house or store, or was going into the counterfeit-money\\nbusiness, or something. So then we was pretty scared, and made up an\\nagreement that we wouldn’t have nothing in the world to do with such\\nactions, and if we ever got the least show we would give them the cold\\nshake and clear out and leave them behind. Well, early one morning we\\nhid the raft in a good, safe place about two mile below a little bit of\\na shabby village named Pikesville, and the king he went ashore and told\\nus all to stay hid whilst he went up to town and smelt around to see\\nif anybody had got any wind of the Royal Nonesuch there yet. (“House to\\nrob, you _mean_,” says I to myself; “and when you get through robbing it\\nyou’ll come back here and wonder what has become of me and Jim and the\\nraft--and you’ll have to take it out in wondering.”) And he said if he\\nwarn’t back by midday the duke and me would know it was all right, and\\nwe was to come along.\\n\\nSo we stayed where we was. \\xa0The duke he fretted and sweated around, and\\nwas in a mighty sour way. \\xa0He scolded us for everything, and we couldn’t\\nseem to do nothing right; he found fault with every little thing.\\nSomething was a-brewing, sure. \\xa0I was good and glad when midday come\\nand no king; we could have a change, anyway--and maybe a chance for _the_\\nchange on top of it. \\xa0So me and the duke went up to the village, and\\nhunted around there for the king, and by and by we found him in the\\nback room of a little low doggery, very tight, and a lot of loafers\\nbullyragging him for sport, and he a-cussing and a-threatening with all\\nhis might, and so tight he couldn’t walk, and couldn’t do nothing to\\nthem. \\xa0The duke he begun to abuse him for an old fool, and the king\\nbegun to sass back, and the minute they was fairly at it I lit out and\\nshook the reefs out of my hind legs, and spun down the river road like\\na deer, for I see our chance; and I made up my mind that it would be a\\nlong day before they ever see me and Jim again. \\xa0I got down there all\\nout of breath but loaded up with joy, and sung out:\\n\\n“Set her loose, Jim! we’re all right now!”\\n\\nBut there warn’t no answer, and nobody come out of the wigwam. \\xa0Jim was\\ngone! \\xa0I set up a shout--and then another--and then another one; and run\\nthis way and that in the woods, whooping and screeching; but it warn’t\\nno use--old Jim was gone. \\xa0Then I set down and cried; I couldn’t help\\nit. But I couldn’t set still long. \\xa0Pretty soon I went out on the road,\\ntrying to think what I better do, and I run across a boy walking, and\\nasked him if he’d seen a strange nigger dressed so and so, and he says:\\n\\n“Yes.”\\n\\n“Whereabouts?” says I.\\n\\n“Down to Silas Phelps’ place, two mile below here. \\xa0He’s a runaway\\nnigger, and they’ve got him. \\xa0Was you looking for him?”\\n\\n“You bet I ain’t! \\xa0I run across him in the woods about an hour or two\\nago, and he said if I hollered he’d cut my livers out--and told me to lay\\ndown and stay where I was; and I done it. \\xa0Been there ever since; afeard\\nto come out.”\\n\\n“Well,” he says, “you needn’t be afeard no more, becuz they’ve got him.\\nHe run off f’m down South, som’ers.”\\n\\n“It’s a good job they got him.”\\n\\n“Well, I _reckon_! \\xa0There’s two hunderd dollars reward on him. \\xa0It’s\\nlike picking up money out’n the road.”\\n\\n“Yes, it is--and I could a had it if I’d been big enough; I see him\\n_first_. Who nailed him?”\\n\\n“It was an old fellow--a stranger--and he sold out his chance in him for\\nforty dollars, becuz he’s got to go up the river and can’t wait. \\xa0Think\\no’ that, now! \\xa0You bet _I’d_ wait, if it was seven year.”\\n\\n“That’s me, every time,” says I.  “But maybe his chance ain’t worth\\nno more than that, if he’ll sell it so cheap. \\xa0Maybe there’s something\\nain’t straight about it.”\\n\\n“But it _is_, though--straight as a string. \\xa0I see the handbill myself.\\n\\xa0It tells all about him, to a dot--paints him like a picture, and tells\\nthe plantation he’s frum, below Newr_leans_. \\xa0No-sirree-_bob_, they\\nain’t no trouble ‘bout _that_ speculation, you bet you. \\xa0Say, gimme a\\nchaw tobacker, won’t ye?”\\n\\nI didn’t have none, so he left. \\xa0I went to the raft, and set down in the\\nwigwam to think. \\xa0But I couldn’t come to nothing. \\xa0I thought till I wore\\nmy head sore, but I couldn’t see no way out of the trouble. \\xa0After all\\nthis long journey, and after all we’d done for them scoundrels, here it\\nwas all come to nothing, everything all busted up and ruined, because\\nthey could have the heart to serve Jim such a trick as that, and make\\nhim a slave again all his life, and amongst strangers, too, for forty\\ndirty dollars.\\n\\nOnce I said to myself it would be a thousand times better for Jim to\\nbe a slave at home where his family was, as long as he’d _got_ to be a\\nslave, and so I’d better write a letter to Tom Sawyer and tell him to\\ntell Miss Watson where he was. \\xa0But I soon give up that notion for two\\nthings: she’d be mad and disgusted at his rascality and ungratefulness\\nfor leaving her, and so she’d sell him straight down the river again;\\nand if she didn’t, everybody naturally despises an ungrateful nigger,\\nand they’d make Jim feel it all the time, and so he’d feel ornery and\\ndisgraced. And then think of _me_! \\xa0It would get all around that Huck\\nFinn helped a nigger to get his freedom; and if I was ever to see\\nanybody from that town again I’d be ready to get down and lick his boots\\nfor shame. \\xa0That’s just the way: \\xa0a person does a low-down thing, and\\nthen he don’t want to take no consequences of it. Thinks as long as he\\ncan hide it, it ain’t no disgrace. \\xa0That was my fix exactly. The more I\\nstudied about this the more my conscience went to grinding me, and the\\nmore wicked and low-down and ornery I got to feeling. And at last, when\\nit hit me all of a sudden that here was the plain hand of Providence\\nslapping me in the face and letting me know my wickedness was being\\nwatched all the time from up there in heaven, whilst I was stealing a\\npoor old woman’s nigger that hadn’t ever done me no harm, and now was\\nshowing me there’s One that’s always on the lookout, and ain’t a-going\\nto allow no such miserable doings to go only just so fur and no further,\\nI most dropped in my tracks I was so scared. \\xa0Well, I tried the best I\\ncould to kinder soften it up somehow for myself by saying I was brung\\nup wicked, and so I warn’t so much to blame; but something inside of me\\nkept saying, “There was the Sunday-school, you could a gone to it; and\\nif you’d a done it they’d a learnt you there that people that acts as\\nI’d been acting about that nigger goes to everlasting fire.”\\n\\nIt made me shiver. \\xa0And I about made up my mind to pray, and see if I\\ncouldn’t try to quit being the kind of a boy I was and be better. \\xa0So\\nI kneeled down. \\xa0But the words wouldn’t come. \\xa0Why wouldn’t they? \\xa0It\\nwarn’t no use to try and hide it from Him. \\xa0Nor from _me_, neither. \\xa0I\\nknowed very well why they wouldn’t come. \\xa0It was because my heart warn’t\\nright; it was because I warn’t square; it was because I was playing\\ndouble. \\xa0I was letting _on_ to give up sin, but away inside of me I was\\nholding on to the biggest one of all. \\xa0I was trying to make my mouth\\n_say_ I would do the right thing and the clean thing, and go and write\\nto that nigger’s owner and tell where he was; but deep down in me I\\nknowed it was a lie, and He knowed it. \\xa0You can’t pray a lie--I found\\nthat out.\\n\\nSo I was full of trouble, full as I could be; and didn’t know what to\\ndo. At last I had an idea; and I says, I’ll go and write the letter--and\\nthen see if I can pray. \\xa0Why, it was astonishing, the way I felt as\\nlight as a feather right straight off, and my troubles all gone. \\xa0So I\\ngot a piece of paper and a pencil, all glad and excited, and set down\\nand wrote:\\n\\nMiss Watson, your runaway nigger Jim is down here two mile below\\nPikesville, and Mr. Phelps has got him and he will give him up for the\\nreward if you send.\\n\\n_Huck Finn._\\n\\nI felt good and all washed clean of sin for the first time I had ever\\nfelt so in my life, and I knowed I could pray now. \\xa0But I didn’t do it\\nstraight off, but laid the paper down and set there thinking--thinking\\nhow good it was all this happened so, and how near I come to being lost\\nand going to hell. \\xa0And went on thinking. \\xa0And got to thinking over our\\ntrip down the river; and I see Jim before me all the time: \\xa0in the day\\nand in the night-time, sometimes moonlight, sometimes storms, and we\\na-floating along, talking and singing and laughing. \\xa0But somehow I\\ncouldn’t seem to strike no places to harden me against him, but only the\\nother kind. \\xa0I’d see him standing my watch on top of his’n, ‘stead of\\ncalling me, so I could go on sleeping; and see him how glad he was when\\nI come back out of the fog; and when I come to him again in the swamp,\\nup there where the feud was; and such-like times; and would always call\\nme honey, and pet me and do everything he could think of for me, and how\\ngood he always was; and at last I struck the time I saved him by telling\\nthe men we had small-pox aboard, and he was so grateful, and said I was\\nthe best friend old Jim ever had in the world, and the _only_ one he’s\\ngot now; and then I happened to look around and see that paper.\\n\\nIt was a close place. \\xa0I took it up, and held it in my hand. \\xa0I was\\na-trembling, because I’d got to decide, forever, betwixt two things, and\\nI knowed it. \\xa0I studied a minute, sort of holding my breath, and then\\nsays to myself:\\n\\n“All right, then, I’ll _go_ to hell”--and tore it up.\\n\\nIt was awful thoughts and awful words, but they was said. \\xa0And I let\\nthem stay said; and never thought no more about reforming. \\xa0I shoved the\\nwhole thing out of my head, and said I would take up wickedness again,\\nwhich was in my line, being brung up to it, and the other warn’t. \\xa0And\\nfor a starter I would go to work and steal Jim out of slavery again;\\nand if I could think up anything worse, I would do that, too; because as\\nlong as I was in, and in for good, I might as well go the whole hog.\\n\\nThen I set to thinking over how to get at it, and turned over some\\nconsiderable many ways in my mind; and at last fixed up a plan that\\nsuited me. \\xa0So then I took the bearings of a woody island that was down\\nthe river a piece, and as soon as it was fairly dark I crept out with my\\nraft and went for it, and hid it there, and then turned in. \\xa0I slept the\\nnight through, and got up before it was light, and had my breakfast,\\nand put on my store clothes, and tied up some others and one thing or\\nanother in a bundle, and took the canoe and cleared for shore. \\xa0I landed\\nbelow where I judged was Phelps’s place, and hid my bundle in the woods,\\nand then filled up the canoe with water, and loaded rocks into her and\\nsunk her where I could find her again when I wanted her, about a quarter\\nof a mile below a little steam sawmill that was on the bank.\\n\\nThen I struck up the road, and when I passed the mill I see a sign on\\nit, “Phelps’s Sawmill,” and when I come to the farm-houses, two or\\nthree hundred yards further along, I kept my eyes peeled, but didn’t\\nsee nobody around, though it was good daylight now. \\xa0But I didn’t mind,\\nbecause I didn’t want to see nobody just yet--I only wanted to get the\\nlay of the land. According to my plan, I was going to turn up there from\\nthe village, not from below. \\xa0So I just took a look, and shoved along,\\nstraight for town. Well, the very first man I see when I got there was\\nthe duke. \\xa0He was sticking up a bill for the Royal Nonesuch--three-night\\nperformance--like that other time. \\xa0They had the cheek, them frauds! \\xa0I\\nwas right on him before I could shirk. \\xa0He looked astonished, and says:\\n\\n“Hel-_lo_! \\xa0Where’d _you_ come from?” \\xa0Then he says, kind of glad and\\neager, “Where’s the raft?--got her in a good place?”\\n\\nI says:\\n\\n“Why, that’s just what I was going to ask your grace.”\\n\\nThen he didn’t look so joyful, and says:\\n\\n“What was your idea for asking _me_?” he says.\\n\\n“Well,” I says, “when I see the king in that doggery yesterday I says\\nto myself, we can’t get him home for hours, till he’s soberer; so I went\\na-loafing around town to put in the time and wait. \\xa0A man up and offered\\nme ten cents to help him pull a skiff over the river and back to fetch\\na sheep, and so I went along; but when we was dragging him to the boat,\\nand the man left me a-holt of the rope and went behind him to shove him\\nalong, he was too strong for me and jerked loose and run, and we after\\nhim. \\xa0We didn’t have no dog, and so we had to chase him all over the\\ncountry till we tired him out. \\xa0We never got him till dark; then we\\nfetched him over, and I started down for the raft. \\xa0When I got there and\\nsee it was gone, I says to myself, ‘They’ve got into trouble and had to\\nleave; and they’ve took my nigger, which is the only nigger I’ve got in\\nthe world, and now I’m in a strange country, and ain’t got no property\\nno more, nor nothing, and no way to make my living;’ so I set down and\\ncried. \\xa0I slept in the woods all night. \\xa0But what _did_ become of the\\nraft, then?--and Jim--poor Jim!”\\n\\n“Blamed if I know--that is, what’s become of the raft. \\xa0That old fool had\\nmade a trade and got forty dollars, and when we found him in the doggery\\nthe loafers had matched half-dollars with him and got every cent but\\nwhat he’d spent for whisky; and when I got him home late last night and\\nfound the raft gone, we said, ‘That little rascal has stole our raft and\\nshook us, and run off down the river.’”\\n\\n“I wouldn’t shake my _nigger_, would I?--the only nigger I had in the\\nworld, and the only property.”\\n\\n“We never thought of that. \\xa0Fact is, I reckon we’d come to consider him\\n_our_ nigger; yes, we did consider him so--goodness knows we had trouble\\nenough for him. \\xa0So when we see the raft was gone and we flat broke,\\nthere warn’t anything for it but to try the Royal Nonesuch another\\nshake. And I’ve pegged along ever since, dry as a powder-horn. \\xa0Where’s\\nthat ten cents? Give it here.”\\n\\nI had considerable money, so I give him ten cents, but begged him to\\nspend it for something to eat, and give me some, because it was all the\\nmoney I had, and I hadn’t had nothing to eat since yesterday. \\xa0He never\\nsaid nothing. \\xa0The next minute he whirls on me and says:\\n\\n“Do you reckon that nigger would blow on us? \\xa0We’d skin him if he done\\nthat!”\\n\\n“How can he blow? \\xa0Hain’t he run off?”\\n\\n“No! \\xa0That old fool sold him, and never divided with me, and the money’s\\ngone.”\\n\\n“_Sold_ him?” \\xa0I says, and begun to cry; “why, he was _my_ nigger, and\\nthat was my money. \\xa0Where is he?--I want my nigger.”\\n\\n“Well, you can’t _get_ your nigger, that’s all--so dry up your\\nblubbering. Looky here--do you think _you’d_ venture to blow on us?\\n\\xa0Blamed if I think I’d trust you. \\xa0Why, if you _was_ to blow on us--”\\n\\nHe stopped, but I never see the duke look so ugly out of his eyes\\nbefore. I went on a-whimpering, and says:\\n\\n“I don’t want to blow on nobody; and I ain’t got no time to blow, nohow.\\nI got to turn out and find my nigger.”\\n\\nHe looked kinder bothered, and stood there with his bills fluttering on\\nhis arm, thinking, and wrinkling up his forehead. \\xa0At last he says:\\n\\n“I’ll tell you something. \\xa0We got to be here three days. \\xa0If you’ll\\npromise you won’t blow, and won’t let the nigger blow, I’ll tell you\\nwhere to find him.”\\n\\nSo I promised, and he says:\\n\\n“A farmer by the name of Silas Ph--” and then he stopped. \\xa0You see, he\\nstarted to tell me the truth; but when he stopped that way, and begun to\\nstudy and think again, I reckoned he was changing his mind. \\xa0And so he\\nwas. He wouldn’t trust me; he wanted to make sure of having me out of\\nthe way the whole three days. \\xa0So pretty soon he says:\\n\\n“The man that bought him is named Abram Foster--Abram G. Foster--and he\\nlives forty mile back here in the country, on the road to Lafayette.”\\n\\n“All right,” I says, “I can walk it in three days. \\xa0And I’ll start this\\nvery afternoon.”\\n\\n“No you wont, you’ll start _now_; and don’t you lose any time about it,\\nneither, nor do any gabbling by the way. \\xa0Just keep a tight tongue in\\nyour head and move right along, and then you won’t get into trouble with\\n_us_, d’ye hear?”\\n\\nThat was the order I wanted, and that was the one I played for. \\xa0I\\nwanted to be left free to work my plans.\\n\\n“So clear out,” he says; “and you can tell Mr. Foster whatever you want\\nto. Maybe you can get him to believe that Jim _is_ your nigger--some\\nidiots don’t require documents--leastways I’ve heard there’s such down\\nSouth here. \\xa0And when you tell him the handbill and the reward’s bogus,\\nmaybe he’ll believe you when you explain to him what the idea was for\\ngetting ‘em out. \\xa0Go ‘long now, and tell him anything you want to; but\\nmind you don’t work your jaw any _between_ here and there.”\\n\\nSo I left, and struck for the back country. \\xa0I didn’t look around, but I\\nkinder felt like he was watching me. \\xa0But I knowed I could tire him out\\nat that. \\xa0I went straight out in the country as much as a mile before\\nI stopped; then I doubled back through the woods towards Phelps’. \\xa0I\\nreckoned I better start in on my plan straight off without fooling\\naround, because I wanted to stop Jim’s mouth till these fellows could\\nget away. \\xa0I didn’t want no trouble with their kind. \\xa0I’d seen all I\\nwanted to of them, and wanted to get entirely shut of them.\\n\\n\\n\\n\\nCHAPTER XXXII.\\n\\nWHEN I got there it was all still and Sunday-like, and hot and sunshiny;\\nthe hands was gone to the fields; and there was them kind of faint\\ndronings of bugs and flies in the air that makes it seem so lonesome and\\nlike everybody’s dead and gone; and if a breeze fans along and quivers\\nthe leaves it makes you feel mournful, because you feel like it’s\\nspirits whispering--spirits that’s been dead ever so many years--and you\\nalways think they’re talking about _you_. \\xa0As a general thing it makes a\\nbody wish _he_ was dead, too, and done with it all.\\n\\nPhelps’ was one of these little one-horse cotton plantations, and they\\nall look alike. \\xa0A rail fence round a two-acre yard; a stile made out\\nof logs sawed off and up-ended in steps, like barrels of a different\\nlength, to climb over the fence with, and for the women to stand on when\\nthey are going to jump on to a horse; some sickly grass-patches in the\\nbig yard, but mostly it was bare and smooth, like an old hat with the\\nnap rubbed off; big double log-house for the white folks--hewed logs,\\nwith the chinks stopped up with mud or mortar, and these mud-stripes\\nbeen whitewashed some time or another; round-log kitchen, with a big\\nbroad, open but roofed passage joining it to the house; log smoke-house\\nback of the kitchen; three little log nigger-cabins in a row t’other\\nside the smoke-house; one little hut all by itself away down against\\nthe back fence, and some outbuildings down a piece the other side;\\nash-hopper and big kettle to bile soap in by the little hut; bench by\\nthe kitchen door, with bucket of water and a gourd; hound asleep there\\nin the sun; more hounds asleep round about; about three shade trees away\\noff in a corner; some currant bushes and gooseberry bushes in one place\\nby the fence; outside of the fence a garden and a watermelon patch; then\\nthe cotton fields begins, and after the fields the woods.\\n\\nI went around and clumb over the back stile by the ash-hopper, and\\nstarted for the kitchen. \\xa0When I got a little ways I heard the dim hum\\nof a spinning-wheel wailing along up and sinking along down again;\\nand then I knowed for certain I wished I was dead--for that _is_ the\\nlonesomest sound in the whole world.\\n\\nI went right along, not fixing up any particular plan, but just trusting\\nto Providence to put the right words in my mouth when the time come; for\\nI’d noticed that Providence always did put the right words in my mouth\\nif I left it alone.\\n\\nWhen I got half-way, first one hound and then another got up and went\\nfor me, and of course I stopped and faced them, and kept still. \\xa0And\\nsuch another powwow as they made! \\xa0In a quarter of a minute I was a kind\\nof a hub of a wheel, as you may say--spokes made out of dogs--circle of\\nfifteen of them packed together around me, with their necks and noses\\nstretched up towards me, a-barking and howling; and more a-coming; you\\ncould see them sailing over fences and around corners from everywheres.\\n\\nA nigger woman come tearing out of the kitchen with a rolling-pin in her\\nhand, singing out, “Begone _you_ Tige! you Spot! begone sah!” and she\\nfetched first one and then another of them a clip and sent them howling,\\nand then the rest followed; and the next second half of them come back,\\nwagging their tails around me, and making friends with me. \\xa0There ain’t\\nno harm in a hound, nohow.\\n\\nAnd behind the woman comes a little nigger girl and two little nigger\\nboys without anything on but tow-linen shirts, and they hung on to their\\nmother’s gown, and peeped out from behind her at me, bashful, the way\\nthey always do. \\xa0And here comes the white woman running from the house,\\nabout forty-five or fifty year old, bareheaded, and her spinning-stick\\nin her hand; and behind her comes her little white children, acting the\\nsame way the little niggers was doing. \\xa0She was smiling all over so she\\ncould hardly stand--and says:\\n\\n“It’s _you_, at last!--_ain’t_ it?”\\n\\nI out with a “Yes’m” before I thought.\\n\\nShe grabbed me and hugged me tight; and then gripped me by both hands\\nand shook and shook; and the tears come in her eyes, and run down over;\\nand she couldn’t seem to hug and shake enough, and kept saying, “You\\ndon’t look as much like your mother as I reckoned you would; but law\\nsakes, I don’t care for that, I’m so glad to see you! \\xa0Dear, dear, it\\ndoes seem like I could eat you up! \\xa0Children, it’s your cousin Tom!--tell\\nhim howdy.”\\n\\nBut they ducked their heads, and put their fingers in their mouths, and\\nhid behind her. \\xa0So she run on:\\n\\n“Lize, hurry up and get him a hot breakfast right away--or did you get\\nyour breakfast on the boat?”\\n\\nI said I had got it on the boat. \\xa0So then she started for the house,\\nleading me by the hand, and the children tagging after. \\xa0When we got\\nthere she set me down in a split-bottomed chair, and set herself down on\\na little low stool in front of me, holding both of my hands, and says:\\n\\n“Now I can have a _good_ look at you; and, laws-a-me, I’ve been hungry\\nfor it a many and a many a time, all these long years, and it’s come\\nat last! We been expecting you a couple of days and more. \\xa0What kep’\\nyou?--boat get aground?”\\n\\n“Yes’m--she--”\\n\\n“Don’t say yes’m--say Aunt Sally. \\xa0Where’d she get aground?”\\n\\nI didn’t rightly know what to say, because I didn’t know whether the\\nboat would be coming up the river or down. \\xa0But I go a good deal on\\ninstinct; and my instinct said she would be coming up--from down towards\\nOrleans. That didn’t help me much, though; for I didn’t know the names\\nof bars down that way. \\xa0I see I’d got to invent a bar, or forget the\\nname of the one we got aground on--or--Now I struck an idea, and fetched\\nit out:\\n\\n“It warn’t the grounding--that didn’t keep us back but a little. \\xa0We\\nblowed out a cylinder-head.”\\n\\n“Good gracious! anybody hurt?”\\n\\n“No’m. \\xa0Killed a nigger.”\\n\\n“Well, it’s lucky; because sometimes people do get hurt. \\xa0Two years ago\\nlast Christmas your uncle Silas was coming up from Newrleans on the old\\nLally Rook, and she blowed out a cylinder-head and crippled a man. \\xa0And\\nI think he died afterwards. \\xa0He was a Baptist. \\xa0Your uncle Silas knowed\\na family in Baton Rouge that knowed his people very well. \\xa0Yes, I\\nremember now, he _did_ die. \\xa0Mortification set in, and they had to\\namputate him. But it didn’t save him. \\xa0Yes, it was mortification--that\\nwas it. \\xa0He turned blue all over, and died in the hope of a glorious\\nresurrection. They say he was a sight to look at. \\xa0Your uncle’s been up\\nto the town every day to fetch you. And he’s gone again, not more’n an\\nhour ago; he’ll be back any minute now. You must a met him on the road,\\ndidn’t you?--oldish man, with a--”\\n\\n“No, I didn’t see nobody, Aunt Sally. \\xa0The boat landed just at daylight,\\nand I left my baggage on the wharf-boat and went looking around the town\\nand out a piece in the country, to put in the time and not get here too\\nsoon; and so I come down the back way.”\\n\\n“Who’d you give the baggage to?”\\n\\n“Nobody.”\\n\\n“Why, child, it ‘ll be stole!”\\n\\n“Not where I hid it I reckon it won’t,” I says.\\n\\n“How’d you get your breakfast so early on the boat?”\\n\\nIt was kinder thin ice, but I says:\\n\\n“The captain see me standing around, and told me I better have something\\nto eat before I went ashore; so he took me in the texas to the officers’\\nlunch, and give me all I wanted.”\\n\\nI was getting so uneasy I couldn’t listen good. \\xa0I had my mind on the\\nchildren all the time; I wanted to get them out to one side and pump\\nthem a little, and find out who I was. \\xa0But I couldn’t get no show, Mrs.\\nPhelps kept it up and run on so. \\xa0Pretty soon she made the cold chills\\nstreak all down my back, because she says:\\n\\n“But here we’re a-running on this way, and you hain’t told me a word\\nabout Sis, nor any of them. \\xa0Now I’ll rest my works a little, and you\\nstart up yourn; just tell me _everything_--tell me all about ‘m all every\\none of ‘m; and how they are, and what they’re doing, and what they told\\nyou to tell me; and every last thing you can think of.”\\n\\nWell, I see I was up a stump--and up it good. \\xa0Providence had stood by\\nme this fur all right, but I was hard and tight aground now. \\xa0I see it\\nwarn’t a bit of use to try to go ahead--I’d got to throw up my hand. \\xa0So\\nI says to myself, here’s another place where I got to resk the truth.\\n\\xa0I opened my mouth to begin; but she grabbed me and hustled me in behind\\nthe bed, and says:\\n\\n“Here he comes! \\xa0Stick your head down lower--there, that’ll do; you can’t\\nbe seen now. \\xa0Don’t you let on you’re here. \\xa0I’ll play a joke on him.\\nChildren, don’t you say a word.”\\n\\nI see I was in a fix now. \\xa0But it warn’t no use to worry; there warn’t\\nnothing to do but just hold still, and try and be ready to stand from\\nunder when the lightning struck.\\n\\nI had just one little glimpse of the old gentleman when he come in; then\\nthe bed hid him. \\xa0Mrs. Phelps she jumps for him, and says:\\n\\n“Has he come?”\\n\\n“No,” says her husband.\\n\\n“Good-_ness_ gracious!” she says, “what in the warld can have become of\\nhim?”\\n\\n“I can’t imagine,” says the old gentleman; “and I must say it makes me\\ndreadful uneasy.”\\n\\n“Uneasy!” she says; “I’m ready to go distracted! \\xa0He _must_ a come; and\\nyou’ve missed him along the road. \\xa0I _know_ it’s so--something tells me\\nso.”\\n\\n“Why, Sally, I _couldn’t_ miss him along the road--_you_ know that.”\\n\\n“But oh, dear, dear, what _will_ Sis say! \\xa0He must a come! \\xa0You must a\\nmissed him. \\xa0He--”\\n\\n“Oh, don’t distress me any more’n I’m already distressed. \\xa0I don’t know\\nwhat in the world to make of it. \\xa0I’m at my wit’s end, and I don’t mind\\nacknowledging ‘t I’m right down scared. \\xa0But there’s no hope that he’s\\ncome; for he _couldn’t_ come and me miss him. \\xa0Sally, it’s terrible--just\\nterrible--something’s happened to the boat, sure!”\\n\\n“Why, Silas! \\xa0Look yonder!--up the road!--ain’t that somebody coming?”\\n\\nHe sprung to the window at the head of the bed, and that give Mrs.\\nPhelps the chance she wanted. \\xa0She stooped down quick at the foot of the\\nbed and give me a pull, and out I come; and when he turned back from the\\nwindow there she stood, a-beaming and a-smiling like a house afire, and\\nI standing pretty meek and sweaty alongside. \\xa0The old gentleman stared,\\nand says:\\n\\n“Why, who’s that?”\\n\\n“Who do you reckon ‘t is?”\\n\\n“I hain’t no idea. \\xa0Who _is_ it?”\\n\\n“It’s _Tom Sawyer!_”\\n\\nBy jings, I most slumped through the floor! \\xa0But there warn’t no time to\\nswap knives; the old man grabbed me by the hand and shook, and kept on\\nshaking; and all the time how the woman did dance around and laugh and\\ncry; and then how they both did fire off questions about Sid, and Mary,\\nand the rest of the tribe.\\n\\nBut if they was joyful, it warn’t nothing to what I was; for it was like\\nbeing born again, I was so glad to find out who I was. \\xa0Well, they froze\\nto me for two hours; and at last, when my chin was so tired it couldn’t\\nhardly go any more, I had told them more about my family--I mean the\\nSawyer family--than ever happened to any six Sawyer families. \\xa0And I\\nexplained all about how we blowed out a cylinder-head at the mouth of\\nWhite River, and it took us three days to fix it. \\xa0Which was all right,\\nand worked first-rate; because _they_ didn’t know but what it would take\\nthree days to fix it. \\xa0If I’d a called it a bolthead it would a done\\njust as well.\\n\\nNow I was feeling pretty comfortable all down one side, and pretty\\nuncomfortable all up the other. \\xa0Being Tom Sawyer was easy and\\ncomfortable, and it stayed easy and comfortable till by and by I hear a\\nsteamboat coughing along down the river. \\xa0Then I says to myself, s’pose\\nTom Sawyer comes down on that boat? \\xa0And s’pose he steps in here any\\nminute, and sings out my name before I can throw him a wink to keep\\nquiet?\\n\\nWell, I couldn’t _have_ it that way; it wouldn’t do at all. \\xa0I must go\\nup the road and waylay him. \\xa0So I told the folks I reckoned I would go\\nup to the town and fetch down my baggage. \\xa0The old gentleman was for\\ngoing along with me, but I said no, I could drive the horse myself, and\\nI druther he wouldn’t take no trouble about me.\\n\\n\\n\\n\\nCHAPTER XXXIII.\\n\\nSO I started for town in the wagon, and when I was half-way I see a\\nwagon coming, and sure enough it was Tom Sawyer, and I stopped and\\nwaited till he come along. \\xa0I says “Hold on!” and it stopped alongside,\\nand his mouth opened up like a trunk, and stayed so; and he swallowed\\ntwo or three times like a person that’s got a dry throat, and then says:\\n\\n“I hain’t ever done you no harm. \\xa0You know that. \\xa0So, then, what you\\nwant to come back and ha’nt _me_ for?”\\n\\nI says:\\n\\n“I hain’t come back--I hain’t been _gone_.”\\n\\nWhen he heard my voice it righted him up some, but he warn’t quite\\nsatisfied yet. \\xa0He says:\\n\\n“Don’t you play nothing on me, because I wouldn’t on you. \\xa0Honest injun\\nnow, you ain’t a ghost?”\\n\\n“Honest injun, I ain’t,” I says.\\n\\n“Well--I--I--well, that ought to settle it, of course; but I can’t somehow\\nseem to understand it no way. \\xa0Looky here, warn’t you ever murdered _at\\nall?_”\\n\\n“No. \\xa0I warn’t ever murdered at all--I played it on them. \\xa0You come in\\nhere and feel of me if you don’t believe me.”\\n\\nSo he done it; and it satisfied him; and he was that glad to see me\\nagain he didn’t know what to do. \\xa0And he wanted to know all about it\\nright off, because it was a grand adventure, and mysterious, and so it\\nhit him where he lived. \\xa0But I said, leave it alone till by and by; and\\ntold his driver to wait, and we drove off a little piece, and I told\\nhim the kind of a fix I was in, and what did he reckon we better do? \\xa0He\\nsaid, let him alone a minute, and don’t disturb him. \\xa0So he thought and\\nthought, and pretty soon he says:\\n\\n“It’s all right; I’ve got it. \\xa0Take my trunk in your wagon, and let on\\nit’s your’n; and you turn back and fool along slow, so as to get to the\\nhouse about the time you ought to; and I’ll go towards town a piece, and\\ntake a fresh start, and get there a quarter or a half an hour after you;\\nand you needn’t let on to know me at first.”\\n\\nI says:\\n\\n“All right; but wait a minute. \\xa0There’s one more thing--a thing that\\n_nobody_ don’t know but me. \\xa0And that is, there’s a nigger here that\\nI’m a-trying to steal out of slavery, and his name is _Jim_--old Miss\\nWatson’s Jim.”\\n\\nHe says:\\n\\n“What! \\xa0Why, Jim is--”\\n\\nHe stopped and went to studying. \\xa0I says:\\n\\n“I know what you’ll say. \\xa0You’ll say it’s dirty, low-down business; but\\nwhat if it is? \\xa0I’m low down; and I’m a-going to steal him, and I want\\nyou keep mum and not let on. \\xa0Will you?”\\n\\nHis eye lit up, and he says:\\n\\n“I’ll _help_ you steal him!”\\n\\nWell, I let go all holts then, like I was shot. \\xa0It was the most\\nastonishing speech I ever heard--and I’m bound to say Tom Sawyer fell\\nconsiderable in my estimation. \\xa0Only I couldn’t believe it. \\xa0Tom Sawyer\\na _nigger-stealer!_\\n\\n“Oh, shucks!” \\xa0I says; “you’re joking.”\\n\\n“I ain’t joking, either.”\\n\\n“Well, then,” I says, “joking or no joking, if you hear anything said\\nabout a runaway nigger, don’t forget to remember that _you_ don’t know\\nnothing about him, and I don’t know nothing about him.”\\n\\nThen we took the trunk and put it in my wagon, and he drove off his\\nway and I drove mine. \\xa0But of course I forgot all about driving slow on\\naccounts of being glad and full of thinking; so I got home a heap too\\nquick for that length of a trip. \\xa0The old gentleman was at the door, and\\nhe says:\\n\\n“Why, this is wonderful! \\xa0Whoever would a thought it was in that mare\\nto do it? \\xa0I wish we’d a timed her. \\xa0And she hain’t sweated a hair--not\\na hair. It’s wonderful. \\xa0Why, I wouldn’t take a hundred dollars for that\\nhorse now--I wouldn’t, honest; and yet I’d a sold her for fifteen before,\\nand thought ‘twas all she was worth.”\\n\\nThat’s all he said. \\xa0He was the innocentest, best old soul I ever see.\\nBut it warn’t surprising; because he warn’t only just a farmer, he was\\na preacher, too, and had a little one-horse log church down back of the\\nplantation, which he built it himself at his own expense, for a church\\nand schoolhouse, and never charged nothing for his preaching, and it was\\nworth it, too. \\xa0There was plenty other farmer-preachers like that, and\\ndone the same way, down South.\\n\\nIn about half an hour Tom’s wagon drove up to the front stile, and Aunt\\nSally she see it through the window, because it was only about fifty\\nyards, and says:\\n\\n“Why, there’s somebody come! \\xa0I wonder who ‘tis? \\xa0Why, I do believe it’s\\na stranger. \\xa0Jimmy” (that’s one of the children) “run and tell Lize to\\nput on another plate for dinner.”\\n\\nEverybody made a rush for the front door, because, of course, a stranger\\ndon’t come _every_ year, and so he lays over the yaller-fever, for\\ninterest, when he does come. \\xa0Tom was over the stile and starting for\\nthe house; the wagon was spinning up the road for the village, and we\\nwas all bunched in the front door. \\xa0Tom had his store clothes on, and an\\naudience--and that was always nuts for Tom Sawyer. \\xa0In them circumstances\\nit warn’t no trouble to him to throw in an amount of style that was\\nsuitable. \\xa0He warn’t a boy to meeky along up that yard like a sheep; no,\\nhe come ca’m and important, like the ram. \\xa0When he got a-front of us he\\nlifts his hat ever so gracious and dainty, like it was the lid of a box\\nthat had butterflies asleep in it and he didn’t want to disturb them,\\nand says:\\n\\n“Mr. Archibald Nichols, I presume?”\\n\\n“No, my boy,” says the old gentleman, “I’m sorry to say ‘t your driver\\nhas deceived you; Nichols’s place is down a matter of three mile more.\\nCome in, come in.”\\n\\nTom he took a look back over his shoulder, and says, “Too late--he’s out\\nof sight.”\\n\\n“Yes, he’s gone, my son, and you must come in and eat your dinner with\\nus; and then we’ll hitch up and take you down to Nichols’s.”\\n\\n“Oh, I _can’t_ make you so much trouble; I couldn’t think of it. \\xa0I’ll\\nwalk--I don’t mind the distance.”\\n\\n“But we won’t _let_ you walk--it wouldn’t be Southern hospitality to do\\nit. Come right in.”\\n\\n“Oh, _do_,” says Aunt Sally; “it ain’t a bit of trouble to us, not a\\nbit in the world. \\xa0You must stay. \\xa0It’s a long, dusty three mile, and\\nwe can’t let you walk. \\xa0And, besides, I’ve already told ‘em to put on\\nanother plate when I see you coming; so you mustn’t disappoint us. \\xa0Come\\nright in and make yourself at home.”\\n\\nSo Tom he thanked them very hearty and handsome, and let himself be\\npersuaded, and come in; and when he was in he said he was a stranger\\nfrom Hicksville, Ohio, and his name was William Thompson--and he made\\nanother bow.\\n\\nWell, he run on, and on, and on, making up stuff about Hicksville and\\neverybody in it he could invent, and I getting a little nervious, and\\nwondering how this was going to help me out of my scrape; and at last,\\nstill talking along, he reached over and kissed Aunt Sally right on the\\nmouth, and then settled back again in his chair comfortable, and was\\ngoing on talking; but she jumped up and wiped it off with the back of\\nher hand, and says:\\n\\n“You owdacious puppy!”\\n\\nHe looked kind of hurt, and says:\\n\\n“I’m surprised at you, m’am.”\\n\\n“You’re s’rp--Why, what do you reckon I am? \\xa0I’ve a good notion to take\\nand--Say, what do you mean by kissing me?”\\n\\nHe looked kind of humble, and says:\\n\\n“I didn’t mean nothing, m’am. \\xa0I didn’t mean no harm. \\xa0I--I--thought you’d\\nlike it.”\\n\\n“Why, you born fool!” \\xa0She took up the spinning stick, and it looked\\nlike it was all she could do to keep from giving him a crack with it.\\n “What made you think I’d like it?”\\n\\n“Well, I don’t know. \\xa0Only, they--they--told me you would.”\\n\\n“_They_ told you I would. \\xa0Whoever told you’s _another_ lunatic. \\xa0I\\nnever heard the beat of it. \\xa0Who’s _they_?”\\n\\n“Why, everybody. \\xa0They all said so, m’am.”\\n\\nIt was all she could do to hold in; and her eyes snapped, and her\\nfingers worked like she wanted to scratch him; and she says:\\n\\n“Who’s ‘everybody’? \\xa0Out with their names, or ther’ll be an idiot\\nshort.”\\n\\nHe got up and looked distressed, and fumbled his hat, and says:\\n\\n“I’m sorry, and I warn’t expecting it. \\xa0They told me to. \\xa0They all told\\nme to. \\xa0They all said, kiss her; and said she’d like it. \\xa0They all said\\nit--every one of them. \\xa0But I’m sorry, m’am, and I won’t do it no more--I\\nwon’t, honest.”\\n\\n“You won’t, won’t you? \\xa0Well, I sh’d _reckon_ you won’t!”\\n\\n“No’m, I’m honest about it; I won’t ever do it again--till you ask me.”\\n\\n“Till I _ask_ you! \\xa0Well, I never see the beat of it in my born days!\\n\\xa0I lay you’ll be the Methusalem-numskull of creation before ever I ask\\nyou--or the likes of you.”\\n\\n“Well,” he says, “it does surprise me so. \\xa0I can’t make it out, somehow.\\nThey said you would, and I thought you would. \\xa0But--” He stopped and\\nlooked around slow, like he wished he could run across a friendly eye\\nsomewheres, and fetched up on the old gentleman’s, and says, “Didn’t\\n_you_ think she’d like me to kiss her, sir?”\\n\\n“Why, no; I--I--well, no, I b’lieve I didn’t.”\\n\\nThen he looks on around the same way to me, and says:\\n\\n“Tom, didn’t _you_ think Aunt Sally ‘d open out her arms and say, ‘Sid\\nSawyer--’”\\n\\n“My land!” she says, breaking in and jumping for him, “you impudent\\nyoung rascal, to fool a body so--” and was going to hug him, but he\\nfended her off, and says:\\n\\n“No, not till you’ve asked me first.”\\n\\nSo she didn’t lose no time, but asked him; and hugged him and kissed\\nhim over and over again, and then turned him over to the old man, and he\\ntook what was left. \\xa0And after they got a little quiet again she says:\\n\\n“Why, dear me, I never see such a surprise. \\xa0We warn’t looking for _you_\\nat all, but only Tom. \\xa0Sis never wrote to me about anybody coming but\\nhim.”\\n\\n“It’s because it warn’t _intended_ for any of us to come but Tom,” he\\nsays; “but I begged and begged, and at the last minute she let me\\ncome, too; so, coming down the river, me and Tom thought it would be a\\nfirst-rate surprise for him to come here to the house first, and for me\\nto by and by tag along and drop in, and let on to be a stranger. \\xa0But it\\nwas a mistake, Aunt Sally. \\xa0This ain’t no healthy place for a stranger\\nto come.”\\n\\n“No--not impudent whelps, Sid. \\xa0You ought to had your jaws boxed; I\\nhain’t been so put out since I don’t know when. \\xa0But I don’t care, I\\ndon’t mind the terms--I’d be willing to stand a thousand such jokes to\\nhave you here. Well, to think of that performance! \\xa0I don’t deny it, I\\nwas most putrified with astonishment when you give me that smack.”\\n\\nWe had dinner out in that broad open passage betwixt the house and\\nthe kitchen; and there was things enough on that table for seven\\nfamilies--and all hot, too; none of your flabby, tough meat that’s laid\\nin a cupboard in a damp cellar all night and tastes like a hunk of\\nold cold cannibal in the morning. \\xa0Uncle Silas he asked a pretty long\\nblessing over it, but it was worth it; and it didn’t cool it a bit,\\nneither, the way I’ve seen them kind of interruptions do lots of times.\\n\\xa0There was a considerable good deal of talk all the afternoon, and me\\nand Tom was on the lookout all the time; but it warn’t no use, they\\ndidn’t happen to say nothing about any runaway nigger, and we was afraid\\nto try to work up to it. \\xa0But at supper, at night, one of the little\\nboys says:\\n\\n“Pa, mayn’t Tom and Sid and me go to the show?”\\n\\n“No,” says the old man, “I reckon there ain’t going to be any; and you\\ncouldn’t go if there was; because the runaway nigger told Burton and\\nme all about that scandalous show, and Burton said he would tell the\\npeople; so I reckon they’ve drove the owdacious loafers out of town\\nbefore this time.”\\n\\nSo there it was!--but I couldn’t help it. \\xa0Tom and me was to sleep in the\\nsame room and bed; so, being tired, we bid good-night and went up to\\nbed right after supper, and clumb out of the window and down the\\nlightning-rod, and shoved for the town; for I didn’t believe anybody was\\ngoing to give the king and the duke a hint, and so if I didn’t hurry up\\nand give them one they’d get into trouble sure.\\n\\nOn the road Tom he told me all about how it was reckoned I was murdered,\\nand how pap disappeared pretty soon, and didn’t come back no more, and\\nwhat a stir there was when Jim run away; and I told Tom all about our\\nRoyal Nonesuch rapscallions, and as much of the raft voyage as I had\\ntime to; and as we struck into the town and up through the the middle of\\nit--it was as much as half-after eight, then--here comes a raging rush of\\npeople with torches, and an awful whooping and yelling, and banging tin\\npans and blowing horns; and we jumped to one side to let them go by;\\nand as they went by I see they had the king and the duke astraddle of a\\nrail--that is, I knowed it _was_ the king and the duke, though they was\\nall over tar and feathers, and didn’t look like nothing in the\\nworld that was human--just looked like a couple of monstrous big\\nsoldier-plumes. \\xa0Well, it made me sick to see it; and I was sorry for\\nthem poor pitiful rascals, it seemed like I couldn’t ever feel any\\nhardness against them any more in the world. \\xa0It was a dreadful thing to\\nsee. \\xa0Human beings _can_ be awful cruel to one another.\\n\\nWe see we was too late--couldn’t do no good. \\xa0We asked some stragglers\\nabout it, and they said everybody went to the show looking very\\ninnocent; and laid low and kept dark till the poor old king was in the\\nmiddle of his cavortings on the stage; then somebody give a signal, and\\nthe house rose up and went for them.\\n\\nSo we poked along back home, and I warn’t feeling so brash as I was\\nbefore, but kind of ornery, and humble, and to blame, somehow--though\\nI hadn’t done nothing. \\xa0But that’s always the way; it don’t make no\\ndifference whether you do right or wrong, a person’s conscience ain’t\\ngot no sense, and just goes for him anyway. \\xa0If I had a yaller dog that\\ndidn’t know no more than a person’s conscience does I would pison him.\\nIt takes up more room than all the rest of a person’s insides, and yet\\nain’t no good, nohow. \\xa0Tom Sawyer he says the same.\\n\\n\\n\\n\\nCHAPTER XXXIV.\\n\\nWE stopped talking, and got to thinking. \\xa0By and by Tom says:\\n\\n“Looky here, Huck, what fools we are to not think of it before! \\xa0I bet I\\nknow where Jim is.”\\n\\n“No! \\xa0Where?”\\n\\n“In that hut down by the ash-hopper. \\xa0Why, looky here. \\xa0When we was at\\ndinner, didn’t you see a nigger man go in there with some vittles?”\\n\\n“Yes.”\\n\\n“What did you think the vittles was for?”\\n\\n“For a dog.”\\n\\n“So ‘d I. Well, it wasn’t for a dog.”\\n\\n“Why?”\\n\\n“Because part of it was watermelon.”\\n\\n“So it was--I noticed it. \\xa0Well, it does beat all that I never thought\\nabout a dog not eating watermelon. \\xa0It shows how a body can see and\\ndon’t see at the same time.”\\n\\n“Well, the nigger unlocked the padlock when he went in, and he locked it\\nagain when he came out. \\xa0He fetched uncle a key about the time we got up\\nfrom table--same key, I bet. \\xa0Watermelon shows man, lock shows prisoner;\\nand it ain’t likely there’s two prisoners on such a little plantation,\\nand where the people’s all so kind and good. \\xa0Jim’s the prisoner. \\xa0All\\nright--I’m glad we found it out detective fashion; I wouldn’t give shucks\\nfor any other way. \\xa0Now you work your mind, and study out a plan to\\nsteal Jim, and I will study out one, too; and we’ll take the one we like\\nthe best.”\\n\\nWhat a head for just a boy to have! \\xa0If I had Tom Sawyer’s head I\\nwouldn’t trade it off to be a duke, nor mate of a steamboat, nor clown\\nin a circus, nor nothing I can think of. \\xa0I went to thinking out a plan,\\nbut only just to be doing something; I knowed very well where the right\\nplan was going to come from. \\xa0Pretty soon Tom says:\\n\\n“Ready?”\\n\\n“Yes,” I says.\\n\\n“All right--bring it out.”\\n\\n“My plan is this,” I says.  “We can easy find out if it’s Jim in there.\\nThen get up my canoe to-morrow night, and fetch my raft over from the\\nisland. \\xa0Then the first dark night that comes steal the key out of the\\nold man’s britches after he goes to bed, and shove off down the river\\non the raft with Jim, hiding daytimes and running nights, the way me and\\nJim used to do before. \\xa0Wouldn’t that plan work?”\\n\\n“_Work_? \\xa0Why, cert’nly it would work, like rats a-fighting. \\xa0But it’s\\ntoo blame’ simple; there ain’t nothing _to_ it. \\xa0What’s the good of a\\nplan that ain’t no more trouble than that? \\xa0It’s as mild as goose-milk.\\n\\xa0Why, Huck, it wouldn’t make no more talk than breaking into a soap\\nfactory.”\\n\\nI never said nothing, because I warn’t expecting nothing different; but\\nI knowed mighty well that whenever he got _his_ plan ready it wouldn’t\\nhave none of them objections to it.\\n\\nAnd it didn’t. \\xa0He told me what it was, and I see in a minute it was\\nworth fifteen of mine for style, and would make Jim just as free a man\\nas mine would, and maybe get us all killed besides. \\xa0So I was satisfied,\\nand said we would waltz in on it. \\xa0I needn’t tell what it was here,\\nbecause I knowed it wouldn’t stay the way, it was. \\xa0I knowed he would be\\nchanging it around every which way as we went along, and heaving in new\\nbullinesses wherever he got a chance. \\xa0And that is what he done.\\n\\nWell, one thing was dead sure, and that was that Tom Sawyer was in\\nearnest, and was actuly going to help steal that nigger out of slavery.\\nThat was the thing that was too many for me. \\xa0Here was a boy that was\\nrespectable and well brung up; and had a character to lose; and folks at\\nhome that had characters; and he was bright and not leather-headed; and\\nknowing and not ignorant; and not mean, but kind; and yet here he was,\\nwithout any more pride, or rightness, or feeling, than to stoop to\\nthis business, and make himself a shame, and his family a shame,\\nbefore everybody. \\xa0I _couldn’t_ understand it no way at all. \\xa0It was\\noutrageous, and I knowed I ought to just up and tell him so; and so be\\nhis true friend, and let him quit the thing right where he was and save\\nhimself. And I _did_ start to tell him; but he shut me up, and says:\\n\\n“Don’t you reckon I know what I’m about? \\xa0Don’t I generly know what I’m\\nabout?”\\n\\n“Yes.”\\n\\n“Didn’t I _say_ I was going to help steal the nigger?”\\n\\n“Yes.”\\n\\n“_Well_, then.”\\n\\nThat’s all he said, and that’s all I said. \\xa0It warn’t no use to say any\\nmore; because when he said he’d do a thing, he always done it. \\xa0But I\\ncouldn’t make out how he was willing to go into this thing; so I just\\nlet it go, and never bothered no more about it. \\xa0If he was bound to have\\nit so, I couldn’t help it.\\n\\nWhen we got home the house was all dark and still; so we went on down to\\nthe hut by the ash-hopper for to examine it. \\xa0We went through the yard\\nso as to see what the hounds would do. \\xa0They knowed us, and didn’t make\\nno more noise than country dogs is always doing when anything comes by\\nin the night. \\xa0When we got to the cabin we took a look at the front and\\nthe two sides; and on the side I warn’t acquainted with--which was the\\nnorth side--we found a square window-hole, up tolerable high, with just\\none stout board nailed across it. \\xa0I says:\\n\\n“Here’s the ticket. \\xa0This hole’s big enough for Jim to get through if we\\nwrench off the board.”\\n\\nTom says:\\n\\n“It’s as simple as tit-tat-toe, three-in-a-row, and as easy as\\nplaying hooky. \\xa0I should _hope_ we can find a way that’s a little more\\ncomplicated than _that_, Huck Finn.”\\n\\n“Well, then,” I says, “how ‘ll it do to saw him out, the way I done\\nbefore I was murdered that time?”\\n\\n“That’s more _like_,” he says.  “It’s real mysterious, and troublesome,\\nand good,” he says; “but I bet we can find a way that’s twice as long.\\n\\xa0There ain’t no hurry; le’s keep on looking around.”\\n\\nBetwixt the hut and the fence, on the back side, was a lean-to that\\njoined the hut at the eaves, and was made out of plank. \\xa0It was as long\\nas the hut, but narrow--only about six foot wide. \\xa0The door to it was at\\nthe south end, and was padlocked. \\xa0Tom he went to the soap-kettle and\\nsearched around, and fetched back the iron thing they lift the lid with;\\nso he took it and prized out one of the staples. \\xa0The chain fell down,\\nand we opened the door and went in, and shut it, and struck a match,\\nand see the shed was only built against a cabin and hadn’t no connection\\nwith it; and there warn’t no floor to the shed, nor nothing in it but\\nsome old rusty played-out hoes and spades and picks and a crippled plow.\\n\\xa0The match went out, and so did we, and shoved in the staple again, and\\nthe door was locked as good as ever. Tom was joyful. \\xa0He says;\\n\\n“Now we’re all right. \\xa0We’ll _dig_ him out. \\xa0It ‘ll take about a week!”\\n\\nThen we started for the house, and I went in the back door--you only have\\nto pull a buckskin latch-string, they don’t fasten the doors--but that\\nwarn’t romantical enough for Tom Sawyer; no way would do him but he must\\nclimb up the lightning-rod. \\xa0But after he got up half way about three\\ntimes, and missed fire and fell every time, and the last time most\\nbusted his brains out, he thought he’d got to give it up; but after he\\nwas rested he allowed he would give her one more turn for luck, and this\\ntime he made the trip.\\n\\nIn the morning we was up at break of day, and down to the nigger cabins\\nto pet the dogs and make friends with the nigger that fed Jim--if it\\n_was_ Jim that was being fed. \\xa0The niggers was just getting through\\nbreakfast and starting for the fields; and Jim’s nigger was piling up\\na tin pan with bread and meat and things; and whilst the others was\\nleaving, the key come from the house.\\n\\nThis nigger had a good-natured, chuckle-headed face, and his wool was\\nall tied up in little bunches with thread. \\xa0That was to keep witches\\noff. \\xa0He said the witches was pestering him awful these nights, and\\nmaking him see all kinds of strange things, and hear all kinds of\\nstrange words and noises, and he didn’t believe he was ever witched so\\nlong before in his life. \\xa0He got so worked up, and got to running on so\\nabout his troubles, he forgot all about what he’d been a-going to do.\\n\\xa0So Tom says:\\n\\n“What’s the vittles for? \\xa0Going to feed the dogs?”\\n\\nThe nigger kind of smiled around gradually over his face, like when you\\nheave a brickbat in a mud-puddle, and he says:\\n\\n“Yes, Mars Sid, A dog. \\xa0Cur’us dog, too. \\xa0Does you want to go en look at\\n‘im?”\\n\\n“Yes.”\\n\\nI hunched Tom, and whispers:\\n\\n“You going, right here in the daybreak? \\xa0_that_ warn’t the plan.”\\n\\n“No, it warn’t; but it’s the plan _now_.”\\n\\nSo, drat him, we went along, but I didn’t like it much. \\xa0When we got in\\nwe couldn’t hardly see anything, it was so dark; but Jim was there, sure\\nenough, and could see us; and he sings out:\\n\\n“Why, _Huck_! \\xa0En good _lan_’! ain’ dat Misto Tom?”\\n\\nI just knowed how it would be; I just expected it. \\xa0I didn’t know\\nnothing to do; and if I had I couldn’t a done it, because that nigger\\nbusted in and says:\\n\\n“Why, de gracious sakes! do he know you genlmen?”\\n\\nWe could see pretty well now. \\xa0Tom he looked at the nigger, steady and\\nkind of wondering, and says:\\n\\n“Does _who_ know us?”\\n\\n“Why, dis-yer runaway nigger.”\\n\\n“I don’t reckon he does; but what put that into your head?”\\n\\n“What _put_ it dar? \\xa0Didn’ he jis’ dis minute sing out like he knowed\\nyou?”\\n\\nTom says, in a puzzled-up kind of way:\\n\\n“Well, that’s mighty curious. \\xa0_Who_ sung out? _when_ did he sing out?\\n\\xa0_what_ did he sing out?” And turns to me, perfectly ca’m, and says,\\n“Did _you_ hear anybody sing out?”\\n\\nOf course there warn’t nothing to be said but the one thing; so I says:\\n\\n“No; I ain’t heard nobody say nothing.”\\n\\nThen he turns to Jim, and looks him over like he never see him before,\\nand says:\\n\\n“Did you sing out?”\\n\\n“No, sah,” says Jim; “I hain’t said nothing, sah.”\\n\\n“Not a word?”\\n\\n“No, sah, I hain’t said a word.”\\n\\n“Did you ever see us before?”\\n\\n“No, sah; not as I knows on.”\\n\\nSo Tom turns to the nigger, which was looking wild and distressed, and\\nsays, kind of severe:\\n\\n“What do you reckon’s the matter with you, anyway? \\xa0What made you think\\nsomebody sung out?”\\n\\n“Oh, it’s de dad-blame’ witches, sah, en I wisht I was dead, I do.\\n\\xa0Dey’s awluz at it, sah, en dey do mos’ kill me, dey sk’yers me so.\\n\\xa0Please to don’t tell nobody ‘bout it sah, er ole Mars Silas he’ll scole\\nme; ‘kase he say dey _ain’t_ no witches. \\xa0I jis’ wish to goodness he was\\nheah now--_den_ what would he say! \\xa0I jis’ bet he couldn’ fine no way to\\ngit aroun’ it _dis_ time. \\xa0But it’s awluz jis’ so; people dat’s _sot_,\\nstays sot; dey won’t look into noth’n’en fine it out f’r deyselves, en\\nwhen _you_ fine it out en tell um ‘bout it, dey doan’ b’lieve you.”\\n\\nTom give him a dime, and said we wouldn’t tell nobody; and told him to\\nbuy some more thread to tie up his wool with; and then looks at Jim, and\\nsays:\\n\\n“I wonder if Uncle Silas is going to hang this nigger. \\xa0If I was to\\ncatch a nigger that was ungrateful enough to run away, I wouldn’t give\\nhim up, I’d hang him.” \\xa0And whilst the nigger stepped to the door to\\nlook at the dime and bite it to see if it was good, he whispers to Jim\\nand says:\\n\\n“Don’t ever let on to know us. \\xa0And if you hear any digging going on\\nnights, it’s us; we’re going to set you free.”\\n\\nJim only had time to grab us by the hand and squeeze it; then the nigger\\ncome back, and we said we’d come again some time if the nigger wanted\\nus to; and he said he would, more particular if it was dark, because the\\nwitches went for him mostly in the dark, and it was good to have folks\\naround then.\\n\\n\\n\\n\\nCHAPTER XXXV.\\n\\nIT would be most an hour yet till breakfast, so we left and struck down\\ninto the woods; because Tom said we got to have _some_ light to see how\\nto dig by, and a lantern makes too much, and might get us into trouble;\\nwhat we must have was a lot of them rotten chunks that’s called\\nfox-fire, and just makes a soft kind of a glow when you lay them in a\\ndark place. \\xa0We fetched an armful and hid it in the weeds, and set down\\nto rest, and Tom says, kind of dissatisfied:\\n\\n“Blame it, this whole thing is just as easy and awkward as it can be.\\nAnd so it makes it so rotten difficult to get up a difficult plan.\\n\\xa0There ain’t no watchman to be drugged--now there _ought_ to be a\\nwatchman. \\xa0There ain’t even a dog to give a sleeping-mixture to. \\xa0And\\nthere’s Jim chained by one leg, with a ten-foot chain, to the leg of his\\nbed: \\xa0why, all you got to do is to lift up the bedstead and slip off\\nthe chain. \\xa0And Uncle Silas he trusts everybody; sends the key to the\\npunkin-headed nigger, and don’t send nobody to watch the nigger. \\xa0Jim\\ncould a got out of that window-hole before this, only there wouldn’t be\\nno use trying to travel with a ten-foot chain on his leg. \\xa0Why, drat it,\\nHuck, it’s the stupidest arrangement I ever see. You got to invent _all_\\nthe difficulties. \\xa0Well, we can’t help it; we got to do the best we can\\nwith the materials we’ve got. Anyhow, there’s one thing--there’s more\\nhonor in getting him out through a lot of difficulties and dangers,\\nwhere there warn’t one of them furnished to you by the people who it was\\ntheir duty to furnish them, and you had to contrive them all out of your\\nown head. \\xa0Now look at just that one thing of the lantern. \\xa0When you\\ncome down to the cold facts, we simply got to _let on_ that a lantern’s\\nresky. \\xa0Why, we could work with a torchlight procession if we wanted to,\\nI believe. \\xa0Now, whilst I think of it, we got to hunt up something to\\nmake a saw out of the first chance we get.”\\n\\n“What do we want of a saw?”\\n\\n“What do we _want_ of it? \\xa0Hain’t we got to saw the leg of Jim’s bed\\noff, so as to get the chain loose?”\\n\\n“Why, you just said a body could lift up the bedstead and slip the chain\\noff.”\\n\\n“Well, if that ain’t just like you, Huck Finn. \\xa0You _can_ get up the\\ninfant-schooliest ways of going at a thing. \\xa0Why, hain’t you ever read\\nany books at all?--Baron Trenck, nor Casanova, nor Benvenuto Chelleeny,\\nnor Henri IV., nor none of them heroes? \\xa0Who ever heard of getting a\\nprisoner loose in such an old-maidy way as that? \\xa0No; the way all the\\nbest authorities does is to saw the bed-leg in two, and leave it just\\nso, and swallow the sawdust, so it can’t be found, and put some dirt and\\ngrease around the sawed place so the very keenest seneskal can’t see\\nno sign of it’s being sawed, and thinks the bed-leg is perfectly sound.\\nThen, the night you’re ready, fetch the leg a kick, down she goes; slip\\noff your chain, and there you are. \\xa0Nothing to do but hitch your\\nrope ladder to the battlements, shin down it, break your leg in the\\nmoat--because a rope ladder is nineteen foot too short, you know--and\\nthere’s your horses and your trusty vassles, and they scoop you up and\\nfling you across a saddle, and away you go to your native Langudoc, or\\nNavarre, or wherever it is. It’s gaudy, Huck. \\xa0I wish there was a moat\\nto this cabin. If we get time, the night of the escape, we’ll dig one.”\\n\\nI says:\\n\\n“What do we want of a moat when we’re going to snake him out from under\\nthe cabin?”\\n\\nBut he never heard me. \\xa0He had forgot me and everything else. \\xa0He had\\nhis chin in his hand, thinking. \\xa0Pretty soon he sighs and shakes his\\nhead; then sighs again, and says:\\n\\n“No, it wouldn’t do--there ain’t necessity enough for it.”\\n\\n“For what?” \\xa0I says.\\n\\n“Why, to saw Jim’s leg off,” he says.\\n\\n“Good land!” \\xa0I says; “why, there ain’t _no_ necessity for it. \\xa0And what\\nwould you want to saw his leg off for, anyway?”\\n\\n“Well, some of the best authorities has done it. \\xa0They couldn’t get the\\nchain off, so they just cut their hand off and shoved. \\xa0And a leg would\\nbe better still. \\xa0But we got to let that go. \\xa0There ain’t necessity\\nenough in this case; and, besides, Jim’s a nigger, and wouldn’t\\nunderstand the reasons for it, and how it’s the custom in Europe; so\\nwe’ll let it go. \\xa0But there’s one thing--he can have a rope ladder; we\\ncan tear up our sheets and make him a rope ladder easy enough. \\xa0And we\\ncan send it to him in a pie; it’s mostly done that way. \\xa0And I’ve et\\nworse pies.”\\n\\n“Why, Tom Sawyer, how you talk,” I says; “Jim ain’t got no use for a\\nrope ladder.”\\n\\n“He _has_ got use for it. \\xa0How _you_ talk, you better say; you don’t\\nknow nothing about it. \\xa0He’s _got_ to have a rope ladder; they all do.”\\n\\n“What in the nation can he _do_ with it?”\\n\\n“_Do_ with it? \\xa0He can hide it in his bed, can’t he?” \\xa0That’s what they\\nall do; and _he’s_ got to, too. \\xa0Huck, you don’t ever seem to want to do\\nanything that’s regular; you want to be starting something fresh all the\\ntime. S’pose he _don’t_ do nothing with it? ain’t it there in his bed,\\nfor a clew, after he’s gone? and don’t you reckon they’ll want clews?\\n\\xa0Of course they will. \\xa0And you wouldn’t leave them any? \\xa0That would be a\\n_pretty_ howdy-do, _wouldn’t_ it! \\xa0I never heard of such a thing.”\\n\\n“Well,” I says, “if it’s in the regulations, and he’s got to have\\nit, all right, let him have it; because I don’t wish to go back on no\\nregulations; but there’s one thing, Tom Sawyer--if we go to tearing up\\nour sheets to make Jim a rope ladder, we’re going to get into trouble\\nwith Aunt Sally, just as sure as you’re born. \\xa0Now, the way I look at\\nit, a hickry-bark ladder don’t cost nothing, and don’t waste nothing,\\nand is just as good to load up a pie with, and hide in a straw tick,\\nas any rag ladder you can start; and as for Jim, he ain’t had no\\nexperience, and so he don’t care what kind of a--”\\n\\n“Oh, shucks, Huck Finn, if I was as ignorant as you I’d keep\\nstill--that’s what I’D do. \\xa0Who ever heard of a state prisoner escaping\\nby a hickry-bark ladder? \\xa0Why, it’s perfectly ridiculous.”\\n\\n“Well, all right, Tom, fix it your own way; but if you’ll take my\\nadvice, you’ll let me borrow a sheet off of the clothesline.”\\n\\nHe said that would do. \\xa0And that gave him another idea, and he says:\\n\\n“Borrow a shirt, too.”\\n\\n“What do we want of a shirt, Tom?”\\n\\n“Want it for Jim to keep a journal on.”\\n\\n“Journal your granny--_Jim_ can’t write.”\\n\\n“S’pose he _can’t_ write--he can make marks on the shirt, can’t he, if\\nwe make him a pen out of an old pewter spoon or a piece of an old iron\\nbarrel-hoop?”\\n\\n“Why, Tom, we can pull a feather out of a goose and make him a better\\none; and quicker, too.”\\n\\n“_Prisoners_ don’t have geese running around the donjon-keep to pull\\npens out of, you muggins. \\xa0They _always_ make their pens out of the\\nhardest, toughest, troublesomest piece of old brass candlestick or\\nsomething like that they can get their hands on; and it takes them weeks\\nand weeks and months and months to file it out, too, because they’ve got\\nto do it by rubbing it on the wall. \\xa0_They_ wouldn’t use a goose-quill\\nif they had it. It ain’t regular.”\\n\\n“Well, then, what’ll we make him the ink out of?”\\n\\n“Many makes it out of iron-rust and tears; but that’s the common sort\\nand women; the best authorities uses their own blood. \\xa0Jim can do that;\\nand when he wants to send any little common ordinary mysterious message\\nto let the world know where he’s captivated, he can write it on the\\nbottom of a tin plate with a fork and throw it out of the window. \\xa0The\\nIron Mask always done that, and it’s a blame’ good way, too.”\\n\\n“Jim ain’t got no tin plates. \\xa0They feed him in a pan.”\\n\\n“That ain’t nothing; we can get him some.”\\n\\n“Can’t nobody _read_ his plates.”\\n\\n“That ain’t got anything to _do_ with it, Huck Finn. \\xa0All _he’s_ got to\\ndo is to write on the plate and throw it out. \\xa0You don’t _have_ to be\\nable to read it. Why, half the time you can’t read anything a prisoner\\nwrites on a tin plate, or anywhere else.”\\n\\n“Well, then, what’s the sense in wasting the plates?”\\n\\n“Why, blame it all, it ain’t the _prisoner’s_ plates.”\\n\\n“But it’s _somebody’s_ plates, ain’t it?”\\n\\n“Well, spos’n it is? \\xa0What does the _prisoner_ care whose--”\\n\\nHe broke off there, because we heard the breakfast-horn blowing. \\xa0So we\\ncleared out for the house.\\n\\nAlong during the morning I borrowed a sheet and a white shirt off of the\\nclothes-line; and I found an old sack and put them in it, and we went\\ndown and got the fox-fire, and put that in too. \\xa0I called it borrowing,\\nbecause that was what pap always called it; but Tom said it warn’t\\nborrowing, it was stealing. \\xa0He said we was representing prisoners; and\\nprisoners don’t care how they get a thing so they get it, and nobody\\ndon’t blame them for it, either. \\xa0It ain’t no crime in a prisoner to\\nsteal the thing he needs to get away with, Tom said; it’s his right; and\\nso, as long as we was representing a prisoner, we had a perfect right to\\nsteal anything on this place we had the least use for to get ourselves\\nout of prison with. \\xa0He said if we warn’t prisoners it would be a very\\ndifferent thing, and nobody but a mean, ornery person would steal when\\nhe warn’t a prisoner. \\xa0So we allowed we would steal everything there was\\nthat come handy. \\xa0And yet he made a mighty fuss, one day, after that,\\nwhen I stole a watermelon out of the nigger-patch and eat it; and he\\nmade me go and give the niggers a dime without telling them what it\\nwas for. Tom said that what he meant was, we could steal anything we\\n_needed_. Well, I says, I needed the watermelon. \\xa0But he said I didn’t\\nneed it to get out of prison with; there’s where the difference was.\\n\\xa0He said if I’d a wanted it to hide a knife in, and smuggle it to Jim\\nto kill the seneskal with, it would a been all right. \\xa0So I let it go at\\nthat, though I couldn’t see no advantage in my representing a prisoner\\nif I got to set down and chaw over a lot of gold-leaf distinctions like\\nthat every time I see a chance to hog a watermelon.\\n\\nWell, as I was saying, we waited that morning till everybody was settled\\ndown to business, and nobody in sight around the yard; then Tom he\\ncarried the sack into the lean-to whilst I stood off a piece to keep\\nwatch. \\xa0By and by he come out, and we went and set down on the woodpile\\nto talk. \\xa0He says:\\n\\n“Everything’s all right now except tools; and that’s easy fixed.”\\n\\n“Tools?” \\xa0I says.\\n\\n“Yes.”\\n\\n“Tools for what?”\\n\\n“Why, to dig with. \\xa0We ain’t a-going to _gnaw_ him out, are we?”\\n\\n“Ain’t them old crippled picks and things in there good enough to dig a\\nnigger out with?” \\xa0I says.\\n\\nHe turns on me, looking pitying enough to make a body cry, and says:\\n\\n“Huck Finn, did you _ever_ hear of a prisoner having picks and shovels,\\nand all the modern conveniences in his wardrobe to dig himself out with?\\n\\xa0Now I want to ask you--if you got any reasonableness in you at all--what\\nkind of a show would _that_ give him to be a hero? \\xa0Why, they might as\\nwell lend him the key and done with it. \\xa0Picks and shovels--why, they\\nwouldn’t furnish ‘em to a king.”\\n\\n“Well, then,” I says, “if we don’t want the picks and shovels, what do\\nwe want?”\\n\\n“A couple of case-knives.”\\n\\n“To dig the foundations out from under that cabin with?”\\n\\n“Yes.”\\n\\n“Confound it, it’s foolish, Tom.”\\n\\n“It don’t make no difference how foolish it is, it’s the _right_ way--and\\nit’s the regular way. \\xa0And there ain’t no _other_ way, that ever I heard\\nof, and I’ve read all the books that gives any information about these\\nthings. They always dig out with a case-knife--and not through dirt, mind\\nyou; generly it’s through solid rock. \\xa0And it takes them weeks and weeks\\nand weeks, and for ever and ever. \\xa0Why, look at one of them prisoners in\\nthe bottom dungeon of the Castle Deef, in the harbor of Marseilles, that\\ndug himself out that way; how long was _he_ at it, you reckon?”\\n\\n“I don’t know.”\\n\\n“Well, guess.”\\n\\n“I don’t know. \\xa0A month and a half.”\\n\\n“_Thirty-seven year_--and he come out in China. \\xa0_That’s_ the kind. \\xa0I\\nwish the bottom of _this_ fortress was solid rock.”\\n\\n“_Jim_ don’t know nobody in China.”\\n\\n“What’s _that_ got to do with it? \\xa0Neither did that other fellow. \\xa0But\\nyou’re always a-wandering off on a side issue. \\xa0Why can’t you stick to\\nthe main point?”\\n\\n“All right--I don’t care where he comes out, so he _comes_ out; and Jim\\ndon’t, either, I reckon. \\xa0But there’s one thing, anyway--Jim’s too old to\\nbe dug out with a case-knife. \\xa0He won’t last.”\\n\\n“Yes he will _last_, too. \\xa0You don’t reckon it’s going to take\\nthirty-seven years to dig out through a _dirt_ foundation, do you?”\\n\\n“How long will it take, Tom?”\\n\\n“Well, we can’t resk being as long as we ought to, because it mayn’t\\ntake very long for Uncle Silas to hear from down there by New Orleans.\\n\\xa0He’ll hear Jim ain’t from there. \\xa0Then his next move will be to\\nadvertise Jim, or something like that. \\xa0So we can’t resk being as long\\ndigging him out as we ought to. \\xa0By rights I reckon we ought to be\\na couple of years; but we can’t. \\xa0Things being so uncertain, what I\\nrecommend is this: \\xa0that we really dig right in, as quick as we can;\\nand after that, we can _let on_, to ourselves, that we was at it\\nthirty-seven years. \\xa0Then we can snatch him out and rush him away the\\nfirst time there’s an alarm. \\xa0Yes, I reckon that ‘ll be the best way.”\\n\\n“Now, there’s _sense_ in that,” I says.  “Letting on don’t cost nothing;\\nletting on ain’t no trouble; and if it’s any object, I don’t mind\\nletting on we was at it a hundred and fifty year. \\xa0It wouldn’t strain\\nme none, after I got my hand in. \\xa0So I’ll mosey along now, and smouch a\\ncouple of case-knives.”\\n\\n“Smouch three,” he says; “we want one to make a saw out of.”\\n\\n“Tom, if it ain’t unregular and irreligious to sejest it,” I says,\\n“there’s an old rusty saw-blade around yonder sticking under the\\nweather-boarding behind the smoke-house.”\\n\\nHe looked kind of weary and discouraged-like, and says:\\n\\n“It ain’t no use to try to learn you nothing, Huck. \\xa0Run along and\\nsmouch the knives--three of them.” \\xa0So I done it.\\n\\n\\n\\n\\nCHAPTER XXXVI.\\n\\nAS soon as we reckoned everybody was asleep that night we went down the\\nlightning-rod, and shut ourselves up in the lean-to, and got out our\\npile of fox-fire, and went to work. \\xa0We cleared everything out of the\\nway, about four or five foot along the middle of the bottom log. \\xa0Tom\\nsaid he was right behind Jim’s bed now, and we’d dig in under it, and\\nwhen we got through there couldn’t nobody in the cabin ever know there\\nwas any hole there, because Jim’s counter-pin hung down most to the\\nground, and you’d have to raise it up and look under to see the hole.\\n\\xa0So we dug and dug with the case-knives till most midnight; and then\\nwe was dog-tired, and our hands was blistered, and yet you couldn’t see\\nwe’d done anything hardly. \\xa0At last I says:\\n\\n“This ain’t no thirty-seven year job; this is a thirty-eight year job,\\nTom Sawyer.”\\n\\nHe never said nothing. \\xa0But he sighed, and pretty soon he stopped\\ndigging, and then for a good little while I knowed that he was thinking.\\nThen he says:\\n\\n“It ain’t no use, Huck, it ain’t a-going to work. \\xa0If we was prisoners\\nit would, because then we’d have as many years as we wanted, and no\\nhurry; and we wouldn’t get but a few minutes to dig, every day, while\\nthey was changing watches, and so our hands wouldn’t get blistered, and\\nwe could keep it up right along, year in and year out, and do it right,\\nand the way it ought to be done. \\xa0But _we_ can’t fool along; we got to\\nrush; we ain’t got no time to spare. \\xa0If we was to put in another\\nnight this way we’d have to knock off for a week to let our hands get\\nwell--couldn’t touch a case-knife with them sooner.”\\n\\n“Well, then, what we going to do, Tom?”\\n\\n“I’ll tell you. \\xa0It ain’t right, and it ain’t moral, and I wouldn’t like\\nit to get out; but there ain’t only just the one way: \\xa0we got to dig him\\nout with the picks, and _let on_ it’s case-knives.”\\n\\n“_Now_ you’re _talking_!” \\xa0I says; “your head gets leveler and leveler\\nall the time, Tom Sawyer,” I says.  “Picks is the thing, moral or no\\nmoral; and as for me, I don’t care shucks for the morality of it, nohow.\\n\\xa0When I start in to steal a nigger, or a watermelon, or a Sunday-school\\nbook, I ain’t no ways particular how it’s done so it’s done. \\xa0What I\\nwant is my nigger; or what I want is my watermelon; or what I want is my\\nSunday-school book; and if a pick’s the handiest thing, that’s the thing\\nI’m a-going to dig that nigger or that watermelon or that Sunday-school\\nbook out with; and I don’t give a dead rat what the authorities thinks\\nabout it nuther.”\\n\\n“Well,” he says, “there’s excuse for picks and letting-on in a case like\\nthis; if it warn’t so, I wouldn’t approve of it, nor I wouldn’t stand by\\nand see the rules broke--because right is right, and wrong is wrong,\\nand a body ain’t got no business doing wrong when he ain’t ignorant and\\nknows better. \\xa0It might answer for _you_ to dig Jim out with a pick,\\n_without_ any letting on, because you don’t know no better; but it\\nwouldn’t for me, because I do know better. \\xa0Gimme a case-knife.”\\n\\nHe had his own by him, but I handed him mine. \\xa0He flung it down, and\\nsays:\\n\\n“Gimme a _case-knife_.”\\n\\nI didn’t know just what to do--but then I thought. \\xa0I scratched around\\namongst the old tools, and got a pickaxe and give it to him, and he took\\nit and went to work, and never said a word.\\n\\nHe was always just that particular. \\xa0Full of principle.\\n\\nSo then I got a shovel, and then we picked and shoveled, turn about,\\nand made the fur fly. \\xa0We stuck to it about a half an hour, which was as\\nlong as we could stand up; but we had a good deal of a hole to show for\\nit. When I got up stairs I looked out at the window and see Tom doing\\nhis level best with the lightning-rod, but he couldn’t come it, his\\nhands was so sore. \\xa0At last he says:\\n\\n“It ain’t no use, it can’t be done. \\xa0What you reckon I better do? \\xa0Can’t\\nyou think of no way?”\\n\\n“Yes,” I says, “but I reckon it ain’t regular. \\xa0Come up the stairs, and\\nlet on it’s a lightning-rod.”\\n\\nSo he done it.\\n\\nNext day Tom stole a pewter spoon and a brass candlestick in the house,\\nfor to make some pens for Jim out of, and six tallow candles; and I\\nhung around the nigger cabins and laid for a chance, and stole three tin\\nplates. \\xa0Tom says it wasn’t enough; but I said nobody wouldn’t ever see\\nthe plates that Jim throwed out, because they’d fall in the dog-fennel\\nand jimpson weeds under the window-hole--then we could tote them back and\\nhe could use them over again. \\xa0So Tom was satisfied. \\xa0Then he says:\\n\\n“Now, the thing to study out is, how to get the things to Jim.”\\n\\n“Take them in through the hole,” I says, “when we get it done.”\\n\\nHe only just looked scornful, and said something about nobody ever heard\\nof such an idiotic idea, and then he went to studying. \\xa0By and by he\\nsaid he had ciphered out two or three ways, but there warn’t no need to\\ndecide on any of them yet. \\xa0Said we’d got to post Jim first.\\n\\nThat night we went down the lightning-rod a little after ten, and took\\none of the candles along, and listened under the window-hole, and heard\\nJim snoring; so we pitched it in, and it didn’t wake him. \\xa0Then we\\nwhirled in with the pick and shovel, and in about two hours and a half\\nthe job was done. \\xa0We crept in under Jim’s bed and into the cabin, and\\npawed around and found the candle and lit it, and stood over Jim awhile,\\nand found him looking hearty and healthy, and then we woke him up gentle\\nand gradual. \\xa0He was so glad to see us he most cried; and called us\\nhoney, and all the pet names he could think of; and was for having us\\nhunt up a cold-chisel to cut the chain off of his leg with right away,\\nand clearing out without losing any time. \\xa0But Tom he showed him how\\nunregular it would be, and set down and told him all about our plans,\\nand how we could alter them in a minute any time there was an alarm; and\\nnot to be the least afraid, because we would see he got away, _sure_.\\n\\xa0So Jim he said it was all right, and we set there and talked over old\\ntimes awhile, and then Tom asked a lot of questions, and when Jim told\\nhim Uncle Silas come in every day or two to pray with him, and Aunt\\nSally come in to see if he was comfortable and had plenty to eat, and\\nboth of them was kind as they could be, Tom says:\\n\\n“_Now_ I know how to fix it. \\xa0We’ll send you some things by them.”\\n\\nI said, “Don’t do nothing of the kind; it’s one of the most jackass\\nideas I ever struck;” but he never paid no attention to me; went right\\non. \\xa0It was his way when he’d got his plans set.\\n\\nSo he told Jim how we’d have to smuggle in the rope-ladder pie and other\\nlarge things by Nat, the nigger that fed him, and he must be on the\\nlookout, and not be surprised, and not let Nat see him open them; and\\nwe would put small things in uncle’s coat-pockets and he must steal them\\nout; and we would tie things to aunt’s apron-strings or put them in her\\napron-pocket, if we got a chance; and told him what they would be and\\nwhat they was for. \\xa0And told him how to keep a journal on the shirt with\\nhis blood, and all that. He told him everything. \\xa0Jim he couldn’t see\\nno sense in the most of it, but he allowed we was white folks and knowed\\nbetter than him; so he was satisfied, and said he would do it all just\\nas Tom said.\\n\\nJim had plenty corn-cob pipes and tobacco; so we had a right down good\\nsociable time; then we crawled out through the hole, and so home to\\nbed, with hands that looked like they’d been chawed. \\xa0Tom was in high\\nspirits. He said it was the best fun he ever had in his life, and the\\nmost intellectural; and said if he only could see his way to it we would\\nkeep it up all the rest of our lives and leave Jim to our children to\\nget out; for he believed Jim would come to like it better and better the\\nmore he got used to it. \\xa0He said that in that way it could be strung out\\nto as much as eighty year, and would be the best time on record. \\xa0And he\\nsaid it would make us all celebrated that had a hand in it.\\n\\nIn the morning we went out to the woodpile and chopped up the brass\\ncandlestick into handy sizes, and Tom put them and the pewter spoon in\\nhis pocket. \\xa0Then we went to the nigger cabins, and while I got Nat’s\\nnotice off, Tom shoved a piece of candlestick into the middle of a\\ncorn-pone that was in Jim’s pan, and we went along with Nat to see how\\nit would work, and it just worked noble; when Jim bit into it it most\\nmashed all his teeth out; and there warn’t ever anything could a worked\\nbetter. Tom said so himself. Jim he never let on but what it was only\\njust a piece of rock or something like that that’s always getting into\\nbread, you know; but after that he never bit into nothing but what he\\njabbed his fork into it in three or four places first.\\n\\nAnd whilst we was a-standing there in the dimmish light, here comes a\\ncouple of the hounds bulging in from under Jim’s bed; and they kept on\\npiling in till there was eleven of them, and there warn’t hardly room\\nin there to get your breath. \\xa0By jings, we forgot to fasten that lean-to\\ndoor! \\xa0The nigger Nat he only just hollered “Witches” once, and keeled\\nover on to the floor amongst the dogs, and begun to groan like he was\\ndying. \\xa0Tom jerked the door open and flung out a slab of Jim’s meat,\\nand the dogs went for it, and in two seconds he was out himself and back\\nagain and shut the door, and I knowed he’d fixed the other door too.\\nThen he went to work on the nigger, coaxing him and petting him, and\\nasking him if he’d been imagining he saw something again. \\xa0He raised up,\\nand blinked his eyes around, and says:\\n\\n“Mars Sid, you’ll say I’s a fool, but if I didn’t b’lieve I see most a\\nmillion dogs, er devils, er some’n, I wisht I may die right heah in dese\\ntracks. \\xa0I did, mos’ sholy. \\xa0Mars Sid, I _felt_ um--I _felt_ um, sah; dey\\nwas all over me. \\xa0Dad fetch it, I jis’ wisht I could git my han’s on one\\ner dem witches jis’ wunst--on’y jis’ wunst--it’s all I’d ast. \\xa0But mos’ly\\nI wisht dey’d lemme ‘lone, I does.”\\n\\nTom says:\\n\\n“Well, I tell you what I think. \\xa0What makes them come here just at this\\nrunaway nigger’s breakfast-time? \\xa0It’s because they’re hungry; that’s\\nthe reason. \\xa0You make them a witch pie; that’s the thing for _you_ to\\ndo.”\\n\\n“But my lan’, Mars Sid, how’s I gwyne to make ‘m a witch pie? \\xa0I doan’\\nknow how to make it. \\xa0I hain’t ever hearn er sich a thing b’fo’.”\\n\\n“Well, then, I’ll have to make it myself.”\\n\\n“Will you do it, honey?--will you? \\xa0I’ll wusshup de groun’ und’ yo’ foot,\\nI will!”\\n\\n“All right, I’ll do it, seeing it’s you, and you’ve been good to us and\\nshowed us the runaway nigger. \\xa0But you got to be mighty careful. \\xa0When\\nwe come around, you turn your back; and then whatever we’ve put in the\\npan, don’t you let on you see it at all. \\xa0And don’t you look when Jim\\nunloads the pan--something might happen, I don’t know what. \\xa0And above\\nall, don’t you _handle_ the witch-things.”\\n\\n“_Hannel ‘M_, Mars Sid? \\xa0What _is_ you a-talkin’ ‘bout? \\xa0I wouldn’\\nlay de weight er my finger on um, not f’r ten hund’d thous’n billion\\ndollars, I wouldn’t.”\\n\\n\\n\\n\\nCHAPTER XXXVII.\\n\\nTHAT was all fixed. \\xa0So then we went away and went to the rubbage-pile\\nin the back yard, where they keep the old boots, and rags, and pieces\\nof bottles, and wore-out tin things, and all such truck, and scratched\\naround and found an old tin washpan, and stopped up the holes as well as\\nwe could, to bake the pie in, and took it down cellar and stole it full\\nof flour and started for breakfast, and found a couple of shingle-nails\\nthat Tom said would be handy for a prisoner to scrabble his name and\\nsorrows on the dungeon walls with, and dropped one of them in Aunt\\nSally’s apron-pocket which was hanging on a chair, and t’other we stuck\\nin the band of Uncle Silas’s hat, which was on the bureau, because we\\nheard the children say their pa and ma was going to the runaway nigger’s\\nhouse this morning, and then went to breakfast, and Tom dropped the\\npewter spoon in Uncle Silas’s coat-pocket, and Aunt Sally wasn’t come\\nyet, so we had to wait a little while.\\n\\nAnd when she come she was hot and red and cross, and couldn’t hardly\\nwait for the blessing; and then she went to sluicing out coffee with one\\nhand and cracking the handiest child’s head with her thimble with the\\nother, and says:\\n\\n“I’ve hunted high and I’ve hunted low, and it does beat all what _has_\\nbecome of your other shirt.”\\n\\nMy heart fell down amongst my lungs and livers and things, and a hard\\npiece of corn-crust started down my throat after it and got met on the\\nroad with a cough, and was shot across the table, and took one of the\\nchildren in the eye and curled him up like a fishing-worm, and let a cry\\nout of him the size of a warwhoop, and Tom he turned kinder blue around\\nthe gills, and it all amounted to a considerable state of things for\\nabout a quarter of a minute or as much as that, and I would a sold out\\nfor half price if there was a bidder. \\xa0But after that we was all right\\nagain--it was the sudden surprise of it that knocked us so kind of cold.\\nUncle Silas he says:\\n\\n“It’s most uncommon curious, I can’t understand it. \\xa0I know perfectly\\nwell I took it _off_, because--”\\n\\n“Because you hain’t got but one _on_. \\xa0Just _listen_ at the man! \\xa0I know\\nyou took it off, and know it by a better way than your wool-gethering\\nmemory, too, because it was on the clo’s-line yesterday--I see it there\\nmyself. But it’s gone, that’s the long and the short of it, and you’ll\\njust have to change to a red flann’l one till I can get time to make a\\nnew one. And it ‘ll be the third I’ve made in two years. \\xa0It just keeps\\na body on the jump to keep you in shirts; and whatever you do manage to\\n_do_ with ‘m all is more’n I can make out. \\xa0A body ‘d think you _would_\\nlearn to take some sort of care of ‘em at your time of life.”\\n\\n“I know it, Sally, and I do try all I can. \\xa0But it oughtn’t to be\\naltogether my fault, because, you know, I don’t see them nor have\\nnothing to do with them except when they’re on me; and I don’t believe\\nI’ve ever lost one of them _off_ of me.”\\n\\n“Well, it ain’t _your_ fault if you haven’t, Silas; you’d a done it\\nif you could, I reckon. \\xa0And the shirt ain’t all that’s gone, nuther.\\n\\xa0Ther’s a spoon gone; and _that_ ain’t all. \\xa0There was ten, and now\\nther’s only nine. The calf got the shirt, I reckon, but the calf never\\ntook the spoon, _that’s_ certain.”\\n\\n“Why, what else is gone, Sally?”\\n\\n“Ther’s six _candles_ gone--that’s what. \\xa0The rats could a got the\\ncandles, and I reckon they did; I wonder they don’t walk off with the\\nwhole place, the way you’re always going to stop their holes and don’t\\ndo it; and if they warn’t fools they’d sleep in your hair, Silas--_you’d_\\nnever find it out; but you can’t lay the _spoon_ on the rats, and that I\\nknow.”\\n\\n“Well, Sally, I’m in fault, and I acknowledge it; I’ve been remiss; but\\nI won’t let to-morrow go by without stopping up them holes.”\\n\\n“Oh, I wouldn’t hurry; next year ‘ll do. \\xa0Matilda Angelina Araminta\\n_Phelps!_”\\n\\nWhack comes the thimble, and the child snatches her claws out of the\\nsugar-bowl without fooling around any. \\xa0Just then the nigger woman steps\\non to the passage, and says:\\n\\n“Missus, dey’s a sheet gone.”\\n\\n“A _sheet_ gone! \\xa0Well, for the land’s sake!”\\n\\n“I’ll stop up them holes to-day,” says Uncle Silas, looking sorrowful.\\n\\n“Oh, _do_ shet up!--s’pose the rats took the _sheet_? \\xa0_where’s_ it gone,\\nLize?”\\n\\n“Clah to goodness I hain’t no notion, Miss’ Sally. \\xa0She wuz on de\\nclo’sline yistiddy, but she done gone: \\xa0she ain’ dah no mo’ now.”\\n\\n“I reckon the world _is_ coming to an end. \\xa0I _never_ see the beat of it\\nin all my born days. \\xa0A shirt, and a sheet, and a spoon, and six can--”\\n\\n“Missus,” comes a young yaller wench, “dey’s a brass cannelstick\\nmiss’n.”\\n\\n“Cler out from here, you hussy, er I’ll take a skillet to ye!”\\n\\nWell, she was just a-biling. \\xa0I begun to lay for a chance; I reckoned\\nI would sneak out and go for the woods till the weather moderated. \\xa0She\\nkept a-raging right along, running her insurrection all by herself, and\\neverybody else mighty meek and quiet; and at last Uncle Silas, looking\\nkind of foolish, fishes up that spoon out of his pocket. \\xa0She stopped,\\nwith her mouth open and her hands up; and as for me, I wished I was in\\nJeruslem or somewheres. But not long, because she says:\\n\\n“It’s _just_ as I expected. \\xa0So you had it in your pocket all the time;\\nand like as not you’ve got the other things there, too. \\xa0How’d it get\\nthere?”\\n\\n“I reely don’t know, Sally,” he says, kind of apologizing, “or you know\\nI would tell. \\xa0I was a-studying over my text in Acts Seventeen before\\nbreakfast, and I reckon I put it in there, not noticing, meaning to put\\nmy Testament in, and it must be so, because my Testament ain’t in; but\\nI’ll go and see; and if the Testament is where I had it, I’ll know I\\ndidn’t put it in, and that will show that I laid the Testament down and\\ntook up the spoon, and--”\\n\\n“Oh, for the land’s sake! \\xa0Give a body a rest! \\xa0Go ‘long now, the whole\\nkit and biling of ye; and don’t come nigh me again till I’ve got back my\\npeace of mind.”\\n\\nI’D a heard her if she’d a said it to herself, let alone speaking it\\nout; and I’d a got up and obeyed her if I’d a been dead. \\xa0As we was\\npassing through the setting-room the old man he took up his hat, and the\\nshingle-nail fell out on the floor, and he just merely picked it up and\\nlaid it on the mantel-shelf, and never said nothing, and went out. \\xa0Tom\\nsee him do it, and remembered about the spoon, and says:\\n\\n“Well, it ain’t no use to send things by _him_ no more, he ain’t\\nreliable.” Then he says:  “But he done us a good turn with the spoon,\\nanyway, without knowing it, and so we’ll go and do him one without _him_\\nknowing it--stop up his rat-holes.”\\n\\nThere was a noble good lot of them down cellar, and it took us a whole\\nhour, but we done the job tight and good and shipshape. \\xa0Then we heard\\nsteps on the stairs, and blowed out our light and hid; and here comes\\nthe old man, with a candle in one hand and a bundle of stuff in t’other,\\nlooking as absent-minded as year before last. \\xa0He went a mooning around,\\nfirst to one rat-hole and then another, till he’d been to them all.\\n\\xa0Then he stood about five minutes, picking tallow-drip off of his candle\\nand thinking. \\xa0Then he turns off slow and dreamy towards the stairs,\\nsaying:\\n\\n“Well, for the life of me I can’t remember when I done it. \\xa0I could\\nshow her now that I warn’t to blame on account of the rats. \\xa0But never\\nmind--let it go. \\xa0I reckon it wouldn’t do no good.”\\n\\nAnd so he went on a-mumbling up stairs, and then we left. \\xa0He was a\\nmighty nice old man. \\xa0And always is.\\n\\nTom was a good deal bothered about what to do for a spoon, but he said\\nwe’d got to have it; so he took a think. \\xa0When he had ciphered it out\\nhe told me how we was to do; then we went and waited around the\\nspoon-basket till we see Aunt Sally coming, and then Tom went to\\ncounting the spoons and laying them out to one side, and I slid one of\\nthem up my sleeve, and Tom says:\\n\\n“Why, Aunt Sally, there ain’t but nine spoons _yet_.”\\n\\nShe says:\\n\\n“Go ‘long to your play, and don’t bother me. \\xa0I know better, I counted\\n‘m myself.”\\n\\n“Well, I’ve counted them twice, Aunty, and I can’t make but nine.”\\n\\nShe looked out of all patience, but of course she come to count--anybody\\nwould.\\n\\n“I declare to gracious ther’ _ain’t_ but nine!” she says.  “Why, what in\\nthe world--plague _take_ the things, I’ll count ‘m again.”\\n\\nSo I slipped back the one I had, and when she got done counting, she\\nsays:\\n\\n“Hang the troublesome rubbage, ther’s _ten_ now!” and she looked huffy\\nand bothered both. \\xa0But Tom says:\\n\\n“Why, Aunty, I don’t think there’s ten.”\\n\\n“You numskull, didn’t you see me _count ‘m?_”\\n\\n“I know, but--”\\n\\n“Well, I’ll count ‘m _again_.”\\n\\nSo I smouched one, and they come out nine, same as the other time.\\n\\xa0Well, she _was_ in a tearing way--just a-trembling all over, she was so\\nmad. \\xa0But she counted and counted till she got that addled she’d start\\nto count in the basket for a spoon sometimes; and so, three times they\\ncome out right, and three times they come out wrong. \\xa0Then she grabbed\\nup the basket and slammed it across the house and knocked the cat\\ngalley-west; and she said cle’r out and let her have some peace, and if\\nwe come bothering around her again betwixt that and dinner she’d skin\\nus. \\xa0So we had the odd spoon, and dropped it in her apron-pocket whilst\\nshe was a-giving us our sailing orders, and Jim got it all right, along\\nwith her shingle nail, before noon. \\xa0We was very well satisfied with\\nthis business, and Tom allowed it was worth twice the trouble it took,\\nbecause he said _now_ she couldn’t ever count them spoons twice alike\\nagain to save her life; and wouldn’t believe she’d counted them right if\\nshe _did_; and said that after she’d about counted her head off for the\\nnext three days he judged she’d give it up and offer to kill anybody\\nthat wanted her to ever count them any more.\\n\\nSo we put the sheet back on the line that night, and stole one out of\\nher closet; and kept on putting it back and stealing it again for a\\ncouple of days till she didn’t know how many sheets she had any more,\\nand she didn’t _care_, and warn’t a-going to bullyrag the rest of her\\nsoul out about it, and wouldn’t count them again not to save her life;\\nshe druther die first.\\n\\nSo we was all right now, as to the shirt and the sheet and the spoon\\nand the candles, by the help of the calf and the rats and the mixed-up\\ncounting; and as to the candlestick, it warn’t no consequence, it would\\nblow over by and by.\\n\\nBut that pie was a job; we had no end of trouble with that pie. \\xa0We\\nfixed it up away down in the woods, and cooked it there; and we got it\\ndone at last, and very satisfactory, too; but not all in one day; and we\\nhad to use up three wash-pans full of flour before we got through, and\\nwe got burnt pretty much all over, in places, and eyes put out with\\nthe smoke; because, you see, we didn’t want nothing but a crust, and we\\ncouldn’t prop it up right, and she would always cave in. \\xa0But of course\\nwe thought of the right way at last--which was to cook the ladder, too,\\nin the pie. \\xa0So then we laid in with Jim the second night, and tore\\nup the sheet all in little strings and twisted them together, and long\\nbefore daylight we had a lovely rope that you could a hung a person\\nwith. \\xa0We let on it took nine months to make it.\\n\\nAnd in the forenoon we took it down to the woods, but it wouldn’t go\\ninto the pie. \\xa0Being made of a whole sheet, that way, there was rope\\nenough for forty pies if we’d a wanted them, and plenty left over\\nfor soup, or sausage, or anything you choose. \\xa0We could a had a whole\\ndinner.\\n\\nBut we didn’t need it. \\xa0All we needed was just enough for the pie, and\\nso we throwed the rest away. \\xa0We didn’t cook none of the pies in the\\nwash-pan--afraid the solder would melt; but Uncle Silas he had a noble\\nbrass warming-pan which he thought considerable of, because it belonged\\nto one of his ancesters with a long wooden handle that come over from\\nEngland with William the Conqueror in the Mayflower or one of them early\\nships and was hid away up garret with a lot of other old pots and things\\nthat was valuable, not on account of being any account, because they\\nwarn’t, but on account of them being relicts, you know, and we snaked\\nher out, private, and took her down there, but she failed on the first\\npies, because we didn’t know how, but she come up smiling on the last\\none. \\xa0We took and lined her with dough, and set her in the coals, and\\nloaded her up with rag rope, and put on a dough roof, and shut down the\\nlid, and put hot embers on top, and stood off five foot, with the long\\nhandle, cool and comfortable, and in fifteen minutes she turned out a\\npie that was a satisfaction to look at. But the person that et it would\\nwant to fetch a couple of kags of toothpicks along, for if that rope\\nladder wouldn’t cramp him down to business I don’t know nothing what I’m\\ntalking about, and lay him in enough stomach-ache to last him till next\\ntime, too.\\n\\nNat didn’t look when we put the witch pie in Jim’s pan; and we put the\\nthree tin plates in the bottom of the pan under the vittles; and so Jim\\ngot everything all right, and as soon as he was by himself he busted\\ninto the pie and hid the rope ladder inside of his straw tick,\\nand scratched some marks on a tin plate and throwed it out of the\\nwindow-hole.\\n\\n\\n\\n\\nCHAPTER XXXVIII.\\n\\nMAKING them pens was a distressid tough job, and so was the saw; and Jim\\nallowed the inscription was going to be the toughest of all. \\xa0That’s the\\none which the prisoner has to scrabble on the wall. \\xa0But he had to have\\nit; Tom said he’d _got_ to; there warn’t no case of a state prisoner not\\nscrabbling his inscription to leave behind, and his coat of arms.\\n\\n“Look at Lady Jane Grey,” he says; “look at Gilford Dudley; look at old\\nNorthumberland! \\xa0Why, Huck, s’pose it _is_ considerble trouble?--what\\nyou going to do?--how you going to get around it? \\xa0Jim’s _got_ to do his\\ninscription and coat of arms. \\xa0They all do.”\\n\\nJim says:\\n\\n“Why, Mars Tom, I hain’t got no coat o’ arm; I hain’t got nuffn but dish\\nyer ole shirt, en you knows I got to keep de journal on dat.”\\n\\n“Oh, you don’t understand, Jim; a coat of arms is very different.”\\n\\n“Well,” I says, “Jim’s right, anyway, when he says he ain’t got no coat\\nof arms, because he hain’t.”\\n\\n“I reckon I knowed that,” Tom says, “but you bet he’ll have one before\\nhe goes out of this--because he’s going out _right_, and there ain’t\\ngoing to be no flaws in his record.”\\n\\nSo whilst me and Jim filed away at the pens on a brickbat apiece, Jim\\na-making his’n out of the brass and I making mine out of the spoon,\\nTom set to work to think out the coat of arms. \\xa0By and by he said he’d\\nstruck so many good ones he didn’t hardly know which to take, but there\\nwas one which he reckoned he’d decide on. \\xa0He says:\\n\\n“On the scutcheon we’ll have a bend _or_ in the dexter base, a saltire\\n_murrey_ in the fess, with a dog, couchant, for common charge, and under\\nhis foot a chain embattled, for slavery, with a chevron _vert_ in a\\nchief engrailed, and three invected lines on a field _azure_, with the\\nnombril points rampant on a dancette indented; crest, a runaway nigger,\\n_sable_, with his bundle over his shoulder on a bar sinister; and a\\ncouple of gules for supporters, which is you and me; motto, _Maggiore\\nFretta, Minore Otto._ \\xa0Got it out of a book--means the more haste the\\nless speed.”\\n\\n“Geewhillikins,” I says, “but what does the rest of it mean?”\\n\\n“We ain’t got no time to bother over that,” he says; “we got to dig in\\nlike all git-out.”\\n\\n“Well, anyway,” I says, “what’s _some_ of it? \\xa0What’s a fess?”\\n\\n“A fess--a fess is--_you_ don’t need to know what a fess is. \\xa0I’ll show\\nhim how to make it when he gets to it.”\\n\\n“Shucks, Tom,” I says, “I think you might tell a person. \\xa0What’s a bar\\nsinister?”\\n\\n“Oh, I don’t know. \\xa0But he’s got to have it. \\xa0All the nobility does.”\\n\\nThat was just his way. \\xa0If it didn’t suit him to explain a thing to you,\\nhe wouldn’t do it. \\xa0You might pump at him a week, it wouldn’t make no\\ndifference.\\n\\nHe’d got all that coat of arms business fixed, so now he started in to\\nfinish up the rest of that part of the work, which was to plan out a\\nmournful inscription--said Jim got to have one, like they all done. \\xa0He\\nmade up a lot, and wrote them out on a paper, and read them off, so:\\n\\n1. \\xa0Here a captive heart busted. 2. \\xa0Here a poor prisoner, forsook by\\nthe world and friends, fretted his sorrowful life. 3. \\xa0Here a lonely\\nheart broke, and a worn spirit went to its rest, after thirty-seven\\nyears of solitary captivity. 4. \\xa0Here, homeless and friendless, after\\nthirty-seven years of bitter captivity, perished a noble stranger,\\nnatural son of Louis XIV.\\n\\nTom’s voice trembled whilst he was reading them, and he most broke down.\\nWhen he got done he couldn’t no way make up his mind which one for Jim\\nto scrabble on to the wall, they was all so good; but at last he allowed\\nhe would let him scrabble them all on. \\xa0Jim said it would take him a\\nyear to scrabble such a lot of truck on to the logs with a nail, and he\\ndidn’t know how to make letters, besides; but Tom said he would block\\nthem out for him, and then he wouldn’t have nothing to do but just\\nfollow the lines. \\xa0Then pretty soon he says:\\n\\n“Come to think, the logs ain’t a-going to do; they don’t have log walls\\nin a dungeon: \\xa0we got to dig the inscriptions into a rock. \\xa0We’ll fetch\\na rock.”\\n\\nJim said the rock was worse than the logs; he said it would take him\\nsuch a pison long time to dig them into a rock he wouldn’t ever get out.\\n\\xa0But Tom said he would let me help him do it. \\xa0Then he took a look to\\nsee how me and Jim was getting along with the pens. \\xa0It was most pesky\\ntedious hard work and slow, and didn’t give my hands no show to get\\nwell of the sores, and we didn’t seem to make no headway, hardly; so Tom\\nsays:\\n\\n“I know how to fix it. \\xa0We got to have a rock for the coat of arms and\\nmournful inscriptions, and we can kill two birds with that same rock.\\nThere’s a gaudy big grindstone down at the mill, and we’ll smouch it,\\nand carve the things on it, and file out the pens and the saw on it,\\ntoo.”\\n\\nIt warn’t no slouch of an idea; and it warn’t no slouch of a grindstone\\nnuther; but we allowed we’d tackle it. \\xa0It warn’t quite midnight yet,\\nso we cleared out for the mill, leaving Jim at work. \\xa0We smouched the\\ngrindstone, and set out to roll her home, but it was a most nation tough\\njob. Sometimes, do what we could, we couldn’t keep her from falling\\nover, and she come mighty near mashing us every time. \\xa0Tom said she was\\ngoing to get one of us, sure, before we got through. \\xa0We got her half\\nway; and then we was plumb played out, and most drownded with sweat. \\xa0We\\nsee it warn’t no use; we got to go and fetch Jim. So he raised up his\\nbed and slid the chain off of the bed-leg, and wrapt it round and round\\nhis neck, and we crawled out through our hole and down there, and Jim\\nand me laid into that grindstone and walked her along like nothing; and\\nTom superintended. \\xa0He could out-superintend any boy I ever see. \\xa0He\\nknowed how to do everything.\\n\\nOur hole was pretty big, but it warn’t big enough to get the grindstone\\nthrough; but Jim he took the pick and soon made it big enough. \\xa0Then Tom\\nmarked out them things on it with the nail, and set Jim to work on them,\\nwith the nail for a chisel and an iron bolt from the rubbage in the\\nlean-to for a hammer, and told him to work till the rest of his candle\\nquit on him, and then he could go to bed, and hide the grindstone under\\nhis straw tick and sleep on it. \\xa0Then we helped him fix his chain back\\non the bed-leg, and was ready for bed ourselves. \\xa0But Tom thought of\\nsomething, and says:\\n\\n“You got any spiders in here, Jim?”\\n\\n“No, sah, thanks to goodness I hain’t, Mars Tom.”\\n\\n“All right, we’ll get you some.”\\n\\n“But bless you, honey, I doan’ _want_ none. \\xa0I’s afeard un um. \\xa0I jis’\\n‘s soon have rattlesnakes aroun’.”\\n\\nTom thought a minute or two, and says:\\n\\n“It’s a good idea. \\xa0And I reckon it’s been done. \\xa0It _must_ a been done;\\nit stands to reason. \\xa0Yes, it’s a prime good idea. \\xa0Where could you keep\\nit?”\\n\\n“Keep what, Mars Tom?”\\n\\n“Why, a rattlesnake.”\\n\\n“De goodness gracious alive, Mars Tom! \\xa0Why, if dey was a rattlesnake to\\ncome in heah I’d take en bust right out thoo dat log wall, I would, wid\\nmy head.”\\n\\n“Why, Jim, you wouldn’t be afraid of it after a little. \\xa0You could tame\\nit.”\\n\\n“_Tame_ it!”\\n\\n“Yes--easy enough. \\xa0Every animal is grateful for kindness and petting,\\nand they wouldn’t _think_ of hurting a person that pets them. \\xa0Any book\\nwill tell you that. \\xa0You try--that’s all I ask; just try for two or three\\ndays. Why, you can get him so, in a little while, that he’ll love you;\\nand sleep with you; and won’t stay away from you a minute; and will let\\nyou wrap him round your neck and put his head in your mouth.”\\n\\n“_Please_, Mars Tom--_doan_’ talk so! \\xa0I can’t _stan_’ it! \\xa0He’d _let_\\nme shove his head in my mouf--fer a favor, hain’t it? \\xa0I lay he’d wait a\\npow’ful long time ‘fo’ I _ast_ him. \\xa0En mo’ en dat, I doan’ _want_ him\\nto sleep wid me.”\\n\\n“Jim, don’t act so foolish. \\xa0A prisoner’s _got_ to have some kind of a\\ndumb pet, and if a rattlesnake hain’t ever been tried, why, there’s more\\nglory to be gained in your being the first to ever try it than any other\\nway you could ever think of to save your life.”\\n\\n“Why, Mars Tom, I doan’ _want_ no sich glory. \\xa0Snake take ‘n bite\\nJim’s chin off, den _whah_ is de glory? \\xa0No, sah, I doan’ want no sich\\ndoin’s.”\\n\\n“Blame it, can’t you _try_? \\xa0I only _want_ you to try--you needn’t keep\\nit up if it don’t work.”\\n\\n“But de trouble all _done_ ef de snake bite me while I’s a tryin’ him.\\nMars Tom, I’s willin’ to tackle mos’ anything ‘at ain’t onreasonable,\\nbut ef you en Huck fetches a rattlesnake in heah for me to tame, I’s\\ngwyne to _leave_, dat’s _shore_.”\\n\\n“Well, then, let it go, let it go, if you’re so bull-headed about it.\\n\\xa0We can get you some garter-snakes, and you can tie some buttons on\\ntheir tails, and let on they’re rattlesnakes, and I reckon that ‘ll have\\nto do.”\\n\\n“I k’n stan’ _dem_, Mars Tom, but blame’ ‘f I couldn’ get along widout\\num, I tell you dat. \\xa0I never knowed b’fo’ ‘t was so much bother and\\ntrouble to be a prisoner.”\\n\\n“Well, it _always_ is when it’s done right. \\xa0You got any rats around\\nhere?”\\n\\n“No, sah, I hain’t seed none.”\\n\\n“Well, we’ll get you some rats.”\\n\\n“Why, Mars Tom, I doan’ _want_ no rats. \\xa0Dey’s de dadblamedest creturs\\nto ‘sturb a body, en rustle roun’ over ‘im, en bite his feet, when he’s\\ntryin’ to sleep, I ever see. \\xa0No, sah, gimme g’yarter-snakes, ‘f I’s\\ngot to have ‘m, but doan’ gimme no rats; I hain’ got no use f’r um,\\nskasely.”\\n\\n“But, Jim, you _got_ to have ‘em--they all do. \\xa0So don’t make no more\\nfuss about it. \\xa0Prisoners ain’t ever without rats. \\xa0There ain’t no\\ninstance of it. \\xa0And they train them, and pet them, and learn them\\ntricks, and they get to be as sociable as flies. \\xa0But you got to play\\nmusic to them. \\xa0You got anything to play music on?”\\n\\n“I ain’ got nuffn but a coase comb en a piece o’ paper, en a juice-harp;\\nbut I reck’n dey wouldn’ take no stock in a juice-harp.”\\n\\n“Yes they would\\xa0_they_ don’t care what kind of music ‘tis. \\xa0A\\njews-harp’s plenty good enough for a rat. \\xa0All animals like music--in a\\nprison they dote on it. \\xa0Specially, painful music; and you can’t get no\\nother kind out of a jews-harp. \\xa0It always interests them; they come out\\nto see what’s the matter with you. \\xa0Yes, you’re all right; you’re fixed\\nvery well. \\xa0You want to set on your bed nights before you go to sleep,\\nand early in the mornings, and play your jews-harp; play ‘The Last Link\\nis Broken’--that’s the thing that ‘ll scoop a rat quicker ‘n anything\\nelse; and when you’ve played about two minutes you’ll see all the rats,\\nand the snakes, and spiders, and things begin to feel worried about you,\\nand come. \\xa0And they’ll just fairly swarm over you, and have a noble good\\ntime.”\\n\\n“Yes, _dey_ will, I reck’n, Mars Tom, but what kine er time is _Jim_\\nhavin’? Blest if I kin see de pint. \\xa0But I’ll do it ef I got to. \\xa0I\\nreck’n I better keep de animals satisfied, en not have no trouble in de\\nhouse.”\\n\\nTom waited to think it over, and see if there wasn’t nothing else; and\\npretty soon he says:\\n\\n“Oh, there’s one thing I forgot. \\xa0Could you raise a flower here, do you\\nreckon?”\\n\\n“I doan know but maybe I could, Mars Tom; but it’s tolable dark in heah,\\nen I ain’ got no use f’r no flower, nohow, en she’d be a pow’ful sight\\no’ trouble.”\\n\\n“Well, you try it, anyway. \\xa0Some other prisoners has done it.”\\n\\n“One er dem big cat-tail-lookin’ mullen-stalks would grow in heah, Mars\\nTom, I reck’n, but she wouldn’t be wuth half de trouble she’d coss.”\\n\\n“Don’t you believe it. \\xa0We’ll fetch you a little one and you plant it in\\nthe corner over there, and raise it. \\xa0And don’t call it mullen, call it\\nPitchiola--that’s its right name when it’s in a prison. \\xa0And you want to\\nwater it with your tears.”\\n\\n“Why, I got plenty spring water, Mars Tom.”\\n\\n“You don’t _want_ spring water; you want to water it with your tears.\\n\\xa0It’s the way they always do.”\\n\\n“Why, Mars Tom, I lay I kin raise one er dem mullen-stalks twyste wid\\nspring water whiles another man’s a _start’n_ one wid tears.”\\n\\n“That ain’t the idea. \\xa0You _got_ to do it with tears.”\\n\\n“She’ll die on my han’s, Mars Tom, she sholy will; kase I doan’ skasely\\never cry.”\\n\\nSo Tom was stumped. \\xa0But he studied it over, and then said Jim would\\nhave to worry along the best he could with an onion. \\xa0He promised\\nhe would go to the nigger cabins and drop one, private, in Jim’s\\ncoffee-pot, in the morning. Jim said he would “jis’ ‘s soon have\\ntobacker in his coffee;” and found so much fault with it, and with the\\nwork and bother of raising the mullen, and jews-harping the rats, and\\npetting and flattering up the snakes and spiders and things, on top of\\nall the other work he had to do on pens, and inscriptions, and journals,\\nand things, which made it more trouble and worry and responsibility to\\nbe a prisoner than anything he ever undertook, that Tom most lost all\\npatience with him; and said he was just loadened down with more gaudier\\nchances than a prisoner ever had in the world to make a name for\\nhimself, and yet he didn’t know enough to appreciate them, and they was\\njust about wasted on him. \\xa0So Jim he was sorry, and said he wouldn’t\\nbehave so no more, and then me and Tom shoved for bed.\\n\\n\\n\\n\\nCHAPTER XXXIX.\\n\\nIN the morning we went up to the village and bought a wire rat-trap and\\nfetched it down, and unstopped the best rat-hole, and in about an hour\\nwe had fifteen of the bulliest kind of ones; and then we took it and put\\nit in a safe place under Aunt Sally’s bed. \\xa0But while we was gone for\\nspiders little Thomas Franklin Benjamin Jefferson Elexander Phelps found\\nit there, and opened the door of it to see if the rats would come out,\\nand they did; and Aunt Sally she come in, and when we got back she was\\na-standing on top of the bed raising Cain, and the rats was doing what\\nthey could to keep off the dull times for her. \\xa0So she took and dusted\\nus both with the hickry, and we was as much as two hours catching\\nanother fifteen or sixteen, drat that meddlesome cub, and they warn’t\\nthe likeliest, nuther, because the first haul was the pick of the flock.\\n\\xa0I never see a likelier lot of rats than what that first haul was.\\n\\nWe got a splendid stock of sorted spiders, and bugs, and frogs, and\\ncaterpillars, and one thing or another; and we like to got a hornet’s\\nnest, but we didn’t. \\xa0The family was at home. \\xa0We didn’t give it right\\nup, but stayed with them as long as we could; because we allowed we’d\\ntire them out or they’d got to tire us out, and they done it. \\xa0Then we\\ngot allycumpain and rubbed on the places, and was pretty near all right\\nagain, but couldn’t set down convenient. \\xa0And so we went for the snakes,\\nand grabbed a couple of dozen garters and house-snakes, and put them in\\na bag, and put it in our room, and by that time it was supper-time, and\\na rattling good honest day’s work: \\xa0and hungry?--oh, no, I reckon not!\\n\\xa0And there warn’t a blessed snake up there when we went back--we didn’t\\nhalf tie the sack, and they worked out somehow, and left. \\xa0But it didn’t\\nmatter much, because they was still on the premises somewheres. \\xa0So\\nwe judged we could get some of them again. \\xa0No, there warn’t no real\\nscarcity of snakes about the house for a considerable spell. \\xa0You’d see\\nthem dripping from the rafters and places every now and then; and they\\ngenerly landed in your plate, or down the back of your neck, and most\\nof the time where you didn’t want them. \\xa0Well, they was handsome and\\nstriped, and there warn’t no harm in a million of them; but that never\\nmade no difference to Aunt Sally; she despised snakes, be the breed what\\nthey might, and she couldn’t stand them no way you could fix it; and\\nevery time one of them flopped down on her, it didn’t make no difference\\nwhat she was doing, she would just lay that work down and light out. \\xa0I\\nnever see such a woman. \\xa0And you could hear her whoop to Jericho. \\xa0You\\ncouldn’t get her to take a-holt of one of them with the tongs. \\xa0And if\\nshe turned over and found one in bed she would scramble out and lift a\\nhowl that you would think the house was afire. \\xa0She disturbed the old\\nman so that he said he could most wish there hadn’t ever been no snakes\\ncreated. \\xa0Why, after every last snake had been gone clear out of the\\nhouse for as much as a week Aunt Sally warn’t over it yet; she warn’t\\nnear over it; when she was setting thinking about something you could\\ntouch her on the back of her neck with a feather and she would jump\\nright out of her stockings. \\xa0It was very curious. \\xa0But Tom said all\\nwomen was just so. \\xa0He said they was made that way for some reason or\\nother.\\n\\nWe got a licking every time one of our snakes come in her way, and she\\nallowed these lickings warn’t nothing to what she would do if we ever\\nloaded up the place again with them. \\xa0I didn’t mind the lickings,\\nbecause they didn’t amount to nothing; but I minded the trouble we\\nhad to lay in another lot. \\xa0But we got them laid in, and all the other\\nthings; and you never see a cabin as blithesome as Jim’s was when they’d\\nall swarm out for music and go for him. \\xa0Jim didn’t like the spiders,\\nand the spiders didn’t like Jim; and so they’d lay for him, and make it\\nmighty warm for him. \\xa0And he said that between the rats and the snakes\\nand the grindstone there warn’t no room in bed for him, skasely; and\\nwhen there was, a body couldn’t sleep, it was so lively, and it was\\nalways lively, he said, because _they_ never all slept at one time, but\\ntook turn about, so when the snakes was asleep the rats was on deck, and\\nwhen the rats turned in the snakes come on watch, so he always had one\\ngang under him, in his way, and t’other gang having a circus over him,\\nand if he got up to hunt a new place the spiders would take a chance at\\nhim as he crossed over. He said if he ever got out this time he wouldn’t\\never be a prisoner again, not for a salary.\\n\\nWell, by the end of three weeks everything was in pretty good shape.\\n\\xa0The shirt was sent in early, in a pie, and every time a rat bit Jim he\\nwould get up and write a little in his journal whilst the ink was fresh;\\nthe pens was made, the inscriptions and so on was all carved on the\\ngrindstone; the bed-leg was sawed in two, and we had et up the sawdust,\\nand it give us a most amazing stomach-ache. \\xa0We reckoned we was all\\ngoing to die, but didn’t. \\xa0It was the most undigestible sawdust I ever\\nsee; and Tom said the same.\\n\\nBut as I was saying, we’d got all the work done now, at last; and we was\\nall pretty much fagged out, too, but mainly Jim. \\xa0The old man had wrote\\na couple of times to the plantation below Orleans to come and get their\\nrunaway nigger, but hadn’t got no answer, because there warn’t no such\\nplantation; so he allowed he would advertise Jim in the St. Louis and\\nNew Orleans papers; and when he mentioned the St. Louis ones it give me\\nthe cold shivers, and I see we hadn’t no time to lose. So Tom said, now\\nfor the nonnamous letters.\\n\\n“What’s them?” \\xa0I says.\\n\\n“Warnings to the people that something is up. \\xa0Sometimes it’s done one\\nway, sometimes another. \\xa0But there’s always somebody spying around that\\ngives notice to the governor of the castle. \\xa0When Louis XVI. was going\\nto light out of the Tooleries, a servant-girl done it. \\xa0It’s a very good\\nway, and so is the nonnamous letters. \\xa0We’ll use them both. \\xa0And it’s\\nusual for the prisoner’s mother to change clothes with him, and she\\nstays in, and he slides out in her clothes. \\xa0We’ll do that, too.”\\n\\n“But looky here, Tom, what do we want to _warn_ anybody for that\\nsomething’s up? \\xa0Let them find it out for themselves--it’s their\\nlookout.”\\n\\n“Yes, I know; but you can’t depend on them. \\xa0It’s the way they’ve acted\\nfrom the very start--left us to do _everything_. \\xa0They’re so confiding\\nand mullet-headed they don’t take notice of nothing at all. \\xa0So if we\\ndon’t _give_ them notice there won’t be nobody nor nothing to interfere\\nwith us, and so after all our hard work and trouble this escape ‘ll go\\noff perfectly flat; won’t amount to nothing--won’t be nothing _to_ it.”\\n\\n“Well, as for me, Tom, that’s the way I’d like.”\\n\\n“Shucks!” he says, and looked disgusted. \\xa0So I says:\\n\\n“But I ain’t going to make no complaint. \\xa0Any way that suits you suits\\nme. What you going to do about the servant-girl?”\\n\\n“You’ll be her. \\xa0You slide in, in the middle of the night, and hook that\\nyaller girl’s frock.”\\n\\n“Why, Tom, that ‘ll make trouble next morning; because, of course, she\\nprob’bly hain’t got any but that one.”\\n\\n“I know; but you don’t want it but fifteen minutes, to carry the\\nnonnamous letter and shove it under the front door.”\\n\\n“All right, then, I’ll do it; but I could carry it just as handy in my\\nown togs.”\\n\\n“You wouldn’t look like a servant-girl _then_, would you?”\\n\\n“No, but there won’t be nobody to see what I look like, _anyway_.”\\n\\n“That ain’t got nothing to do with it. \\xa0The thing for us to do is just\\nto do our _duty_, and not worry about whether anybody _sees_ us do it or\\nnot. Hain’t you got no principle at all?”\\n\\n“All right, I ain’t saying nothing; I’m the servant-girl. \\xa0Who’s Jim’s\\nmother?”\\n\\n“I’m his mother. \\xa0I’ll hook a gown from Aunt Sally.”\\n\\n“Well, then, you’ll have to stay in the cabin when me and Jim leaves.”\\n\\n“Not much. \\xa0I’ll stuff Jim’s clothes full of straw and lay it on his bed\\nto represent his mother in disguise, and Jim ‘ll take the nigger woman’s\\ngown off of me and wear it, and we’ll all evade together. \\xa0When a\\nprisoner of style escapes it’s called an evasion. \\xa0It’s always called\\nso when a king escapes, f’rinstance. \\xa0And the same with a king’s son;\\nit don’t make no difference whether he’s a natural one or an unnatural\\none.”\\n\\nSo Tom he wrote the nonnamous letter, and I smouched the yaller wench’s\\nfrock that night, and put it on, and shoved it under the front door, the\\nway Tom told me to. \\xa0It said:\\n\\nBeware. \\xa0Trouble is brewing. \\xa0Keep a sharp lookout. _Unknown_ _Friend_.\\n\\nNext night we stuck a picture, which Tom drawed in blood, of a skull and\\ncrossbones on the front door; and next night another one of a coffin on\\nthe back door. \\xa0I never see a family in such a sweat. \\xa0They couldn’t a\\nbeen worse scared if the place had a been full of ghosts laying for them\\nbehind everything and under the beds and shivering through the air. \\xa0If\\na door banged, Aunt Sally she jumped and said “ouch!” if anything fell,\\nshe jumped and said “ouch!” if you happened to touch her, when she\\nwarn’t noticing, she done the same; she couldn’t face noway and be\\nsatisfied, because she allowed there was something behind her every\\ntime--so she was always a-whirling around sudden, and saying “ouch,” and\\nbefore she’d got two-thirds around she’d whirl back again, and say it\\nagain; and she was afraid to go to bed, but she dasn’t set up. \\xa0So the\\nthing was working very well, Tom said; he said he never see a thing work\\nmore satisfactory. He said it showed it was done right.\\n\\nSo he said, now for the grand bulge! \\xa0So the very next morning at the\\nstreak of dawn we got another letter ready, and was wondering what we\\nbetter do with it, because we heard them say at supper they was going\\nto have a nigger on watch at both doors all night. \\xa0Tom he went down the\\nlightning-rod to spy around; and the nigger at the back door was asleep,\\nand he stuck it in the back of his neck and come back. \\xa0This letter\\nsaid:\\n\\nDon’t betray me, I wish to be your friend. \\xa0There is a desprate gang of\\ncutthroats from over in the Indian Territory going to steal your runaway\\nnigger to-night, and they have been trying to scare you so as you will\\nstay in the house and not bother them. \\xa0I am one of the gang, but have\\ngot religgion and wish to quit it and lead an honest life again, and\\nwill betray the helish design. They will sneak down from northards,\\nalong the fence, at midnight exact, with a false key, and go in the\\nnigger’s cabin to get him. I am to be off a piece and blow a tin horn\\nif I see any danger; but stead of that I will _baa_ like a sheep soon as\\nthey get in and not blow at all; then whilst they are getting his\\nchains loose, you slip there and lock them in, and can kill them at your\\nleasure. \\xa0Don’t do anything but just the way I am telling you, if you do\\nthey will suspicion something and raise whoop-jamboreehoo. I do not wish\\nany reward but to know I have done the right thing. _Unknown Friend._\\n\\n\\n\\n\\nCHAPTER XL.\\n\\nWE was feeling pretty good after breakfast, and took my canoe and went\\nover the river a-fishing, with a lunch, and had a good time, and took a\\nlook at the raft and found her all right, and got home late to supper,\\nand found them in such a sweat and worry they didn’t know which end they\\nwas standing on, and made us go right off to bed the minute we was done\\nsupper, and wouldn’t tell us what the trouble was, and never let on a\\nword about the new letter, but didn’t need to, because we knowed as much\\nabout it as anybody did, and as soon as we was half up stairs and her\\nback was turned we slid for the cellar cupboard and loaded up a good\\nlunch and took it up to our room and went to bed, and got up about\\nhalf-past eleven, and Tom put on Aunt Sally’s dress that he stole and\\nwas going to start with the lunch, but says:\\n\\n“Where’s the butter?”\\n\\n“I laid out a hunk of it,” I says, “on a piece of a corn-pone.”\\n\\n“Well, you _left_ it laid out, then--it ain’t here.”\\n\\n“We can get along without it,” I says.\\n\\n“We can get along _with_ it, too,” he says; “just you slide down cellar\\nand fetch it. \\xa0And then mosey right down the lightning-rod and come\\nalong. I’ll go and stuff the straw into Jim’s clothes to represent his\\nmother in disguise, and be ready to _baa_ like a sheep and shove soon as\\nyou get there.”\\n\\nSo out he went, and down cellar went I. The hunk of butter, big as\\na person’s fist, was where I had left it, so I took up the slab of\\ncorn-pone with it on, and blowed out my light, and started up stairs\\nvery stealthy, and got up to the main floor all right, but here comes\\nAunt Sally with a candle, and I clapped the truck in my hat, and clapped\\nmy hat on my head, and the next second she see me; and she says:\\n\\n“You been down cellar?”\\n\\n“Yes’m.”\\n\\n“What you been doing down there?”\\n\\n“Noth’n.”\\n\\n“_Noth’n!_”\\n\\n“No’m.”\\n\\n“Well, then, what possessed you to go down there this time of night?”\\n\\n“I don’t know ‘m.”\\n\\n“You don’t _know_? \\xa0Don’t answer me that way. Tom, I want to know what\\nyou been _doing_ down there.”\\n\\n“I hain’t been doing a single thing, Aunt Sally, I hope to gracious if I\\nhave.”\\n\\nI reckoned she’d let me go now, and as a generl thing she would; but I\\ns’pose there was so many strange things going on she was just in a sweat\\nabout every little thing that warn’t yard-stick straight; so she says,\\nvery decided:\\n\\n“You just march into that setting-room and stay there till I come. \\xa0You\\nbeen up to something you no business to, and I lay I’ll find out what it\\nis before I’M done with you.”\\n\\nSo she went away as I opened the door and walked into the setting-room.\\nMy, but there was a crowd there! \\xa0Fifteen farmers, and every one of them\\nhad a gun. \\xa0I was most powerful sick, and slunk to a chair and set down.\\nThey was setting around, some of them talking a little, in a low voice,\\nand all of them fidgety and uneasy, but trying to look like they warn’t;\\nbut I knowed they was, because they was always taking off their hats,\\nand putting them on, and scratching their heads, and changing their\\nseats, and fumbling with their buttons. \\xa0I warn’t easy myself, but I\\ndidn’t take my hat off, all the same.\\n\\nI did wish Aunt Sally would come, and get done with me, and lick me, if\\nshe wanted to, and let me get away and tell Tom how we’d overdone this\\nthing, and what a thundering hornet’s-nest we’d got ourselves into, so\\nwe could stop fooling around straight off, and clear out with Jim before\\nthese rips got out of patience and come for us.\\n\\nAt last she come and begun to ask me questions, but I _couldn’t_ answer\\nthem straight, I didn’t know which end of me was up; because these men\\nwas in such a fidget now that some was wanting to start right NOW and\\nlay for them desperadoes, and saying it warn’t but a few minutes to\\nmidnight; and others was trying to get them to hold on and wait for the\\nsheep-signal; and here was Aunty pegging away at the questions, and\\nme a-shaking all over and ready to sink down in my tracks I was\\nthat scared; and the place getting hotter and hotter, and the butter\\nbeginning to melt and run down my neck and behind my ears; and pretty\\nsoon, when one of them says, “I’M for going and getting in the cabin\\n_first_ and right _now_, and catching them when they come,” I most\\ndropped; and a streak of butter come a-trickling down my forehead, and\\nAunt Sally she see it, and turns white as a sheet, and says:\\n\\n“For the land’s sake, what _is_ the matter with the child? \\xa0He’s got the\\nbrain-fever as shore as you’re born, and they’re oozing out!”\\n\\nAnd everybody runs to see, and she snatches off my hat, and out comes\\nthe bread and what was left of the butter, and she grabbed me, and\\nhugged me, and says:\\n\\n“Oh, what a turn you did give me! and how glad and grateful I am it\\nain’t no worse; for luck’s against us, and it never rains but it pours,\\nand when I see that truck I thought we’d lost you, for I knowed by\\nthe color and all it was just like your brains would be if--Dear,\\ndear, whyd’nt you _tell_ me that was what you’d been down there for, I\\nwouldn’t a cared. \\xa0Now cler out to bed, and don’t lemme see no more of\\nyou till morning!”\\n\\nI was up stairs in a second, and down the lightning-rod in another one,\\nand shinning through the dark for the lean-to. \\xa0I couldn’t hardly get my\\nwords out, I was so anxious; but I told Tom as quick as I could we must\\njump for it now, and not a minute to lose--the house full of men, yonder,\\nwith guns!\\n\\nHis eyes just blazed; and he says:\\n\\n“No!--is that so? \\xa0_ain’t_ it bully! \\xa0Why, Huck, if it was to do over\\nagain, I bet I could fetch two hundred! \\xa0If we could put it off till--”\\n\\n“Hurry! \\xa0_Hurry_!” \\xa0I says.  “Where’s Jim?”\\n\\n“Right at your elbow; if you reach out your arm you can touch him.\\n\\xa0He’s dressed, and everything’s ready. \\xa0Now we’ll slide out and give the\\nsheep-signal.”\\n\\nBut then we heard the tramp of men coming to the door, and heard them\\nbegin to fumble with the pad-lock, and heard a man say:\\n\\n“I _told_ you we’d be too soon; they haven’t come--the door is locked.\\nHere, I’ll lock some of you into the cabin, and you lay for ‘em in the\\ndark and kill ‘em when they come; and the rest scatter around a piece,\\nand listen if you can hear ‘em coming.”\\n\\nSo in they come, but couldn’t see us in the dark, and most trod on\\nus whilst we was hustling to get under the bed. \\xa0But we got under all\\nright, and out through the hole, swift but soft--Jim first, me next,\\nand Tom last, which was according to Tom’s orders. \\xa0Now we was in the\\nlean-to, and heard trampings close by outside. \\xa0So we crept to the door,\\nand Tom stopped us there and put his eye to the crack, but couldn’t make\\nout nothing, it was so dark; and whispered and said he would listen\\nfor the steps to get further, and when he nudged us Jim must glide out\\nfirst, and him last. \\xa0So he set his ear to the crack and listened, and\\nlistened, and listened, and the steps a-scraping around out there all\\nthe time; and at last he nudged us, and we slid out, and stooped down,\\nnot breathing, and not making the least noise, and slipped stealthy\\ntowards the fence in Injun file, and got to it all right, and me and Jim\\nover it; but Tom’s britches catched fast on a splinter on the top\\nrail, and then he hear the steps coming, so he had to pull loose, which\\nsnapped the splinter and made a noise; and as he dropped in our tracks\\nand started somebody sings out:\\n\\n“Who’s that? \\xa0Answer, or I’ll shoot!”\\n\\nBut we didn’t answer; we just unfurled our heels and shoved. \\xa0Then there\\nwas a rush, and a _Bang, Bang, Bang!_ and the bullets fairly whizzed\\naround us! We heard them sing out:\\n\\n“Here they are! \\xa0They’ve broke for the river! \\xa0After ‘em, boys, and turn\\nloose the dogs!”\\n\\nSo here they come, full tilt. \\xa0We could hear them because they wore\\nboots and yelled, but we didn’t wear no boots and didn’t yell. \\xa0We was\\nin the path to the mill; and when they got pretty close on to us we\\ndodged into the bush and let them go by, and then dropped in behind\\nthem. \\xa0They’d had all the dogs shut up, so they wouldn’t scare off the\\nrobbers; but by this time somebody had let them loose, and here they\\ncome, making powwow enough for a million; but they was our dogs; so we\\nstopped in our tracks till they catched up; and when they see it warn’t\\nnobody but us, and no excitement to offer them, they only just said\\nhowdy, and tore right ahead towards the shouting and clattering; and\\nthen we up-steam again, and whizzed along after them till we was nearly\\nto the mill, and then struck up through the bush to where my canoe was\\ntied, and hopped in and pulled for dear life towards the middle of the\\nriver, but didn’t make no more noise than we was obleeged to. Then we\\nstruck out, easy and comfortable, for the island where my raft was; and\\nwe could hear them yelling and barking at each other all up and down the\\nbank, till we was so far away the sounds got dim and died out. \\xa0And when\\nwe stepped on to the raft I says:\\n\\n“_Now_, old Jim, you’re a free man again, and I bet you won’t ever be a\\nslave no more.”\\n\\n“En a mighty good job it wuz, too, Huck. \\xa0It ‘uz planned beautiful, en\\nit ‘uz done beautiful; en dey ain’t _nobody_ kin git up a plan dat’s mo’\\nmixed-up en splendid den what dat one wuz.”\\n\\nWe was all glad as we could be, but Tom was the gladdest of all because\\nhe had a bullet in the calf of his leg.\\n\\nWhen me and Jim heard that we didn’t feel so brash as what we did\\nbefore. It was hurting him considerable, and bleeding; so we laid him in\\nthe wigwam and tore up one of the duke’s shirts for to bandage him, but\\nhe says:\\n\\n“Gimme the rags; I can do it myself. \\xa0Don’t stop now; don’t fool around\\nhere, and the evasion booming along so handsome; man the sweeps, and set\\nher loose! \\xa0Boys, we done it elegant!--‘deed we did. \\xa0I wish _we’d_ a\\nhad the handling of Louis XVI., there wouldn’t a been no ‘Son of Saint\\nLouis, ascend to heaven!’ wrote down in _his_ biography; no, sir, we’d\\na whooped him over the _border_--that’s what we’d a done with _him_--and\\ndone it just as slick as nothing at all, too. \\xa0Man the sweeps--man the\\nsweeps!”\\n\\nBut me and Jim was consulting--and thinking. \\xa0And after we’d thought a\\nminute, I says:\\n\\n“Say it, Jim.”\\n\\nSo he says:\\n\\n“Well, den, dis is de way it look to me, Huck. \\xa0Ef it wuz _him_ dat ‘uz\\nbein’ sot free, en one er de boys wuz to git shot, would he say, ‘Go on\\nen save me, nemmine ‘bout a doctor f’r to save dis one?’ \\xa0Is dat like\\nMars Tom Sawyer? \\xa0Would he say dat? \\xa0You _bet_ he wouldn’t! \\xa0_well_,\\nden, is _Jim_ gywne to say it? \\xa0No, sah--I doan’ budge a step out’n dis\\nplace ‘dout a _doctor_, not if it’s forty year!”\\n\\nI knowed he was white inside, and I reckoned he’d say what he did say--so\\nit was all right now, and I told Tom I was a-going for a doctor.\\n\\xa0He raised considerable row about it, but me and Jim stuck to it and\\nwouldn’t budge; so he was for crawling out and setting the raft loose\\nhimself; but we wouldn’t let him. \\xa0Then he give us a piece of his mind,\\nbut it didn’t do no good.\\n\\nSo when he sees me getting the canoe ready, he says:\\n\\n“Well, then, if you’re bound to go, I’ll tell you the way to do when you\\nget to the village. \\xa0Shut the door and blindfold the doctor tight and\\nfast, and make him swear to be silent as the grave, and put a purse\\nfull of gold in his hand, and then take and lead him all around the\\nback alleys and everywheres in the dark, and then fetch him here in the\\ncanoe, in a roundabout way amongst the islands, and search him and take\\nhis chalk away from him, and don’t give it back to him till you get him\\nback to the village, or else he will chalk this raft so he can find it\\nagain. It’s the way they all do.”\\n\\nSo I said I would, and left, and Jim was to hide in the woods when he\\nsee the doctor coming till he was gone again.\\n\\n\\n\\n\\nCHAPTER XLI.\\n\\nTHE doctor was an old man; a very nice, kind-looking old man when I got\\nhim up. \\xa0I told him me and my brother was over on Spanish Island hunting\\nyesterday afternoon, and camped on a piece of a raft we found, and about\\nmidnight he must a kicked his gun in his dreams, for it went off and\\nshot him in the leg, and we wanted him to go over there and fix it and\\nnot say nothing about it, nor let anybody know, because we wanted to\\ncome home this evening and surprise the folks.\\n\\n“Who is your folks?” he says.\\n\\n“The Phelpses, down yonder.”\\n\\n“Oh,” he says. \\xa0And after a minute, he says:\\n\\n“How’d you say he got shot?”\\n\\n“He had a dream,” I says, “and it shot him.”\\n\\n“Singular dream,” he says.\\n\\nSo he lit up his lantern, and got his saddle-bags, and we started. \\xa0But\\nwhen he sees the canoe he didn’t like the look of her--said she was big\\nenough for one, but didn’t look pretty safe for two. \\xa0I says:\\n\\n“Oh, you needn’t be afeard, sir, she carried the three of us easy\\nenough.”\\n\\n“What three?”\\n\\n“Why, me and Sid, and--and--and _the guns_; that’s what I mean.”\\n\\n“Oh,” he says.\\n\\nBut he put his foot on the gunnel and rocked her, and shook his head,\\nand said he reckoned he’d look around for a bigger one. \\xa0But they was\\nall locked and chained; so he took my canoe, and said for me to wait\\ntill he come back, or I could hunt around further, or maybe I better\\ngo down home and get them ready for the surprise if I wanted to. \\xa0But\\nI said I didn’t; so I told him just how to find the raft, and then he\\nstarted.\\n\\nI struck an idea pretty soon. \\xa0I says to myself, spos’n he can’t fix\\nthat leg just in three shakes of a sheep’s tail, as the saying is?\\nspos’n it takes him three or four days? \\xa0What are we going to do?--lay\\naround there till he lets the cat out of the bag? \\xa0No, sir; I know what\\n_I’ll_ do. \\xa0I’ll wait, and when he comes back if he says he’s got to\\ngo any more I’ll get down there, too, if I swim; and we’ll take and tie\\nhim, and keep him, and shove out down the river; and when Tom’s done\\nwith him we’ll give him what it’s worth, or all we got, and then let him\\nget ashore.\\n\\nSo then I crept into a lumber-pile to get some sleep; and next time I\\nwaked up the sun was away up over my head! \\xa0I shot out and went for the\\ndoctor’s house, but they told me he’d gone away in the night some time\\nor other, and warn’t back yet. \\xa0Well, thinks I, that looks powerful bad\\nfor Tom, and I’ll dig out for the island right off. \\xa0So away I shoved,\\nand turned the corner, and nearly rammed my head into Uncle Silas’s\\nstomach! He says:\\n\\n“Why, _Tom!_ \\xa0Where you been all this time, you rascal?”\\n\\n“I hain’t been nowheres,” I says, “only just hunting for the runaway\\nnigger--me and Sid.”\\n\\n“Why, where ever did you go?” he says.  “Your aunt’s been mighty\\nuneasy.”\\n\\n“She needn’t,” I says, “because we was all right. \\xa0We followed the men\\nand the dogs, but they outrun us, and we lost them; but we thought we\\nheard them on the water, so we got a canoe and took out after them and\\ncrossed over, but couldn’t find nothing of them; so we cruised along\\nup-shore till we got kind of tired and beat out; and tied up the canoe\\nand went to sleep, and never waked up till about an hour ago; then we\\npaddled over here to hear the news, and Sid’s at the post-office to see\\nwhat he can hear, and I’m a-branching out to get something to eat for\\nus, and then we’re going home.”\\n\\nSo then we went to the post-office to get “Sid”; but just as I\\nsuspicioned, he warn’t there; so the old man he got a letter out of the\\noffice, and we waited awhile longer, but Sid didn’t come; so the old man\\nsaid, come along, let Sid foot it home, or canoe it, when he got done\\nfooling around--but we would ride. \\xa0I couldn’t get him to let me stay\\nand wait for Sid; and he said there warn’t no use in it, and I must come\\nalong, and let Aunt Sally see we was all right.\\n\\nWhen we got home Aunt Sally was that glad to see me she laughed and\\ncried both, and hugged me, and give me one of them lickings of hern that\\ndon’t amount to shucks, and said she’d serve Sid the same when he come.\\n\\nAnd the place was plum full of farmers and farmers’ wives, to dinner;\\nand such another clack a body never heard. \\xa0Old Mrs. Hotchkiss was the\\nworst; her tongue was a-going all the time. \\xa0She says:\\n\\n“Well, Sister Phelps, I’ve ransacked that-air cabin over, an’ I b’lieve\\nthe nigger was crazy. \\xa0I says to Sister Damrell--didn’t I, Sister\\nDamrell?--s’I, he’s crazy, s’I--them’s the very words I said. \\xa0You all\\nhearn me: he’s crazy, s’I; everything shows it, s’I. \\xa0Look at that-air\\ngrindstone, s’I; want to tell _me_’t any cretur ‘t’s in his right mind\\n‘s a goin’ to scrabble all them crazy things onto a grindstone, s’I?\\n\\xa0Here sich ‘n’ sich a person busted his heart; ‘n’ here so ‘n’ so\\npegged along for thirty-seven year, ‘n’ all that--natcherl son o’ Louis\\nsomebody, ‘n’ sich everlast’n rubbage. \\xa0He’s plumb crazy, s’I; it’s what\\nI says in the fust place, it’s what I says in the middle, ‘n’ it’s what\\nI says last ‘n’ all the time--the nigger’s crazy--crazy ‘s Nebokoodneezer,\\ns’I.”\\n\\n“An’ look at that-air ladder made out’n rags, Sister Hotchkiss,” says\\nold Mrs. Damrell; “what in the name o’ goodness _could_ he ever want\\nof--”\\n\\n“The very words I was a-sayin’ no longer ago th’n this minute to Sister\\nUtterback, ‘n’ she’ll tell you so herself. \\xa0Sh-she, look at that-air rag\\nladder, sh-she; ‘n’ s’I, yes, _look_ at it, s’I--what _could_ he a-wanted\\nof it, s’I. \\xa0Sh-she, Sister Hotchkiss, sh-she--”\\n\\n“But how in the nation’d they ever _git_ that grindstone _in_ there,\\n_anyway_? ‘n’ who dug that-air _hole_? ‘n’ who--”\\n\\n“My very _words_, Brer Penrod! \\xa0I was a-sayin’--pass that-air sasser o’\\nm’lasses, won’t ye?--I was a-sayin’ to Sister Dunlap, jist this minute,\\nhow _did_ they git that grindstone in there, s’I. \\xa0Without _help_, mind\\nyou--‘thout _help_! \\xa0_that’s_ wher ‘tis. \\xa0Don’t tell _me_, s’I; there\\n_wuz_ help, s’I; ‘n’ ther’ wuz a _plenty_ help, too, s’I; ther’s ben a\\n_dozen_ a-helpin’ that nigger, ‘n’ I lay I’d skin every last nigger on\\nthis place but _I’d_ find out who done it, s’I; ‘n’ moreover, s’I--”\\n\\n“A _dozen_ says you!--_forty_ couldn’t a done every thing that’s been\\ndone. Look at them case-knife saws and things, how tedious they’ve been\\nmade; look at that bed-leg sawed off with ‘m, a week’s work for six men;\\nlook at that nigger made out’n straw on the bed; and look at--”\\n\\n“You may _well_ say it, Brer Hightower! \\xa0It’s jist as I was a-sayin’\\nto Brer Phelps, his own self. \\xa0S’e, what do _you_ think of it, Sister\\nHotchkiss, s’e? Think o’ what, Brer Phelps, s’I? \\xa0Think o’ that bed-leg\\nsawed off that a way, s’e? \\xa0_think_ of it, s’I? \\xa0I lay it never sawed\\n_itself_ off, s’I--somebody _sawed_ it, s’I; that’s my opinion, take it\\nor leave it, it mayn’t be no ‘count, s’I, but sich as ‘t is, it’s my\\nopinion, s’I, ‘n’ if any body k’n start a better one, s’I, let him _do_\\nit, s’I, that’s all. \\xa0I says to Sister Dunlap, s’I--”\\n\\n“Why, dog my cats, they must a ben a house-full o’ niggers in there\\nevery night for four weeks to a done all that work, Sister Phelps. \\xa0Look\\nat that shirt--every last inch of it kivered over with secret African\\nwrit’n done with blood! \\xa0Must a ben a raft uv ‘m at it right along, all\\nthe time, amost. \\xa0Why, I’d give two dollars to have it read to me; ‘n’\\nas for the niggers that wrote it, I ‘low I’d take ‘n’ lash ‘m t’ll--”\\n\\n“People to _help_ him, Brother Marples! \\xa0Well, I reckon you’d _think_\\nso if you’d a been in this house for a while back. \\xa0Why, they’ve stole\\neverything they could lay their hands on--and we a-watching all the time,\\nmind you. They stole that shirt right off o’ the line! and as for that\\nsheet they made the rag ladder out of, ther’ ain’t no telling how\\nmany times they _didn’t_ steal that; and flour, and candles, and\\ncandlesticks, and spoons, and the old warming-pan, and most a thousand\\nthings that I disremember now, and my new calico dress; and me and\\nSilas and my Sid and Tom on the constant watch day _and_ night, as I was\\na-telling you, and not a one of us could catch hide nor hair nor sight\\nnor sound of them; and here at the last minute, lo and behold you, they\\nslides right in under our noses and fools us, and not only fools _us_\\nbut the Injun Territory robbers too, and actuly gets _away_ with that\\nnigger safe and sound, and that with sixteen men and twenty-two dogs\\nright on their very heels at that very time! \\xa0I tell you, it just bangs\\nanything I ever _heard_ of. Why, _sperits_ couldn’t a done better and\\nbeen no smarter. And I reckon they must a _been_ sperits--because, _you_\\nknow our dogs, and ther’ ain’t no better; well, them dogs never even got\\non the _track_ of ‘m once! \\xa0You explain _that_ to me if you can!--_any_\\nof you!”\\n\\n“Well, it does beat--”\\n\\n“Laws alive, I never--”\\n\\n“So help me, I wouldn’t a be--”\\n\\n“_House_-thieves as well as--”\\n\\n“Goodnessgracioussakes, I’d a ben afeard to live in sich a--”\\n\\n“‘Fraid to _live_!--why, I was that scared I dasn’t hardly go to bed, or\\nget up, or lay down, or _set_ down, Sister Ridgeway. \\xa0Why, they’d steal\\nthe very--why, goodness sakes, you can guess what kind of a fluster I was\\nin by the time midnight come last night. \\xa0I hope to gracious if I warn’t\\nafraid they’d steal some o’ the family! \\xa0I was just to that pass I\\ndidn’t have no reasoning faculties no more. \\xa0It looks foolish enough\\n_now_, in the daytime; but I says to myself, there’s my two poor boys\\nasleep, ‘way up stairs in that lonesome room, and I declare to goodness\\nI was that uneasy ‘t I crep’ up there and locked ‘em in! \\xa0I _did_. \\xa0And\\nanybody would. Because, you know, when you get scared that way, and it\\nkeeps running on, and getting worse and worse all the time, and your\\nwits gets to addling, and you get to doing all sorts o’ wild things,\\nand by and by you think to yourself, spos’n I was a boy, and was away up\\nthere, and the door ain’t locked, and you--” She stopped, looking kind\\nof wondering, and then she turned her head around slow, and when her eye\\nlit on me--I got up and took a walk.\\n\\nSays I to myself, I can explain better how we come to not be in that\\nroom this morning if I go out to one side and study over it a little.\\n\\xa0So I done it. \\xa0But I dasn’t go fur, or she’d a sent for me. \\xa0And when\\nit was late in the day the people all went, and then I come in and\\ntold her the noise and shooting waked up me and “Sid,” and the door was\\nlocked, and we wanted to see the fun, so we went down the lightning-rod,\\nand both of us got hurt a little, and we didn’t never want to try _that_\\nno more. \\xa0And then I went on and told her all what I told Uncle Silas\\nbefore; and then she said she’d forgive us, and maybe it was all right\\nenough anyway, and about what a body might expect of boys, for all boys\\nwas a pretty harum-scarum lot as fur as she could see; and so, as long\\nas no harm hadn’t come of it, she judged she better put in her time\\nbeing grateful we was alive and well and she had us still, stead of\\nfretting over what was past and done. \\xa0So then she kissed me, and patted\\nme on the head, and dropped into a kind of a brown study; and pretty\\nsoon jumps up, and says:\\n\\n“Why, lawsamercy, it’s most night, and Sid not come yet! \\xa0What _has_\\nbecome of that boy?”\\n\\nI see my chance; so I skips up and says:\\n\\n“I’ll run right up to town and get him,” I says.\\n\\n“No you won’t,” she says.  “You’ll stay right wher’ you are; _one’s_\\nenough to be lost at a time. \\xa0If he ain’t here to supper, your uncle ‘ll\\ngo.”\\n\\nWell, he warn’t there to supper; so right after supper uncle went.\\n\\nHe come back about ten a little bit uneasy; hadn’t run across Tom’s\\ntrack. Aunt Sally was a good _deal_ uneasy; but Uncle Silas he said\\nthere warn’t no occasion to be--boys will be boys, he said, and you’ll\\nsee this one turn up in the morning all sound and right. \\xa0So she had\\nto be satisfied. \\xa0But she said she’d set up for him a while anyway, and\\nkeep a light burning so he could see it.\\n\\nAnd then when I went up to bed she come up with me and fetched her\\ncandle, and tucked me in, and mothered me so good I felt mean, and like\\nI couldn’t look her in the face; and she set down on the bed and talked\\nwith me a long time, and said what a splendid boy Sid was, and didn’t\\nseem to want to ever stop talking about him; and kept asking me every\\nnow and then if I reckoned he could a got lost, or hurt, or maybe\\ndrownded, and might be laying at this minute somewheres suffering or\\ndead, and she not by him to help him, and so the tears would drip down\\nsilent, and I would tell her that Sid was all right, and would be home\\nin the morning, sure; and she would squeeze my hand, or maybe kiss me,\\nand tell me to say it again, and keep on saying it, because it done her\\ngood, and she was in so much trouble. \\xa0And when she was going away she\\nlooked down in my eyes so steady and gentle, and says:\\n\\n“The door ain’t going to be locked, Tom, and there’s the window and\\nthe rod; but you’ll be good, _won’t_ you? \\xa0And you won’t go? \\xa0For _my_\\nsake.”\\n\\nLaws knows I _wanted_ to go bad enough to see about Tom, and was all\\nintending to go; but after that I wouldn’t a went, not for kingdoms.\\n\\nBut she was on my mind and Tom was on my mind, so I slept very restless.\\nAnd twice I went down the rod away in the night, and slipped around\\nfront, and see her setting there by her candle in the window with her\\neyes towards the road and the tears in them; and I wished I could do\\nsomething for her, but I couldn’t, only to swear that I wouldn’t never\\ndo nothing to grieve her any more. \\xa0And the third time I waked up at\\ndawn, and slid down, and she was there yet, and her candle was most out,\\nand her old gray head was resting on her hand, and she was asleep.\\n\\n\\n\\n\\nCHAPTER XLII.\\n\\nTHE old man was uptown again before breakfast, but couldn’t get no\\ntrack of Tom; and both of them set at the table thinking, and not saying\\nnothing, and looking mournful, and their coffee getting cold, and not\\neating anything. And by and by the old man says:\\n\\n“Did I give you the letter?”\\n\\n“What letter?”\\n\\n“The one I got yesterday out of the post-office.”\\n\\n“No, you didn’t give me no letter.”\\n\\n“Well, I must a forgot it.”\\n\\nSo he rummaged his pockets, and then went off somewheres where he had\\nlaid it down, and fetched it, and give it to her. \\xa0She says:\\n\\n“Why, it’s from St. Petersburg--it’s from Sis.”\\n\\nI allowed another walk would do me good; but I couldn’t stir. \\xa0But\\nbefore she could break it open she dropped it and run--for she see\\nsomething. And so did I. It was Tom Sawyer on a mattress; and that old\\ndoctor; and Jim, in _her_ calico dress, with his hands tied behind him;\\nand a lot of people. \\xa0I hid the letter behind the first thing that come\\nhandy, and rushed. \\xa0She flung herself at Tom, crying, and says:\\n\\n“Oh, he’s dead, he’s dead, I know he’s dead!”\\n\\nAnd Tom he turned his head a little, and muttered something or other,\\nwhich showed he warn’t in his right mind; then she flung up her hands,\\nand says:\\n\\n“He’s alive, thank God! \\xa0And that’s enough!” and she snatched a kiss of\\nhim, and flew for the house to get the bed ready, and scattering orders\\nright and left at the niggers and everybody else, as fast as her tongue\\ncould go, every jump of the way.\\n\\nI followed the men to see what they was going to do with Jim; and the\\nold doctor and Uncle Silas followed after Tom into the house. \\xa0The men\\nwas very huffy, and some of them wanted to hang Jim for an example to\\nall the other niggers around there, so they wouldn’t be trying to run\\naway like Jim done, and making such a raft of trouble, and keeping a\\nwhole family scared most to death for days and nights. \\xa0But the others\\nsaid, don’t do it, it wouldn’t answer at all; he ain’t our nigger, and\\nhis owner would turn up and make us pay for him, sure. \\xa0So that cooled\\nthem down a little, because the people that’s always the most anxious\\nfor to hang a nigger that hain’t done just right is always the very\\nones that ain’t the most anxious to pay for him when they’ve got their\\nsatisfaction out of him.\\n\\nThey cussed Jim considerble, though, and give him a cuff or two side the\\nhead once in a while, but Jim never said nothing, and he never let on to\\nknow me, and they took him to the same cabin, and put his own clothes\\non him, and chained him again, and not to no bed-leg this time, but to\\na big staple drove into the bottom log, and chained his hands, too, and\\nboth legs, and said he warn’t to have nothing but bread and water to\\neat after this till his owner come, or he was sold at auction because\\nhe didn’t come in a certain length of time, and filled up our hole, and\\nsaid a couple of farmers with guns must stand watch around about the\\ncabin every night, and a bulldog tied to the door in the daytime; and\\nabout this time they was through with the job and was tapering off with\\na kind of generl good-bye cussing, and then the old doctor comes and\\ntakes a look, and says:\\n\\n“Don’t be no rougher on him than you’re obleeged to, because he ain’t\\na bad nigger. \\xa0When I got to where I found the boy I see I couldn’t cut\\nthe bullet out without some help, and he warn’t in no condition for\\nme to leave to go and get help; and he got a little worse and a little\\nworse, and after a long time he went out of his head, and wouldn’t let\\nme come a-nigh him any more, and said if I chalked his raft he’d kill\\nme, and no end of wild foolishness like that, and I see I couldn’t do\\nanything at all with him; so I says, I got to have _help_ somehow; and\\nthe minute I says it out crawls this nigger from somewheres and says\\nhe’ll help, and he done it, too, and done it very well. \\xa0Of course I\\njudged he must be a runaway nigger, and there I _was_! and there I had\\nto stick right straight along all the rest of the day and all night. \\xa0It\\nwas a fix, I tell you! I had a couple of patients with the chills, and\\nof course I’d of liked to run up to town and see them, but I dasn’t,\\nbecause the nigger might get away, and then I’d be to blame; and yet\\nnever a skiff come close enough for me to hail. \\xa0So there I had to stick\\nplumb until daylight this morning; and I never see a nigger that was a\\nbetter nuss or faithfuller, and yet he was risking his freedom to do it,\\nand was all tired out, too, and I see plain enough he’d been worked\\nmain hard lately. \\xa0I liked the nigger for that; I tell you, gentlemen, a\\nnigger like that is worth a thousand dollars--and kind treatment, too. \\xa0I\\nhad everything I needed, and the boy was doing as well there as he\\nwould a done at home--better, maybe, because it was so quiet; but there I\\n_was_, with both of ‘m on my hands, and there I had to stick till about\\ndawn this morning; then some men in a skiff come by, and as good luck\\nwould have it the nigger was setting by the pallet with his head propped\\non his knees sound asleep; so I motioned them in quiet, and they slipped\\nup on him and grabbed him and tied him before he knowed what he was\\nabout, and we never had no trouble. And the boy being in a kind of a\\nflighty sleep, too, we muffled the oars and hitched the raft on, and\\ntowed her over very nice and quiet, and the nigger never made the least\\nrow nor said a word from the start. \\xa0He ain’t no bad nigger, gentlemen;\\nthat’s what I think about him.”\\n\\nSomebody says:\\n\\n“Well, it sounds very good, doctor, I’m obleeged to say.”\\n\\nThen the others softened up a little, too, and I was mighty thankful\\nto that old doctor for doing Jim that good turn; and I was glad it was\\naccording to my judgment of him, too; because I thought he had a good\\nheart in him and was a good man the first time I see him. \\xa0Then they\\nall agreed that Jim had acted very well, and was deserving to have some\\nnotice took of it, and reward. \\xa0So every one of them promised, right out\\nand hearty, that they wouldn’t cuss him no more.\\n\\nThen they come out and locked him up. \\xa0I hoped they was going to say he\\ncould have one or two of the chains took off, because they was rotten\\nheavy, or could have meat and greens with his bread and water; but they\\ndidn’t think of it, and I reckoned it warn’t best for me to mix in, but\\nI judged I’d get the doctor’s yarn to Aunt Sally somehow or other as\\nsoon as I’d got through the breakers that was laying just ahead of\\nme--explanations, I mean, of how I forgot to mention about Sid being shot\\nwhen I was telling how him and me put in that dratted night paddling\\naround hunting the runaway nigger.\\n\\nBut I had plenty time. \\xa0Aunt Sally she stuck to the sick-room all day\\nand all night, and every time I see Uncle Silas mooning around I dodged\\nhim.\\n\\nNext morning I heard Tom was a good deal better, and they said Aunt\\nSally was gone to get a nap. \\xa0So I slips to the sick-room, and if I\\nfound him awake I reckoned we could put up a yarn for the family that\\nwould wash. But he was sleeping, and sleeping very peaceful, too; and\\npale, not fire-faced the way he was when he come. \\xa0So I set down and\\nlaid for him to wake. \\xa0In about half an hour Aunt Sally comes gliding\\nin, and there I was, up a stump again! \\xa0She motioned me to be still, and\\nset down by me, and begun to whisper, and said we could all be joyful\\nnow, because all the symptoms was first-rate, and he’d been sleeping\\nlike that for ever so long, and looking better and peacefuller all the\\ntime, and ten to one he’d wake up in his right mind.\\n\\nSo we set there watching, and by and by he stirs a bit, and opened his\\neyes very natural, and takes a look, and says:\\n\\n“Hello!--why, I’m at _home_! \\xa0How’s that? \\xa0Where’s the raft?”\\n\\n“It’s all right,” I says.\\n\\n“And _Jim_?”\\n\\n“The same,” I says, but couldn’t say it pretty brash. \\xa0But he never\\nnoticed, but says:\\n\\n“Good! \\xa0Splendid! \\xa0_Now_ we’re all right and safe! Did you tell Aunty?”\\n\\nI was going to say yes; but she chipped in and says:  “About what, Sid?”\\n\\n“Why, about the way the whole thing was done.”\\n\\n“What whole thing?”\\n\\n“Why, _the_ whole thing. \\xa0There ain’t but one; how we set the runaway\\nnigger free--me and Tom.”\\n\\n“Good land! \\xa0Set the run--What _is_ the child talking about! \\xa0Dear, dear,\\nout of his head again!”\\n\\n“_No_, I ain’t out of my _head_; I know all what I’m talking about. \\xa0We\\n_did_ set him free--me and Tom. \\xa0We laid out to do it, and we _done_ it.\\n\\xa0And we done it elegant, too.” \\xa0He’d got a start, and she never checked\\nhim up, just set and stared and stared, and let him clip along, and\\nI see it warn’t no use for _me_ to put in.  “Why, Aunty, it cost us a\\npower of work--weeks of it--hours and hours, every night, whilst you was\\nall asleep. And we had to steal candles, and the sheet, and the shirt,\\nand your dress, and spoons, and tin plates, and case-knives, and the\\nwarming-pan, and the grindstone, and flour, and just no end of things,\\nand you can’t think what work it was to make the saws, and pens, and\\ninscriptions, and one thing or another, and you can’t think _half_ the\\nfun it was. \\xa0And we had to make up the pictures of coffins and things,\\nand nonnamous letters from the robbers, and get up and down the\\nlightning-rod, and dig the hole into the cabin, and made the rope ladder\\nand send it in cooked up in a pie, and send in spoons and things to work\\nwith in your apron pocket--”\\n\\n“Mercy sakes!”\\n\\n“--and load up the cabin with rats and snakes and so on, for company for\\nJim; and then you kept Tom here so long with the butter in his hat that\\nyou come near spiling the whole business, because the men come before\\nwe was out of the cabin, and we had to rush, and they heard us and let\\ndrive at us, and I got my share, and we dodged out of the path and let\\nthem go by, and when the dogs come they warn’t interested in us, but\\nwent for the most noise, and we got our canoe, and made for the\\nraft, and was all safe, and Jim was a free man, and we done it all by\\nourselves, and _wasn’t_ it bully, Aunty!”\\n\\n“Well, I never heard the likes of it in all my born days! \\xa0So it was\\n_you_, you little rapscallions, that’s been making all this trouble,\\nand turned everybody’s wits clean inside out and scared us all most to\\ndeath. \\xa0I’ve as good a notion as ever I had in my life to take it out\\no’ you this very minute. \\xa0To think, here I’ve been, night after night,\\na--_you_ just get well once, you young scamp, and I lay I’ll tan the Old\\nHarry out o’ both o’ ye!”\\n\\nBut Tom, he _was_ so proud and joyful, he just _couldn’t_ hold in,\\nand his tongue just _went_ it--she a-chipping in, and spitting fire all\\nalong, and both of them going it at once, like a cat convention; and she\\nsays:\\n\\n“_Well_, you get all the enjoyment you can out of it _now_, for mind I\\ntell you if I catch you meddling with him again--”\\n\\n“Meddling with _who_?” \\xa0Tom says, dropping his smile and looking\\nsurprised.\\n\\n“With _who_? \\xa0Why, the runaway nigger, of course. \\xa0Who’d you reckon?”\\n\\nTom looks at me very grave, and says:\\n\\n“Tom, didn’t you just tell me he was all right? \\xa0Hasn’t he got away?”\\n\\n“_Him_?” says Aunt Sally; “the runaway nigger?  ‘Deed he hasn’t.\\n\\xa0They’ve got him back, safe and sound, and he’s in that cabin again,\\non bread and water, and loaded down with chains, till he’s claimed or\\nsold!”\\n\\nTom rose square up in bed, with his eye hot, and his nostrils opening\\nand shutting like gills, and sings out to me:\\n\\n“They hain’t no _right_ to shut him up! \\xa0SHOVE!--and don’t you lose a\\nminute. \\xa0Turn him loose! he ain’t no slave; he’s as free as any cretur\\nthat walks this earth!”\\n\\n“What _does_ the child mean?”\\n\\n“I mean every word I _say_, Aunt Sally, and if somebody don’t go, _I’ll_\\ngo. I’ve knowed him all his life, and so has Tom, there. \\xa0Old Miss\\nWatson died two months ago, and she was ashamed she ever was going to\\nsell him down the river, and _said_ so; and she set him free in her\\nwill.”\\n\\n“Then what on earth did _you_ want to set him free for, seeing he was\\nalready free?”\\n\\n“Well, that _is_ a question, I must say; and just like women! \\xa0Why,\\nI wanted the _adventure_ of it; and I’d a waded neck-deep in blood\\nto--goodness alive, _Aunt Polly!_”\\n\\nIf she warn’t standing right there, just inside the door, looking as\\nsweet and contented as an angel half full of pie, I wish I may never!\\n\\nAunt Sally jumped for her, and most hugged the head off of her, and\\ncried over her, and I found a good enough place for me under the bed,\\nfor it was getting pretty sultry for us, seemed to me. \\xa0And I peeped\\nout, and in a little while Tom’s Aunt Polly shook herself loose and\\nstood there looking across at Tom over her spectacles--kind of grinding\\nhim into the earth, you know. \\xa0And then she says:\\n\\n“Yes, you _better_ turn y’r head away--I would if I was you, Tom.”\\n\\n“Oh, deary me!” says Aunt Sally; “_Is_ he changed so? \\xa0Why, that ain’t\\n_Tom_, it’s Sid; Tom’s--Tom’s--why, where is Tom? \\xa0He was here a minute\\nago.”\\n\\n“You mean where’s Huck _Finn_--that’s what you mean! \\xa0I reckon I hain’t\\nraised such a scamp as my Tom all these years not to know him when I\\n_see_ him. \\xa0That _would_ be a pretty howdy-do. Come out from under that\\nbed, Huck Finn.”\\n\\nSo I done it. \\xa0But not feeling brash.\\n\\nAunt Sally she was one of the mixed-upest-looking persons I ever\\nsee--except one, and that was Uncle Silas, when he come in and they told\\nit all to him. \\xa0It kind of made him drunk, as you may say, and he didn’t\\nknow nothing at all the rest of the day, and preached a prayer-meeting\\nsermon that night that gave him a rattling ruputation, because the\\noldest man in the world couldn’t a understood it. \\xa0So Tom’s Aunt Polly,\\nshe told all about who I was, and what; and I had to up and tell how\\nI was in such a tight place that when Mrs. Phelps took me for Tom\\nSawyer--she chipped in and says, “Oh, go on and call me Aunt Sally, I’m\\nused to it now, and ‘tain’t no need to change”--that when Aunt Sally took\\nme for Tom Sawyer I had to stand it--there warn’t no other way, and\\nI knowed he wouldn’t mind, because it would be nuts for him, being\\na mystery, and he’d make an adventure out of it, and be perfectly\\nsatisfied. \\xa0And so it turned out, and he let on to be Sid, and made\\nthings as soft as he could for me.\\n\\nAnd his Aunt Polly she said Tom was right about old Miss Watson setting\\nJim free in her will; and so, sure enough, Tom Sawyer had gone and took\\nall that trouble and bother to set a free nigger free! and I couldn’t\\never understand before, until that minute and that talk, how he _could_\\nhelp a body set a nigger free with his bringing-up.\\n\\nWell, Aunt Polly she said that when Aunt Sally wrote to her that Tom and\\n_Sid_ had come all right and safe, she says to herself:\\n\\n“Look at that, now! \\xa0I might have expected it, letting him go off that\\nway without anybody to watch him. \\xa0So now I got to go and trapse all\\nthe way down the river, eleven hundred mile, and find out what that\\ncreetur’s up to _this_ time, as long as I couldn’t seem to get any\\nanswer out of you about it.”\\n\\n“Why, I never heard nothing from you,” says Aunt Sally.\\n\\n“Well, I wonder! \\xa0Why, I wrote you twice to ask you what you could mean\\nby Sid being here.”\\n\\n“Well, I never got ‘em, Sis.”\\n\\nAunt Polly she turns around slow and severe, and says:\\n\\n“You, Tom!”\\n\\n“Well--_what_?” he says, kind of pettish.\\n\\n“Don’t you what _me_, you impudent thing--hand out them letters.”\\n\\n“What letters?”\\n\\n“_Them_ letters. \\xa0I be bound, if I have to take a-holt of you I’ll--”\\n\\n“They’re in the trunk. \\xa0There, now. \\xa0And they’re just the same as they\\nwas when I got them out of the office. \\xa0I hain’t looked into them, I\\nhain’t touched them. \\xa0But I knowed they’d make trouble, and I thought if\\nyou warn’t in no hurry, I’d--”\\n\\n“Well, you _do_ need skinning, there ain’t no mistake about it. \\xa0And I\\nwrote another one to tell you I was coming; and I s’pose he--”\\n\\n“No, it come yesterday; I hain’t read it yet, but _it’s_ all right, I’ve\\ngot that one.”\\n\\nI wanted to offer to bet two dollars she hadn’t, but I reckoned maybe it\\nwas just as safe to not to. \\xa0So I never said nothing.\\n\\n\\n\\n\\nCHAPTER THE LAST\\n\\nTHE first time I catched Tom private I asked him what was his idea, time\\nof the evasion?--what it was he’d planned to do if the evasion worked all\\nright and he managed to set a nigger free that was already free before?\\nAnd he said, what he had planned in his head from the start, if we got\\nJim out all safe, was for us to run him down the river on the raft, and\\nhave adventures plumb to the mouth of the river, and then tell him about\\nhis being free, and take him back up home on a steamboat, in style,\\nand pay him for his lost time, and write word ahead and get out all\\nthe niggers around, and have them waltz him into town with a torchlight\\nprocession and a brass-band, and then he would be a hero, and so would\\nwe. \\xa0But I reckoned it was about as well the way it was.\\n\\nWe had Jim out of the chains in no time, and when Aunt Polly and Uncle\\nSilas and Aunt Sally found out how good he helped the doctor nurse Tom,\\nthey made a heap of fuss over him, and fixed him up prime, and give him\\nall he wanted to eat, and a good time, and nothing to do. \\xa0And we had\\nhim up to the sick-room, and had a high talk; and Tom give Jim forty\\ndollars for being prisoner for us so patient, and doing it up so good,\\nand Jim was pleased most to death, and busted out, and says:\\n\\n“Dah, now, Huck, what I tell you?--what I tell you up dah on Jackson\\nislan’? \\xa0I _tole_ you I got a hairy breas’, en what’s de sign un it; en\\nI _tole_ you I ben rich wunst, en gwineter to be rich _agin_; en it’s\\ncome true; en heah she is! \\xa0_dah_, now! doan’ talk to _me_--signs is\\n_signs_, mine I tell you; en I knowed jis’ ‘s well ‘at I ‘uz gwineter be\\nrich agin as I’s a-stannin’ heah dis minute!”\\n\\nAnd then Tom he talked along and talked along, and says, le’s all three\\nslide out of here one of these nights and get an outfit, and go for\\nhowling adventures amongst the Injuns, over in the Territory, for a\\ncouple of weeks or two; and I says, all right, that suits me, but I\\nain’t got no money for to buy the outfit, and I reckon I couldn’t get\\nnone from home, because it’s likely pap’s been back before now, and got\\nit all away from Judge Thatcher and drunk it up.\\n\\n“No, he hain’t,” Tom says; “it’s all there yet--six thousand dollars\\nand more; and your pap hain’t ever been back since. \\xa0Hadn’t when I come\\naway, anyhow.”\\n\\nJim says, kind of solemn:\\n\\n“He ain’t a-comin’ back no mo’, Huck.”\\n\\nI says:\\n\\n“Why, Jim?”\\n\\n“Nemmine why, Huck--but he ain’t comin’ back no mo.”\\n\\nBut I kept at him; so at last he says:\\n\\n“Doan’ you ‘member de house dat was float’n down de river, en dey wuz a\\nman in dah, kivered up, en I went in en unkivered him and didn’ let you\\ncome in? \\xa0Well, den, you kin git yo’ money when you wants it, kase dat\\nwuz him.”\\n\\nTom’s most well now, and got his bullet around his neck on a watch-guard\\nfor a watch, and is always seeing what time it is, and so there ain’t\\nnothing more to write about, and I am rotten glad of it, because if I’d\\na knowed what a trouble it was to make a book I wouldn’t a tackled it,\\nand ain’t a-going to no more. \\xa0But I reckon I got to light out for the\\nTerritory ahead of the rest, because Aunt Sally she’s going to adopt me\\nand sivilize me, and I can’t stand it. \\xa0I been there before.\\n\\nTHE END. YOURS TRULY, _HUCK FINN_.\\n\\n\\n\\n\\n\\nEnd of the Project Gutenberg EBook of Adventures of Huckleberry Finn,\\nComplete, by Mark Twain (Samuel Clemens)\\n\\n*** END OF THIS PROJECT GUTENBERG EBOOK HUCKLEBERRY FINN ***\\n\\n***** This file should be named 76-0.htm or 76-0.zip ***** This and\\nall associated files of various formats will be found in:\\nhttp://www.gutenberg.net/7/76/\\n\\nProduced by David Widger. Previous editions produced by Ron Burkey and\\nInternet Wiretap\\n\\nUpdated editions will replace the previous one--the old editions will be\\nrenamed.\\n\\nCreating the works from public domain print editions means that no one\\nowns a United States copyright in these works, so the Foundation (and\\nyou!) can copy and distribute it in the United States without permission\\nand without paying copyright royalties. Special rules, set forth in\\nthe General Terms of Use part of this license, apply to copying and\\ndistributing Project Gutenberg-tm electronic works to protect the\\nPROJECT GUTENBERG-tm concept and trademark. Project Gutenberg is a\\nregistered trademark, and may not be used if you charge for the eBooks,\\nunless you receive specific permission. If you do not charge anything\\nfor copies of this eBook, complying with the rules is very easy. You\\nmay use this eBook for nearly any purpose such as creation of derivative\\nworks, reports, performances and research. They may be modified and\\nprinted and given away--you may do practically ANYTHING with public\\ndomain eBooks. Redistribution is subject to the trademark license,\\nespecially commercial redistribution.\\n\\n*** START: FULL LICENSE ***\\n\\nTHE FULL PROJECT GUTENBERG LICENSE PLEASE READ THIS BEFORE YOU\\nDISTRIBUTE OR USE THIS WORK\\n\\nTo protect the Project Gutenberg-tm mission of promoting the free\\ndistribution of electronic works, by using or distributing this work\\n(or any other work associated in any way with the phrase “Project\\nGutenberg”), you agree to comply with all the terms of the Full\\nProject Gutenberg-tm License (available with this file or online at\\nhttp://gutenberg.net/license).\\n\\nSection 1. General Terms of Use and Redistributing Project Gutenberg-tm\\nelectronic works\\n\\n1.A. By reading or using any part of this Project Gutenberg-tm\\nelectronic work, you indicate that you have read, understand, agree\\nto and accept all the terms of this license and intellectual property\\n(trademark/copyright) agreement. If you do not agree to abide by all the\\nterms of this agreement, you must cease using and return or destroy all\\ncopies of Project Gutenberg-tm electronic works in your possession.\\nIf you paid a fee for obtaining a copy of or access to a Project\\nGutenberg-tm electronic work and you do not agree to be bound by the\\nterms of this agreement, you may obtain a refund from the person or\\nentity to whom you paid the fee as set forth in paragraph 1.E.8.\\n\\n1.B. “Project Gutenberg” is a registered trademark. It may only be used\\non or associated in any way with an electronic work by people who agree\\nto be bound by the terms of this agreement. There are a few things that\\nyou can do with most Project Gutenberg-tm electronic works even without\\ncomplying with the full terms of this agreement. See paragraph 1.C\\nbelow. There are a lot of things you can do with Project Gutenberg-tm\\nelectronic works if you follow the terms of this agreement and help\\npreserve free future access to Project Gutenberg-tm electronic works.\\nSee paragraph 1.E below.\\n\\n1.C. The Project Gutenberg Literary Archive Foundation (“the Foundation”\\n or PGLAF), owns a compilation copyright in the collection of Project\\nGutenberg-tm electronic works. Nearly all the individual works in\\nthe collection are in the public domain in the United States. If an\\nindividual work is in the public domain in the United States and you\\nare located in the United States, we do not claim a right to prevent\\nyou from copying, distributing, performing, displaying or creating\\nderivative works based on the work as long as all references to Project\\nGutenberg are removed. Of course, we hope that you will support the\\nProject Gutenberg-tm mission of promoting free access to electronic\\nworks by freely sharing Project Gutenberg-tm works in compliance with\\nthe terms of this agreement for keeping the Project Gutenberg-tm name\\nassociated with the work. You can easily comply with the terms of this\\nagreement by keeping this work in the same format with its attached\\nfull Project Gutenberg-tm License when you share it without charge with\\nothers.\\n\\n1.D. The copyright laws of the place where you are located also govern\\nwhat you can do with this work. Copyright laws in most countries are in\\na constant state of change. If you are outside the United States, check\\nthe laws of your country in addition to the terms of this agreement\\nbefore downloading, copying, displaying, performing, distributing\\nor creating derivative works based on this work or any other Project\\nGutenberg-tm work. The Foundation makes no representations concerning\\nthe copyright status of any work in any country outside the United\\nStates.\\n\\n1.E. Unless you have removed all references to Project Gutenberg:\\n\\n1.E.1. The following sentence, with active links to, or other immediate\\naccess to, the full Project Gutenberg-tm License must appear prominently\\nwhenever any copy of a Project Gutenberg-tm work (any work on which the\\nphrase “Project Gutenberg” appears, or with which the phrase “Project\\nGutenberg” is associated) is accessed, displayed, performed, viewed,\\ncopied or distributed:\\n\\nThis eBook is for the use of anyone anywhere at no cost and with almost\\nno restrictions whatsoever. You may copy it, give it away or re-use\\nit under the terms of the Project Gutenberg License included with this\\neBook or online at www.gutenberg.net\\n\\n1.E.2. If an individual Project Gutenberg-tm electronic work is derived\\nfrom the public domain (does not contain a notice indicating that it is\\nposted with permission of the copyright holder), the work can be copied\\nand distributed to anyone in the United States without paying any fees\\nor charges. If you are redistributing or providing access to a work with\\nthe phrase “Project Gutenberg” associated with or appearing on the work,\\nyou must comply either with the requirements of paragraphs 1.E.1 through\\n1.E.7 or obtain permission for the use of the work and the Project\\nGutenberg-tm trademark as set forth in paragraphs 1.E.8 or 1.E.9.\\n\\n1.E.3. If an individual Project Gutenberg-tm electronic work is posted\\nwith the permission of the copyright holder, your use and distribution\\nmust comply with both paragraphs 1.E.1 through 1.E.7 and any additional\\nterms imposed by the copyright holder. Additional terms will be linked\\nto the Project Gutenberg-tm License for all works posted with the\\npermission of the copyright holder found at the beginning of this work.\\n\\n1.E.4. Do not unlink or detach or remove the full Project Gutenberg-tm\\nLicense terms from this work, or any files containing a part of this\\nwork or any other work associated with Project Gutenberg-tm.\\n\\n1.E.5. Do not copy, display, perform, distribute or redistribute\\nthis electronic work, or any part of this electronic work, without\\nprominently displaying the sentence set forth in paragraph 1.E.1 with\\nactive links or immediate access to the full terms of the Project\\nGutenberg-tm License.\\n\\n1.E.6. You may convert to and distribute this work in any binary,\\ncompressed, marked up, nonproprietary or proprietary form, including any\\nword processing or hypertext form. However, if you provide access to or\\ndistribute copies of a Project Gutenberg-tm work in a format other\\nthan “Plain Vanilla ASCII” or other format used in the official\\nversion posted on the official Project Gutenberg-tm web site\\n(www.gutenberg.net), you must, at no additional cost, fee or expense\\nto the user, provide a copy, a means of exporting a copy, or a means\\nof obtaining a copy upon request, of the work in its original “Plain\\nVanilla ASCII” or other form. Any alternate format must include the full\\nProject Gutenberg-tm License as specified in paragraph 1.E.1.\\n\\n1.E.7. Do not charge a fee for access to, viewing, displaying,\\nperforming, copying or distributing any Project Gutenberg-tm works\\nunless you comply with paragraph 1.E.8 or 1.E.9.\\n\\n1.E.8. You may charge a reasonable fee for copies of or providing access\\nto or distributing Project Gutenberg-tm electronic works provided that\\n\\n- You pay a royalty fee of 20% of the gross profits you derive from\\nthe use of Project Gutenberg-tm works calculated using the method you\\nalready use to calculate your applicable taxes. The fee is owed to the\\nowner of the Project Gutenberg-tm trademark, but he has agreed to donate\\nroyalties under this paragraph to the Project Gutenberg Literary Archive\\nFoundation. Royalty payments must be paid within 60 days following each\\ndate on which you prepare (or are legally required to prepare) your\\nperiodic tax returns. Royalty payments should be clearly marked as such\\nand sent to the Project Gutenberg Literary Archive Foundation at the\\naddress specified in Section 4, “Information about donations to the\\nProject Gutenberg Literary Archive Foundation.”\\n\\n- You provide a full refund of any money paid by a user who notifies you\\nin writing (or by e-mail) within 30 days of receipt that s/he does not\\nagree to the terms of the full Project Gutenberg-tm License. You\\nmust require such a user to return or destroy all copies of the works\\npossessed in a physical medium and discontinue all use of and all access\\nto other copies of Project Gutenberg-tm works.\\n\\n- You provide, in accordance with paragraph 1.F.3, a full refund of\\nany money paid for a work or a replacement copy, if a defect in the\\nelectronic work is discovered and reported to you within 90 days of\\nreceipt of the work.\\n\\n- You comply with all other terms of this agreement for free\\ndistribution of Project Gutenberg-tm works.\\n\\n1.E.9. If you wish to charge a fee or distribute a Project Gutenberg-tm\\nelectronic work or group of works on different terms than are set forth\\nin this agreement, you must obtain permission in writing from both the\\nProject Gutenberg Literary Archive Foundation and Michael Hart, the\\nowner of the Project Gutenberg-tm trademark. Contact the Foundation as\\nset forth in Section 3 below.\\n\\n1.F.\\n\\n1.F.1. Project Gutenberg volunteers and employees expend considerable\\neffort to identify, do copyright research on, transcribe and proofread\\npublic domain works in creating the Project Gutenberg-tm collection.\\nDespite these efforts, Project Gutenberg-tm electronic works, and the\\nmedium on which they may be stored, may contain “Defects,” such as, but\\nnot limited to, incomplete, inaccurate or corrupt data, transcription\\nerrors, a copyright or other intellectual property infringement, a\\ndefective or damaged disk or other medium, a computer virus, or computer\\ncodes that damage or cannot be read by your equipment.\\n\\n1.F.2. LIMITED WARRANTY, DISCLAIMER OF DAMAGES - Except for the “Right\\nof Replacement or Refund” described in paragraph 1.F.3, the Project\\nGutenberg Literary Archive Foundation, the owner of the Project\\nGutenberg-tm trademark, and any other party distributing a Project\\nGutenberg-tm electronic work under this agreement, disclaim all\\nliability to you for damages, costs and expenses, including legal fees.\\nYOU AGREE THAT YOU HAVE NO REMEDIES FOR NEGLIGENCE, STRICT LIABILITY,\\nBREACH OF WARRANTY OR BREACH OF CONTRACT EXCEPT THOSE PROVIDED IN\\nPARAGRAPH F3. YOU AGREE THAT THE FOUNDATION, THE TRADEMARK OWNER, AND\\nANY DISTRIBUTOR UNDER THIS AGREEMENT WILL NOT BE LIABLE TO YOU FOR\\nACTUAL, DIRECT, INDIRECT, CONSEQUENTIAL, PUNITIVE OR INCIDENTAL DAMAGES\\nEVEN IF YOU GIVE NOTICE OF THE POSSIBILITY OF SUCH DAMAGE.\\n\\n1.F.3. LIMITED RIGHT OF REPLACEMENT OR REFUND - If you discover a defect\\nin this electronic work within 90 days of receiving it, you can receive\\na refund of the money (if any) you paid for it by sending a written\\nexplanation to the person you received the work from. If you received\\nthe work on a physical medium, you must return the medium with your\\nwritten explanation. The person or entity that provided you with the\\ndefective work may elect to provide a replacement copy in lieu of a\\nrefund. If you received the work electronically, the person or entity\\nproviding it to you may choose to give you a second opportunity to\\nreceive the work electronically in lieu of a refund. If the second copy\\nis also defective, you may demand a refund in writing without further\\nopportunities to fix the problem.\\n\\n1.F.4. Except for the limited right of replacement or refund set forth\\nin paragraph 1.F.3, this work is provided to you ‘AS-IS’ WITH NO OTHER\\nWARRANTIES OF ANY KIND, EXPRESS OR IMPLIED, INCLUDING BUT NOT LIMITED TO\\nWARRANTIES OF MERCHANTIBILITY OR FITNESS FOR ANY PURPOSE.\\n\\n1.F.5. Some states do not allow disclaimers of certain implied\\nwarranties or the exclusion or limitation of certain types of damages.\\nIf any disclaimer or limitation set forth in this agreement violates the\\nlaw of the state applicable to this agreement, the agreement shall be\\ninterpreted to make the maximum disclaimer or limitation permitted by\\nthe applicable state law. The invalidity or unenforceability of any\\nprovision of this agreement shall not void the remaining provisions.\\n\\n1.F.6. INDEMNITY - You agree to indemnify and hold the Foundation,\\nthe trademark owner, any agent or employee of the Foundation, anyone\\nproviding copies of Project Gutenberg-tm electronic works in accordance\\nwith this agreement, and any volunteers associated with the production,\\npromotion and distribution of Project Gutenberg-tm electronic works,\\nharmless from all liability, costs and expenses, including legal fees,\\nthat arise directly or indirectly from any of the following which you do\\nor cause to occur: (a) distribution of this or any Project Gutenberg-tm\\nwork, (b) alteration, modification, or additions or deletions to any\\nProject Gutenberg-tm work, and (c) any Defect you cause.\\n\\nSection 2. Information about the Mission of Project Gutenberg-tm\\n\\nProject Gutenberg-tm is synonymous with the free distribution of\\nelectronic works in formats readable by the widest variety of computers\\nincluding obsolete, old, middle-aged and new computers. It exists\\nbecause of the efforts of hundreds of volunteers and donations from\\npeople in all walks of life.\\n\\nVolunteers and financial support to provide volunteers with the\\nassistance they need, is critical to reaching Project Gutenberg-tm’s\\ngoals and ensuring that the Project Gutenberg-tm collection will remain\\nfreely available for generations to come. In 2001, the Project Gutenberg\\nLiterary Archive Foundation was created to provide a secure and\\npermanent future for Project Gutenberg-tm and future generations. To\\nlearn more about the Project Gutenberg Literary Archive Foundation and\\nhow your efforts and donations can help, see Sections 3 and 4 and the\\nFoundation web page at http://www.pglaf.org.\\n\\nSection 3. Information about the Project Gutenberg Literary Archive\\nFoundation\\n\\nThe Project Gutenberg Literary Archive Foundation is a non profit\\n501(c)(3) educational corporation organized under the laws of the state\\nof Mississippi and granted tax exempt status by the Internal Revenue\\nService. The Foundation’s EIN or federal tax identification number\\nis 64-6221541. Its 501(c)(3) letter is posted at\\nhttp://pglaf.org/fundraising. Contributions to the Project Gutenberg\\nLiterary Archive Foundation are tax deductible to the full extent\\npermitted by U.S. federal laws and your state’s laws.\\n\\nThe Foundation’s principal office is located at 4557 Melan Dr. S.\\nFairbanks, AK, 99712., but its volunteers and employees are scattered\\nthroughout numerous locations. Its business office is located at\\n809 North 1500 West, Salt Lake City, UT 84116, (801) 596-1887,\\nemail business@pglaf.org. Email contact links and up to date contact\\ninformation can be found at the Foundation’s web site and official page\\nat http://pglaf.org\\n\\nFor additional contact information: Dr. Gregory B. Newby Chief Executive\\nand Director gbnewby@pglaf.org\\n\\nSection 4. Information about Donations to the Project Gutenberg Literary\\nArchive Foundation\\n\\nProject Gutenberg-tm depends upon and cannot survive without wide spread\\npublic support and donations to carry out its mission of increasing\\nthe number of public domain and licensed works that can be freely\\ndistributed in machine readable form accessible by the widest array\\nof equipment including outdated equipment. Many small donations ($1 to\\n$5,000) are particularly important to maintaining tax exempt status with\\nthe IRS.\\n\\nThe Foundation is committed to complying with the laws regulating\\ncharities and charitable donations in all 50 states of the United\\nStates. Compliance requirements are not uniform and it takes a\\nconsiderable effort, much paperwork and many fees to meet and keep up\\nwith these requirements. We do not solicit donations in locations\\nwhere we have not received written confirmation of compliance. To SEND\\nDONATIONS or determine the status of compliance for any particular state\\nvisit http://pglaf.org\\n\\nWhile we cannot and do not solicit contributions from states where we\\nhave not met the solicitation requirements, we know of no prohibition\\nagainst accepting unsolicited donations from donors in such states who\\napproach us with offers to donate.\\n\\nInternational donations are gratefully accepted, but we cannot make any\\nstatements concerning tax treatment of donations received from outside\\nthe United States. U.S. laws alone swamp our small staff.\\n\\nPlease check the Project Gutenberg Web pages for current donation\\nmethods and addresses. Donations are accepted in a number of other ways\\nincluding including checks, online payments and credit card donations.\\nTo donate, please visit: http://pglaf.org/donate\\n\\nSection 5. General Information About Project Gutenberg-tm electronic\\nworks.\\n\\nProfessor Michael S. Hart is the originator of the Project Gutenberg-tm\\nconcept of a library of electronic works that could be freely shared\\nwith anyone. For thirty years, he produced and distributed Project\\nGutenberg-tm eBooks with only a loose network of volunteer support.\\n\\nProject Gutenberg-tm eBooks are often created from several printed\\neditions, all of which are confirmed as Public Domain in the U.S. unless\\na copyright notice is included. Thus, we do not necessarily keep eBooks\\nin compliance with any particular paper edition.\\n\\nMost people start at our Web site which has the main PG search facility:\\n\\nhttp://www.gutenberg.net\\n\\nThis Web site includes information about Project Gutenberg-tm, including\\nhow to make donations to the Project Gutenberg Literary Archive\\nFoundation, how to help produce our new eBooks, and how to subscribe to\\nour email newsletter to hear about new eBooks.\\n\\n\\n'"
      ]
     },
     "execution_count": 124,
     "metadata": {},
     "output_type": "execute_result"
    }
   ],
   "source": [
    "f.read()"
   ]
  },
  {
   "cell_type": "code",
   "execution_count": 125,
   "metadata": {},
   "outputs": [
    {
     "data": {
      "application/json": {
       "cell": {
        "!": "OSMagics",
        "HTML": "Other",
        "SVG": "Other",
        "bash": "Other",
        "capture": "ExecutionMagics",
        "debug": "ExecutionMagics",
        "file": "Other",
        "html": "DisplayMagics",
        "javascript": "DisplayMagics",
        "js": "DisplayMagics",
        "latex": "DisplayMagics",
        "markdown": "DisplayMagics",
        "perl": "Other",
        "prun": "ExecutionMagics",
        "pypy": "Other",
        "python": "Other",
        "python2": "Other",
        "python3": "Other",
        "ruby": "Other",
        "script": "ScriptMagics",
        "sh": "Other",
        "svg": "DisplayMagics",
        "sx": "OSMagics",
        "system": "OSMagics",
        "time": "ExecutionMagics",
        "timeit": "ExecutionMagics",
        "writefile": "OSMagics"
       },
       "line": {
        "alias": "OSMagics",
        "alias_magic": "BasicMagics",
        "autoawait": "AsyncMagics",
        "autocall": "AutoMagics",
        "automagic": "AutoMagics",
        "autosave": "KernelMagics",
        "bookmark": "OSMagics",
        "cat": "Other",
        "cd": "OSMagics",
        "clear": "KernelMagics",
        "colors": "BasicMagics",
        "config": "ConfigMagics",
        "connect_info": "KernelMagics",
        "cp": "Other",
        "debug": "ExecutionMagics",
        "dhist": "OSMagics",
        "dirs": "OSMagics",
        "doctest_mode": "BasicMagics",
        "ed": "Other",
        "edit": "KernelMagics",
        "env": "OSMagics",
        "gui": "BasicMagics",
        "hist": "Other",
        "history": "HistoryMagics",
        "killbgscripts": "ScriptMagics",
        "ldir": "Other",
        "less": "KernelMagics",
        "lf": "Other",
        "lk": "Other",
        "ll": "Other",
        "load": "CodeMagics",
        "load_ext": "ExtensionMagics",
        "loadpy": "CodeMagics",
        "logoff": "LoggingMagics",
        "logon": "LoggingMagics",
        "logstart": "LoggingMagics",
        "logstate": "LoggingMagics",
        "logstop": "LoggingMagics",
        "ls": "Other",
        "lsmagic": "BasicMagics",
        "lx": "Other",
        "macro": "ExecutionMagics",
        "magic": "BasicMagics",
        "man": "KernelMagics",
        "matplotlib": "PylabMagics",
        "mkdir": "Other",
        "more": "KernelMagics",
        "mv": "Other",
        "notebook": "BasicMagics",
        "page": "BasicMagics",
        "pastebin": "CodeMagics",
        "pdb": "ExecutionMagics",
        "pdef": "NamespaceMagics",
        "pdoc": "NamespaceMagics",
        "pfile": "NamespaceMagics",
        "pinfo": "NamespaceMagics",
        "pinfo2": "NamespaceMagics",
        "pip": "BasicMagics",
        "popd": "OSMagics",
        "pprint": "BasicMagics",
        "precision": "BasicMagics",
        "prun": "ExecutionMagics",
        "psearch": "NamespaceMagics",
        "psource": "NamespaceMagics",
        "pushd": "OSMagics",
        "pwd": "OSMagics",
        "pycat": "OSMagics",
        "pylab": "PylabMagics",
        "qtconsole": "KernelMagics",
        "quickref": "BasicMagics",
        "recall": "HistoryMagics",
        "rehashx": "OSMagics",
        "reload_ext": "ExtensionMagics",
        "rep": "Other",
        "rerun": "HistoryMagics",
        "reset": "NamespaceMagics",
        "reset_selective": "NamespaceMagics",
        "rm": "Other",
        "rmdir": "Other",
        "run": "ExecutionMagics",
        "save": "CodeMagics",
        "sc": "OSMagics",
        "set_env": "OSMagics",
        "store": "StoreMagics",
        "sx": "OSMagics",
        "system": "OSMagics",
        "tb": "ExecutionMagics",
        "time": "ExecutionMagics",
        "timeit": "ExecutionMagics",
        "unalias": "OSMagics",
        "unload_ext": "ExtensionMagics",
        "who": "NamespaceMagics",
        "who_ls": "NamespaceMagics",
        "whos": "NamespaceMagics",
        "xdel": "NamespaceMagics",
        "xmode": "BasicMagics"
       }
      },
      "text/plain": [
       "Available line magics:\n",
       "%alias  %alias_magic  %autoawait  %autocall  %automagic  %autosave  %bookmark  %cat  %cd  %clear  %colors  %config  %connect_info  %cp  %debug  %dhist  %dirs  %doctest_mode  %ed  %edit  %env  %gui  %hist  %history  %killbgscripts  %ldir  %less  %lf  %lk  %ll  %load  %load_ext  %loadpy  %logoff  %logon  %logstart  %logstate  %logstop  %ls  %lsmagic  %lx  %macro  %magic  %man  %matplotlib  %mkdir  %more  %mv  %notebook  %page  %pastebin  %pdb  %pdef  %pdoc  %pfile  %pinfo  %pinfo2  %popd  %pprint  %precision  %prun  %psearch  %psource  %pushd  %pwd  %pycat  %pylab  %qtconsole  %quickref  %recall  %rehashx  %reload_ext  %rep  %rerun  %reset  %reset_selective  %rm  %rmdir  %run  %save  %sc  %set_env  %store  %sx  %system  %tb  %time  %timeit  %unalias  %unload_ext  %who  %who_ls  %whos  %xdel  %xmode\n",
       "\n",
       "Available cell magics:\n",
       "%%!  %%HTML  %%SVG  %%bash  %%capture  %%debug  %%file  %%html  %%javascript  %%js  %%latex  %%markdown  %%perl  %%prun  %%pypy  %%python  %%python2  %%python3  %%ruby  %%script  %%sh  %%svg  %%sx  %%system  %%time  %%timeit  %%writefile\n",
       "\n",
       "Automagic is ON, % prefix IS NOT needed for line magics."
      ]
     },
     "execution_count": 125,
     "metadata": {},
     "output_type": "execute_result"
    }
   ],
   "source": [
    "%lsmagic"
   ]
  },
  {
   "cell_type": "code",
   "execution_count": null,
   "metadata": {},
   "outputs": [],
   "source": []
  }
 ],
 "metadata": {
  "kernelspec": {
   "display_name": "Python 3",
   "language": "python",
   "name": "python3"
  },
  "language_info": {
   "codemirror_mode": {
    "name": "ipython",
    "version": 3
   },
   "file_extension": ".py",
   "mimetype": "text/x-python",
   "name": "python",
   "nbconvert_exporter": "python",
   "pygments_lexer": "ipython3",
   "version": "3.7.1"
  }
 },
 "nbformat": 4,
 "nbformat_minor": 2
}
