{
 "cells": [
  {
   "cell_type": "markdown",
   "metadata": {},
   "source": [
    "1. While inside python, go to ~/Data/opentraveldata/ and list the files. Repeat the same for   /home/dsc/Data/us_dot/otpand ~/Data/us_dot/traffic/. "
   ]
  },
  {
   "cell_type": "code",
   "execution_count": 10,
   "metadata": {
    "scrolled": true
   },
   "outputs": [
    {
     "data": {
      "text/plain": [
       "'/home/dsc/Data/us_dot/traffic'"
      ]
     },
     "execution_count": 10,
     "metadata": {},
     "output_type": "execute_result"
    }
   ],
   "source": [
    "pwd"
   ]
  },
  {
   "cell_type": "code",
   "execution_count": 4,
   "metadata": {
    "scrolled": true
   },
   "outputs": [
    {
     "name": "stdout",
     "output_type": "stream",
     "text": [
      "/home/dsc/Data/opentraveldata\n"
     ]
    }
   ],
   "source": [
    "cd Data/opentraveldata/"
   ]
  },
  {
   "cell_type": "code",
   "execution_count": 5,
   "metadata": {},
   "outputs": [
    {
     "name": "stdout",
     "output_type": "stream",
     "text": [
      "total 2036\r\n",
      "drwx------ 2 dsc    4096 may  1 12:22 \u001b[0m\u001b[01;34m.\u001b[0m/\r\n",
      "drwxrwxr-x 7 dsc    4096 abr 12 20:34 \u001b[01;34m..\u001b[0m/\r\n",
      "-rw-rw-r-- 1 dsc    1268 abr 13 09:40 create_table.sql\r\n",
      "-rw-rw-r-- 1 dsc   18612 abr 12 18:50 optd_aircraft_changed.csv\r\n",
      "-rw-rw-r-- 1 dsc   18612 abr 12 18:49 optd_aircraft.csv\r\n",
      "-rw-rw-r-- 1 dsc  107306 abr  2  2018 optd_airlines.csv\r\n",
      "-rw-rw-r-- 1 dsc   29968 abr  2  2018 \u001b[01;31moptd_airlines.csv.bz2\u001b[0m\r\n",
      "-rw-rw-r-- 1 dsc 1871775 abr  2  2018 \u001b[01;31moptd_por_public.csv.bz2\u001b[0m\r\n",
      "-rw-rw-r-- 1 dsc    5816 abr  2  2018 ref_airline_nb_of_flights.csv\r\n",
      "-rw-rw-r-- 1 dsc      15 abr 26 07:06 sunday.txt\r\n",
      "-rw-rw-r-- 1 dsc     173 abr  6 12:54 three_largest_file.txt\r\n"
     ]
    }
   ],
   "source": [
    "ll -a"
   ]
  },
  {
   "cell_type": "code",
   "execution_count": 6,
   "metadata": {},
   "outputs": [
    {
     "name": "stdout",
     "output_type": "stream",
     "text": [
      "/home/dsc/Data/us_dot/otp\n"
     ]
    }
   ],
   "source": [
    "cd ~/Data/us_dot/otp/"
   ]
  },
  {
   "cell_type": "code",
   "execution_count": 7,
   "metadata": {
    "scrolled": true
   },
   "outputs": [
    {
     "name": "stdout",
     "output_type": "stream",
     "text": [
      "total 29676\r\n",
      "drwx------ 2 dsc     4096 may  1 09:13 \u001b[0m\u001b[01;34m.\u001b[0m/\r\n",
      "drwx------ 4 dsc     4096 mar 28 18:57 \u001b[01;34m..\u001b[0m/\r\n",
      "-rw-rw-r-- 1 dsc 30373413 mar 28 15:38 \u001b[01;31mOn_Time_Reporting_Carrier_On_Time_Performance_1987_present_2018_12.zip\u001b[0m\u001b[K\r\n",
      "-rw-rw-r-- 1 dsc     2169 may  1 09:13 prueba.csv\r\n"
     ]
    }
   ],
   "source": [
    "ll -a"
   ]
  },
  {
   "cell_type": "code",
   "execution_count": 8,
   "metadata": {
    "scrolled": true
   },
   "outputs": [
    {
     "name": "stdout",
     "output_type": "stream",
     "text": [
      "/home/dsc/Data/us_dot/traffic\n"
     ]
    }
   ],
   "source": [
    "cd ~/Data/us_dot/traffic/"
   ]
  },
  {
   "cell_type": "code",
   "execution_count": 9,
   "metadata": {
    "scrolled": true
   },
   "outputs": [
    {
     "name": "stdout",
     "output_type": "stream",
     "text": [
      "total 22060\r\n",
      "drwx------ 2 dsc     4096 mar 28 17:25 \u001b[0m\u001b[01;34m.\u001b[0m/\r\n",
      "drwx------ 4 dsc     4096 mar 28 18:57 \u001b[01;34m..\u001b[0m/\r\n",
      "-rw-rw-r-- 1 dsc 16871101 abr  2  2018 \u001b[01;31mT100_SEGMENT_ALL_CARRIER_2014.zip\u001b[0m\r\n",
      "-rw-rw-r-- 1 dsc  5709455 abr  2  2018 \u001b[01;31mT100_SEGMENT_ALL_CARRIER_2015.zip\u001b[0m\r\n"
     ]
    }
   ],
   "source": [
    "ll -a"
   ]
  },
  {
   "cell_type": "code",
   "execution_count": 11,
   "metadata": {},
   "outputs": [
    {
     "name": "stdout",
     "output_type": "stream",
     "text": [
      "Directory history (kept in _dh)\n",
      "0: /home/dsc/Python_notebooks\n",
      "1: /home/dsc\n",
      "2: /home/dsc/Data/opentraveldata\n",
      "3: /home/dsc/Data/us_dot/otp\n",
      "4: /home/dsc/Data/us_dot/traffic\n"
     ]
    }
   ],
   "source": [
    "dhist"
   ]
  },
  {
   "cell_type": "code",
   "execution_count": 18,
   "metadata": {
    "scrolled": false
   },
   "outputs": [
    {
     "data": {
      "text/plain": [
       "['/home/dsc/Python_notebooks',\n",
       " '/home/dsc',\n",
       " '/home/dsc/Data/opentraveldata',\n",
       " '/home/dsc/Data/us_dot/otp',\n",
       " '/home/dsc/Data/us_dot/traffic']"
      ]
     },
     "execution_count": 18,
     "metadata": {},
     "output_type": "execute_result"
    }
   ],
   "source": [
    "_dh"
   ]
  },
  {
   "cell_type": "code",
   "execution_count": 1,
   "metadata": {
    "scrolled": false
   },
   "outputs": [],
   "source": [
    "a=!ls -l /home/dsc/Data/opentraveldata|wc -l"
   ]
  },
  {
   "cell_type": "code",
   "execution_count": 2,
   "metadata": {},
   "outputs": [
    {
     "data": {
      "text/plain": [
       "['10']"
      ]
     },
     "execution_count": 2,
     "metadata": {},
     "output_type": "execute_result"
    }
   ],
   "source": [
    "a"
   ]
  },
  {
   "cell_type": "code",
   "execution_count": 26,
   "metadata": {},
   "outputs": [
    {
     "data": {
      "text/plain": [
       "IPython.utils.text.SList"
      ]
     },
     "execution_count": 26,
     "metadata": {},
     "output_type": "execute_result"
    }
   ],
   "source": [
    "type(a)"
   ]
  },
  {
   "cell_type": "code",
   "execution_count": 27,
   "metadata": {},
   "outputs": [
    {
     "name": "stdout",
     "output_type": "stream",
     "text": [
      "/home/dsc/Python_notebooks 12\n",
      "/home/dsc 22\n",
      "/home/dsc/Data/opentraveldata 9\n",
      "/home/dsc/Data/us_dot/otp 2\n",
      "/home/dsc/Data/us_dot/traffic 2\n"
     ]
    }
   ],
   "source": [
    "for x in _dh:\n",
    "    wc=!(ls -l $x| wc -l)\n",
    "    print(x,int(wc[0])-1)"
   ]
  },
  {
   "cell_type": "code",
   "execution_count": null,
   "metadata": {},
   "outputs": [],
   "source": []
  }
 ],
 "metadata": {
  "kernelspec": {
   "display_name": "Python 3",
   "language": "python",
   "name": "python3"
  },
  "language_info": {
   "codemirror_mode": {
    "name": "ipython",
    "version": 3
   },
   "file_extension": ".py",
   "mimetype": "text/x-python",
   "name": "python",
   "nbconvert_exporter": "python",
   "pygments_lexer": "ipython3",
   "version": "3.7.1"
  }
 },
 "nbformat": 4,
 "nbformat_minor": 2
}
