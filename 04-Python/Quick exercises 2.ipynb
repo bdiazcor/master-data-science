{
 "cells": [
  {
   "cell_type": "markdown",
   "metadata": {},
   "source": [
    "1. Write a function to calculate the number of words, number of lines, and length of a stringthe same way the wccommand does in the command line\n",
    "\n",
    "2. Write a Python program to remove the nthindex character from a string. If the input string is empty print warning.\n"
   ]
  },
  {
   "cell_type": "markdown",
   "metadata": {},
   "source": [
    "## Ex1. Alternativa 1 (without len)"
   ]
  },
  {
   "cell_type": "code",
   "execution_count": null,
   "metadata": {},
   "outputs": [],
   "source": [
    "def count(text):\n",
    "    \n",
    "    lines_count = 0\n",
    "    word_count = 0\n",
    "    strings_count = 0\n",
    "    \n",
    "    for i in text.splitlines():\n",
    "        lines_count += 1\n",
    "    \n",
    "    for i in text.split(\" \"):\n",
    "        #if i == \"\\n\":\n",
    "         #   word_count = word_count\n",
    "        #else:\n",
    "            word_count += 1\n",
    "        \n",
    "    for i in text:\n",
    "        strings_count += 1\n",
    "    \n",
    "    #return lines_count, word_count, strings_count\n",
    "    print ('%d lines %d words %d characters' %(lines_count, word_count, strings_count))\n"
   ]
  },
  {
   "cell_type": "code",
   "execution_count": null,
   "metadata": {
    "scrolled": false
   },
   "outputs": [],
   "source": [
    "count(\"house is green \\n garage is blue \\n court is grey\")"
   ]
  },
  {
   "cell_type": "markdown",
   "metadata": {},
   "source": [
    "## Ex. 1 Alternativa 2 (with len)"
   ]
  },
  {
   "cell_type": "code",
   "execution_count": null,
   "metadata": {},
   "outputs": [],
   "source": [
    "def count(text):\n",
    "    \n",
    "    lines_count = len(text.splitlines())\n",
    "    word_count = len(text.split(\" \"))\n",
    "    strings_count = 0\n",
    "    \n",
    "    for i in text:\n",
    "        strings_count += 1\n",
    "    \n",
    "    #return lines_count, word_count, strings_count\n",
    "    print ('%d lines %d words %d characters' %(lines_count, word_count, strings_count))"
   ]
  },
  {
   "cell_type": "markdown",
   "metadata": {},
   "source": [
    "## Ex. 2 "
   ]
  },
  {
   "cell_type": "code",
   "execution_count": 43,
   "metadata": {},
   "outputs": [],
   "source": [
    "def remove_char(str, n=0):\n",
    "    if not str:\n",
    "        print(\"String is empty\")\n",
    "        return\n",
    "    else:\n",
    "        first_part= str[:n] \n",
    "        last_part= str[n+1:]\n",
    "    return first_part+ last_part\n"
   ]
  },
  {
   "cell_type": "code",
   "execution_count": 46,
   "metadata": {},
   "outputs": [
    {
     "data": {
      "text/plain": [
       "'Pucel'"
      ]
     },
     "execution_count": 46,
     "metadata": {},
     "output_type": "execute_result"
    }
   ],
   "source": [
    "remove_char('Pucela',5)"
   ]
  },
  {
   "cell_type": "markdown",
   "metadata": {},
   "source": []
  }
 ],
 "metadata": {
  "kernelspec": {
   "display_name": "Python 3",
   "language": "python",
   "name": "python3"
  },
  "language_info": {
   "codemirror_mode": {
    "name": "ipython",
    "version": 3
   },
   "file_extension": ".py",
   "mimetype": "text/x-python",
   "name": "python",
   "nbconvert_exporter": "python",
   "pygments_lexer": "ipython3",
   "version": "3.7.1"
  }
 },
 "nbformat": 4,
 "nbformat_minor": 2
}
